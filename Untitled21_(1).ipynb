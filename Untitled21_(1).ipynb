{
  "nbformat": 4,
  "nbformat_minor": 0,
  "metadata": {
    "colab": {
      "provenance": [],
      "include_colab_link": true
    },
    "kernelspec": {
      "name": "python3",
      "display_name": "Python 3"
    },
    "language_info": {
      "name": "python"
    }
  },
  "cells": [
    {
      "cell_type": "markdown",
      "metadata": {
        "id": "view-in-github",
        "colab_type": "text"
      },
      "source": [
        "<a href=\"https://colab.research.google.com/github/Nhattysha/Ethiopian-Language-Survey/blob/main/Untitled21_(1).ipynb\" target=\"_parent\"><img src=\"https://colab.research.google.com/assets/colab-badge.svg\" alt=\"Open In Colab\"/></a>"
      ]
    },
    {
      "cell_type": "code",
      "execution_count": 1,
      "metadata": {
        "colab": {
          "base_uri": "https://localhost:8080/"
        },
        "id": "A1OcK5vn-EB0",
        "outputId": "b0fdbe47-f1d3-4cfe-9ed4-a01b9bd7a130"
      },
      "outputs": [
        {
          "output_type": "stream",
          "name": "stdout",
          "text": [
            "Colab only includes TensorFlow 2.x; %tensorflow_version has no effect.\n"
          ]
        }
      ],
      "source": [
        "try:\n",
        "   %tensorflow_version 2.x\n",
        "except Exception:\n",
        "    pass\n",
        "import tensorflow as tf\n",
        "\n",
        "import matplotlib.pyplot as plt\n",
        "import matplotlib.ticker as ticker\n",
        "from sklearn.model_selection import train_test_split\n",
        "\n",
        "import unicodedata\n",
        "import re\n",
        "import numpy as np\n",
        "import os\n",
        "import io\n",
        "import time"
      ]
    },
    {
      "cell_type": "code",
      "source": [
        "tf.executing_eagerly()"
      ],
      "metadata": {
        "colab": {
          "base_uri": "https://localhost:8080/"
        },
        "id": "ZHXyiVBK-K6O",
        "outputId": "94780e45-3606-4840-dd14-d908e9c7f11c"
      },
      "execution_count": 2,
      "outputs": [
        {
          "output_type": "execute_result",
          "data": {
            "text/plain": [
              "True"
            ]
          },
          "metadata": {},
          "execution_count": 2
        }
      ]
    },
    {
      "cell_type": "code",
      "source": [
        "from google.colab import files\n",
        "uploaded = files.upload()"
      ],
      "metadata": {
        "colab": {
          "base_uri": "https://localhost:8080/",
          "height": 73
        },
        "id": "luqaFH4j-NGV",
        "outputId": "3013b71e-35bf-4d5e-c1c2-025ab3f245bd"
      },
      "execution_count": 3,
      "outputs": [
        {
          "output_type": "display_data",
          "data": {
            "text/plain": [
              "<IPython.core.display.HTML object>"
            ],
            "text/html": [
              "\n",
              "     <input type=\"file\" id=\"files-21e57ab9-31a7-4927-946f-af9b7b072055\" name=\"files[]\" multiple disabled\n",
              "        style=\"border:none\" />\n",
              "     <output id=\"result-21e57ab9-31a7-4927-946f-af9b7b072055\">\n",
              "      Upload widget is only available when the cell has been executed in the\n",
              "      current browser session. Please rerun this cell to enable.\n",
              "      </output>\n",
              "      <script>// Copyright 2017 Google LLC\n",
              "//\n",
              "// Licensed under the Apache License, Version 2.0 (the \"License\");\n",
              "// you may not use this file except in compliance with the License.\n",
              "// You may obtain a copy of the License at\n",
              "//\n",
              "//      http://www.apache.org/licenses/LICENSE-2.0\n",
              "//\n",
              "// Unless required by applicable law or agreed to in writing, software\n",
              "// distributed under the License is distributed on an \"AS IS\" BASIS,\n",
              "// WITHOUT WARRANTIES OR CONDITIONS OF ANY KIND, either express or implied.\n",
              "// See the License for the specific language governing permissions and\n",
              "// limitations under the License.\n",
              "\n",
              "/**\n",
              " * @fileoverview Helpers for google.colab Python module.\n",
              " */\n",
              "(function(scope) {\n",
              "function span(text, styleAttributes = {}) {\n",
              "  const element = document.createElement('span');\n",
              "  element.textContent = text;\n",
              "  for (const key of Object.keys(styleAttributes)) {\n",
              "    element.style[key] = styleAttributes[key];\n",
              "  }\n",
              "  return element;\n",
              "}\n",
              "\n",
              "// Max number of bytes which will be uploaded at a time.\n",
              "const MAX_PAYLOAD_SIZE = 100 * 1024;\n",
              "\n",
              "function _uploadFiles(inputId, outputId) {\n",
              "  const steps = uploadFilesStep(inputId, outputId);\n",
              "  const outputElement = document.getElementById(outputId);\n",
              "  // Cache steps on the outputElement to make it available for the next call\n",
              "  // to uploadFilesContinue from Python.\n",
              "  outputElement.steps = steps;\n",
              "\n",
              "  return _uploadFilesContinue(outputId);\n",
              "}\n",
              "\n",
              "// This is roughly an async generator (not supported in the browser yet),\n",
              "// where there are multiple asynchronous steps and the Python side is going\n",
              "// to poll for completion of each step.\n",
              "// This uses a Promise to block the python side on completion of each step,\n",
              "// then passes the result of the previous step as the input to the next step.\n",
              "function _uploadFilesContinue(outputId) {\n",
              "  const outputElement = document.getElementById(outputId);\n",
              "  const steps = outputElement.steps;\n",
              "\n",
              "  const next = steps.next(outputElement.lastPromiseValue);\n",
              "  return Promise.resolve(next.value.promise).then((value) => {\n",
              "    // Cache the last promise value to make it available to the next\n",
              "    // step of the generator.\n",
              "    outputElement.lastPromiseValue = value;\n",
              "    return next.value.response;\n",
              "  });\n",
              "}\n",
              "\n",
              "/**\n",
              " * Generator function which is called between each async step of the upload\n",
              " * process.\n",
              " * @param {string} inputId Element ID of the input file picker element.\n",
              " * @param {string} outputId Element ID of the output display.\n",
              " * @return {!Iterable<!Object>} Iterable of next steps.\n",
              " */\n",
              "function* uploadFilesStep(inputId, outputId) {\n",
              "  const inputElement = document.getElementById(inputId);\n",
              "  inputElement.disabled = false;\n",
              "\n",
              "  const outputElement = document.getElementById(outputId);\n",
              "  outputElement.innerHTML = '';\n",
              "\n",
              "  const pickedPromise = new Promise((resolve) => {\n",
              "    inputElement.addEventListener('change', (e) => {\n",
              "      resolve(e.target.files);\n",
              "    });\n",
              "  });\n",
              "\n",
              "  const cancel = document.createElement('button');\n",
              "  inputElement.parentElement.appendChild(cancel);\n",
              "  cancel.textContent = 'Cancel upload';\n",
              "  const cancelPromise = new Promise((resolve) => {\n",
              "    cancel.onclick = () => {\n",
              "      resolve(null);\n",
              "    };\n",
              "  });\n",
              "\n",
              "  // Wait for the user to pick the files.\n",
              "  const files = yield {\n",
              "    promise: Promise.race([pickedPromise, cancelPromise]),\n",
              "    response: {\n",
              "      action: 'starting',\n",
              "    }\n",
              "  };\n",
              "\n",
              "  cancel.remove();\n",
              "\n",
              "  // Disable the input element since further picks are not allowed.\n",
              "  inputElement.disabled = true;\n",
              "\n",
              "  if (!files) {\n",
              "    return {\n",
              "      response: {\n",
              "        action: 'complete',\n",
              "      }\n",
              "    };\n",
              "  }\n",
              "\n",
              "  for (const file of files) {\n",
              "    const li = document.createElement('li');\n",
              "    li.append(span(file.name, {fontWeight: 'bold'}));\n",
              "    li.append(span(\n",
              "        `(${file.type || 'n/a'}) - ${file.size} bytes, ` +\n",
              "        `last modified: ${\n",
              "            file.lastModifiedDate ? file.lastModifiedDate.toLocaleDateString() :\n",
              "                                    'n/a'} - `));\n",
              "    const percent = span('0% done');\n",
              "    li.appendChild(percent);\n",
              "\n",
              "    outputElement.appendChild(li);\n",
              "\n",
              "    const fileDataPromise = new Promise((resolve) => {\n",
              "      const reader = new FileReader();\n",
              "      reader.onload = (e) => {\n",
              "        resolve(e.target.result);\n",
              "      };\n",
              "      reader.readAsArrayBuffer(file);\n",
              "    });\n",
              "    // Wait for the data to be ready.\n",
              "    let fileData = yield {\n",
              "      promise: fileDataPromise,\n",
              "      response: {\n",
              "        action: 'continue',\n",
              "      }\n",
              "    };\n",
              "\n",
              "    // Use a chunked sending to avoid message size limits. See b/62115660.\n",
              "    let position = 0;\n",
              "    do {\n",
              "      const length = Math.min(fileData.byteLength - position, MAX_PAYLOAD_SIZE);\n",
              "      const chunk = new Uint8Array(fileData, position, length);\n",
              "      position += length;\n",
              "\n",
              "      const base64 = btoa(String.fromCharCode.apply(null, chunk));\n",
              "      yield {\n",
              "        response: {\n",
              "          action: 'append',\n",
              "          file: file.name,\n",
              "          data: base64,\n",
              "        },\n",
              "      };\n",
              "\n",
              "      let percentDone = fileData.byteLength === 0 ?\n",
              "          100 :\n",
              "          Math.round((position / fileData.byteLength) * 100);\n",
              "      percent.textContent = `${percentDone}% done`;\n",
              "\n",
              "    } while (position < fileData.byteLength);\n",
              "  }\n",
              "\n",
              "  // All done.\n",
              "  yield {\n",
              "    response: {\n",
              "      action: 'complete',\n",
              "    }\n",
              "  };\n",
              "}\n",
              "\n",
              "scope.google = scope.google || {};\n",
              "scope.google.colab = scope.google.colab || {};\n",
              "scope.google.colab._files = {\n",
              "  _uploadFiles,\n",
              "  _uploadFilesContinue,\n",
              "};\n",
              "})(self);\n",
              "</script> "
            ]
          },
          "metadata": {}
        },
        {
          "output_type": "stream",
          "name": "stdout",
          "text": [
            "Saving mergeds.txt to mergeds.txt\n"
          ]
        }
      ]
    },
    {
      "cell_type": "code",
      "source": [
        "# Download the file\n",
        "path_to_file = \"mergeds.txt\"\n",
        "import os\n",
        "print(os.listdir(\".\"))"
      ],
      "metadata": {
        "colab": {
          "base_uri": "https://localhost:8080/"
        },
        "id": "UMFmwyae-ZsV",
        "outputId": "cd558628-58fb-4bbb-e4f9-7cee2abe59d3"
      },
      "execution_count": 5,
      "outputs": [
        {
          "output_type": "stream",
          "name": "stdout",
          "text": [
            "['.config', 'mergeds.txt', 'sample_data']\n"
          ]
        }
      ]
    },
    {
      "cell_type": "code",
      "source": [
        "import unicodedata\n",
        "import re\n",
        "\n",
        "def unicode_to_ascii(s):\n",
        "    return ''.join(c for c in unicodedata.normalize('NFD', s)\n",
        "                   if unicodedata.category(c) != 'Mn')\n",
        "\n",
        "def preprocess_sentence(w, language='en'):\n",
        "    w = unicode_to_ascii(w.lower().strip())\n",
        "\n",
        "    # English punctuation handling\n",
        "    if language == 'en':\n",
        "        w = re.sub(r\"([?.!,¿])\", r\" \\1 \", w)\n",
        "        w = re.sub(r'[\" \"]+', \" \", w)\n",
        "        w = re.sub(r\"[^a-zA-Z?.!,¿]+\", \" \", w)\n",
        "    # Amharic (Ethiopian) language handling\n",
        "    elif language == 'xa':\n",
        "        w = re.sub(r\"[^\\u1200-\\u137F\\u003F\\u002E\\u0021\\u00BF]+\", \" \", w)\n",
        "\n",
        "    w = w.strip()\n",
        "    w = '<start> ' + w + ' <end>'\n",
        "    return w\n",
        "\n",
        "# English sentence\n",
        "en_sentence = u\"I used to hate spinach.\"\n",
        "# Amharic sentence\n",
        "xa_sentence = u\"ኢንጅነር ቅጣው'እጅጉ አው ጛይ?\"\n",
        "\n",
        "print(preprocess_sentence(en_sentence, language='en'))\n",
        "print(preprocess_sentence(xa_sentence, language='xa'))"
      ],
      "metadata": {
        "colab": {
          "base_uri": "https://localhost:8080/"
        },
        "id": "rFoSbPpYj_qO",
        "outputId": "4da736d0-fd97-46cf-ce97-0383dd208c3a"
      },
      "execution_count": 28,
      "outputs": [
        {
          "output_type": "stream",
          "name": "stdout",
          "text": [
            "<start> i used to hate spinach . <end>\n",
            "<start> ኢንጅነር ቅጣው እጅጉ አው ጛይ? <end>\n"
          ]
        }
      ]
    },
    {
      "cell_type": "code",
      "source": [],
      "metadata": {
        "id": "ZVX2zisJ-oKE"
      },
      "execution_count": 28,
      "outputs": []
    },
    {
      "cell_type": "code",
      "source": [],
      "metadata": {
        "id": "RWdTEODh-p4c"
      },
      "execution_count": 28,
      "outputs": []
    },
    {
      "cell_type": "code",
      "source": [
        "import io\n",
        "\n",
        "# Function to preprocess Xamtanga sentences\n",
        "def preprocess_xamtanga_sentence(w):\n",
        "    # Add preprocessing steps specific to Xamtanga sentences\n",
        "    # For example, remove accents and clean the sentences\n",
        "    return w\n",
        "\n",
        "# Function to preprocess English sentences\n",
        "def preprocess_english_sentence(w):\n",
        "    # Add preprocessing steps specific to English sentences\n",
        "    # For example, remove accents and clean the sentences\n",
        "    return w\n",
        "\n",
        "# Function to create dataset from Xamtanga and English sentence pairs\n",
        "def create_dataset(path, num_examples):\n",
        "    lines = io.open(path, encoding='UTF-8').read().strip().split('\\n')\n",
        "\n",
        "    xamtanga_sentences = []\n",
        "    english_sentences = []\n",
        "\n",
        "    for line in lines[:num_examples]:\n",
        "        xamtanga_sentence, english_sentence = line.split('\\t')[:2]\n",
        "        xamtanga_sentences.append(preprocess_xamtanga_sentence(xamtanga_sentence))\n",
        "        english_sentences.append(preprocess_english_sentence(english_sentence))\n",
        "\n",
        "    return english_sentences, xamtanga_sentences\n",
        "\n",
        "# Example usage\n",
        "path_to_file = \"mergeds.txt\"  # Provide the path to your dataset file\n",
        "num_examples = 1000  # Number of examples to read from the file\n",
        "english_sentences, xamtanga_sentences = create_dataset(path_to_file, num_examples)\n",
        "print(\"English sentences:\", english_sentences[:15])\n",
        "print(\"Xamtanga sentences:\", xamtanga_sentences[:15])"
      ],
      "metadata": {
        "colab": {
          "base_uri": "https://localhost:8080/"
        },
        "id": "q6mt5cqojKwK",
        "outputId": "ffe5d1c0-9e14-401c-b911-1ddfa1977e07"
      },
      "execution_count": 33,
      "outputs": [
        {
          "output_type": "stream",
          "name": "stdout",
          "text": [
            "English sentences: ['ውጥየነው', 'ሊምደነው', 'ሰዝ ወሹ', 'ሚኩሩን', 'ጣቑን', 'ውጥዩ', 'ጥይ.', 'ድዝኩ', 'እንል ኻጡን', 'ዳኽነ ጚ', 'አቓውም', 'አቓውም', 'ሚ ኩር', 'ሚ ኩርነኩን', 'ውር ቃጥ ያን ?']\n",
            "Xamtanga sentences: ['Run.', 'Wait!', 'Listen.', 'I try.', 'I won!', 'He ran.', 'Hop in', 'I lost.', 'I quit.', 'Im OK.', 'No way!', 'No way!', 'Try it.', 'We try.', 'Why me?']\n"
          ]
        }
      ]
    },
    {
      "cell_type": "code",
      "source": [],
      "metadata": {
        "colab": {
          "base_uri": "https://localhost:8080/",
          "height": 356
        },
        "id": "fKlYwaZ4kfQR",
        "outputId": "b71e4d4a-81d6-465a-ea09-820cca683ce1"
      },
      "execution_count": 30,
      "outputs": [
        {
          "output_type": "error",
          "ename": "NameError",
          "evalue": "name 'preprocess_xa_sentence' is not defined",
          "traceback": [
            "\u001b[0;31m---------------------------------------------------------------------------\u001b[0m",
            "\u001b[0;31mNameError\u001b[0m                                 Traceback (most recent call last)",
            "\u001b[0;32m<ipython-input-30-a0bf2cc47505>\u001b[0m in \u001b[0;36m<cell line: 19>\u001b[0;34m()\u001b[0m\n\u001b[1;32m     17\u001b[0m \u001b[0mpath_to_file\u001b[0m \u001b[0;34m=\u001b[0m \u001b[0;34m\"mergeds.txt\"\u001b[0m  \u001b[0;31m# Provide the path to your dataset file\u001b[0m\u001b[0;34m\u001b[0m\u001b[0;34m\u001b[0m\u001b[0m\n\u001b[1;32m     18\u001b[0m \u001b[0mnum_examples\u001b[0m \u001b[0;34m=\u001b[0m \u001b[0;36m1000\u001b[0m  \u001b[0;31m# Number of examples to read from the file\u001b[0m\u001b[0;34m\u001b[0m\u001b[0;34m\u001b[0m\u001b[0m\n\u001b[0;32m---> 19\u001b[0;31m \u001b[0menglish_sentences\u001b[0m\u001b[0;34m,\u001b[0m \u001b[0mxamtanga_sentences\u001b[0m \u001b[0;34m=\u001b[0m \u001b[0mcreate_dataset\u001b[0m\u001b[0;34m(\u001b[0m\u001b[0mpath_to_file\u001b[0m\u001b[0;34m,\u001b[0m \u001b[0mnum_examples\u001b[0m\u001b[0;34m)\u001b[0m\u001b[0;34m\u001b[0m\u001b[0;34m\u001b[0m\u001b[0m\n\u001b[0m\u001b[1;32m     20\u001b[0m \u001b[0mprint\u001b[0m\u001b[0;34m(\u001b[0m\u001b[0;34m\"English sentences:\"\u001b[0m\u001b[0;34m,\u001b[0m \u001b[0menglish_sentences\u001b[0m\u001b[0;34m[\u001b[0m\u001b[0;34m:\u001b[0m\u001b[0;36m5\u001b[0m\u001b[0;34m]\u001b[0m\u001b[0;34m)\u001b[0m\u001b[0;34m\u001b[0m\u001b[0;34m\u001b[0m\u001b[0m\n\u001b[1;32m     21\u001b[0m \u001b[0mprint\u001b[0m\u001b[0;34m(\u001b[0m\u001b[0;34m\"Xamtanga sentences:\"\u001b[0m\u001b[0;34m,\u001b[0m \u001b[0mxamtanga_sentences\u001b[0m\u001b[0;34m[\u001b[0m\u001b[0;34m:\u001b[0m\u001b[0;36m5\u001b[0m\u001b[0;34m]\u001b[0m\u001b[0;34m)\u001b[0m\u001b[0;34m\u001b[0m\u001b[0;34m\u001b[0m\u001b[0m\n",
            "\u001b[0;32m<ipython-input-30-a0bf2cc47505>\u001b[0m in \u001b[0;36mcreate_dataset\u001b[0;34m(path, num_examples)\u001b[0m\n\u001b[1;32m      8\u001b[0m \u001b[0;34m\u001b[0m\u001b[0m\n\u001b[1;32m      9\u001b[0m     \u001b[0;31m# Preprocess Xamtanga and English sentence pairs\u001b[0m\u001b[0;34m\u001b[0m\u001b[0;34m\u001b[0m\u001b[0m\n\u001b[0;32m---> 10\u001b[0;31m     \u001b[0mxa_sentences\u001b[0m \u001b[0;34m=\u001b[0m \u001b[0;34m[\u001b[0m\u001b[0mpreprocess_xa_sentence\u001b[0m\u001b[0;34m(\u001b[0m\u001b[0ml\u001b[0m\u001b[0;34m.\u001b[0m\u001b[0msplit\u001b[0m\u001b[0;34m(\u001b[0m\u001b[0;34m'\\t'\u001b[0m\u001b[0;34m)\u001b[0m\u001b[0;34m[\u001b[0m\u001b[0;36m0\u001b[0m\u001b[0;34m]\u001b[0m\u001b[0;34m)\u001b[0m \u001b[0;32mfor\u001b[0m \u001b[0ml\u001b[0m \u001b[0;32min\u001b[0m \u001b[0mlines\u001b[0m\u001b[0;34m[\u001b[0m\u001b[0;34m:\u001b[0m\u001b[0mnum_examples\u001b[0m\u001b[0;34m]\u001b[0m\u001b[0;34m]\u001b[0m\u001b[0;34m\u001b[0m\u001b[0;34m\u001b[0m\u001b[0m\n\u001b[0m\u001b[1;32m     11\u001b[0m     \u001b[0menglish_sentences\u001b[0m \u001b[0;34m=\u001b[0m \u001b[0;34m[\u001b[0m\u001b[0mpreprocess_sentence\u001b[0m\u001b[0;34m(\u001b[0m\u001b[0ml\u001b[0m\u001b[0;34m.\u001b[0m\u001b[0msplit\u001b[0m\u001b[0;34m(\u001b[0m\u001b[0;34m'\\t'\u001b[0m\u001b[0;34m)\u001b[0m\u001b[0;34m[\u001b[0m\u001b[0;36m1\u001b[0m\u001b[0;34m]\u001b[0m\u001b[0;34m)\u001b[0m \u001b[0;32mfor\u001b[0m \u001b[0ml\u001b[0m \u001b[0;32min\u001b[0m \u001b[0mlines\u001b[0m\u001b[0;34m[\u001b[0m\u001b[0;34m:\u001b[0m\u001b[0mnum_examples\u001b[0m\u001b[0;34m]\u001b[0m\u001b[0;34m]\u001b[0m\u001b[0;34m\u001b[0m\u001b[0;34m\u001b[0m\u001b[0m\n\u001b[1;32m     12\u001b[0m \u001b[0;34m\u001b[0m\u001b[0m\n",
            "\u001b[0;32m<ipython-input-30-a0bf2cc47505>\u001b[0m in \u001b[0;36m<listcomp>\u001b[0;34m(.0)\u001b[0m\n\u001b[1;32m      8\u001b[0m \u001b[0;34m\u001b[0m\u001b[0m\n\u001b[1;32m      9\u001b[0m     \u001b[0;31m# Preprocess Xamtanga and English sentence pairs\u001b[0m\u001b[0;34m\u001b[0m\u001b[0;34m\u001b[0m\u001b[0m\n\u001b[0;32m---> 10\u001b[0;31m     \u001b[0mxa_sentences\u001b[0m \u001b[0;34m=\u001b[0m \u001b[0;34m[\u001b[0m\u001b[0mpreprocess_xa_sentence\u001b[0m\u001b[0;34m(\u001b[0m\u001b[0ml\u001b[0m\u001b[0;34m.\u001b[0m\u001b[0msplit\u001b[0m\u001b[0;34m(\u001b[0m\u001b[0;34m'\\t'\u001b[0m\u001b[0;34m)\u001b[0m\u001b[0;34m[\u001b[0m\u001b[0;36m0\u001b[0m\u001b[0;34m]\u001b[0m\u001b[0;34m)\u001b[0m \u001b[0;32mfor\u001b[0m \u001b[0ml\u001b[0m \u001b[0;32min\u001b[0m \u001b[0mlines\u001b[0m\u001b[0;34m[\u001b[0m\u001b[0;34m:\u001b[0m\u001b[0mnum_examples\u001b[0m\u001b[0;34m]\u001b[0m\u001b[0;34m]\u001b[0m\u001b[0;34m\u001b[0m\u001b[0;34m\u001b[0m\u001b[0m\n\u001b[0m\u001b[1;32m     11\u001b[0m     \u001b[0menglish_sentences\u001b[0m \u001b[0;34m=\u001b[0m \u001b[0;34m[\u001b[0m\u001b[0mpreprocess_sentence\u001b[0m\u001b[0;34m(\u001b[0m\u001b[0ml\u001b[0m\u001b[0;34m.\u001b[0m\u001b[0msplit\u001b[0m\u001b[0;34m(\u001b[0m\u001b[0;34m'\\t'\u001b[0m\u001b[0;34m)\u001b[0m\u001b[0;34m[\u001b[0m\u001b[0;36m1\u001b[0m\u001b[0;34m]\u001b[0m\u001b[0;34m)\u001b[0m \u001b[0;32mfor\u001b[0m \u001b[0ml\u001b[0m \u001b[0;32min\u001b[0m \u001b[0mlines\u001b[0m\u001b[0;34m[\u001b[0m\u001b[0;34m:\u001b[0m\u001b[0mnum_examples\u001b[0m\u001b[0;34m]\u001b[0m\u001b[0;34m]\u001b[0m\u001b[0;34m\u001b[0m\u001b[0;34m\u001b[0m\u001b[0m\n\u001b[1;32m     12\u001b[0m \u001b[0;34m\u001b[0m\u001b[0m\n",
            "\u001b[0;31mNameError\u001b[0m: name 'preprocess_xa_sentence' is not defined"
          ]
        }
      ]
    },
    {
      "cell_type": "code",
      "source": [
        "import io\n",
        "\n",
        "# Function to preprocess sentences\n",
        "def preprocess_sentence(w):\n",
        "    # Add preprocessing steps such as removing accents and cleaning the sentences\n",
        "    # Example: remove accents\n",
        "    w = unicode_to_ascii(w)\n",
        "    return w\n",
        "\n",
        "# Function to create dataset from Xamtanga and English sentence pairs\n",
        "def create_dataset(path, num_examples):\n",
        "    lines = io.open(path, encoding='UTF-8').read().strip().split('\\n')\n",
        "\n",
        "    xamtanga_sentences = []\n",
        "    english_sentences = []\n",
        "\n",
        "    for line in lines[:num_examples]:\n",
        "        xamtanga_sentence, english_sentence = line.split('\\t')[:2]\n",
        "        xamtanga_sentences.append(preprocess_sentence(xamtanga_sentence))\n",
        "        english_sentences.append(preprocess_sentence(english_sentence))\n",
        "\n",
        "    return english_sentences, xamtanga_sentences"
      ],
      "metadata": {
        "id": "sxEhgIdqmq8X"
      },
      "execution_count": 39,
      "outputs": []
    },
    {
      "cell_type": "code",
      "source": [],
      "metadata": {
        "id": "T95y_1Bz_Hrt"
      },
      "execution_count": 34,
      "outputs": []
    },
    {
      "cell_type": "code",
      "source": [
        "xa,en = create_dataset(path_to_file, None)\n",
        "print(en[1])\n",
        "print(xa[1])\n",
        "print(xa[5:])"
      ],
      "metadata": {
        "colab": {
          "base_uri": "https://localhost:8080/"
        },
        "id": "YDsDbYpK_Jbk",
        "outputId": "678e36a1-43c9-43f0-f011-6c256d8bfbfc"
      },
      "execution_count": 42,
      "outputs": [
        {
          "output_type": "stream",
          "name": "stdout",
          "text": [
            "Wait!\n",
            "ሊምደነው\n",
            "['ውጥዩ', 'ጥይ.', 'ድዝኩ', 'እንል ኻጡን', 'ዳኽነ ጚ', 'አቓውም', 'አቓውም', 'ሚ ኩር', 'ሚ ኩርነኩን', 'ውር ቃጥ ያን ?', 'አብርሃምት ዋቕር', 'ሲክን', 'ጭሩ አቕ', 'ቀሠው አቐኩ', 'ጭጝ', 'ጥይ', 'አብርሃምት ችጝ', 'ፍ', 'እድጎ ፊጥ', 'ዳኽነ አቕ', 'ዊን', 'ተሩ', 'ውጥየኩ', 'ከቭጥን::', 'ሊን ዊን::', 'አብርሃምት አቅቭ::', 'ቲስመመኩን::', 'ፅዊትኩን::', 'ያን ሺሚር ጚ::', 'ቀሰው አነ::', 'ያን ጚ ::', 'ፊሽ::', 'እምቑ', 'ዲምቅሽነኩን', 'ፅቑ ይ', 'ዲቁ', 'ፊሽ', 'ጉ', 'ቓረነው', 'አርቕነኩን', 'ወዝ ዳኽነ ተትርኑ', 'አው ለጣቑ ?', 'ውጥቅ', 'ዋጥር::', 'ፅብረዊል  ዊን', 'ሸም', 'ፍ', 'ጊም', 'ነን ችጝጘ', 'አብርሃምት ፃይጥን', 'ፃይጥን', 'ዘናሽጥን', 'ሚኩረኩ', 'ይት እቛሽ', 'ሳልጭ', 'ሚጡን', 'ይሠቭድ ሊቁን', 'ያን ኪፍለኩን', 'ሰቭ ፃኩን ::', 'ኪብስኩ ::', 'ዳኽነ ጚ', 'እፍጥኩን ::', 'ፅዊጥኩን::', 'ይት በጭ', 'ፊርነ', 'ቓልድራጙ', 'ውጥየች', 'ጉ', 'ለጣቕጝኩጙ', 'ክሩ', 'አብርሃም ችብሱ', 'አብርሃም በቡ', 'ይት አምን', 'በርታቕር ሚኩር', 'ዊቱ ሚኩር', 'አው ክሩ', 'ዚልቅ ቢርጘኩ', 'ፅይጠን', 'ጝኒዝጎ ላቑ', 'ነን ፃቭ', 'ግፅጝ ቃፅጘኩ', 'ሊዝተ', 'እዴት ፃይጠን', 'እኒንት ፃይጠን', 'ናን ፉ', 'ጘጝ ዲጄ ጚ', 'ሲዝወረ ጚ::', 'ልየ ፃጭ::', 'እኒንት ፃጭ::', 'ቓፅቕፀር የጝ::', 'ዳኽነ ጚ::', 'ፅዊጥኩን::', 'ያን ክት ችጘኩን::', 'ቲስፈ ፃቨኩን::', 'ወይሽቱ', 'ቲክን', 'ይናት ቲክንጠን', 'እቛጡን', 'ቃል ጥወኩን', 'ቓሉን', 'ያን ጊር የጝ', 'ጭቅተ የጝ', 'ኻዝነኩን', 'ኻዝነኩን', 'ውሸብለ የጝ', 'እክል ጚ', 'አ ጊሙ', ': ጚ', 'ናፀ የጝ', 'ቓሽኩ', 'እማን የጝ', 'ድይ', 'ፅቑ ይር ኽርቅ', 'ከርጥን', 'አለቀይጥን', 'እኔንት አፅንኽጥን', 'ሊዝች', 'ሚኩርች', 'ፊረች', 'ኪውሽር ጎይ', 'ሲክን', 'ዊን', 'እኔንት ችብሽ', 'ጣንቅቅሽ', 'አብርሃም በበኩ', 'አብርሃም ሚኩሩ', 'አብርሃም ዊዝውዛጙ', 'ፃግቪዝጎ አፅቭሽ', 'እንል ኻይጘ', 'ቀሰው ሰቭ', 'አው ውርድዉ?', 'ቀጥኩንመ?', 'ዚልቅ ዚምርጘኩ', 'ከቭጨ ቸለኩንመ?', 'ተርጘ', 'ፍልውልውተ', 'ፍልውልውተ', 'እቻዝጘ', 'ቲክንጠን', 'እደረ እኩ', 'ዳኽነዝ ጭ', 'ዩ', 'ጘጝ ጭቓ የጝ', 'ጘጝ ድኻ የጝ', 'ጘጝ ሊግዘው የጝ', 'ዲግ አብርሃም', 'አወይ ዲስሸው', 'ጝኒዝጎ ሳልጠዝ', 'ጊር የጝ', 'እጅጝ የጝ', 'በበነው ቸለኩን', 'እንል ኾኩን', 'ቀናቅም', 'አብርሃምት አርቐኩን', 'አርቐኩን', 'ኢንጅነር ቅጣው እጅጉ አው ጛይ?', 'ላዘ ናፅነይዝ ሚጒርሽነ ጡሸኲ', '“ኽምረ ፉረውድ ጅሚጝቀ በራውም “', 'ኻግርሸንስ በንዘው በጀትድ ፃድቅዘነዊስ ኪርም  ፃድቀው በጀትድ ውርል ችጘጘድም ቲክንክነነው ዲቊትድነይድ ምኽር ጝንጢዙ የጝ፡፡', 'ተክዘነውዝ ጭቚ ፅበው ምኽር ጝን ፅባንድ ቈሽ ፋፅመተ አካልድም ጝዝ ቚጠ እክሰው ገበ ጨቅጠ ቸለኲ፡፡', 'አቫላን ጅቭጘው አክሲዮኒዝ ቝጠ  ገረደድ ችጘው ትርፊዝ % ተንሸው  አቓንድ % ትርፍዙ አድልድለ ፃቫጙ  ተረው ችብረ የጝ።', 'ሻቘትረድ ቈሽ ለውፈረ ለውፈይል ኻዊተው ልየድ ንግስት እለኒ ሚስቅልድ ችጘናንስ ሻቘ ቲረኒዝ ማኽሊል ፃቭሽተው እጣኒዙተከ የጝ።', 'ብረው ቕርጘድ ቲረይዙ ተከአቓንድ ቕርጘድ ሰነይል ዊርውርሸውድ አይሁደን ሚስቅልድ ቈሻሺል ማለነውድ ቓሊሰው የጝ።', 'ጓነዝ ዋርደቍ ውሸብልድ ንግስት እለኒት ላቑ ይር ጭጝን ፃቭረው ሰራዊትድ ሚሪየው የጝ”የነውዝ ሲጘድ ዋርዝጝኩⶖ።', 'ለውፈረ ለውፈ ዋርደ ኻይማኖቱ እፃይዝ ከስጘ ውሸብሊዙ ነፃነይዝመ ጥመ ጊዝድ ጊፍሽ ኰረ ፈነውድ ሚሪየው ቀሰው ምነነዙ ኰር የጝ።', 'ፅብንዙ ኪብርን ዓልምት ዋቕረል ማል ዊዝቅሽተጘድ ፃቭኩ።', 'ጊዝ ጨቨቅ ወየዙ ቈሸድ ዜገንድ ፊትናጙ ችጝሸኲ፡፡', 'እንዝም ተከኩ ኢትዮጵየት ሰቭተተዝመ ሰቭሰተ ችብረ ሰቭተጢዙ ግቭር ቃፅቭሽነ የው ዋቕረ ምጝግስትል ቲክንክነዝ አልሰውድ።', 'አት ጮማው መንግስቱ ምጝግስትዙ ሰቭተተ አቓንድ አርፉ ጝምኻየድ  ሽኽዝ  ላ የጝ።', '“ ኰሩ ፅብንዙ ኪብርንድ ኻቐናንስ ፃቀይ ፈወነ ጊዚየንትም ላየ ሰቭል ዲቁሰኩን”የነውዝ ጋልፅኩ።', 'እንዙ ጋልፀነድም ላው ኩንታል መውር መኪነይስ ጊምዘናንስ ዊንም ፃነናንስ  - ቍርሽ አሽ ኪፍልሸኩ።', 'ቀለውዝ ላው ሰትዙ ሰቭዝ ላው እጅር ዊቱ ይሽታን ላ ቍርሽ ችጘኩ።', 'ምጝንግስትዙ ሰራሸጢዝ ሚስርትቊ ሻቅጠ ማቅጠዝመ ጣቭ አልስናጙ ችጝሽነኲን፡፡', 'ተረዊዝም እቐ ኽብሪዝ አልሰናንስ ሰራሽናጙ የጝ::', 'ምላሰንዝ ጉይጘውድ ቈሽ አርየይል ቅይሸዊዝመ ምጝግስት አልሰዊዝ ቅይሸውድ እርወ ይሽታን ቀለው አቐጘ ጋልፅጘኩ።', 'እንዝም ፅበጥድ አልስጘው ቅሬተድ ለወትረ ምጝግስት ወየድ ዘትልዝየውም፤ ሊጘትረ ዊርየው አረ አልስየውም ይጘኩ።', 'ኒየረይል ግነ ሊጘ ቍርሽዙ ቈሸዝ በንሽተው አረድ እጅር ጝግቭሪዝጘድቅ ሺምተነው ቸለው አቐጘ ልብተነው ቸልሽኩ።', 'ዲግ አጥን።', 'ዲግዝ ጚ ጣይትኒዝ ፈኑ አቐው ኻግር እጀውም።', 'እንዝም የጝ ይና ኻግር ኢትዮጵየዊነው ሰሜንቱ ጣይትኒዝ ዲግዙ ቲስመምኒል ችጘነው ቸልድረውድ።', 'ወይትጘድ ጣይትኒዝ ቘይሸቁ ወረጢስ አበርገሌ ወረደዝመ ፃግቭጂ ወረደ ቃውሰትነይዝ ጉይሽተቁ ጛይ።', 'እንዝም ንጭቱ ሰትዝ ግድርዝመ ፅውዘዝ አጋልሽትጛጙ ችጝሽጘኩ።', 'ንየረ አቑ ትኽነ ጣብየይል ችጝነቁ እዝጊባ  ቀበሊዙ ፅበተ አት ገብሬ አወጣ ዊግትጘጘድ እን ትኽነዙ ጣቭየድ አግልግለ ይወነው ኪርምሽም እቻቐው ትኽነዙ አግልግለ ችጝናጙ አየውም።', 'ሻደይቱ በል ወይትል ዊትርቅ ዓምረ ጨቨቅ ንኻሽ ቲስ- ግሬይል አሽ እቁን እፈር አኽቭሽጝ ዋርድጘው ናፅነይዙ በል የጝ።', 'እኔንም እቁኒዙ ናፅነይዙ ግሬ ይሽተነው ቸልሽኲ።', 'በልድ  ላ ሽኽ ዚምኒዝ ቑጠ ኦርቶዶክስ ተዋሕዶ እምንቲጅቅ ፃየፃይሽተነውዝ ኪብርሻጙ ተረው እግረም ወይቱ ባኽልድ ጋልፀነ በል የጝ።', 'እን ኽፅምቱ ወይት ኽዝቪዙ ባኽል ጋልፀነአቐው ሻደይዙ በልድ  ዓ.ስትዝ እግርገ ኻግሪዝ የውም አልሚዝ አርቒሰነው ቸልሽኲ።', 'ጒዝ ጨተ ጣምተው እረታ ስሃላ ሰየምት ወረደ ፅርሽመን ቀቨሊ ፅበተ ጛይ።', 'ንጭት አምረይዝ እትለው ኽረድ እንሰሲዝ እንኳን አቐው ፃቀ ቅራምዝየውም', 'ጋዚጠሸን ፅቃች ጨቨቅ አስልደው ጂጝጥዝመ አፅቨጥዝ ጅልውዘ ቈሸዝም ቃለንዙ አርወ አሩሽኒል ጭቅሽነ ጡሸው ክታቓለድ ነይጥን፡፡', 'ቈሸዝም አውታት አቭኑዝነ?', 'ወረጘ ዚግቭሻን አርወኩ?', 'ዲግድ ሊምድሰነው ጡሸኲ!', 'ምንቊ ኽምጠ ዊከ ጋዜጠዙ አንቭቨጥ', 'ዲግድ ሊምድሰነው ጡሸኲ!', 'ኹን ጨነው ዋቕረመ?', 'ይና ኻግር ኢትዮጵየ ቺተዝም ስሜንቱ ጅውነድ ዲቈቊ ሲዘ እምተኒስ ኪርም ቺተቺተው አቕንትዝ ዲግ ችጘነው ቸልየውም፡፡', 'ላ ቢሊዮንዝ ንየጥፍት ድዝኲ፡፡', 'ቲኪሻው ስነ - እዘንዙ ኪልሽንም አጋልሽትኲ፡፡', 'እኔንቅ ተረውድ ዲግ ግተነዊዝ ምላሰን የጝ፡፡', '“ፅቊ ያንድ ቀናቅም” ይጝኻስቭቊ ኻይላን ኽዝቨንዙ አቐይቱ ፅብንድ ጂሊሽታንስ አጉረው ሰቭ ሰራሽጛⶔ የጝ፡፡', 'እንዝም ብላ ክልልድ እንዝሚቅ ፅልየ ክልሊል ከምሸው ኻይሊጅቅ ነን ነንቈሽ አቓይስ አቐይቱ አርቓየው ጣይትንል ሊቭኲ፡፡', 'እንዝም ኻግር አቐይስ ጝለ ዚምንጥዝ ሽሽውድንል ፅባንስ ፃቭኲ፡፡', 'ምጝግስት ጝጋቢዝ ብላ ኽዝቨንዙ ዋቕረጢዝ ጅልውዘ ውርም ቺትን እጀውም፡፡', 'እኪጥጘ ጡሽጘው ጋቢዝ ግን ቺትን እኲ፡፡', 'አት አየቀነው ወልዴ ጽጽቀ ኻትመ ፅበተ ጛይ።', 'ይናቑርድም እን ባኽልድ ድዛየጘ ኻይስጝጠ ጡሸኲ።', 'ወይሽመነ ዉሸብልድ ዓምረ ጨቨቅ ጭሩዝ ችጝዝጠጘድ እደረት አስጘዝ ጨውጘኩ።', 'እን ውሸብሊዙ ዋርደድ ሚቍ ፅጎኒዝ ሻደይ ነፃነይዙ ግሬ አቓንትጘድቅ ጊል ውሸብሊዝ ቈሽ ለውፈረ ለውፈ ናፅነይዙ ፅቃች የጝ።', 'ለውፈረ ለውፈ ባኽሉ ዋርደይዝ ከስጘ ገረዱ ዲምቅሸንድም አትርዘው የጝ።', 'ውሸብለ ካሳው አለፈ ፅፅቀ ኻትመ ፅበተ የጝ።', 'ውሸብለ መኩሪያው ቀኘይ ጽጽቀ ኻትትመይዝ ፅበተ ጛይ።', 'ለውፈረ ለውፈ ጝቕመቱ አቐው ስረት ፃየው የጝ።', 'አሽኰለልቸ አይነተ ዋርደይዙ ክፍልድ አቓንድ ዚቨነው ፣ትግል ጋጥመነውም ዋርደይዝቍ አካለን ጛይ።', 'ቃርንሸተ ጓንጥድ ማጥለጥጘ ጣርትጛንድ ቕርጘድ ፃየዊዝ ፃምጥድ ከቨ ፃቭጘኲ።', 'ውሸብለ እያሱ ወ/ስላስ ጽጽቀ ኻትመይዙ ፅበተ የጝ።', 'ለውፈረ ለውፈ ዋርደይል ጎርተው አርቅሸነው ጚ ጎርተነው ቸልሻውም።', '\"ምላሰንድም ዲግዙዝመ ቀንትዙ ዋርደ፣ ቀሰው ምነነ ኻስቨነ፣ ቀሰው ጊቭርት ኻየነ፣ አይር ኻለይ ኻልየነ ጊዝ የጝ” የውኲ።', 'ውሸብሊዙ ዋርደድ ሊጘ ጓነዝ አድልሸው አቓንድ ኻቐውዝመ ወርሸነውዙ ፈን ፃየው ደጘዝ ቃውሸው ባኽሉ ስረት የጝ።', 'ለውፈረ ለውፈ ወይት ውሸብል ጊሊዝ ነፃነይዙ ጊዝ የጝ።', 'አውል ኩንድሩ?', 'አውል ጭሩ?', 'አውት ኻፅር ጊፍሩ?', 'አውቱ ሹረ ኹሩ?', 'ይሽታውም።', 'ዋርደድ ኻይማኖቱ ፃየ ፃየው የጝ።', 'እጅጚዝ እደረወልዱአዳምትለውይኹር የው ሳቑረነውድ ሚሪየኩ።', 'ብጭቕ ጥላ ድዝኩ፣ ኽክምነዙ ጎዝድ በውግ ዊነቁድ ነን እጀቁም፣  አምቡላንስዝመ፣ ሊጘ መኪንጥ ቃጥልሽጝኲⶔ።', 'እንዝ ምላሰንም እቀኽቭርድ ችግሰይል የጝ ፅበውድ።', 'ከቨጥ ድርጅተኒዝ ዋቕረ አልስን ቃል ጥውጝሽም ነኳን አሽ ቲግቭሪዝጐ ጥወነው ቸልየቁም።', 'እንዝጘም ቺተቺተው ፅውዘዝ አጋልሽትጛንድ ትኽነ ጣቭየይዝጐ ፊረነውዝ ተሚሰው ኽክምነዙ አግልግለ ችጘነው ቸልየቁም።', 'አት ሊያነግ ሺ፡ ትረ ጊዝዝ ዪኒቨርሲቲ ጥወነ ፈተነዝ አስልሽጛⶔ የጝ፡፡', 'እምቱ ሊያንግ ሺ፣ ገነ  እምቱ ውሸብለ ሲጝቀት ኪርም ዪኒቨርሲቲ ጥወነውዙ ኒቪድ እርውዘንስ ንቕፀቁ ፈተንጥ ፊስኩ::', 'ሚሊየነርድ ፈረንጀየኒዙ  ( እምቱ ፅብጛⶔ) ኪርምጝ፣  ጊዝ ዪኒቨርሲቲ ጥወነ ቲመ ፊስጝሽም፣  ጊዝድቅ ሊቭጝኩⶔ፡፡', 'አቕሽም  እምቱድ ቻይኑ ሚሊየነርዝመ ንየረ ሊያንግ ሺ ናን ምነነ ቀቭየቁም፡፡', 'ናን ይዋቅም የነውዝ  ጊዝዝ ዪኒቨርሲቲ ጥወነ ቲመድ ፊስጨ የጝ የነውድ ሳብጢዝ ወይሽትኩ፡፡', 'ዪኒቨርሲቲ ጥወነንስ የውም ምሁር አቐነንስ ማርቕፅሽም፣ ነን አሽ እርውዲጝቀት እዳቐነውድ እቀጘዝ ኒድዝኩ::', 'የቁድ  እምቱ እጅርድ፣  እምቲስ ኪርምጝ ቲክንክንጝ ፅበቁ  እምተኒዝ ፈተነድ ፊስጝሽም አነ ይየውም፡፡', 'ፈረንጀየኒዙ እግዘ እግዝኒዝም ውሸብለይዙ ኒቪድ ፅጋሰው ላው ገቨ ተሩ::', 'ጝተ እምትድ ዝ ንየ አቐቁ ክንደጥድ ፈተነድ ፊትንሸነው ቸላቁም የው አይር ስረት ዘርጋሹ::', 'እንዝም ምላስን ውሸብለ ሊያንግ ሺ ፈተነድ ፊትንሸነው ቸሊየቁም፡', 'አነ ጚ  እምትዝ ግረ፣ ፈረንጀየኒዙ ዝ፣ አውማው ውሸብለድ ክንደነው ቸለኩ ይሽቱ፡፡', 'እኔንት ወሸቁ ሊያንግም፣  ዊስ  ይል አሽ ፊስጘቁ  ፈተንጢዝ፣ ዪኒቨርሲቲ ጥውን ክንደነንስ ቸልሰው ፈን ነሲየቁም፡', 'እን ፈተነድ፣ ሚሊየነር ሊያንግ ዪኒቨርሲቲ ጥውጘው ኻተነ ልክን አጡመ?', 'እፈር መልቁ፣ ኲየንጣን፣ ሽመቅል አረት ፅይጝ ኻክምሸነው ቸልየቁም፤ ምጝግስት ይናት ትኩርትዝ ቓልጠ ጡሸኩ።', 'የነውዝ ፅበው ኽክምነዙ ችግሰድ ጋልፅጝኩⶔ።', 'እቀኽቭርድ ትኽነዙ ጣቭየይል ፊርጝ እቻቐው አግልግለ ችጘቅ የነዊዝ ምላሰን ክርጘዝ አጋልሽትጛጙ አቐጘድ ዊግትጝኩⶔ።', 'ይና ኽዝቭድ ኽየውዝ ቘይሽኲ፣ ግድርዝ፣ ኹረዙ እጅጝትዝ፣ መቈይዙ ፅውዘዝ ንቕፀቁድ ፅዊትጝ የጝ ችጝነቅድ።', 'እን ቑጠ ይሽት ዊስነነው ቸላይነው ብጭቕ ጐዘመዘ ድዝኩ፣ ብጭቕ ማሽን ድዝኩ።', 'ኽምዘ ፋጥረነውዝ፤ስረት ፋዘነውዝ፤ ጛወንት ጛወን ቅውን ስልጣንል ቲመንደነው ልውጥ ነሳውም::', 'እኔንት እክሰናንስ ማኽርሸነው ጡሸኲ፡፡', 'አነ ጚ ኽምዘድ ፋጥር እክሰይዝ ያንደርግቭ ምጝግስትጅቅ ጨቅጨኲን የው ኻይል ዊንጠ ዊንም ተርጠ ጡሸኲ የውኻሰቭ ጒይኲ፡፡', 'ውርም አቚ ውር ግነ ጣይትኒዝ ማኽሊል ዊርየቊ እቅ ሰራሽጝ ዃይጘጘ ፃቭው አቕንት ፋጥርሽጠ ጡሻውም፡፡', 'እን ችግሰድ አርወይዝጎ ላውጠነውዝ ወየ ቈሸቊ ነይጥድ ኽዝቭድም አነ ምጝግስት ኽጉ ተግረ ፊስጥጘ ጡሸኲ፡፡', 'ችግሰድ አጉረው ቈይሸውድ ነንም ኽዝቭድ አቓንስቅ ዲግ ተራንስም ወንትነይዝ ሰራሽጠ ጡሸውድ ኽዝቭድ የጝ፡፡', 'ሉቃስት ወንጌል', 'ወንጌሊዙ ፃፍሸነይዝ ምላሰንድ', 'ኪብርሸው ቲወፍለውስወ! ይናግል ኣቐው ዊገይዙ ታሪክድ እንዝ ሚቅ ንቕፀቍ እቅ ፃፍጥጘ ሚኵርጝኵ\\ue07d።', 'እኒን ታሪክድ ይናጭስ ዲቍስጝ ነየቍድም በውገይስ ኪርም ጝታቕም ጝታእልጣኒዝ ቓለቍ ወንጌሊዝ ኣገልጋያን ዊነቍድ ጛይ።', 'ያንም በውረይስ ኪርም እጝቅትቅ ሚርምረት ግረ ታሪክድ ቃውሰ ቲክነይዝ ፃፍ ነቃን ይጭስ ቀሰው ተክ እትሉ።', 'እኒንት ፃቭጨ በነውድም ክት ክንድረው ክንድጝድ እማንተው ኣቐጘ ኣርቕተ ማጥን የር የጝ።', 'ጣምቀተ ይዃንስት እዅርሽንድ መላክ ገቭርየል በውግስ ደቈጘ', 'ይዅዳት ንጕስ ኺረውድስት ዚምኒዝ ኣቭየት ሰሙኒል ሚድቭሸው ዘካርያስ ይሽተው ላው ካኽን ዊኑ፤ ጝውነየንም የልሳቭየጥ ይሽትረይ ኣረውንት ዊግኒዝወ ዊንች።', 'ጝታቪሉጝም ኣደረት ትዛዝመ ኽግዝ ፅበቍ ነቐፈ እጀቍ እቅ ዊን\\ue07d፤ እደረት በዊልም ፃድቃን ዊን\\ue07d።', 'ኣነጚ የልሳቭየጥ ማኽን ዊንዳንስቅ ዅር እጀቍም ዊን\\ue07d፤ ጝታቪሉጝቅም ጊንጝ ዊን\\ue07d።', 'ዘካርያስም ጝምድቪዙ ቲረይዝ እደረት በዊል ክኽንትዝ ኣግልግላንድ፣', 'ካኽነጣነ ስረቲዝጘ እደረት መቅደሲል ጥው እጣን ኣጥንጠ ማጥን ጝጭስ እፀ ችጙ።', 'እጣን ኣጥነነው ሰትድ ችጛንድም ኽዝቭድቅ ቢዘይል ችብር ፃልያ\\ue07d ዊኑ።', 'ኣደረት መላክም እጣን ጥይሰነው መሰወየይዝ ለዊዝጐቱ ችብር ዘካርያስስ እትሉ።', 'ዘካርያስም መላክድየንት ቓላንድ ዳጝግፅ ጐውትዝ ስ\\ue07dርሹ።', 'መላክድ ግን እንት ዩ፦ «ዘካርያስወ! ጐውተ ክፀለውትድ ወይሽትኩ፤ ክውነ የልሳቭየጥም ግልወ ዅር እዅርቲ፤ ጝሽ\\ue07dድም፦ «ይኳንስ» ይር ጭጝትር።', 'ክትም ጭቕጘ ዲስ ይትር፤ ጝእዅርሸነዊዝም ንቕፀቍ እቅ ዲስ ይጥቍ።', 'ኣደረት በዊልም ኽየው ኣጡ፤ ወይንዙ ሚዝዝመ ላየ እራዘው ዝየነውድቅ ስሪስቅ ዝያውም፤ ገነ ጝኘት ማፅንቲል ፅባ\\ue07d መንፈስ ቅዱስዝ እቻጡ።', 'እስራየልት ኽዝቪስም ንቕፀቍድ ጝታኣምላክ እደረ ትጐ ዊስጡ።', 'ኣደረስ ጥውሸው ኽዝቭ ኣስልጠ ማጥን፣ ቈሽም ኣቅሊዙ እዘንድ ጝታቝርትጐ፣ ኣደረስ ኣዚታቍድም ፃድቃኒዙ ጥቨቪዝጐ ዊስጠ ማጥን ይልያስት መንፈስዝመ ኻይልዝ ኣደረት በዊል ፃጝጡ።»', 'ዘካርያስ ግን፦ «ያን ሽሚር እጅር የጝ፤ ይውነም ጝርእድሚድ ትክቭሽኩ፤ እደስለ ክት ይረዊዙ ዊገድ ወረጘዝ የጝ ኣርቕጨ ቸለውድ?» ዩ።', 'መላክድም፦ «ያን እደረት በዊል ችብጠር ገቭርየል የጝ፤ ክጅቅ ዊግትጨ፣ እኒን ኣቭዝርተድም ክጭስ ኣቭዝርስጨ ማጥን እደረቲስ እፃጭ ተጥኩን።', 'ክት ግን ጝጊዝየድ ችጛንድ ፋፅምሸው ይቃልድ ኣምኒረርም፤ ኣቓንስቅም እን ይቃልድ ፋፅምሽጢስቅ ድደ ኣትር፤ ዊግተነውም ቸላርም» ዩ።', 'ኽዝቭድም ዘካርያስ መቅደስ ጝኒስ ደያንስቅ ጊርምሻ\\ue07d ሊሚዳ\\ue07d ዊኑ።', 'ጘጝም መቅደስ ጝኒስ ፋንድ ዊግተነ ባንስቅ ኽዝቭድ መቅደሲስ እትለ ቓለጘ ኣስክሱ፤ ጘጝም ምልክትዝ ዊግተነው ኪርሙ፤ እነይም ድደ ኣቕ ፅቡ።', 'ዘካርያስም ጝኣግልግለነዊዙ ሰሙንድ ኻትሻንድ ጝጝን ፊሩ።', 'እንቅ ኣቐው ዋልጠትረ ርፊዝም መላክ ገቭርየል እደረቲስ ናዝሪት የነይ ገሊለት ኻትመትል እፃሹ።', 'እፃሸውድም ዳዊትት ዊግንዙ ዮሴፍ የነው እጅርል ወግሽትር ዊንደይ ጝርሽ\\ue07dድ ማርያም የነይ ላይ ድጝግልትል የጝ።', 'መላክድም ጚ ፅብረዊል ጥው፦ «ፃገዝ እቻረርወ! ዲስ ይ! እደረ ክጅቅ የጝ፤ ክት እቍኒስቅ ቲትር በርክሽረር የጝ» ዩ።', 'ማርያምም ጝት ቓልዳንድ ጝዊገይዝ ዳጝግፅር፦ «እኒን ኣወየው ዲግተ የጝፈ!» ይራ\\ue07d ኻስቨነው ኪርምች።', 'መላክድም፦ «ማርያምወ! እደረቲስ ፃገ ችጝርኵሩ፤ ጐውተ።', 'እንወ ጊዝውርትር፤ ግልወ ዅርም እዅርትር፤ ጝሽ\\ue07dድም እየሱስ ይትር።', 'ጘጝም ኽየው ኣጡ፤ ልውል እደረት ዅርም ይሽትጡ፤ ኣደረ ኣምላክም ጚር ዳዊትት ዙፋንድየንት ይውጡ።', 'ያይቈቭት ዚረይልም ዘላልም ኒግስጡ፤ ጝምጝግስትድም ኻትሸነ እጀውም» ዩ።', 'ማርያምም መላክድየንት፦ «ያን ግልወ ኣርቐቅም፤ እደስለ እን ዊገድ ኣወይ የጝ ኣቐውድ?» ይች።', 'መላክድም፦ «መንፈስ ቅዱስ ክግል ተርጡ፤ ልውል እደረት ኻይልም ክት ገርድጡ፤ ኣቓንስቅም ክጊስ እዅርሸው ኽፃንድ ቅዱስ የጝ፤ እደረት ዅርም ይሽትጡ።', 'ክዚምድ የልሳቭየጥ እኳ ማኽን ይሽትራ\\ue07d ፅብር ነን ጝርጊንትዝ ግልወ ዅር ጊዙትርኵች፤ ጊዙትረትም ነን ዋልጠ ርፍ የጝ።', 'እደረስ ቸልሻው ዊገ እጀውም» ዩ።', 'ማርያምም፦ «እንወ! ያን ኣደረት ኣገልጋይ የጝ! ክቃሊዝጘ ይግስ ኣና!» ይች፤ ጝዝለም መላክድ ጝርጊስ ቲት ፊሩ።', 'ማርያም የልሳቭየጥት ዋቕርተ ፊትረጘ', 'ማርያምም ኣይንት ሳብጢዝ ቃዝየዝ ጕር ዲቀ ይዅዳ ኻግሪል ችጝሽረይ ላይ ኻትመትል ፊርች።', 'ዘካርያስት ጝኒልም ጥውር የልሳቭየጥስ ዲግተ ይውች።', 'የልሳቭየጥም ማርያምት ድመድ ወሽራንድ ሽልድ ጝርማፅንቲል ፅበጘ በጕሩ፤ የልሳቭየጥትልም መንፈስ ቅዱስ እቻቑ።', 'ጝርድመድም ኣጕስ ሽር፦ «ክት እቍኒስቅ ቲትር በርክሽረር የጝ፤ ክማፅንቲዙ ዅርድም በርክሸው የጝ።', 'ይኣደረ ትኘ ይት ገቭስተ ተትረውድ ያን ኣው የጝ?', 'ክዲግተድ ገነ ወጫንድ ይማፅንቲዙ ሽልድ ዲስተዝ በጕሩ።', 'ኣደረ ዊግተው ቃልድ ፋፅምሽጠጘ ኣምንደር ክት ቀቫሽረር የጝ» ይች።', 'ማርያምት ሚዝየነዙ ፀለውትድ', 'ማርያምም እንት ይች፦ «ይኒቭስሸን ኣደረት ኪብርዘች።', 'ይመንፈስሸንም ይቓዘተ ኣቐው ይኣምላክትውዝ ዲስ የች።', 'ያን ጝኣገልጋይሸንት ውርድየትድ ቓልኩነ፤', 'ነስየ ይት ነንስ ኪርም ዅለድቅ፦ ‹ቀቫሸረይ› ይጡ።', 'ኻይሉ ኣደረ ይጭስ ኽየው ዊገ ፃቭኩ፤', 'ጝሽ\\ue07dድም ቅዱስ የጝ።', 'ጝስቝርትድም ጝት ጐውተቊዝ ዅላዅሊልቅ ኣሽ ፅብጡ።', 'ጝኻይሉ ናኒዝ ኽየው ሰቭ ሰራሽኩ፤', 'ጝታኻሰቪዝ ኲረቍ ትቪትኝጥድዛት ቢትንኩ።', 'ቅመትድዛት ጝታዙፋኒስ ጊምዝኩ፤', 'ትኽትነ ፃየቍድዛት ግን ንየስ ንየስ ሸውኩ።', 'ግድርደቍድ ጝበርክቲዝ እቭስኩ፤', 'ኻፍታማንድ ግን ጝታባደው ናን በርስኩ።', 'ማርያምም ሻቘ ርፍ ኣጠ የልሳቭየጥ ጅቅ ጐይር በትር ጝርጝን ዋጥርች።', 'ጣምቀተ ይዃንስ እዅርሸጘ', 'የልሳቭየጥም ጝርእዅረነ ግርየድ ችጛንድ ግልወ ዅር እዅርች።', 'ጝርግፂዝመ ጝርዚምዳኒዝም ኣደረ ጝስቝርትድ ጝርስ ኒቒሰጘ ወሽጛንድ ጝርጅቅ ዲስ ይ\\ue07d።', 'ኽፃንድ እዅርሸው ሰውጠትረ ግርየይዝም ጊርዝጥጘ ኣኽቭሽ\\ue07d፤ ጝሽ\\ue07dድም ጚርት ሽ\\ue07dዝ ዘካርያስ ይጝ ፊስጥጘ በን\\ue07d።', 'ጝኘ ግን፦ «ኣየውም ይዃንስ ይሽትነ» ይች።', 'ጛይም፦ «ክዚምዳኒስ እን ሽ\\ue07aዝ ጭጝሸው ላው እጅርቅ እጀዊ ውረ» ይ\\ue07d።', 'ጚርትም፦ «ጝሽ\\ue07dድ ኣው ይሽጠ በንረኵ» ይጝ ሚርየዝ ዋቕር\\ue07d።', 'ጘጝም ፃፈነው ብራነ ዋቕር፦ «ጝሽ\\ue07dድ ይዃንስ የጝ» የው ፃፉ፤ እጝቅቅም እን ዊገይዝ ጊርምሽ\\ue07d።', 'ዘካርያስም ኣይንድ ጝኣንደቨትድ እኪት ዊግተነው ቸሉ፤ እደረትም ሚዝየንዝጠ ኪርሙ።', 'ጝታግፅድቅም ጐውትዝ ስ\\ue07dርሽ\\ue07d፤ እን ዊገድም ዲቀ ይዅዳ ኻግሪልቅ ወይሽቱ።', 'ወሸው እጅርድቅ፦ «እን ኽፃንድ ወረጘ ኣጡ ኣጢ?» ያ\\ue07d ዊገድ ጝእዘኒዝ ፃያ\\ue07d ዊኑ፤ ኣደረት ናንሸንም ጝጅቅ ዊንች።', 'ዘካርያስት ትንቪትድ', 'ኽፃኒዝ ዚር ዘካርያስም መንፈስ ቅዱስዝ እቻቕ እንት ያ\\ue07d ትንቪት ዊግትጠ ኪርሙ፦', '«ጝኽዝቭድ ገቭስ ቓዛንስቅ እስራየልት ኣምላክ እደረ ሚዝየንሽትነ።', 'ቓዝጠ በነውድም ይናፃለታኒስመ ይናት ሽክተቊዙ ናኒስቅ የጝ።', 'እኒንትቅ ፃቨውድም ይናቅሊዝ ስቝርት ፃቭጠጘ፣', 'እንዝ ሚቅ ዊግት ዊነው ቅዱስ ኪዳንድም ፋፅምጠጘድ ቓሊስጠ በን የጝ።', 'እኒን ቃል ኪዳንድየንትም ይናኣይር ኣቭርናኻምስ ፃርዝ ይው ዊኑ።', 'እንም ይናፃለታኒስ ኻርነይ ፍን ጐውቲጝቀ እደረት ኣግልግልነ ማጥን የጝ።', 'እኒዝጘም ይናዚምኒዝቅ እደረት በዊል ቅድስነዝመ ፅድቅዝ ፅብነ ማጥን የጝ።', 'ቈሽም ክት ኽፃን ክተ! ልውል እደረት ነቭይ ይሽትር፤', 'ጝጒደነድ ኣስልተ ማጥን ኣደረት በዊል ፃጝረር የጝነ።', 'ቈሽም ጝታኽጥያቲስ ይቅርተ ችጝጥጘ ማጥን ኽዝቪዝ ጝታቓደነይዙ ኣርቕትድ ይውትር።', 'ጝብርኻንድም ጥመዝመ ክርጘዙ ፃመይል ፅበቊዝ ኣቭርኽጡ፤', 'ይናልኵጣንድዛትም ዲግተዙ ጒደነይዝ ሚሪጡ።»', 'ኽፃንድም ሊግዙ፤ መንፈስ ቅዱስዝም ጣጝክሩ፤ እስራየልት ኽዝቪዝ እትልጢስቅም በራኸል ፅቡ።', 'ሉቃስት ወንጌል', 'እየሱስ እዅርሸጘ', 'ኣይንት ወርኻቲዝም ኣልሚዙ ኽዝቭድቅ ሚዝግቭሽ እጊጠ ማጥን ቂሳር ኣውግስጠውስቲስ ትዛዝ ፉ።', 'እኒን ምዝጋቨድም ቀረኒወስ ሰውርየት ቅማንት ኰር ፃቭሽተው ኽዝቭዙ በውረ እግዘ የጝ።', 'ኣይንድም ኽዝቭድቅ ሚዝግቭሽጠ ጝኻትመ ኻትመይል ፊሩ።', 'ዮሴፍም እዅርሸውድ ዳዊትት ዚረይስ ኣቓንስቅ፣ ናዝሪት የነይ ገሊለት ኻትመየንቲስ ጕ ይዅዳት ኻግሪዝወ በተልኺም የነይ ዳዊትት ኻትመትል ፊሩ።', 'ፊረውድም ጊዙትር ዊንደይ ጝወገነ ማርያም ጅቅ የጝ።', 'ጝግልም ፅብጛ\\ue07d ጝርእዅረነ ግርየድ ችጙ።', 'ጘጝ ኻግሪልም ጝታቢቅድ ሊሚድጛ\\ue07d በራኸ ጨቍ ምቕ ዊን\\ue07d።', 'ኣይንድም ኣደረት መላክ ተር ጝታጋቢል ችብሩ፤ ኣደረት ክቭርዙ ብርኻንም ጝታጅልወይል ኣቭርኹ፤ ጛይም ጭቕጘ ዳጝግፅ\\ue07d።', 'መላክድም፦ «እንወ ኽዝቪዝቅ ኽየው ዲስተ ኣቐው ኣቭዝርተ ክታጭስ ድቍጨ የጝ ጐውትርነ።', 'ንጭ ዳዊትት ኻትመይስ ክታጭስ ቓዘተ እዅርሽኩ፤ ጘጝም ኣደረ ክርስቶስ የጝ።', 'ምልክትድም እኒን የጝ፦ ድድመ ፃርቀዝ ጥቅልሽ መድርል ኽርየጘ ችጝትርንቅ» ዩ።', 'ድጝግትም ንቕፀቍ ሲመይት ሰራዊታን እደረት ሚዝየንዝጛ\\ue07d ጘጝ መላኪጅቅ እትል\\ue07d።', 'ጛይም፦«ሲመይስ እደረስ ክቭር፣ዝቨይስም እደረት ቀነቍ እቂዝቅ ዲግተ ኣነ»ይጛ\\ue07d ዊን\\ue07d።', 'በውዝም ፊርጝ ማርያምስመ ዮሴፍስ፣ ድድመድም መድርል ኽርየጘ ችጝ\\ue07d።', 'ምቕድም እኒንትቅ ቓልጘት ግረ ኽፃኒዝቍዝ ጛጭስ ድቍሸውድየንትቅ ጂጝዝ\\ue07d።', 'እኒንት ወሸውድቅ ምቕድ ድቍጘው ዊገይዝ ዲንቅሹ።', 'ማርያም ግን እኒንትቅ ጝርእዘኒዝ ፃይር ሊሚድራ\\ue07d ዊንች።', 'ምቕድም እጝቅትቅ ጛጭስ ድቍሽተጘ ኣቕ ችጛንስቅ እደረት ሚዝየንዝጛ\\ue07d ዋጥር\\ue07d።', 'ድድመ እየሱስት መቅደስ ጝኒል ፊስጘጘ', 'ጊርዘነው ሰውጠትረ ግርየድ ችጛንድም፣', 'ገነ ጊዝውርሺጝቀ መላክድ ፊሰጘ ጝሽ\\ue07dድ እየሱስ ይሽቱ።', 'ወሪትት ኽግዝ ኣዚተጘ፣ ላይ እውነ ዅር እዅርደት ግረ ዊር ይረቍ ግርቅድ ኻትሽጛንድ፣ ዮሴፍስመ ማርያምስ ኽፃንድየንት ኣደረስ ኣልስጥጘ እየሩሳልየም ፊስ\\ue07d።', 'እኒንት ፃቭጘውድም፣ ኣደረት ኽግዝ፦ «ባር ኣቐው ግልወ ዅርድቅ ኣደረስ ይውሽተው ቅዱስ ኣጡ» ይሽት ፃፍሸውድየንት ፋፅምጥጘ የጝ።', 'ቈሽም፦ «ሊጘ ደበጥ፣ ዊንም ሊጘ ርግቫንዝቍ ጨጭን ምስዋይት ፃቭ ኣልስነ» ይሽት ፃፍሽ ዊኑ።', 'ኣይንድም እየሩሳልየም ፅበው ስሙን ይሽተው ፃድቅ ትጉኽ እጅር ዊኑ፤ ጘጝም እስራየልት ዲብስሸተነድ ሊሚደው መንፈስ ቅዱስ ጨው እጅር ዊኑ።', 'ጝጭስም መንፈስ ቅዱስ፦ «ኣደረት መሲኽድ ቓሊጝቀ ክራርም» የው ድቍ ዊኑ።', 'ኣይንድም መንፈስ ቅዱስዝ ቃውሽ መቅደስ ጝኒል ፊሩ፤ ዮሴፍስመ ማርያምስም ኽጊዙ ስረቲዝጘ ፋፅምጥጘ ኽፃን እየሱስት ፃይጝ መቅደስ ጝኒል ጥውጛንድ፣', 'ስሙንም ድድመድ ለምር ኣቅቭ፦ እደረት እንት ያ\\ue07d ሚዝየንዝጠ ኪርሙ።', '«ኣደረወ! ነስየ ይጭስ ዊግትረው ክቃሊዝጘ፣ያን ክኣገልጋይድ ዲግተዝ ሲነቭሽ፤', '-እቅዝቅ በዊል ኣስልደው ክቓዝንድየንት፤', 'ይእልጣኒዝ ቓልኩን።', 'ጘጝም ኣኽዛቫኒዝ እጝቅትቅ ጋልፀው ብርኻን፣', 'ክኽዝቭ እስራየልስ ቈሽ ክቭር የጝ።»', 'ዮሴፍስመ ኽፃኒዝኘስም ጝቍዝ ዊግሸው ዊገይዝቍዝ ጊርምሽጛ\\ue07d ዊን\\ue07d።', 'ስሙንም ጛት በርክ በር ኽፃኒዝኘ ማርያምት፦ «እን ኽፃንድ እስራየልስ ንቕፀቍድ ሊቭጛንስ፣ ንቕፀቍድ ቈሽ ጕጛንስ ማጥን ምላሰን ኣጡ፤ ጝት ተቃውምሸቊዝም ምልክት ኣጡ።', 'እንዝም ንቕፀቍ እቅዝ እዘኒል ፅበው ስውር ኻለይድ ጋልፅሽትጡ፤ ክትም ክእዘንድ ኽዝንዙ ሰይፍዝ ሲቭሽጡ» ዩ።', 'ኣይንድም ኣሲርት ዊግኒዝወ ፋኑየልት ቝረ፦ «ኻነ» የነይ ላይ ጭቕጘ ጊንደይ ነቭይ እውነ ጝግል ዊንች፤ ጚይም ጝርመሉሲጝቀት ግልወይጅቅ ላጘጠ ምት ፅብር ዊንች።', 'ጝዝለም ጝርእድሚድ ሰውጥርጝን ሲዘ ኣጢስቅ ፃምዝመ ፀለውትዝ ኻር ጊርቅ ኣግልግልዳ\\ue07d መቅደስ ጝኒስ ቲቲጝቀ ልጀጊርድ ኣቕር ፅብች።', 'ጚይም ኣይንድ ዮሴፍስመ ማርያምስታጐ ኣልትር እደረት ሚዝየንዝንተ ኪርምች፤ ኽፃኒዝቍዝም እየሩሳልየምት ኻርነይ ፈነ ግርየድ ቲስፈዝ ሊሚደቍ እቂዝቅ ዊግትራ\\ue07d ዊንች።', 'ጝኣቅልድም እደረት ኽግድ ኣዘጘ እጝቅትቅ ፋፅምጘት ግረ ገሊለት ኣውራጀይዝወ ጝታኻትመ ናዝሪትል ዋጥር\\ue07d።', 'ኽፃንድም ሊግዛ\\ue07d ጣጝክራ\\ue07dም ፊሩ፤ ጥቨቭኘም ኣቑ፤ እደረት ፃገድም ጝግል ዊኑ።', 'እየሱስ መቅደስ ጝኒል ፊረጘ', 'ዮሴፍስመ ማርያምስም ኣምረ ኣምረዝ ፈዝየ በልድ ኪብርዝጥጘ እየሩሳልየም ፊርጛ\\ue07d ዊን\\ue07d።', 'እየሱስ ፅጭ ሊጘ ምት እቻቓንድም በሊዙ ስረቲዝጘ እየሩሳልየም ፊር\\ue07d።', 'በሊዝቍ ግርቅድ ኻትሽጝ ጝታኻግር ዋጥርጛንድም፣ እፈረ እየሱስ እየሩሳልየም እዳቕ ዊኑ፤ ዮሴፍስመ ማርያምስ ግን እዳቐጘ ኣርቒየቍም ዊን\\ue07d።', 'ጒደንቊጅቅ እኩ ተኩዝ ላው ግሪ ጒደነ ፊር\\ue07d፤ ጝዝለ ጝታዚምዳኒል ጝታፃምጢልቅ ደምዘነው ኪርም\\ue07d።', 'ጛጊስ ብጛንድም ደምዝጛ\\ue07d እየሩሳልየም ዋጥርጝ ፊር\\ue07d።', 'ሻቘ ግርቅዝ ግረም ክንሰጢዝ ማኽሊል ጐይ ወሻ\\ue07d ዋቕራ\\ue07dም መቅደስ ጝኒስ ችጝ\\ue07d።', 'ጝግል ዊነቍድም ጝኣስክሰነዊዝመ ጝዊሰው ዊገይዝ ወሽጛ\\ue07d ጊርምሽጛ\\ue07d ዊን\\ue07d።', 'ጘጝም፦ «ውር ፃቭትርነ ደምዝርኑ? ይርት ጝኒል ጐይጨ ጥውሽጠጘ ኣርቒርነቅመ?» ዩ።', 'ጛይ ግን ጘጝ ዊግተው ዊገድየንት ኣስክሲየቍም።', 'እንዝ ግረ ላብጠ ጛጅቅ ናዝሪት ዋጥሩ፤ ጛጭስም ኣዚታ\\ue07d ዊኑ፤', 'ጝኘ ግን እን ዊገድቅ ጝርእዘኒዝ ፃይር ሊሚድራ\\ue07d ዊንች።', 'እየሱስም እደረት በዊል፣ እቀ በዊልም ጥቨቭዝ፣ ግርማ መጐስዝመ ሊግዝዝቅ ሊግዛ\\ue07d ዊኑ።', 'ሉቃስት ወንጌል', 'ጣምቀተ ይዃንስት ክንስንድ', 'ቂሳር ጢቫሪወስ ኒግሰው ፅጭ ኣኰትረ ምቲዝ፦ በንጥየንቱ ቢላጠውስም ይዅዳት፣ ኺረውድስም ገሊለት፣ ጝዝን ፊልበውስም ኢጡርያስስመ ጥራኰኒደውስስ፣ ሊሳኒወስም ሳቪላኒስት ቅምጛ\\ue07d ሲጝቀ፣', 'ኻነስመ ቀያፈስም ካኽነጣነ ኻልቅጥ ኣቕጝ ፅብጛ\\ue07d፣ እደረት ቃልድ በራኸይል ፅበው ዘካርያስት ዅር ይዃንስ ትጐ ተሩ።', 'ይዃንስም ዮርዳኖስት ዊርቨይዝ ጋቢል ፅበቍ ኻግራኒልቅ ጅልዋ\\ue07d፦ «ክታኽጥያቲስ ይቅር ይሽትንርነ ማጥን ንስኻ ጥውርና\\ue07d ጣምቅጭጥን» ያ\\ue07d ክንሳ\\ue07d ዊኑ።', 'እንም ኣቐውድ፣ ነቭይ ይሳያስ፦', '«እንወ በራኸይል ኣቕ፦', '‹ኣደረት ጒደነድየንት ኣስልጥን፤', 'ጥርግየድየንትም ጭቅሽጥን።', 'ጭልዋድም እቻነ፣', 'ኣበይዝመ ኵምብልተይዝም ዝጥቅ ይነ፤', 'ጠማም ጒደነድም ጭቅ የው፣', 'ሰስረው ጒደነድም ሊጨው ኣነ።', 'ነስየ ንስኻ ጥውርነጘ ኣራሰው ሰቭ ሰራጭጥንጚ ክታእዘኒዝ፦ ‹ይናኣይር ኣቭርኻም እኩ› ይርና\\ue07d ማክኽሽትርነ፤ እደረ እንዛይ ቕርጚስ ኣቭርኻምስ ዅል ይወነው ቸልጠጘድ ድቈኵን።', 'ነስየ ዘፍድየንት ጝስሪስ ቀቭ ማልጠ ባፅ ኣስልሽኩ፤ ኣቓንስቅም ቀሰው ፍር ፍርዛው ዘፍድቅ ቀቭሽት ልየል ማልሽትጡ።»', 'ኽዝቭድም፦ «እደስለ ወረጘ ሰራሽነ» ያ\\ue07d ይዃንስት ዋቕራ\\ue07d ዊኑ።', 'ጘጝም፦ «ሊጘ ኣልብ ፃየውድ ላውድ እጀዊዝ ይውነ፤ ዀነው ፃየውድም እጀዊዝ ኣድልነ» ያ\\ue07d ዊኑ።', 'ቀረጥ ቀቨቍም ጣምቅሽጥጘ ጝጐ ተርጝ፦ «ክንሰተወ! ይንሰ ወረጘ ሰራሽና?» ይ\\ue07d።', 'ጘጝም፦ «ኣዚትርነዊስ ንየ ቈሽርን ኪፍልስትርነ» ዩ።', 'ዊተድርድም ቈሽ፦ «ይንሰ ወረጘ ሰራሽና?» ይጝ ዋቕር\\ue07d፤', 'ጘጝም፦ «ቃብረ ጊንዝቭ ግፍዝ ቀምትርነ፤ እጅርም ኻሽትዝ ኪስትርነ፤ ክታምኻየድ ክታቕምስ ኣቐኵ» ዩ።', 'ኽዝቭድም ክርስቶስት ተረነድ በንዝ ሊሚዳ\\ue07d ዊኑ፤ ይዃንስት ቓላንድም ጝእዘኒዝ፦ «እኒን ክርስቶስመ ኣጢ?» ያ\\ue07d ኻስቫ\\ue07d ዊኑ።', 'ይዃንስም እጝቅዝቅ እንት የው ዊግቱ፦ «ያንስ ኣቝዝ የጝ ጣምቀውድ፤ ዊገድ ግን ይጊስ ዲቈው ላየ ተርጡ፤ ያንም ጝፃብጣንድ እኳ ፊስጨ በቃቐር ኣይቀም፤ ጘጝም ክታት መንፈስ ቅዱስዝመ ልየዝ ጣምቅጡ።', 'ጝዊርነድ ዊር ሽጠ፣ ጝዚርወድም ጝቅፋነይል ድውጠ ማጥን መሽን ጝናኒል እኩ፤ ገለቨድየንት ግን ስተነ እጀው ልየዝ ቃጥልጡ።»', 'ቈሽም ላየ ንቕፀቍ ምኽራንዝ ማኽራ\\ue07d ወንጌል ሲቭካ\\ue07d ዊኑ።', 'ገሊለት ቅመው ኺረውድስት ግን ጝዝን ፊልበውስት እውነ ኺረውድያደት ድዋንስቅ፣ ላየ ኻቨረ ዊገም ሰራሻ\\ue07d ዊናንስቅ ቃርሹ።', 'ኺረውድስ ግን እንዝ ዲጊል ላየ ጭቕትም ቈሽ፣ ይዃንስት ወኽኒ ጝንል ድዉ።', 'እየሱስት ጣምቀሸነይዝመ ጝዚረይዝ እግዝትድ', 'ኽዝቭድቅ ጣምቅሸት ግረ እየሱስ ቈሽ ጣምቅሹ፤ ፃልያ\\ue07d ሲጝቀም ሲመይ ቢቱ።', 'መንፈስ ቅዱስም እርግቨት ተክ ኣካልዝ ጝግል ጊሙ፤ ሲመይስም፦ «ያን ቀነው ይዅርድ ክት የጝ፤ ክቍዝ ዲስ የኵን» የው ድመ ተሩ።', 'እየሱስም ክንስጠ ኪርማንድ ጝእድሚድ ሰውርጝን ምት ኣጠ ኣቕ ዊኑ፤', 'ኽዝቪዝም እየሱስ ዮሴፍት ዅር ተካ\\ue07d ዊኑ፤ ዮሴፍም የሊት ዅር፤', 'የሊ ማቲት ዅር፣', 'ማቲ ለዊት ዅር፣', 'ለዊ ሚልኪት ዅር፣', 'ሚልኪ የውነት ዅር፣', 'የውነ ዮሴፍት ዅር፤', 'ዮሴፍ ማታትዩት ዅር፣', 'ማታትዩ ኣሙፅት ዅር፣', 'ኣሙፅ ናዀምት ዅር፣', 'ናዀም የስሊምት ዅር፣', 'የስሊም ናጊት ዅር፤', 'ናጊ ማኣትት ዅር፣', 'ማኣት ማታትዩት ዅር፣', 'ማታትዩ ስምየት ዅር፣', 'ስምየ ዮሴፍት ዅር፣', 'ዮሴፍ የውደት ዅር፤', 'የውደ የውናንት ዅር፣', 'የውናን ርየስት ዅር፣', 'ርየስ ዘሩቫቪልት ዅር፣', 'ዘሩቫቪል ሰላትያልት ዅር፣', 'ሰላትያል ነሪት ዅር፤', 'ነሪ ሚልኪት ዅር፣', 'ሚልኪ ኻዲት ዅር፣', 'ኻዲ ቈሳምት ዅር፣', 'ቈሳም የልሙዳምት ዅር፣', 'የልሙዳም የርት ዅር፤', 'የር የውሲት ኵር፣', 'የውሲ የሊዛርት ዅር', 'የሊዛር የውራምት ዅር፣', 'የውራም ማጣትት ዅር፣', 'ማጣት ለዊት ዅር፤', 'ለዊ ስሙንት ዅር፣', 'ስሙን ይዅዳት ዅር', 'ይዅዳ ዮሴፍት ዅር', 'ዮሴፍ የውናንት ዅር፣', 'የውናን የልያቂምት ዅር፤', 'የልያቂም መልየት ዅር፣', 'መልየ ማይናንት ዅር፣', 'ማይናን ማጣትት ዅር፣', 'ማጣት ናታንት ዅር፣', 'ናታን ዳዊትት ዅር፤', 'ዳዊት እስየይት ዅር፣', 'እስየይ እየቪድት ዅር፣', 'እየቪድ በዊዝት ዅር፣', 'በዊዝ ሳልመንት ዅር፣', 'ሳልመን ናሰውንት ዅር፤', 'ናኰር ሰሩግት ዅር፣', 'ሰሩግ ረኡት ዅር፣', 'ረኡ ፋሊቅ ዅር፣', 'ፋሊቅ ኣቭየርት ዅር፣', 'ኣቭየር ሳላት ዅር፤', 'ሳላ ቃይንምት ዅር፣', 'ቃይንም ኣርፋክሳድት ዅር፣', 'ኣርፋክሳድ ስየምት ዅር፣', 'ስየም ነዅት ዅር፣', 'ነዅ ላሚኽት ዅር፤', 'ላሚኽ ማቱሳለት ዅር፣', 'ማቱሳለ ኺነኵት ዅር፣', 'ኺነኵ ያርየድት ዅር', 'ያርየድ መላልየልት ዅር፣', 'መላልየል ቃይናንት ዅር፤', 'ቃይናን ኺነውስት ዅር፣', 'ኺነውስ ሰይትት ዅር፣', 'ሰይት ኣዳምት ዅር', 'ኣዳም እደረት ዅር የጝ።', 'ሉቃስት ወንጌል', 'እየሱስ ዳቪለውስቲስ ፊትንሸጘ', 'እየሱስም መንፈስ ቅዱስዝ እቻቕ ዮርዳኖስ ዊርቨይስ ዋጥሩ፤ በውዝም በራኸል ፊርጠ ማጥን መንፈስ ቅዱስ ሚርዩ።', 'ጝጊስም ኣርቨ ግርቅ ዳቪለውስቲስ ፊትንሹ፤ ጛይ ግርቂዝም ውርም ዂየው፤ ግርቅድ ኣቢትጘጘም ግድርዱ።', 'ዳቪለውስም፦ «ክት እደረት ዅር ኣረውዝየ እስቲ እን ቕርጘድ ኻበሸ ኣነ ይር ኣዝ» ዩ።', 'እየሱስም፦ « ‹እጅር እደረት ቃልዝምጚ ሚዝ ጭቝ ፅባውም› ይሽት ፃፍሽኩ» የው ዊሱ።', 'እንዝ ግረ ዳቪለውስ እየሱስት ኽየው ኣበል ፊስ ኣልሚዝ ምጝግስታንድቅ ሊንስ ቓሊስ በር፦', '«እንዛይ ምጝግስታኒዙ ስልጣኒዝመ ክቭሪዝቅ ይጭስ ነይሽትኩ፤ ያንም ይበነዊዝቅ ይወር ኣቓንስቅ ክጭስ ነቅጭር።', 'እንዝ ማጥን ይጭስ ሲግድራን እኒንቅ ኩ ኣጡ» ዩ።', 'እየሱስም፦ « ‹ክኣምላክ ኣደረስ ጭቝ ሲግጭ፤ ጝት ጭቝም ኣምልክ› ይሽት ፃፍሽኩ» የው ዊሱ።', 'እንዝ ግረ እየሩሳልየም ፊስ መቅደሲዝ ጕልላቲል ችብስ፦ «ክት እደረት ዅር ኣረውዝየ እስቲ እኒስ ቍልቍለ ሊቭ!', 'ምላሰንድም፦ ‹ክት ሊሚድጥጘ ማጥን ጝመላካንድ ኣዝጡ።', 'ክልኵጣንድም ቕርጘይዝ ፅጋራይጘጘ ጝታናንጣኒዝ ክት ጕይጝ ፃይጥቍ› ይሽት ፃፍሽኩ» ዩ።', 'እየሱስም፦ « ‹ክኣምላክ ኣደረት ፊትንትንተ› ይሽት ፃፍሽኩ» የው ዊሱ።', 'ዳቪለውስም ጝፊተነድ እጝቅትቅ ኻተት ግረ ላየ ሚቸው ግርየ ችጝጢስ ጝጊስ ቲት ፊሩ።', 'እየሱስ ገሊለስ ከንሰነው ኪርመጘ', 'እየሱስም መንፈስ ቅዱስት ኻይልዝ ገሊለ ትጐ ዋጥሩ፤ ጝጂጘድም ኻግሪልቅ ወይሽቱ።', 'ጘጝም ጝታምኵራቫኒልቅ ክንሳ\\ue07d ዊኑ፤ ኽዝቭድም ጝክንስኒዝቍዝ ሚዝየንዛ\\ue07d ዊኑ።', 'እንዝ ግረ እዅርሽ ሊግዘው ጝኻግር ናዝሪት ፊሩ፤ ጝክንደጘም ቅዳምሲንቭት ግርየዝ ምኵራቪል ጥዉ፤ ኣንቭንቭጠም ጕ ችብሩ።', 'ነቭይ ይሳያስት መፃፍድም ይው\\ue07d፤ ጘጝም መፃፍድ ጋልፃንድ፦', '«እደረት መንፈስድ ይግል እኩ፤', 'ጘጝም ድኺዝ ወንጌል ሲቭክጨ ማጥን፣', 'መራሸቊዝ እኪተነው፣', 'ኻርቨቊዝም ቓለነው ቸልጛንስ ኣውጅጨ ማጥን፣', 'ጥቒተቊድዛትም ኻርነይ ፊስጨ ማጥን ይት ይምኩ።', 'እደረ ጝኽዝቭድ ኻርነይ ፊሰይ', 'ዚምንሸንትም ኣውጅጨ ማጥን ይት እፃቕኩ»', 'ይሽት ፃፍሸውድየንት ችጙ።', 'እንዝ ግረ መፃፍድ ዲቭ እፈረይዝ ይው በር ጐዩ፤ ምኵራቪል ዊነቍድም ጝት ትክ ሽጝ ቓልጛ\\ue07d ዊን\\ue07d።', 'ጘጝም፦ «እኒን ነን ወሽርነው መፅኻፊዙ ቃልድ ንጭ ፋፅምሹ» ዩ።', 'እጝቅቅም ጝቍዝ ቀሰውድ ዊግትጛ\\ue07d ዊን\\ue07d፤ ጝምቸይስ ፈው ፃገዝ እቻቐው ቃሊዝቍዝም ጊርምሽጛ\\ue07d፦ «እኒን ዮሴፍት ዅር ኣየውቀ?» ይጛ\\ue07d ዊን\\ue07d።', 'ጘጝም፦ « ‹ጥላ ጕርየ ክቕምንት ቓዝ› ይሽተው ተከድ ጣቅስትርነጘድ ጥርጥርም እጀር፤ ቈሽም፦ ‹ቅፍርናዀምቲስ ፃቭረውድቅ ወሽነጘ እንል በገዘ ክኻግሪልም ፃቭ› ይትርንቅ» ዩ።', 'እንደ ገነ ቈሽ እንት ዩ፦ «እማንዝ የኵን፤ ነቭይ በገዘ ጝኻግሪስ ኪብራውም።', 'እማንተውድ ድቍጨር ወጭጥን፦ ይልያስት ዚምኒዝ ሻቘ ምትዝመ ግቨርዝ ሲመይስ ስወ ኪልክልሻንስቅ ኻግርድቅ ግድርድ ዊናንት ኰር እስራየል ኻግሪል ንቕፀቍ ልጀጊርዳን ዊን\\ue07d።', 'ይልያስ ግን ጛጊስ ላይሸንትጐም እፃሺየው፤ ዊገድ ግን ሲዱነት ኻግሪል ስራብተ ይሽትረይ ኪውትል ፅብረይ ላይ ልጀጊርድትል የጝ እፃሸውድ።', 'ነቭይ የልሳት ዚምኒዝም እስራየል ኻግሪል ንቕፀቍ ለምፃማን ዊን\\ue07d፤ ዊገድ ግን ሰውርየቱ ንማንቲስለ ጛጊስ ላው እጅርም ቓዲየው» ዩ።', 'ምኵራቪል ዊነቍድም እጝቅቅ እኒንት ወሽጛንድ ጭቕጘ ቈጣሽ\\ue07d።', 'ጐይጝ ዊንጘዊስም ጕጝ ኻትመይስ ቢዘ ፊስ\\ue07d፤ ጝትም ቍልቍለ ማልጥጘ በንጝ ጝታኻትመየን ተሲትር ዊንደው ኣበይዝ ገመይል ፊስ\\ue07d።', 'ጘጝ ግን ጝታማኽሊዝ ቀድ ፊሩ።', 'እየሱስ ላው እጅሪስ ጋኒን ፊሰጘ', 'እንዝ ግረ እየሱስ ገሊለት ኣውራጀይዝወ ቅፍርናዀምትል ፊሩ፤ ጝጊስም ቅዳምሲንቭት ግርየዝ ኽዝቭድ ክንስጠ ኪርሙ።', 'ክንሳ\\ue07d ዊነውድም ስልጣን ጕርየይዝጘ ኣቓንስቅ ጝቃሊዝቍዝ ጊርምሻ\\ue07d ዊኑ።', 'ምኵራቪልም ጭቓ ጋኒን ጨው እጅር ዊኑ፤ ጘጝም ጝድመድ ኣጕስ ሸው ቓፁ።', '«ወየው ናዝሪትቱ እየሱስወ! ክጅቅ ውር ውላ ፃይነቅ? ይናት ድስተመ ተትረውደ? ክት ኣው ኣረጘ ቃል ኣርቕኩን፤ ክት ቃል እደረት ቅዱስድ የጝ» ዩ።', 'እየሱስም፦ «ዝም ይር እን እጅሪስ ፍ» የው ጋስፁ። ጋኒንድም እጅርድየንት ኽዝቪዝ ማኽሊል ማል በር ውርም ጒድዪይጝቀ ሊቅ ፊሩ።', 'እቅድም እጝቅቅ ጊርምሽ\\ue07d፤ ጛስ ጛይም፦ «እን እጅርድ ኣወየው ትዛዝ የጝ ኣዘውድፈ? ስልጣንዝመ ኻይልዝ ጋኒናንድዛት ኣዘኵ፤ ጛይም ኣዚትጝ ፍጘኵ» ይ\\ue07d።', 'ጝጂጘድም ጛይ ኻግራኒልቅ ወይሽቱ።', 'እየሱስ ንቕፀቍ ፅውዝጅንጥ ቓዘጘ', 'እንዝ ግረ እየሱስ ምኵራቪስ ፍ ስሙንት ጝኒል ጥዉ፤ ስሙንት ጣስንም ኻይሉ ብረዝ ፅዊትር ዊንች፤ እየሱስትም ጝርት ቓዝጠ ማጥን ጭው\\ue07d።', 'ጘጝም ጝርጐ ኣልት የው ችብር ብረድየንት፦ «ሊቅ» የው ዊግቱ፤ ብረድም ጝርጊስ ሊቁ፤ ጚይም ጕር ኣቭንውዘነው ኪርምች።', 'ኰረድ ጥውጠ ጓንድም ጝሉ ጝሉ ፅውዘዝ ፃይሽቍ ፅውዝጅንጥ እቅድቅ ጝጐ ነስ\\ue07d፤ ጘጝም እጝቅትቅ ጝናኒዝ ዳቓ\\ue07d ቓዙ።', 'ጋኒናንድም፦ «ክት እደረት ዅር የጝ!» ይጛ\\ue07d ቓፅጛ\\ue07d ንቕፀቍ እቂስ ፍ\\ue07d፤ ጘጝ ግን ጋስፁ፤ ጘጝ ክርስቶስ ኣቐጘ ኣርቕጝ ዊንጛንስቅ ዊግትጥጘ ማጥን ፊቅዲየውም።', 'ቅሻንድም እየሱስ እጅር እጀው ገለል የው ስፍረል ፊሩ፤ እቅድዛይም ደምዝጛ\\ue07d ዊን\\ue07d፤ ጝጐም ተርጝ ጛጊስ ቲት ፊራየጘ ኪልክልጥጘ በን\\ue07d።', 'ጘጝ ግን፦ «ላጥ ኻትምጢልም ፊጥ እደረት ምጝግስቲዙ ወንጌልድ ሲቭክጨ ጥውሸኵ፤ ምላሰንድም ያን እፃጨውድ እንዝ ማጥን የጝ» ዩ።', 'ኣቓንስቅም ገሊለት ምኵራቫኒልቅ ጅልዋ\\ue07d ክንሳ\\ue07d ዊኑ።', 'ሉቃስት ወንጌል', 'እየሱስ በውጥ ክንደጥድ ጭጘጘ', 'ላው ግርየ እየሱስ ጀንሰሪጥ የነው ባኽሪዝ ደይል ችብር ፅባ\\ue07d ንቕፀው ኽዝቭ ጘጝ ክንሰው እደረት ቃልድ ወሽጠ ትክቨትክቭሻ\\ue07d ዊኑ።', 'ጘጝም ባኽሪዝ ደዪል ችብረቍ ሊጘ ታ\\ue07dኵጥ ቓሉ፤ ኻዘ ፃውረቍ እቅም ጛጊስ ጊምጝ ጝታመረቭድ እቓስጛ\\ue07d ዊን\\ue07d።', 'እየሱስም ጛይ ታ\\ue07dኵጢስ ላይ ስሙንትወየንትል ጥው፦ «ስሙን! እስቲ እኝቸን ታ\\ue07dኰየንት ባኽሪዝጐ ትክቭሻ» የው ጨዉ። ጝዝ ግረም ታ\\ue07dኰየንትል ኣቕ ኽዝቭድ ክንስጠ ኪርሙ።', 'ጝክንሰነውድ ኻተት ግረም ስሙንት፦ «ታ\\ue07dኰየንት ባኽር ማኽሊዝጐ ኣልስ ሽ፤ ኻዘ ፃይትርነ ማጥንም ክታመረቭድ ባኽሪል ማልጥን» ዩ።', 'ስሙንም፦ «ክንሰተወ! ኻርድቅ ልቕርድና\\ue07d ጭን ውርም ፃዪነቅ፤ ዊገድ ግን ክት ይረውዝየ ቀሰው ማልጭር» ዩ።', 'ኣይንድም መረቭድ ማል\\ue07d፤ ንቕፀው ኻዘም ፃይ\\ue07d፤ መረቭድም ቅጢረነው ኪርሙ።', 'ላየ ታ\\ue07dኰል ዊነቍ ጝታፃምጥድዛትም ተርጝ ከቭስጥጘ ማጥን ሚርየዝ ጭጝ\\ue07d፤ እድ ጝታፃምጥድም ተርጝ ሊጘ ታ\\ue07dኵጥድቅ ኻዘዝ እቻዝ\\ue07d፤ ታ\\ue07dኵጥድም ስ\\ue07dርሽጥጘ ኪርም\\ue07d።', 'ስሙን ቢጥሮስም እኒንት ቓላንድ እየሱስት ልኲል ሊቭ፦ «ኣደረወ ያን ኽጥያትኘ እጅር የጝ፤ ይጊስ እድጐ እክልጭ» ዩ።', 'እንት የውድም ጝስመ ጝጅቅ ዊነቍዝ ፃይጘው እንቝጠ ኻዘይዝቍዝ ጊርምሽጝ ዊንጛንስቅ የጝ።', 'ቈሽም ስሙንት ፃምጥ ዘቭዲወስት ቝር ያይቈቭስመ ይዃንስም ጊርምሽ\\ue07d፤ እየሱስም ስሙንት፦ «ጐውተ! ነስየ እቅ ይጭስ ፃውርደር ኣትር» ዩ።', 'ጛይም ታ\\ue07dኵጥድ ዘቨይዝጐ ኣልስጝ በርጝ እጝቅትቅ ማልጝ ጝት ቲክንጝ ፊር\\ue07d።', 'እየሱስ ለምፃም እጅር ቓዘጘ', 'እየሱስም ላይ ኻትመትል ፅባ\\ue07d ላው ለምፅዝ ዊርሽተው እጅር ጝግል ዊኑ፤ እየሱስትም ቓላንድ ጝልኲል ሊቭ፦ «ኣደረወ ክት ፊቅድረውዝየ ይት ቓዘነው ቸልትር» የው ጨዉ።', 'እየሱስም፦ «ቀሰው ፊቅደኵን ቓጭ» ዩ፤ ኣይንድም በውዝ ጝለምፅድ ሊቁ።', 'እየሱስም፦ «እኒንት ኣውማስቅ ድቍረር፤ ዊገድ ግን ፊትር ክቕምት ካኽኒዝ ቓሊሽ፤ ክለምፂስ ቓድረጘም እጅርዝ ሚዝር ኣጠ ማጥን ሙሴ ኣዘው ምስዋይትድ ኣልሽ» ዩ።', 'ኣነጚ ጝጂጘድ ጭቕጘ ፋ\\ue07d ፊሩ፤ ኣቓንስቅም ጭቕጘ ንቕፀው ኽዝቭ ክንሳንድ ወሽጠ ጝፅውዘ ጝፅውዘይስም ቓድጠ በን ኣኽቭሻ\\ue07d ዊኑ።', 'ጘጝ ግን በራኸይዝጐ እክልድ የው ፃልያ\\ue07d ዊኑ።', 'እየሱስ ድውይ እጅር ቓዘጘ', 'ላው ግርየ እየሱስ ክንሳ\\ue07d ዊኑ፤ ገሊለስመ ይዅዳት ኪቋኒስቅ እየሩሳልየምስም ተረቍ ፈሪሳንዝመ ወሪትት ኽግዝ ክንሰጥዝ ጝግል ጐይጝ ዊን\\ue07d፤ ፅውዝጅንጥድ ቓዛንስ ማጥንም ኣደረት ኻይል ጝግል ኣቑ።', 'ኣይንድም እቅ ላው ድውይ እጅር ኣረትዝ መውርጝ ነስ\\ue07d፤ እየሱስት በዊልም ኣልስጥጘ በንጝ ጘጝ ፅበው ጝኒል ድውጥጘ ሚኵር\\ue07d።', 'ኣነጚ ኽዝቭድ ንቕፅ ኣቒ ድወነ ብጛንድ፣ ንየ ኽድም ዲጊል ፍጝ ኽድምድየንት ባቝዝጝ ፅውዝጅነድየንት ጝኣረቲጅቅ እየሱስት በዊል ጊምዝ\\ue07d።', 'እየሱስም ጝታእምንትድ ኣርቕ፦ «እጅር ክተ! ክኽጥያቲስ ይቅር ይሽትርኵሩ» ዩ።', 'ወሪትት ኽግ ክንሰጢዝመ ፈሪሳኒዝም፦ «እኒን እደረትል ድፍርትዝ ዊግተውድ ጘጝ ኣው የጝፈ? ላው እደረትለ ኣው የጝ ኽጥያት ይቅር ይጠ ቸለውድ?» ይጛ\\ue07d ኻስቭጥጘ ኪርም\\ue07d።', 'እየሱስም ጛይ ኻስቭጘውድየንት ኣርቓንስቅ፦ «ውር ማጥን የጝ እኒንት ክታእዘኒዝ ኻስቭርነውድ?', '‹ክኽጥያትድ ይቅር ይሽትኩ› የናንቲስመ፦ ‹ጕር ፊጥ› የናንቲስ ኣውየን የጝ ቀለውድ?', 'ዊገድ ግን እጅር ዅርስ ኽጥያት ዲምስሰነው ስልጣን ይውሽተጘ ኣርቕጥን» የው ለውሻሽ እጅርድየንት፦ «እጅር ክተ! ጕ! ክኣረትድ ምውትር ፊጥ» ዩ።', 'ኣይንድም ለውሻሽድየን እቂዝ በዊስ ጕ፣ ጝኽሪ ዊነው ኣረትድየንትም መውር እደረት ሚዝየንዛ\\ue07d ጝጝን ፊሩ።', 'ጝግል ዊነቍ እቅድም እጝቅቅ ጭቕጘ ጊርምሽጛ\\ue07d ጐውትዝ ስ\\ue07dርጝ፦ «እፈ ንጭስ ኽየው ግርምት ቓልኑና» ይጛ\\ue07d እደረት ሚዝየንዝ\\ue07d።', 'እየሱስ ለዊት ጭጘጘ', 'እንዝ ግረ እየሱስ ጝጊስ ፍ ፊሩ፤ ለዊ ይሽተው ላው ቀረጥ ቅቨተ እጅርም ቀረጥ ቀቨነ ጐይተይል ጐይ ዊነጘ ቓል፦ «ለው ይት ቲክን» ዩ።', 'ጘጝም ጕ እጝቅትቅ በር እየሱስት ቲክኑ።', 'ለዊም ጝጝኒል እየሱስስ ኽየው ድግስ ኣስሉ፤ ንቕፀቍ ቀረጥ ቀቨቍዝመ ላጥ እቅዝም ጛጅቅ መዲል ጐይጝ ዊን\\ue07d።', 'ፈሪሳኒዝመ ጝታዊግን ኣቐቍ ወሪትት ኽግ ክንሰጢዝም፦ «ውር ማጥን የጝ ኽጥያትኝጢዝመ ቀረጥ ቀቨቊዝጅቅ ዅርነውድ ዚይርነውድ?» ይጛ\\ue07d ታኽንደነው ኪርም\\ue07d።', 'እየሱስም እንት የው ዊሱ፦ «ፅውዝጅንጥዝጚ ትኽንቍዝ ኻይክም በንዛውም።', 'ያንም ተጠውድ ኽጥያትኝጥድዛት ንስኻ ጥውጥጘ ማጥን ጭጝጨጚ ፃድቃንድ ጭጝጨም ኣየው» ዩ።', 'ፃምዝቍዝ ኣልተው ዋቕረ', 'ጛይም እየሱስት፦ «ይዃንስት ክንደጥድ ንቕፀቍ ግርቅ ፃምጘኵ፤ ፀለውትም ኒቒስጘኵ፤ ፈሪሳነ ክንደጥድም ጘጝት ፃቭጘኵ፤ ክክንደጥድ ግን ዊትርቅ ኵጘውድ ዚጘውድ ወር ማጥን የጝ?» ይጝ ዋቕር\\ue07d።', 'እየሱስም፦ «ኣስንድ ጛጅቅ ፅባ\\ue07d መጭድዛት ፃምሰነው ጥውሸኵመ?', 'ዊገድ ግን ኣስንድ ጛጊስ ቲተው ግርየ ተርጡ፤ ኣይንድ ፃምጥቍ» ዩ።', 'ጝዝ ግረም ቈሽ ላው ተከ እንት የው ዊግቱ፦ «ኣይር ኣልቨይስ ምልግቨ ቀድ ኻፍለ ኣልቨይል ሚልግቨው እጅርም እጀው፤ እንት ሸው እጅር ፅብሽ ግን ኣይር ኣልቨድየንትም ጊነ ቀደኵ፤ ኣይር ምልግቨድም ኻፍለይዝ ቲስመማውም።', 'ቈሽም ቝጥን ወይንዙ ሚዘ ኣቢተው መርል እቝረው እጅርም እጀው፤ እቝርሽ ግን ቝጥን ወይንዙ ሚዘድ መርድየንት ብጥቕ ሽጡ፤ ሚዘድም ቅብረኵ፤ መርድም ኣርወ እጀው እዳቐኵ።', 'ኣቓንስቅም ቝጥን ወይንዙ ሚዘድ ኣይር መርል ይመነው ጥውሸኵ።', 'ነስየ ብልቈው ወይንዙ ሚዝድ ዚየት ግረ ቝጥንድ በነው ኣውማውም እጀው፤ ምላሰንድም ብልቍ ሳብጠውድ ቺዘኵ» የኵነ።', 'ሉቃስት ወንጌል', 'ቅዳምሲንቭትትቍዝ ኣልተው ዋቕረ', 'እየሱስም ላው ቅዳምሲንቭት ግርየዝ ቺዝጝ ማኽልዝ ፃቭ ፃጛ\\ue07d ዊኑ፤ ጝክንደጥድም ሽውር ቅዝጛ\\ue07d ጝታናኒዝ ጫርጛ\\ue07d ዅጛ\\ue07d ዊን\\ue07d።', 'ፈሪሳኒስም ላው ላውድ ክንደጥድዛት፦ «ውር ቃጥ የጝ ቅዳምሲንቭትዝ ሰራሻይነው ሰቭ ሰራሽርነውድ?» ይ\\ue07d።', 'እየሱስም፦ «ዳዊትስመ ጝጅቅ ዊነቊዝ ግድርጛንድ ጘጝ ፃቨው ዊገድ ኣንቭቪርነቅመ?', 'እደረት መቅደሲል ጥው ካኽነጣኒዝ ጭቝጚ ላየ እጅር ዅጠ ጥውሻው ምስዋትድ ለምር ኹ፤ ጝጅቅ ዊነቊዝም ይዉ» ዩ።', 'ቈሽም፦ «እጅር ዅር ቅዳምሲንቭት ኣደረ የጝ» ዩ።', 'እየሱስ ጝናንድ ሲለው እጅር ቓዘጘ', 'ላየ ቅዳምሲንቭት ግርየዝም ምኵራቪል ጥው ክንስጠ ኪርሙ፤ ጝግልም ጝለው ናንድ ሲለው ላው እጅር ዊኑ።', 'ወሪትት ኽግ ክንሰጢዝመ ፈሪሳኒዝም ጝት ኪሰነው ወኝጀል ችጝጥጘ በንጝ ቅዳምሲንቭት ግርየዝ ቓዘው ኣቕሽ ይጝ ሊሚድጛ\\ue07d ዊን\\ue07d።', 'እየሱስ ግን ጝታኻሰቭድ ኣርቕ ጝናንድ ሲለው እጅርድየንት፦ «ጕ እንል ማኽሊል ችብጭ» ዩ፤ እጅርድየንም ጕ ችብሩ።', 'እየሱስም፦ «እስቲ ክታት ላው ዊገ ዋቕርጨ፤ ቅዳምሲንቭት ግርየዝ ፊቅድሸውድ ቀሰው ፃቨነውመ? ዊንስ ጭቓ ፃቨነው የጝ? ኒቭስ ቍወነውመ? ዊንስ ቓዘነው የጝ?» ዩ።', 'እጝቅትቅ ብሩ የው ጅልውዝ ቓል በር እጅርድየንት፦ «ክናንድ ዘርጋቕ» ዩ፤ እጅርድም ኣዚተጘ ፃቩ፤ ኣይንድም ጝናንሸን ቓድር ሊጘትረ ትኽንወየንትጘ ኣቕች።', 'ጛይ ግን ጭቕጘ ኻልክሽጝ፦ «ነስየ እየሱስት ውር ፃቭናን ቺዝጡ» ይጛ\\ue07d ጛስ ጛይ ማኽርኽርሽ\\ue07d።', 'እየሱስ ፅጭ ሊጘ ኻወርየታንድ ማርፀጘ', 'እንዝ ግረ ጘጝ ሳብጢዝ ላው ግርየ እየሱስ ፃልይጠ ላው ኣበል ፉ፤ ምሉ ኻርድቅ እደረ ትጐ ፃልያ\\ue07d ጩ።', 'ቅሻንድም ጝክንደጥድዛት ጭጝ ጛጊስ ፅጭ ልጘድ ማርፁ፤ ጛትም፦ «ኻወርየታን» የው ሽ\\ue07d ፊሱ።', 'ጛይም፦ ቢጥሮስ የው እግረ ሽ\\ue07d ፊሰው ስሙንስመ ጝዝን እንድርያስ፣ ያይቈቭ፣ ይዃንስ፣ ፊልበውስ፣ በርተለሚወስ።', 'ማቲወስ፣ ተውማስ፣ እልፊወስት ዅር ያይቈቭ፣ ቀንየተ ይጝ ጭጝጘው ስሙን።', 'ያይቈቭት ዅር ይዅዳስመ እግረ ዲቍስ ይውጡ ኣስቈረትቱ ይዅዳስ ጛይ።', 'እየሱስ ንቕፀው ኽዝቭ ክንሰጘዝመ ፅውዝጅንጥ ቓዘጘዝ', 'እየሱስቲስም ኻይል ፋ\\ue07d እጝቅትቅ ቓዛ\\ue07d ዊናንስቅ እጝቅቅ ጝት ዳቕጥጘ በንጛ\\ue07d ዊን\\ue07d።', 'ክታወየድ ሲመይስ ኽየው የጝ! ኣቓንስቅም ዲስተዝ በጕጥን! ጝታኣቅልድም ነቭያታንድዛት እንት ሽጛ\\ue07d ዊን\\ue07d።', 'ዊገድ ግን ክትን ፃጅትርነቅ ክታትርነ! ወየው፤', 'ክታበንርነውድቅ እኒስ ለምትርንኵርኑነ።', 'ነን እቭትርነቅ ክታትርነ! ወየው፤', 'እግረ ግድርድትርንቅነ።', 'ነን እቘትርነቅ ክታትርነ! ወየው፤', 'እግረ ኻዝንትርነቅ ሊዝትርነቅምነ።', '«እቅድቅ ክታጭስ ቀሰው ቀሰውድ ዊግትጛንድ ወየው!', 'እንዝ ሚቅም ጝታኣቅልድ ኻሽወጥ ነቭያታኒዝ እንት ሽጛ\\ue07d ዊን\\ue07d።»', 'ፃለት ቀነነው', '«ዊገድ ግን ክትን ወሽርነቂዝ ድቈኵን፤ ክታፃለታንድዛት ቀንጥን፤ ክታት ሽክተቊዝም ቀሰው ፃቭጥን።', 'ክታት እፀቍድዛት ጊቭጥን፤ ክታት ቢድለቊዝም ፃልይጥን።', 'ክላው ጥቋድ ጣዘዊዝ ክሊጘትረ ጥቋድ ዊስር ይይ፤ ክኵተድ ፊሰዊዝ ክኪተድም ቈሽር ይይ።', 'ክት ጨወዊዝቅ ይይ፤ ክጊንዝቭድ ፊሰውድየንት ዊሽ ይር ዋቕርተ።', 'እቅ ክታጭስ ፃቭጥጘ በንርነውድየንትቅ ክትንም ላጢዝ ፃቭጥን።', '«ክታት ቀነቍድዛት ቀንድርናን ውርት ሚዝየነ ችጝትርንቅ? ኽጥያትኝጥድስ ጛት ቀነቍድዛት ቀንጘኵ ቃየው!', 'ክታጭስ ቀሰው ፃቨቊዝ ቀሰው ፃቭርናን ውርት ሚዝየነ ችጝትርንቅ? ኽጥያትኝጥድስ እንት ሽጘኵ ቃየው!', '‹እድውርጘቍድዛት ዊስጥቍ› ይርነቊዝ እዱስርናን እኒን ክታጭስ ውር ቲተው ወየ ችጚስጡ? ኽጥያትኝጥድስ እድውስጘቊዝ ቝጥጘ ዊስጝ ለምርጥጘ ማጥን ኽጥያትኝጢዝ እድውስጘኵ ኣየውቀ?', 'ዊገድ ግን ክታፃለታንድዛት ቀንጥን፤ ጛጭስም ቀሰው ዊገ ፃቭጥን፤ ዊስን ለምረነው ቲስፈ ፃቪጝቀ እድውስጥን፤ እኒንት ፃቭርንሽ ክታወየድ ኽየው ኣጡ፤ ልውል እደረት ቝርም ኣትርንቅ፤ እደረ ሚዝየነ እጀቊዝመ ጭቒዝቅ ቀሰው የጝ።', 'ክታይር እደረ እርዅርዅ ኣቐጘ ክትንም እርዅርዃን ኣጥን።»', 'ላጥ እቂል ፊርደነው ጥውሻየጘ', '«ክታግልም እደረ ፊርዳይየጘ ኣውማውትልቅ ፊርድትርነ፤ ክታትም እደረ ኲንናይየጘ ኣውማውትቅ ኲንንትርነ፤ ክታትም እደረ ሳቝርጠ ማጥን ሳቝጥን።', 'ይውጥን! እደረም ክታጭስ ነይጡ፤ ክትን ሚክትርነው ሚክረነይዝ እደረም ክታጭስ ሚክርጡ፤ ያውም ጥቒታ\\ue07d ሚክርሽ ቅብርጢስቅ ሚክር ነይጡ።»', 'እንዝ ግረ ቈሽ ላው ተከ እንት ያ\\ue07d ጛጭስ ድቁ፦ «ኻርቨድየንት ኻርቨ ቃወነው ቸልጡመ? ፃቨውዝየ ግን ጝታቪል\\ue07dቅ ፃየፃይሽትጝ ቢ\\ue07aል ጥውጥቍ።', 'ክንደተ ጝክንሰተይስ ዲቋውም፤ ኣነጚ ቐናዝ ክንደውዝየ ጝክንሰተይዝጘ ኣጡ።', '«ክእሊል ፅበው ግንድድ ቓሊጝቀ ውር ፃቭተ የጝ ክዝኒዝ እሊል ፀበው ንገቨድ ቓልደውድ?', 'ክእሊል ፅበው ግንድድ ክቕም ቓሊጝቀ ኣወሽር የጝ ክዝንድየት፦ ‹ይዝንወ! ክእሊል ፅበው ንገቨድ ፊስጨ› ይረውድ? እፈ ተክዘረ ክተ! በዊል ክእሊል ጊድምሸው ግንድድ ፊሽ፤ ጝዝ ግረ ክዝኒዝ እሊል ፅበው ንገቨድ ፊስተ ማጥን ዊር ሽር ቓልትር።»', 'ዘፍ ጝፍረይዝ ኣረሰኵ', '«ቀሰው ዘፍ ጭቕ ፍር ፍርዛውም፤ ጭቓ ዘፍ ቈሽ ቀሰው ፍር ፍርዛውም።', 'ዘፍቅ ጝፍረይዝ ረሰኵ፤ ኣሚስ በለስ ፍር ችጝሻውም፤ ቀቅቨይዙ ቍጥቋጠይስም ወይንዙ ፍር ቀቭሽታውም።', 'እጅር ጝጊዝዊዝ እቻቕ ቲርፈውድየንት ጝምቸይዝ ዊግተኵ፤ ኣቓንስቅም ቀሰው እጅር ጝጊዝዊል እቻቐው ቀሰው ዊገይስ ቀሰቍድ ፊሰኵ፤ ጭቓ እጅርም ጝጊዝዊል እቻቐው ጭቓ ዊገይስ ጭቕድ ፊሰኵ።»', 'ጝን ተሰቍ ብልኽ እጅርዝመ ኻጝ እጅርዝዙ ተከድ', '«ያን ድቈውድየንት ፋፅማይርነቅም፤ እደስለ ውር ማጥን የጝ፦ ‹ኣደረወ! ኣደረወ!› ይርነውድ?', 'ይጐ ተረው፣ ይቃልድም ወሽ ፋፅመው እጅርድቅ ኣውት ተክጠጘድ ክታጭስ ድቍጨ።', 'ጝጝንድ ተሳንድ ዝቨድ እክልስ ፃር ሳ ፃፀይል ሚስርተው እጅር ተከኵ፤ ኵረድ ተራንድ እድየን ጝንድየንት ትክቩ፤ ዊገድ ግን ሚስርትድ ጠጝካር ፃፀይል ሚስርትሸው ኣቓንስቅ ኵረይዝ ኒንቅሺየውም።', 'ይቃልድ ወሻ\\ue07d ፋፅማው እጅርድ ግን ጝጝንድ ሚስርት እጀው ዝቨይል ተሰው እጅር ተከኵ፤ ኵረድም ተር እድ ጝንድ ትክቫንድ በውዝ ሊቩ፤ ጝሊቭንድም ኽየው ኣቑ።»', 'ሉቃስት ወንጌል', 'እየሱስ ላዝ ኻልቀዝ ኣገልጋይ ቓዘጘ', 'እየሱስ እኒንትቅ ኽዝቪዝ ዊግት ኻተት ግረ ቅፍርናዀም ትጐ ፊሩ።', 'ጝግልም ላው ላዝ ኻልቀ ዊኑ፤ ጝቀነው ኣገልጋይድም ጭቕጘ ፅዊት ክርጠ ጕ ዊኑ።', 'እየሱስት ጂጘድ ወሻንድም፦ «ኣለቀይጥን ተር ይኣገልጋይድየንት ቓዝጠ ማጥን ፊትርን ጨውጥን» የው ኣይዅዳነ ሽመቅልድዛት እየሱስትጐ እፃቑ።', 'ጛይም እየሱስትጐ ተርጝ፦ «ጝጭስ እኒንት ፃቭተ ጥውሸኵ።', 'ጘጝ ይናኽዝቭድ ቀነው እጅር የጝ፤ ይናምኵራቭድየንትም ተሰውድ ጘጝ የጝ» ይጛ\\ue07d ኪው ሽጝ ጨው\\ue07d።', 'እየሱስም፦ «ቀሰው» የው ጛጅቅ ፊሩ፤ ጝጝኒዝጐ ችጝጠ ጓንድም ላዝ ኻልቀድ ጝወደጃንድ ጭጝ፦ «ኣደረወ! ክት ይጝን ፅራነይዝ ሳይል ጥወነውዝ ያን ጥውጨር እጅርም ኣይቀር ዝላተ።', 'ያን ይቕምም ክጐ ተረነውዝ በቃቐርም ኣይቀር፤ ኣቓንስቅም ጝግል ኣቕር ክቃሊዝ ኣዝረውዝየ ይኣገልጋይድ ቓድጡ።', 'ያን ይቕምም ይንየቱ ኻልቀ ፃቀር የጝ፤ ይጭስ ኣዚተቍ ይሳትቍ ዊተድር ቈሽ እኵ\\ue07d፤ ላውድ፦ ‹ፊጥ› ያንድ ፊረኵ፤ ላየድ ቈሽ፦ ‹ለው› ያንድ ተረኵ፤ ይኣገልጋይድም፦ ‹እኒንት ፃቭ› ያንድ ኣዚተጘ ፃቨኵ፤ ይርን ድቍጥን» የው እፃቑ።', 'እየሱስም እኒንት ወሻንድ ዲንቅሹ፤ ብሩ የውም ጝት ቲክና\\ue07d ዊነው ኽዝቪዝ፦ «እነየው ኽየው እምንት እስራየላኒስ እኳ ችጚቀርም የኵን» ዩ።', 'እፃሸቍድም ላዝ ኻልቀይዙ ጝኒል ዋጥርጛንድ ጝኣገልጋይድ ቓደጘ ችጝ\\ue07d።', 'እየሱስ ላይ ልጀጊርድት ዅርት ክረት ቓዘጘ', 'እንዝ ግረ እየሱስ ጛምርሲዝ ናይን ይሽትረይ ላይ ኻትመትጐ ፊሩ፤ ጝክንደጢዝመ ንቕፀው ኽዝቭዝም ላው ኣቕጝ ፊር\\ue07d።', 'ኻትመየንትል ጥወጘም እቅ እርሸ መውር\\ue07d ኻትመየንቲስ ፍጛ\\ue07d ዊን\\ue07d፤ ክረውድም ጝኘስ ላው ጭቝ ዅር ዊኑ፤ ጝኘየንም ልጀጊርድ ዊንች፤ ኻትመይዙ ንቕፀው ኽዝቭም ጝርጅቅ ዊኑ።', 'ኣደረም ጝርት ቓላንድ ጝርስ ኣርኽርኽ፦ «ኣይዝዀች ሊዝተ» ዩ።', 'ኣልት የውም ቃነ ቀሪዘድ ዳቑ፤ መውርጝ ዊነቍ እቅድም ቀጥ ይጝ ችብር\\ue07d፤ እየሱስም፦ «እፈ ጕለሸ ክተ! ጕ የኵን» ዩ።', 'ክረውድም ጕን የው ጐይ ዊግተነው ኪርሙ፤ እየሱስም ጝኘስ፦ «ኣስ ክዅርት» የው ይዉ።', 'ኽዝቭድም እጝቅቅ ጐውትዝ ስ\\ue07dርሽ፦ «ይናማኽሊስ ኽየው ነቭይ ጕኩ፤ እደረም ጝኽዝቭድ ገቭስኩ» ያ\\ue07d እደረት ሚዝየንዙ።', 'እየሱስት ጂጘድም ይዅዳ ኻግሪዝመ ላጥ ጝጅለወይዝቍ ኻግራኒዝቅ ወሽይቱ።', 'ጣምቀተ ይዃንስ እየሱስትል እፃ እፃቕጘ', 'ይዃንስት ክንደጥድም እንዛትቅ ይዃንስስ ድቍ\\ue07d፤ ጘጝም ጛጊስ ሊጘድ ጭጝ፦', '«ተርጡ ይን ሊሚደነርድ ክትመ? ዊንስ ላየ ሊሚድነ?» የው ኣደረ ትጐ እፃቑ።', 'እቅድም እየሱስትል ተርጝ፦ «ጣምቀተ ይዃንስ፦ ‹ተርጡ ይን ሊሚደነርድ ክትመ? ዊንስ ላየ ሊሚድነ?› የው ክጐ እፃቑ» ይጝ ድቍ\\ue07d።', 'እየሱስም ኣይንድ ንቕፀቍ እቅ ጝታፅውዘይስመ ርኩሳን መንፈሳኒስ ቓዙ፤ ንቕፀቍ ኻርብድም ጝታእልጣንድ ብዙ።', 'እድ እፃሸቍድዛትም፦ «ፊትርን ቓልድርነዊዝመ ወሽርነዊስዝቅ ጣምቀተ ይዃንስስ ድቍጥን፤ ኻርብድ ቓልጘኵ፣ ኻካዛንድ ቓድጝ ጝታልኵዝ ፃጝጘኵ፣ ለምፃማንድ ቓድጘኵ፣ ዲ\\ue07dቋራንድ ወሽጘኵ፣ ክረቍድም ጕጘኵ፣ ድኺዝም ወንጌል ሲቭክሸኵ።', 'ይት ተጠራጥርሻው እጅርድቅ ቀቫሸው ይጝ» ዩ።', 'ይዃንስቲስ እፃሸቍድ ፊርጘት ግረ እየሱስ ይኳንስት ማጥን ኽዝቪዝ እንት ያ\\ue07d ዊግትጠ ኪርሙ፦ «በራኸይል ፍርነውድ ውር ቓልትርነ የጝ? ፊግየ ዊዝውዘው ኣቲነድመ?', 'እደስለ ውር ቓልትርነ የጝ ፍርነውድ? ሸግጥ ኣልብ ሲረው እጅር ቓልትርነመ? ሸግጥ ኣልብ ሲረቍዝመ ሽልምልምሽጛⶔ ፅበቍዝ ንጕሳኒዝ ጝኒል እኵ\\ue07d።', 'ቈሽስ ውር ቓልትርነ ተትርኑ? ነቭይ ቓልትርነመ? የይ! ቓልትርነ ተትርነውድ ነቭዪስም ዲቈውድ የጝ።', '‹እንወ ክበው በዊል ፃጛ\\ue07d ክጒደነድ ኣስለው ይእፃሸረድ በርስጭር› ይሽት ፃፍሸውድም ጝማጥን የጝ።', 'እቍኒስ እዅርሸቊስቅ ይዃንስት ዲቈውም እጀው፤ እደረት ምጝግስቲስ ግን እጝቂስቅ እጥንድ ጝጊስ ዲቍጡ የኵን» ዩ።', 'ቀረጥ ቀቨቍድ እኳ እዳቒጝቀ ወሸው ኽዝቭድቅ ይዃንስት ናኒዝ ጣምቅሽ እደረት ጒደነድ ጭቅየው ኣቐጘ ልብቱ።', 'ፈሪሳኒዝመ ወሪትት ኽግ ክንሰጢዝ ግን ይዃንስትዝ ጣምቅሻይነቅም ይጝ እደረት ምኽርድ ተቃውምሽ\\ue07d።', 'እየሱስም እንት ዩ፦ «ነስየ እን ዚምኒዝ እቅድ ውርዝ ተክዝጭር? ወረጘስ ተክጘኵ?', 'ኣርይ ስፍረል ጐይጝ ጛስ ጛይ ጭጘጭጝሽጛ\\ue07d፦', '‹ኣቲነ ዋስኑን፤ ክትን ግን ዚቪርነቅም፤ ሊዝ ሊስኑን ክትን ግን ሊዚርነቅም› ይጛ\\ue07d ዋርደቍ እፈርድ ተክጘኵ።', 'ምላሰንድም ጣምቀተ ይዃንስ ኣረ ዂጝቀ ወይንዙ ሚዝም ዝዪጝቀ ተራን፦ ‹ጋኒንዝ ፃይሽኩ› ይርኑ።', 'እጅር ዅር ቈሽ ዃ\\ue07d ዝያ\\ue07d ተራን፦ ‹ዀይረ! ዝየተ ኽጥያትኝጥዝመ ቀረጥ ቀቨቍዝቅ ወደጅ› ይርኑ።', 'ዊገድ ግን ጥቨቭት እማንትነይድ እጝቅ ጝርቝሪዝ ኣመካይነትዝ ደደደድሹ።»', 'ላይ እውነ እየሱስት ሽቱ ቓስረጘ', 'እንዝ ግረ ፈሪሳኒስ ላውድ እየሱስት ጝጝኒል ኣብኑወ ጭጙ፤ ጘጝም፦ «ቀሰው» የው ፊር ምዘት ዅጠ መዲል ጐዩ።', 'ኣይንድም ጘጝ ኻትመይል ፅብረይ ላይ ኽጥያትኘ እውነ እየሱስ ፈሪሳነውዝ ጝኒል ምዘት ዅጠ ጐየጘ ወሽራንድ፣ ሽቱ እቻቐው ኣልቫስጥረውስት ብልቃጥ ፃይር ተርች።', 'እየሱስት እግርገይልም ችብትር ሊዝራ\\ue07d ጝርእር\\ue07aዝ ጝልኵድ ናኽርድራ\\ue07d ጝርኣውር ፅቭቀይዝ ኻዝች፤ ጝልኵድየንትም እምቝራ\\ue07d ሽቱዊዝ እቓሰነው ኪርምች።', 'እየሱስት ጝጝኒል ጭጘው ፈሪሳነውድ ግን እኒንት ቓላንድ፦ «እን እጅርድ ነቭይ ኣቓንሰ እኝቸን ጝት ዳቕረይ እውነየን ኣው ኣረጘ፣ ቈሽም ኣወይረይ ኽጥያትኘ ኣረጘ ኣርቕጠቀ ዊኒየው» የው ጝእዘኒዝ ኻስቩ።', 'እየሱስም፦ «ስሙንወ! ያን ክጭስ ድቈው ዊገ እኩ» ዩ፤ ጘጝም፦ «ክንሰተወ ቀሰው ድቋ» ዩ።', '«ላው እዱሰተ እጅርዝ ሊጘ ቢን ጕይጥ እቅ ዊን\\ue07d፤ ላውድ ኣኰ ላ ቍርሻን ሊጘትረድ ቈሽ ኣኵርጝን ቍርሻን እዱርጝ ዊን\\ue07d።', 'እንዝ ግረ ጝታቪል\\ue07dቅ ኪፍለነው ብጛንስቅ እድ እዱሰው እጅርድ ጝታቢንድ ሳቝሩ፤ ነስየ እንዛይ ቢን ጕጢስ እድየን ጊንዝቪዝ ጕርየድየንት ጭቕጘ ፃቭ ቀንጡድ ኣውየን ተከኵ?» የው ዋቕሩ።', 'ስሙንም፦ «ንቕፀቍ ቢኒስ ሳቝርሸውድ የጝ ተከኵ» የው ዊሱ፤ እየሱስም፦ «እማን የጝ ይረውድ» ዩ።', 'እውነየንትጐም ዋጥር የው ስሙንት እንት ዩ፦ «እኝቸን እውነየንት ቓልደኵመ? ያን ክጝኒል ጥዉን፤ ክት ግን ይልኲዝ ኣቝ እኳ ነዪረርም፤ ጚ ግን ይልኵድ ጝርእር\\ue07dዝ ናኽርዳ\\ue07d ጝር ኣውር ፅቭቀይዝ ኻዝች።', 'ክት ይት እምቚረርም፤ ጚ ግን ያን ጥወት ኪርምር ነኳን ኣሽ ይልኵድ እምቘነውድ ቀቪረይም።', 'ክት ይኣውርድ ዘይትዝ ቓሲረርም፤ ጚ ግን ይልኵድ ሽቱዝ እቓስች።', 'ምላሰንድም ኽየው ጝርኽጥያትድ ይቅር ይሽታንስቅ ጚ ይት ጭቕጘ ቀንች፤ ዊቱ ኽጥያትድ ይቅር ይሽተው እጅር ግን ዊቱዝ የጝ ቀነውድ።»', 'እየሱስም እውነየንት፦ «ክኽጥያትድ ይቅርይሽትኩ» ዩ።', 'ጝጅቅ መዲል ጐይጝ ዊነቍድም፦ «እኒን እጅርድ ኽጥያት እኳ ይቅር የውድ ጘጝ ኣው ኣቕ የጝ?» ይጛ\\ue07d ጝታእዘኒዝ ኻስቨነው ኪርም\\ue07d።', 'እየሱስም እውነየንት፦ «ክእምንትድ ቓዝኩ፤ ዲግተዝ ፊጥ» ዩ።', 'ሉቃስት ወንጌል', 'እየሱስት ኣግልግልጥጘ ቲክነቍ እቍንድ', 'እንዝ ግረም እየሱስ እደረት ምጝግስቲዙ ኣቭዝርተድ ኻትምጢዝመ ኪቋኒዝ ኣውጃ\\ue07d ጅልዉ፤ ፅጭ ሊጘ ኻወርየታንድም ጝጅቅ ላብጠ ዊን\\ue07d።', 'ቈሽም እርኵሳን መንፈሳኒስመ ፅውዚስቅ ቓደቍ ላው ላው እቍን ጝት ቲክንጝ ዊን\\ue07d፤ እንዛይም ላጝጠ ጋኒናን ጝርጊስ ፈቍ መግደላዊት ይሽትረ ማርያም፣', 'ንጕስ ኺረውድስት ጝኒዝ ኣዘተ ዊነው ኩዛት እውነ ይዃነ፣ ሰውስነስመ ላጥም ንቕፀቍዝ ዊን\\ue07d፤ እንዛይ እቍንድም እየሱስት ጝታጊንዝቪዝ ኣግልግልጛ\\ue07d ዊን\\ue07d።ዚረ ፊዘተይዙ ተከድ', 'ንቕፀው ኽዝቭም ኻትምጢስቅ ተር ላው ኣቕ ኣኽቭሽ ፅባ\\ue07d እኒን ተክድ እንት ያ\\ue07d ዊግቱ፦', '«ላው ኣርሸ ጝዚረድ ፊዝጠ ፊሩ፤ ፊዛንድም ላው ላው ዚረድ ጒደን ደዪል ሊቩ፤ እግረም ልኵዝ ደሽሹ፤ ዚልቅም ሊቅም\\ue07d።', 'ላው ላው ዚረድ ቈሽ ፃፀ ዝቨይል ሊቩ፤ ቢቍላንድ ግን ዝቨድ ቝጠ እጀው ኣቓንስቅ በውዝ ይዙ።', 'ላው ላውድ ቈሽ ኣሚዝ ማኽሊል ሊቩ ኣሚድም ላብጠ ሊግዛንስቅ ኻንቕ እዳዙ።', 'ላው ላው ዚረድ ቈሽ ቀሰው ዝቨይል ሊቭ ቢቍሉ፤ ቢቈለድም ሊግዝ ጭቕጘ ንቕፀው ፍር ፍርዙ።»', 'እኒንት ዊግት በር ጝድመድ ኣጕስ ሸው፦ «ወሸው ቀርዝ ፃየውድቅ ወሽነ!» ዩ።', 'ጝክንደጥድም፦ «እኒን ተከይዙ ትርጕምድ ወረጘ የጝ?» ይጝ ዋቕር\\ue07d።', 'ተከይዙ ትርጕምድ እንት የነት የጝ፤ ዚረድየን እደረት ቃልድ የጝ።', 'ጒደን ደዪል ሊቨውድ እደረት ቃልድየንት ወሸቍ እቅ ጛይ፤ ዊገድ ግን ወሽጝ ቓዳይጘጘ ዳቪለውስ ተር ወሽጘው ቃልድ ጝታእዘኒስ ፊስ ፊሰኵ።', 'ፃፀይል ሊቨውድ ቈሽ እደረት ቃልድየንት ዲስተዝ ወሽጝ ለምረቍ እቅ ጛይ፤ እንዛይ እቅድ እልትዝ ኣምንጘኵጚ ስር እጀቍ ኣጛንስቅ ፊተነ ተራንድ በውዝ ኻድየቍ ጛይ።', 'ኣሚዝ ማኽሊል ሊቨውድም እደረት ቃልድ ወሸቍ እቅ ጛይ፤ እንዛይ እቅድ ጭጝ ግሪጛንድ እን ኣልምዙ ፅብጘድ ኻልየነውዝ፣ ፃጀዙ ምችጘዝመ እን ኣልሚዙ ዲስተዝ ኻንቕሽጝ ፍር እጀው እዳጘኵ።', 'ቀሰው ዝቨይል ሊቨው ዚረድ ግን እደረት ቃልድ ቀሰው እዘንዝመ ገርኽትዝ ወሽጝ ፋፅመቍ እቅ ጛይ፤ እንዛይ እቅድ ቃሊዝ ፀናቕጝ ቀሰው ፍር ፍርዝጘኵ።»', 'መቅረዚል እቝርሸው መቭራትድ', '«መቭራት ኣቭርኽዝ ገን ኣቒል ዊንም ኣረት ሳይል እቝረው እጅርም እጀው፤ ጝኒል ጥወቍድቅ ቓልጥጘ ማጥን ንየስ ሸው መቅረዚል እቝረኵጚ።', 'እኒዝጘም እትሊጝቀ ሲውርሽ እዳቐው፣ ኣረሲጝቀ ብርኻኒዝጐም ፊጝቀ ጭቭር እዳቐው ዊገም እጀው።', 'ነስየ እደረት ቃልድ ኣወሽርን ወሽትርነጘድ ጣጝቅቅጭጥን፤ ፃየው እጅርዝ ቈሺተኵ፤ እጀው እጅሪስ ግን ጝፃየውድ እኳ ፊስሽተኵ።»', 'እየሱስት ኘስመ ጝፅንስ', 'እንዝ ግረ እየሱስት ኘስመ ጝፅንስ ጝጐ ተር\\ue07d፤ ኣነጚ ኽዝቭድ ጭቕጘ ንቕፀው ዊናንስቅ ጝት ችጘነ ብ\\ue07d።', 'ኣይንድም፦ «ክኘስመ ክፅንስ ክት ደምዝጛ\\ue07d ቢዘይል ችብርጝኵ\\ue07d» ይጝ ድቍ\\ue07d።', 'እየሱስም፦ «ይኘስመ ይፅንስስ፣ እንዛይ እደረት ቃልድ ወሽጝ ፋፅመቍድ ጛይ» ዩ።', 'እየሱስ ማቨልድ ችብሰጘ', 'ላው ግርየ እየሱስ ጝክንደጢጅቅ ታ\\ue07dኰይዝ ተሳፍርሽ፦ «እድጐ ባኽሪዝ እጂ ከርነ» ዩ፤ ጛይም ቀሰው ይጝ ፊርጥጘ ጕ\\ue07d።', 'ባኽርድ ቂዝፍጛ\\ue07d ፃጛ\\ue07d ሲጝቀም እየሱስ ዝመውር ኽርዩ፤ ኣይንድም ባኽሪል ማቨል ጉ፤ ኣቘድም ታ\\ue07dኰይል ጥዋ\\ue07d እቻቑዝ ጭቕጘ ጨጝቅሽ\\ue07d።', 'እየሱስትጐም ኣልትጝ፦ «ኣደረወ! ኣደረወ! እፈ ኣቢትኑና!» ይጛ\\ue07d ጒስ\\ue07d፤', 'ጘጝም ጕ ፊግየይዝመ ማቨልዝ ጋስፁ፤ ፊግየይዝመ ማቨሊዝም ቀጥ ይ\\ue07d፤', 'ኣይንድም ኽየው ፀጥተ ኣቑ።', 'ጝክንደጥድዛትም፦ «ክታእምንትድ ኣውል እኩ» ዩ፤ ጛይም ጐውትዝመ ድንቅየዝ ስ\\ue07dርሽጝ ጛስ ጛይ፦ «እኒን ፊግየዝመ ኣቘዝ ኣዘውድ ጛይም ኣዚትጘውድ እረ ጘጝ ኣው የጛ?» የነው ኪርም\\ue07d።', 'እየሱስ ጋኒናን ጭጘው እጅር ቓዘጘ', 'እንዝ ግረ ገሊለ ባኽሪዝ እጂል ፅበው ገርገሲነውን የነው ኻግሪል ታ\\ue07dኰዝ ከር\\ue07d።', 'እየሱስም ታ\\ue07dኰይስ ጊም ዝቨይል ከራንድ ጋኒናን ጭጘው ላው እጅር ኻትመይስ ፍ ጝጅቅ ዲምቅሹ፤ እን እጅርድ እክሰው ግርየዝ ኪርም ጝንል ጥዊጝቀ ኣልቨም ሲርጝቀ መጥማጥ መቃቭርል ፅበው ዊኑ።', 'እየሱስት ቓላንድም ጝበዊል ፍግም የው ሊቩ፤ ጭቕጘ ቓፃ\\ue07dም፦ «ልውል እደረት ዅር እየሱስወ! ይጅቅ ውር ፃይረር? ኣለቀይ ይት ኣሰቃይዝተ?» ያ\\ue07d ጨዉ።', 'እየሱስም፦ «ክሽ\\ue07dድ ኣው የጝ?» የው ዋቕሩ፦ ጘጝም፦ «ይሽ\\ue07dድ ለጊወን የጝ» የው ዊሱ፤ እንት የው ዊሰውድም ንቕፀቍ ጋኒናን ሲፍርጝ ዊንጛንስቅ የጝ።', 'ጋኒናንድም፦ «ኣለቀይ ይናት እንጠርጠውስ ጥውጥን ይር ኣዝተ» ይጝ ጨው\\ue07d።', 'ጘጝ ስፍረይዙ ኣበይዝ ሰውሪልም ንቕፀቍ ኣሰምጥ ውላቕጝ ዊን\\ue07d፤ ጋኒናንድም፦ «ኣለቀይ እዛይ ኣሰምጢል ጥውነ ማጥን ፊቅጅ» ይጝ ጨው\\ue07d፤ ጘጝም፦ «ጥውጥን» የው ፊቅዱ።', 'ጋኒናንድም እጅሪስ ፍጝ ኣሰምጢል ጥው\\ue07d፤ ኣሰምጥድም ውጢጛ\\ue07d ከዝጚዝ ቍልቍለ ባኽሪል ጥውጝ ስ\\ue07dርሽ\\ue07d።', 'ኣሰምጢዝ ምቕድም እኒንት ቓልጛንድ ሰይ\\ue07d፤ ፊርጝም ኻትመይልም ገጠሪልም ጂጝዝ\\ue07d።', 'ኽዝቭድም ኣቐው ዊገድቅ ቓልጠ ጝፅበው ፅበዊስቅ ፍ እየሱስትጐ ተሩ፤ እድ ጋኒናንድ ፍጘው እጅርድም ኣልቨ ሲር ጝእዘኒል ዋጥር እየሱስት ልኲል ጐይ ቓልጛንድ ጐውት\\ue07d።', 'ጋኒናኒዝ ፃይሽ ዊነው እጅርድ ቓዳንድ ቓልጛ\\ue07d ዊነቍ እቅድም ኣወይ ቓደጘ ተረው ኽዝቪዝቅ ድቍ\\ue07d።', 'ገርገሲነውንት ኻግሪዙ ኽዝቭድም እጝቅቅ ጭቕጘ ጐውታንስቅ እየሱስት፦ «ኣለቀይ ይናኻግሪስ ፍር ፊጥ» የው ጨዉ። ጘጝም ታ\\ue07dኰዝ ተሳፍርሽ ዋጥር ፊሩ።', 'ጋኒናን ፍጘው እጅርድም፦ «ኣለቀይ ክጅቅ ፅብጨ» የው እየሱስት ጨዉ።', 'እየሱስ ግን፦ «ኣየውም፤ ክጝን ፊትር እደረ ክጭስ ፃቨው ኽየው ዊገድቅ ድቍ» የው ሲነቭሱ፤ ጘጝም እየሱስ ጝጭስ ፃቨው ዊገድ ኻትመይዝቅ ድቋ\\ue07d ፊሩ።', 'እየሱስ ክትረይ እፈረስመ ፅዊትረይ እውነስ ፃቨው ታምርድ', 'ኽዝቭድም ጝት ሊሚዳ\\ue07d ዊናንስቅ እየሱስ ተራንድ ዲስተዝ ለምሩ።', 'ኣይንድም እያይረውስ ይሽተው ላው ምኵራቭዝ ኻልቀ ተር እየሱስት ልኲል ሊቭ፦ «ኣለቀይ ለው ይጝን ጢ» የው ጨዉ።', 'ምላሰንድም ፅጭ ሊጘምትወ ጝቝረ እፈረ ፅዊትር ክርጘል ችጝር ዊንች።', 'እየሱስም ቀሰው የው ጝጅቅ ፊራንድ ኽዝቭድ ትክቨትክቭሻ\\ue07d ጝት ጨጝቅዛ\\ue07d ዊኑ።', 'ፅጭ ሊጘ ምት ምሉም ብር ቅብርጛ\\ue07d ፅዊትር ፅብረይ ላይ እውነ ዊንች፤ ጚይም ጥልሽራ\\ue07d ጝርጊንዝቭድቅ ኣብዝች፤ ኣነጚ ጝርት ቓዘው ላውም ችጝሺየው።', 'እየሱስት እግርገይዝጐቱም ኣልትር ጝኣልቨይዝ ጫፍድ ዳቕች፤ ኣይንድም ቅብራ\\ue07d ዊነው ጝርብረድ በውዝ ችብሩ።', 'እየሱስም፦ «ኣው የጝ ይት ዳቐውድ?» ዩ፤ እጝቅቅም፦ «ይን ዳቒነቅም ይ\\ue07d» ቢጥሮስም፦ «ኣደረወ ኽዝድቭድቅ ክት ኪብ ጥቕዘጥቕዝሽታ\\ue07dመ ይት ዳቐውድ ኣው የጝ ይራ» ዩ።', 'እየሱስ ግን፦ «ይጊስ ኻይል ፈጘ ኣርቕኩን፤ ኣቓንስቅም ላው እጅር ይት ዳቕኩ» ዩ።', 'እውነየንም ጭቭትረጘ እዳቐነ ብረጘ ኣርቕራንድ፣ ቀጥቀጥ ይራ\\ue07d እየሱስት በዊል ተትር ጝልኲል ሊቭች፤ ውር ማጥን ጝት ዳቕረጘ፣ ኣወይርም በውዝ ቓድረጘ፣ ኽዝቪዝቅ በዊል ዊግትች።', 'እየሱስም፦ «ይቝረወ! ክእምንትድ ቓዝኩ፤ ዲግተዝ ፊጥ» ዩ።', 'እየሱስም እኒንት ገነ ዊግታ\\ue07d ሲጝቀ ላው እጅር ምኵራቪዝ ኻልቀ እያይረውስት ጝኒስ ተር፦ «ክቝረ ክትርኩች፤ ነስየ ክንሰተድ ጊነ ዝላዝተ» ዩ።', 'እየሱስም እኒንት ወሻንድ እያይረውስት፦ «ኣይዝዀች ጐውተ! ኣምንጚ ክቝረስ ቓድቲ» ዩ።', 'እያይረውስት ጝኒል ጥዋንድም ቢጥሮስት፣ ይዃንስት፣ ያይቈቭት፣ ቈሽም እፈረየንቲርስመ ጝርኘስ ጭቝጚ ላጥ እቅ ጝጅቅ ጥውጥጘ ፊቅዲየውም።', 'ጝግል ዊነው ኽዝቭድም ዋይ ዋይ ያ\\ue07d ሊዛ\\ue07d ዊኑ፤', 'እየሱስም፦ «ሊዝትርነ! እፈረየን ኽርይርኩችጚ ክሪረይም» ዩ።', 'ጛይ ግን ክትረጘ ኣርቕጛንስቅ ኣሹፍጛ\\ue07d እቘር\\ue07d።', 'እየሱስም እፈረየንት ናንድ ፃይ፦ «እፈረ ክተ ጕ» ዩ።', 'እፈረየንት ኒፍስሸንም ዋጥርች፤ በውዝም ጕር ችብርች፤ እየሱስም፦ «ፈርጥን ጝርዀነው ሚ ይውጥን» የው ኣዙ።', 'እፈረየንት ኣቅልድም ዲንቅሽ\\ue07d፤ እየሱስ ግን፦ «እኒን ዊገድ ላውዝቅ ድቍርነቅ» ዩ።', 'ሉቃስት ወንጌል', 'እየሱስ ፅጭ ሊጘ ኻወርየታንድ እፃቐጘ', 'እየሱስም ፅጭ ሊጘ ኻወርየታንድ ሊንስ ጝጐ ጭጝ ጋኒናንድቅ ፊስጥጘ ማጥን፣ ፅውዝጅንጥድቅም ጝታፅውዘይስ ቓዝጥጘ ማጥን ኻይልዝመ ስልጣንዝ ይዉ።', 'ቈሽም እደረት ምጝግስትት ሲቭክጥጘ ማጥን፣ ፅውዝጅንጥድም ቓዝጥጘ ማጥን እፃቑ።', 'እንት የውም ድቁ፦ «ግብም፣ ኸረጢትም፣ ሊቈውም፣ ቍርሻንም፣ ቂይረነው ኣልቨም፣ ክታጕደነይዝ ውረውረቅ ፃይትርነ።', 'ጥውርነይ ኻትመየት ሊቅርን ፍትርኒስቅ ኣፍለ ጥውርነው ጝኒል ጐይጥን።', 'ጚ ኻትመየት እቅድ ክታት ለምጠቅ ይጝሽ ግን ጛጭስ ሚዝር ኣጠ ማጥን ክታልኲይዙ ኣወረድ ኣርግፍርን ጚ ኻትመየት ሊቅርን ፊጥን» ዩ።', 'ኻወርየታንድም ጝጊስ ፍጝ ወንጌልድ ሲቭክጛ\\ue07d ፅውዝጅንጥድቅም ቓዝጛ\\ue07d ኪቋኒልቅ ጅልው\\ue07d።', 'ገሊለት ቅማ\\ue07d ዊነው ኺረውድስ ግን እን ኣቐው ዊገድቅ ወሻንድ ጨጝቅሹ፤ ምላሰንድ ላው ላው እቅ፦ «ጣምቀተ ይዃንስ ክርጘይስ ጕኩ» ይጛ\\ue07d ጂጝዝጛ\\ue07d ዊን\\ue07d።', 'ላጥድ ቈሽ፦ «ነቭይ ይልያስ ዋጥር ተርኩ» ይጛንድ፣ ግቨርድ ቈሽ፦ «ኽፅምትቍ ነቭያታኒስ ላውድ ክርጘይስ ጕኩ» ይጛ\\ue07d ዊን\\ue07d።', 'ኺረውድስም፦ «ይዃንስትስ ያን ይቕም ጝቕልመድ ቀቭ ቁ ዊኑን፤ እደስለ እንቝጠ ጂጘ ጂጝዝጘው እን እጅርድ ኣው የጝ» ዩ፤ ጝትም ጝእልጣኒዝ ቓልጠ በና\\ue07d ዊኑ።', 'እየሱስ ኣኰ ሽኽ እቅ ታምርዝ ሚግቨጘ', 'ኻወርየታንድም እፃሽጘዊስ ዋጥርጝ ተርጝ ጛይ ፃቭጘውድቅ እየሱስስ ድቍ\\ue07d፤ ጘጝም በተሰይደ ኻትመይዝ ጋቢዙ በራኸይል ጝታለ ፃይ ፊሩ።', 'ኽዝቭድም እየሱስ ፊረው ስፍረድ ኣርቓንስቅ ቲክን ፊሩ፤ ጘጝም ለምር እደረት ምጝግስትት ማጥን ድቋ\\ue07d ዊኑ፤ ፅዊተቍድዛትቅም ጝታፅውዘይስ ቓዙ።', 'ግርየድ ኵንጠ ጓንድም ፅጭ ሊጘ ኻወርየታንድዛይ ጝጐ ኣልትጝ፦ «ይን ፅብነው ስፍረድ በራኸ የጝ፤ ኽዝቭድ ጅልወይል ፅበቍ ኻትምጢልም ኣነ ገጠሪልቅ ፊር ጝዀነውዝመ ጨነው ኽርተዝ ደምዝጠ ማጥን ሲነቭሽ» ይ\\ue07d።', 'እየሱስ ግን፦ «ክትን ጝታዀነው ይውጥን» ዩ፤ ጛይም፦ «ይናናኒል ፅበቍድ ኣኰ ምጭዝመ ሊጘ ኻዝዝ ጭቝ ጛይ፤', 'ፊርን ጅቪነውዝየ እንቝጠ ኽዝቪዝቅ ኣቓቍም» ይ\\ue07d።', 'ኽዝቭድም ኣኰ ሽኽ ኣጠ ዊኑ፤', 'እየሱስም ጝክንደጢዝ፦ «ኣኵርጝን ኣኵርጝንድ ሚድቭርና\\ue07d ጐይስጥን» ዩ።', 'ጛይም ኣዚትጘጘ ፃቭጝ ኽዝቭድ ጐይስ\\ue07d።', 'እየሱስም ኣኰ ሚጪዝመ ሊጘ ኻዚዝ ፃይ ንየ ጭቅ የው ሲመይ ሲመይ ቓላ\\ue07d እደረት ሚዝየንዙ፤ ኪልም ኽዝቪዝ ኣድልጥጘ ማጥን ጝክንደጢዝ ይዉ።', 'ኽዝቭድም እጝቅቅ ዅ እቭቱ፤ ኻወርየታንድም ኽዝቭድ ዅ ቲርፍዘውድየንት ፅጭ ሊጘ ሚስቫን እቻዝጝ ጕይ\\ue07d።', 'ቢጥሮስት እምንቲዝመ ሚዝርነይዝ', 'ላው ግርየ እየሱስ ጝለ ፃልያ\\ue07d ዊኑ፤ ጝክንደጥድም ጝጋቢል ዊንጛንስቅ፦ «እቅ ይት ኣው ይጘኵ» የው ዋቕሩ።', 'ጛይም፦ «ግቨርድ ጣምቀተ ይዃንስ፣ ግቨርድ ይልያስ፣ ግቨርድ ቈሽ ኽፅምትቍ ነቭያታኒስ ላውድ ክርጘይስ ጕኩ ይጘኳ» ይጝ ዊስ\\ue07d።', 'ጘጝም፦ «ክትንሰ ይት ኣው ይርና» ዩ፤', 'ቢጥሮስም፦ «ክት እደረቲስ እፃሽረር ክርስቶስ የጝ» የው ዊሱ።', 'እየሱስም፦ «እን ዊገድ ኣውማውስቅ ድቍርነቅ» የው ጣጝቅቅሱ።', 'ቈሽም፦ «እጅር ዅር ኽየው ሚከረ ለምርጠ ጥውሸኵ፤ ሽመቅሊዝመ ካኽነጣነ ኻልቅጢዝ፣ ወሪትት ኽግ ክንሰጢዝም ነቅሽትጡ፣ ጝዝ ግረም ቍዉሽትጡ፣ ኣነጚ ሸወትረ ግርየይዝ ክርጘይስ ጕጡ» ዩ።', 'እንዝ ግረም እጝቅዝቅ እንት ዩ፦ «ይእግርገይል ቲክንጠ በነው እጅር ፅብሽ ጝቕምት ኻዲነ! ግሪ ጨቨቅም ጝሚስቅልድ መውር ይት ቲክነ!', 'ጝኒቭስሸንት ቓዝጠ በነውድቅ ድስጡ፤ ይማጥን ጝኒቭስየንት ድሰውድ ግን ቓዝጡ።', 'እጅር ኣልሚዙ ኻፍትድቅ ችጛን ጝኒቭስየንት ድሰውዝየ ዊንም ጒድልዘውዝየ ውር ጣቅምሽጡ?', 'ኣውማው እጅር ይቍዝመ ይቃሊዝ ኣይቭትሽ እጅር ዅር ቈሽ ጝክቭሪዝ፣ ጚርት ክቭሪዝመ ጝቅዱሳን መላእክታኒዙ ክቭሪዝ ተራንድ ጝቍዝ ኣይቭትጡ።', 'እማንዝ የኵን፤ ነን እንል ችብረቊስ እደረት ምጝግስትየን ተትራንድ ቓሊጝቀ ክራቍ ላው ላው እቅ እኵ\\ue07d።»', 'እየሱስት ሚልክድ ላውጥሸጘ', 'እየሱስ እንየት ዊግተት ሰውጠ ግርቅ ኣጛንድ ቢጥሮስት፣ ይዃንስት፣ ያይቈቭት፣ ቲክንዝ ፃልይጠ ላው ኣበል ፉ።', 'ፃልያ\\ue07d ሲጝቀም ጝጋፂዙ ሚልክድ ላውጥሹ፤ ጝኣልቨድም ፃር ብርቕርቕ የው ኣቑ።', 'ድጝግትም ሊጘ እቅ ተርጝ ጝጅቅ ዊግትጛ\\ue07d ዊን\\ue07d፤ እን እቅድም ሙሴስመ ይልያስስ ጛይ።', 'ጛይም ኽየው ክቭርዝ እትልጝ እየሱስ እየሩሳልየምስ ለምረው ጝሚከረይዝመ ጝክርጘይዝቍዝ ዊግትጛ\\ue07d ዊን\\ue07d።', 'ኣይንድም ቢጥሮስመ ጝጅቅ ዊነቊዝ ዝመውዝ ፅጐውሽጝ ዊን\\ue07d፤ ጝታዝመዊስ ነቃጛንድ ግን እየሱስት ክቭሪዝመ ጝጅቅ ዊነቍ ሊጘ እቂዝ ቓል\\ue07d።', 'እዛይ ሊጘ እቅድም እየሱስቲስ ቲትጝ ፊርጥጘ ጕጛንድ ቢጥሮስ እየሱስት፦ «ኣደረወ! ይን እንል ጐይናን ይናጭስ ቀሰው የጝ፤ ኣቓንስቅም እንል ሻቘ ደፅ ተስነ፤ ላውድ ክጭስ፣ ላውድ ሙሴስ፣ ላውድ ቈሽ ይልያስስ ኣጥቍ» ዩ፤ ዊግተው ዊገድየንትም ኣርቓውም ዊኑ።', 'ቢጥሮስም እኒንት ዊግታ\\ue07d ሲጝቀ ድምነ ተር ጛት ገርዱ፤ ድምነይዝ ኣቒል ጥውጛንድም ጐውት\\ue07d።', 'ድምነይስም፦ «ያን ማርፀው ይዅርድ እኒን ይጝ፤ ጝት ወጭጥን» የው ድመ ተሩ።', 'ድመድ ወሽተት ግረ እየሱስ ጝለ ኣቕ ችጝሹ፤ ጝክንደጥድም እን ዊገድ ኣይንት ኰሪዝ ላውዝቅ ድቍጝቀ ጝታእዘኒዝ ፃይጝ ዝም ይ\\ue07d።', 'እየሱስ እርኵስ መንፈስ ጨው እፈረድየንት ቓዘጘ', 'ጝኣምርሲዝም እየሱስስመ ሻቘ ክንደጢዝ ኣበይስ ጊምጛንድ፣ ንቕፀው ኽዝቭ ተር ዲምቅሹ።', 'ኽዝቪዝ ማኽሊስም ላው እጅር ጝድመድ ኣጕስ ሸው እንት ዩ፦ «ክንሰተወ! ይፃቀው ይዅርድ ላው ጘጝ ጭቝ የጝ፤ ኣለቀይ ቓዝተ ማጥን ጨወኵን።', 'ጝት ጋኒን ፃይ ጕቝሰኵ፤ ዝቨይልም ማል ገፍረድ ገፍርዛ\\ue07d ፍርግሰኵ፤ ጝሰውነትድቅ ልኻንዘት ግረ ዋቐ ሚከረዝ ሊቅ ፊረኵ።', 'ክክንደጥድዛትም፦ ‹ኣለቀይጥን ፊስጥን› የር ጨው ዊኑን፤ ጛይ ግን ቸለነ ብ\\ue07d» ዩ።', 'እየሱስም፦ «እፈ እምንት እጅርነቅ ጠማማን ዅል ክታትርነ! ኣውን ኣሽ ክታጅቅ ፅብጭር? ኣውን ኣሽስ ክታት ቸልጭር? እስቲ ክዅርት እንጐ ነሽ» ዩ።', 'እፈረድም እየሱስትጐ ኣልታንድ ጋኒንድየን ዝቨይል ማል ፍርግሱ፤ እየሱስ ግን እርኵስ መንፈስድየንት ጋስፁ፤ እፈረድየንትም ቓዝ ጚርስ ይዉ።', '«እኒን ነን ያን ድቈው ዊገድ ወሽርን ክታእዘኒዝ ፃይጥን፤ እጅር ዅር እቀ ናንል ዲቍሽት ይውሽትጡ» ዩ።', 'ጛይ ግን እን ዊገድ ኣስክሲየቍም፤ ኣስክሳይጘጘ ጝታእዘኒስ ሲውርሽ ዊኑ፤ ዋቕራይጘጘ ቈሽ ጐውት\\ue07d።', 'እጝቂስቅ ንየቱ ኣቐው እጅርድ', 'እንዝ ግረ ጝክንደጥድ ጛስ ጛይ፦ «ይናማኽሊስ ኣው የጝ ንየቱ ኣቐውድ» የነው ክርክር ጕይጝ ዊን\\ue07d።', 'እየሱስ ግን ጝታእዘኒዙ ኻሰቭድ ኣርቓንስቅ ላው ኽፃን ጝጐ ነስ ጝጋቢል ችብስ እንት ዩ፦', '«እኒን ኽፃንድየንት ይሽ\\ue07dዝ ለምረው ኣውማው እጅር ፅብሽ ይት ለምሩ የነት የጝ፤ ይት ለምረውድ ቈሽ ይት እፃቐውድየንት ለምሩ የነት የጝ፤ ክታማኽሊስ ክታእጝቂስቅ እጥን ኣቐውድ ክታእጝቂስቅ ኽየው ኣጡ» ዩ።', 'ይዃንስም፦ «ኣደረወ! ላው እጅር ክሽ\\ue07dዝ ጋኒናን ፊሳንድ ቓልኑን፤ ዊገድ ግን ጘጝ እጅርድ ይናጅቅ ቲክናው ኣቓንስቅ ኪልክልኑን» ዩ።', 'እየሱስም፦ «ክታት ተቃውምሻውድቅ ክታጅቅ የጝ፤ ኪልክልትርነ» ዩ።', 'ሰማርየት እቅድ እየሱስት ተቃውምሽጘጘ', 'እየሱስም ጝሲመይ ፈነው ግርየድ ችጝጠ ጓንድ እየሩሳልየም ፍጠ ቋርጥ ጉ።', 'በውግስም ጝበዊል ፊረቍ እቅ እፃቑ፤ ጛይም እጝቅትቅ ኣስልጝ ዊንጥጘ ሰማርየት ኻግሪዝወ ላይ ኪውትል ጥው\\ue07d።', 'ጚ ኪውሸንትቍ እቅድ ግን ጝታግዝ ፃቭ እየሩሳልየም ፊርጠ በነጘ ኣርቕጛንስቅ ለምሪየቍም።', 'ጝክንደጥ ያይቈቭስመ ይዃንስም እኒንት ቓልጛንድ፦ «ክንሰተወ! ይልያስ ፃቨጘ ሲመይስ ልየ ሊቭ እን እቅድ ኣብዝጠ ማጥን ኣዝነ ፊቅድትርመ?» ይ\\ue07d።', 'እየሱስ ግን ጝታጐ ብሩ የው፦ «ክትን ኣወየው መንፈሲስ ኣቕርነጘ ኣርቓይርነቅም፤ እጅር ዅር ተረውድ እቀ ርዅየ ቓዝጠጚ ድስጠም ኣየው» የው ጋስፁ።', 'ጝጊስም ጕጝ ላየ ኪውል ፊር\\ue07d።', 'እየሱስት ቲክነናንድ ተረው ፊተነድ', 'ጒደነይዝም ፃጛ\\ue07d ሲጝቀ ላው እጅር ተር፦ «ኣደረወ! ክት ፊትረዊልቅ ቲክንጨ በነኵን» ዩ።', 'እየሱስም፦ «ቘፅልድ ጝታቢ\\ue07d ፃየቍ ጛይ፤ ዚልቅድም ጝታጕጂ ፃየቍ ጛይ፤ እጅር ዅር ግን ጝቕልመድ ድወነ እኳ እጀውም» ዩ።', 'ላየ እጅርድየንት ግን፦ «ለው ቲክን» ዩ፤', 'ጘጝ ግን፦ «ኣደረወ! ኣለቀይ በዊል ፊጥ ይርት ዲቭ ተጨር ፊቅጅ» ዩ።', 'እየሱስም፦ «ጝታክረቍድ ዲቭጥጘ ማጥን ክረቍድዛት በጭ፤ ክት ግን እደረት ምጝግስትት ማጥን ሲቭክ» ዩ።', 'ላው ላየ እጅር ቈሽ፦ «ኣደረወ! ያን ክት ቲክንጨ በነኵን፤ ዊገድ ግን በዊል ፊጥ ይበተሰቭድ ሲነቭጭ ተጨር ፊቅጅ» ዩ።', 'እየሱስ ግን፦ «እርቭነድ ጝናኒዝ ጫብጥ እግርገ እግርገ ቓለው እጅር እደረት ምጝግስትስ ጥውሻውም» ዩ።', 'ሉቃስት ወንጌል', 'እየሱስ ላጝጥርጝን ሊጘ ክንደጥ እፃቐጘ', 'እንዝ ግረ እየሱስ ላጥ ላጝጥርጝን ሊጘ እቅ ማርፅ ይሙ፤ ጘጝ ፊረው ብጣይዝጐቅ ቀድምጝ ፊርጥጘ ማጥን ሊጘ ሊጘ ፃቭ እፃቑ።', 'እንት የውም ዊግቱ፦ «ማፅወድ ኽየው የጝ፤ ሰራሸጥድ ግን ዊትቍ ጛይ፤ እንዝ ማጥን ማፅወይዝ ወነድ ጝማፅወይል ሰራሸጥ እፃጠ ማጥን ጨውጥን።', 'ነስየ ፊጥን፤ ቢቂዝጘ ተኵልጢዝ ማኽሊል ክታት እፃጭር።', 'ቡርሰም ኸረጢትም ፃብጣንም ፃይትርነ፤ ጒደነይስም ችጝርነው እጅሪዝቅ ዲግተ ይውትርነ።', 'ላው ጝንል ጥውትርነ በንርናንድ በውግስርን፦ ‹ዲግተ እን ጝኒል ኣነ› ይጥን።', 'ጘጝ ጝኒል ዲግተ ቀነው እጅር ፅብሽ ክታዲግተድ ጝጅቅ ኣጡ፤ ኣለዝየ ግን ክታዲግተድ ክታቕምትል ዋጥርጡ።', 'ጛይ ኣልስጘውድቅ ዅርና\\ue07d ዝይርና\\ue07d ጘጝ ጝኒል ጐይጥን፤ ሰራሸው እጅርዝ ምኻየ ጥውሸው የጝ፤ ላው ጝኒስ ፍርን ላየ ጝንዝጐ ጅልውትርነ።', 'ኣውማው ኻትመይልቅ ጥውርናንድ ክታት ለምርጝሽ ጛይ ኣልስጘውድቅ ዅጥን።', 'ጚ ኻትመየንትቍ ፅውዝጅንጥድ ቓዝርና\\ue07d፦ ‹እደረት ምጝግስትየን ክታጐ ኣልትርኩች› ይጥን።', '«ዊገድ ግን ላይ ኻትመትል ጥውርናንድ ጛይ ክታት ለምሪጝሽ ኻትመየት ኣርወይል ፍርን እንት ይጥን፦', '‹ይናልኲል ጣብቅሸው ክታኻትመይዙ ኣወረድ እኳ ኣርግፍንቅ፤ ዊገድ ግን ክትን ኣርቒርነቅምጚ እደረት ምጝግስትየን ክታጐ ኣልትር ዊንች› ይጥን።', 'ፍርድ ግርየዝ ኰር ጚ ኻትመየንቲስ ሽ\\ue07d ሰደውምስ ቀልጡ የኵን።', '«ኰራዚንስ ወየው! በተሰይደስ ወየው! ክታግል ፃቭሸተቍ ታምራንድ ጢረውስስመ ሲዱነስታግል ፃቭሽት ዊናን፣ ገነ በውግ ጝግል ዊነቍ እቅድ ግምር ሲርጝ ፃብረልም ጐይጝ ንስኻ ጥውጥጘ ዊን\\ue07d።', 'ዊገድ ግን ፍርድ ግርየዝ ኰር ክታጊስ ሽ\\ue07d ጢረውስስመ ሲዱነስ ቀልጡ።', 'እፈ ቅፍርናዀም! ሲመይ ኣሽመ ንየስ ንየስ ይሩ? ቀሰው! ሲወል ኣሽ ጊምትር።»', 'ቈሽም ጝክንደጢዝ፦ «ክታት ወሸውድ ይት ወሸኵ፤ ክታት ለምራውድ ግን ይት ለምራውም፤ ይት ለምራውድ ቈሽ ይት እፃቐውድየንት ለምራውም»ዩ።', 'ላጝጥርጝን ሊጘድም እፃሽጝ ፊርጘዊስ ዲስተዝ ዋጥርጝ፦ «ኣደረወ ጋኒናን እኳ ክሽ\\ue07dዝ ይናጭስ ኣዚት\\ue07d» ይ\\ue07d።', 'ጘጝም እንት ዩ፦ «ሲጣንድ መቭረቂዝጘ ሲመይስ ሊቫንድ ቓሉን።', 'ነስየ ሲቭረዝመ እጭወ ክርክጣነውዝድቅ ደድትርነ ማጥን፣ ፃለትዝ ኻይልድቅም ኻትርነ ማጥን ክታጭስ ስልጣን ነቅኩን፤ ክታት ቘይዘው ሚንትርነም እጀው።', 'ኣነጚ ክታሽ\\ue07dድ ሲመይት መዝገቭዝ ፃፍሻንስቅ እንዝ ዲስ ይጥንጚ መንፈሳን ክታጭስ ኣዚትጙዝ ዲስ ይትርነ» ዩ።', 'ኣይንድ እየሱስ መንፈስ ቅዱስዝ ጭቕጘ ዲስ የው እንት ዩ፦ «ሲመይስመ ዝቨስት ኣደረ ኣረር ኣየወ! እኒንት ጥቨቭኝጢስመ ኣርቐቍስ ሲውርድር ኽፃናታንዝ ጋልፅራንስቅ ሚዝየንዘኵን፤ የይ ኣየወ! እኒንት ፃቭተ ክፈቃድ ኣቕኩ።', 'ይር እጝትቅ ይጭስ ነይኩ፤ ቈሽም ዅርት ኣው ኣቐጘ ኣይርትለ ኣውማውቅ ኣርቓውም፤ ኣይርትም ኣው ኣቐጘ ዅርትለ ዅርም ጝጭስ ጋልፅጠ በነዊዝለ ኣውማውቅ ኣርቓውም።»', 'ጝክንደጢዝጐም ዋጥር ጝታለስ፦ «ክትን ቓልድርነውድየንት ቓለቍ እልጣን ቀቫሽቍ ጛይ።', 'እማንዝ የኵን፤ ንቕፀቍ ነቭያታንዝመ ንጕሳንዝ ክትን ቓልድርነውድየንት ቓልጥጘ በንጝ ዊን\\ue07d፤ ግን ቓሊየቍም፤ ክትን ወሽርነውድየንትም ወሽጥጘ በንጝ ዊን\\ue07d፤ ግን ወሺየቍም።»', 'እርዅርዅ ሳምራነውት እጅሪዝ ተከድ', 'ላው ግርየ ላው ወሪትት ኽግ ክንሰተ እጅር፣ እየሱስት ፊትንጠ በን ጕ ችብር፦ «ክንሰተወ! ዘላልምት ርዅየ ችጝጨ ማጥን ወረጘ የጝ ሰራጨ ጥውሸውድ?» ዩ።', 'እየሱስም፦ «ኽጊዝ ፃፍሸውድ ወረጘ የጝ? ኣወሽርስ ኣንቭቭረኵ?» ዩ።', 'ጘጝም፦ «ወሪትት ኽግድሰ፦ ‹ክኣምልክ ኣደረት ክእዘኒዝ፣ ክኒቭሲዝ፣ ክኻይሊዝመ ክኻሰቪዝቅ ምሉ በምሉዝ ቀን፤ ክፃምረድም ክቕምንትጘ ቀን› የኳ» ዩ።', 'እየሱስም፦ «ቀሰው ፃቭር የጝ ዊስረውድ! ክትም እንት ሽ፤ ዝላልምዙ ርዅየም ችጝትር» ዩ።', 'ወሪትት ኽግ ክንሰተድ ግን ጝቕምት ፃድቅ ፃቭጠ በን፦ «ኣው የጝ ይፃምረድ?» ዩ።', 'እየሱስም እንት የው ዊሱ፦ «ላው እጅር እየሩሳልየምስ ጕ እያሪኰ ትጐ ጊማንድ ሽፍጥ ችጝጝ ጝኣልቨድ ጊፍ\\ue07d፤ ቈሽም ድድብጝ ድድብጝ ክርጠ ጓንድ ማልጝ ፊር\\ue07d።', 'ኣጋሊዝጘ ላው ካኽን ጘጝ ጒደነይዝ ጊማ\\ue07d ዊኑ፤ ጘጝም እድ ጣይተው እጅርድየት ቓል ሸው በር ውርቅ ፃቪጝቀ ዲቍ ፊሩ።', 'እኒዝጘም ላው ለዋዊ እጅር ተር ጘጝ ብጣይል ችጙ፤ ጘጝም ቓል በር እዲዝጘ ዲቍ ፊሩ።', 'ላው ሳምራነው እጅር ግን ጝዝ ዲቋንድ እድ ጣይተው እጅርድ ሊቨው ስፍረይል ችጙ፤ ጝት ቓላንድም ኻዝኑ።', 'ጝጐም ኣልት ዘይትዝመ ወይንዙ ሚዝዝ ጝልኻኒል ቅብስ በር ፃርቀዝ ጣጥም እፅቁ፤ ጝድዃረይልም ድቃስ ላው ኣብን ፈወነ ጝንል ፊስ ጝግል ፃቭ ኣሙዙ።', 'ጝኣምርሲዝም ሊጘ ዲናራን ፊስ ጝኒዝ ወነይዝ ይው በር፦ ‹እን እጅርድየት ክኻደረ ዳኸነ ፃቭር ኣሙዝ፤ ላየ ቈሽር ኪፍልደው ጊንዝቭ ፅብሽም ዋጥራንድ ይቕም ኪፍልጭር› ዩ።', '«ነስየ እንዛይ ሻቘ እቂስ እድ ጣይተው እጅሪዝ ፃምረ ኣቐውድ ኣውየን የጝ ተከኵ?» ዩ።', 'ወሪትት ኽግ ክንሰተድም፦ «እድየን ጝጭስ ኣርኽርኸው እጅርዳ» ዩ፤', 'እየሱስም፦ «ፈር ክትም ፊትር ጝጘ ፃቭ» ዩ።', 'እየሱስ ማርተስመ ማርያምስታጝኒል ጥወጘ', 'እየሱስም ጝክንደጢጅቅ ኣቕ ፃጛ\\ue07d ላይ ኪውትል ጥዉ፤ ጝጊስም ማርተ የነይ ላይ እውነ ጝርጝኒል ለምርች።', 'ጝርስም ማርያም ይሽትረይ ጝርስን ዊንች፤ ማርያምም ኣደረት ልኲዝ ሳይል ጐይር ጝቃልድ ወሽራ\\ue07d ዊንች።', 'ማርተ ግን ጛጭስ ዀነው ኣስልዳ\\ue07dጐስ ሰቭ ኒቒስራንስቅ ቢክንዳ\\ue07d ዊንች፤ ኣቓንስቅም እየሱስ ትጐ ተትር፦ «ኣደረወ ይስን ሰቭድቅ ይጭስ ይለ በትር ጐይራንድመ ዝም ይራ? ይት ከቭስተ ማጥንቀ ድቋር!» ይች።', 'ኣደረ ግን፦ «ማርተ! ማርተ! ክት ንቕፀው ሰቭዝቍዝ ጨጝቅሽራ\\ue07d ቢክንደኵ።', 'ኣነጚ በንዘውድ ላው ጭቝ የጝ፤ ማርያምስ ዲቈው እድልድ ማርፅርኩች፤ እኒንት ጝርጊስ ቀም ፊሰውም እጀው» ዩ።', 'ሉቃስት ወንጌል', 'ኣደረ ክንሰው ፀለውትድ', 'ላው ግርየ እየሱስ ላው ስፍረል ኣቕ ፃልያ\\ue07d ዊኑ፤ ጝፀለውትድ ኻተጘም ጝክንደጢስ ላውድ፦ «ኣደረወ ይዃንስ ጝክንደጢዝ ፀለውት ክንሰጘ ክትም ፃልይነ ማጥን ክንሽ» ዩ።', 'እልቱ ይናሚድ ግሪ ጨቨቅ ነቅ።', 'ይን ይናት ቢድለቍድዛት ይቅር ይናንትጘ፣', 'ክትም ይን ቢድልነውድየንት ይቅር ይ፤', 'ፊተነልም ድውተ፤ ይናት ጭቓይስቅ ቓዝጚ።›»', 'ቈሽም እንት ዩ፦ «ክታጊስ ወደጅ ፃየው እጅር ዊናን ጘጝ እጅርድ ኻረ ግቨሪዝ ፊር፦ ‹ይወደጅወ! ኣለቀይ ሻቘ ምጭ ኣዲሽ።', 'ላው ይፃምረ ጒደነ ዊን ይጐ ተራን ኣልሰነው ሚ ቡን› ያኒ፣', 'እድ ጝወደጅድ ኣቒል ኣቕ፦ ‹እፈ ላኽ ሽተ፤ ቢለድ ቘልፍሽኩ፤ ይቝርም ይጅቅ ኣረቲል ኽርይጝኵ\\ue07d፤ ኣቓንስቅም ጕን ነየነው ቸለቅም› ይጡመ?', 'እማንዝ የኵን፤ ጝወደጅነይዝቍዝ ጕ ይውጠ በኒዪሽ እኳ ጝት ኒዝንዛንስቅ ጕ ጘጝ በነውድቅ ይወኵ።', '«ያንም የኵን፤ ጨውጥን፤ ካታጭስም ነይሽትጡ፤ ደምዝጥን፤ ችጝትርንቅ፤ ቢለድም ኰኳዝጥን፤ ክታጭስም ቢትጡ።', 'ጨወውድቅ ለምርጡ፤ ደምዘውም ችጝጡ፤ ቢለ ኰኳዘውዝም ቢትጡ።', 'ክታማኽሊስ ኣይር ኣቕ ጝዅርድ ኻበሸ ጨዋን ቕርጘ ይወው እኩመ? ኻዘ ጨዋንስ ሲቭረ ይወውድ ኣው የጝ?', 'ዊንስ ቕሉነ ጨዋን እጭወ ክርክርጣነው ይውጡመ?', 'እደስለ ክትን ጭቕ ኣቕርን ፅብርና\\ue07d ክታቝሪዝ ቀሰው ይወነው ኣርቕርነውዝየ ሲመይቱ ክታይርድ ጝት ጨወቊዝ መንፈስ ቅዱስት ኣወሽ ኒቒስ ይዋው?»', 'እየሱስ ብየልዘቩልዝ ጋኒን ፊሰኵ ይሽተጘ', 'እየሱስም ላው ግርየ ላው ድደ እጅሪስ ዊግሳው ጋኒን ፊሳ\\ue07d ዊኑ፤ ጋኒንድ ፈት ግረም እድየን ድደ እጅርድ ዊግተነው ኪርሙ፤ ኽዝቭድም ጭቕጘ ጊርምሹ።', 'ላው ላውድ ግን፦ «ጋኒናንድ ፊሰውድ ብየልዘቩል የነው ጋኒናነ ኻልቀይዝ የጝ» ይ\\ue07d።', 'ላጥ ቈሽ ፊትንጥጘ በንጝ ሲመይስ ላው ምልክት ቓሊስጠ ማጥን ጝት ዋቕር\\ue07d።', 'ጘጝ ግን ጝታኻሰቭድ ኣርቕ እንት ዩ፦ «ላው ምጝግስት ጝስመ ጝስ ቲተቲተው ኣቐውዝየ ድዘው የጝ፤ እኒዝጘም ላው በተሰቭ ጝስመ ጝስ ቲተቲተውዝየ ሊቨው የጝ።', 'ጋኒናን ጛስመ ጛስ ቲተቲትጘውዝየ ሲጣኒዝ ምጝግስትየን ኣወይር ፀናቲ? እኒንት የውድም ክትን ይት ብየልዘቩልዝ ጋኒናንድ ፊሰኵ ይርኑዝ የጝ።', 'ቈሽስ ያን ጋኒናንድዛት ፊሰውድ ብየልዘቩልዝ ኣቐውዝየ ክታቝርድ ኣውትዝ የጝ ፊስጘውድ? ነስየ በገዘ ክታቝርድ ክታት ፊርድጥቍ።', 'ያን ጋኒናን ፊሰውድ እደረት ኻይልዝ ኣቐውዝየ ግን እደረት ምጝግስትየን ክታግል ኣልትረጘ ኣርቕጥን።', '«ላው ኻይሉ እጅር መሰሪ ከምር ጝጝንድ ሊሚደውዝየ ጝኻፍትድ ዚርፍሻውም።', 'ጝጊስ ዲቈው ኻይሉ እጅር ተር ጝት ኻቕሽ ግን ተማምንሽ ዊነው ጝመሰሪድየንት እክስ ፊሰኵ፤ ጝኻፍትድም መራቕ ላጥዝ ኣድልድለኵ።', 'ይጅቅ ኣቓውድቅ ይት ተቃውምሸኵ፤ ይጅቅ ኣኽቫውድም ቢትነኵ።»', 'እርኵስ መንፈስ እጅርል ዋጥርን ጥወነውድ', '«እርኵስ መንፈስ እጅሪስ ፋንድ ፈወነ ስፍረ ደምዝጠ ኣቝ እጀው በራኸዝ በራኸ ጅልወኵ፤ ደምዝ ደምዝ ባንድ ግን፦ ‹እንዝ ሚቅ ዊነው ይጝኒል ፊጨጚ› የኵ።', 'ዋጥር ተራንድም እድ ጝንድ ዊር የው ኣስልሽ ችጘኵ።', 'እንዝ ግረ ፊር ጝቐምቲስ ወሰቍ ላጝጠ ጭቕ ጋኒናን ፃይ ተረኵ፤ እድ ጝኒልም ጥውጝ ጐይጥቍ፤ እንዝ ግረ እድ እጅሪዙ ፅብጘድ በውገትዊስ እግርገትውድ ወሰው ኣቐኵ።»', 'እየሱስ እኒንት ዊግታ\\ue07d ሲጝቀ ኽዝቪዝ ማኽሊስ ላይ እውነ ጝርቃልድ ኣጕስ ሽር፦ «ክት መውትረይ ማፅንትሸንስመ ክት ኒቭረቍ እቍጣኒዝ ቀቫሸቍ ጛይ» ይች።', 'ጘጝ ግን፦ «ቀቫሸቍስ እደረት ቃልድ ወሽጝ ኣዚተቍድ ጛይ» ዩ።', 'የውናስት ምልክትነይድ', 'ንቕፀው ኽዝቭም ጝጐ ኣኽቭሻንድ እየሱስ እንት ዩ፦ «እን ዅለድ ጭቓ የጝ፤ ምልክት ቓልጠ በነኵ፤ ዊገድ ግን ነቭይ የውናስት ምልክትድ ኣሽጚ ላየ ምልክት ይውሽታውም።', 'የውናስ ነነውየት ኽዝቪዝ ምልክት ኣቐጘ እጅር ዅርም እን ዅለይዝ ምልክት ኣጡ።', 'ደቩቭት ንግስትየን ፍርድ ግርየዝ ኰር እን ዅለይጅቅ ጕር ጘጝ ዅለድ ፊርድቲ፤ ምላሰንድም ጚ ሰለሙንት ጥቨቭድ ወሽተ ዝቨዝ ደርቸይስ ጕር ተትርኵች፤ ዊገድ ግን እንወ! ሰለሙንቲስ ዲቈው እንል እኩ።', 'ነነውየት እቅድ ፍርድ ግርየዝ ኰር እን ዅለይጅቅ ጕጝ ጘጝ ዅለይል ፊርድጥቍ፤ ምላሰንድም ነነውየት እቅድ የውናስት ስቭክትድ ወሽጝ ንስኻ ጥውጝኵ\\ue07d፤ ዊገድ ግን እንወ! የውናስቲስ ዲቈው እንል እኩ።', 'ሰውነትዙ መቭራትነይድ', '«መቭራት ኣቭርኽዝ ስውር ስፍረል ዊንም ክቪ ኣቒል እቝረው እጅርም እጀው፤ ኣቒ ጥወቍ እቂዝቅ እትልጠ ማጥን ንየስ ሸው መቅረዚል እቝረኵ።', 'ክሰውነቲዝ መቭራትሸን ክእልሸን ጚ፤ ነስየ ክእልሸን ትኽኒ ኣርሽ ክሰውነትድቅ ብሩኽ ኣቐኵ፤ ክእልሸን ፅውዝጅነ ኣርሽ ግን ክሰውነትድቅ ጥምተው የጝ ኣቐውድ።', 'ኣቓንስቅም ክቕምትል ፅበው ብርኻንድ ጥምታየጘ ጣጝቅቅጭ።', 'ነስየ ክሰውነትድ ውርቅ ጥመ እጀው ብሩኽ ኣቐውዝየ ክዅለመነድቅ ድምቐው መቭራትድ ኣቭርቅርቃንትጘ ብሩኽ ኣጡ።»', 'እየሱስ ፈሪሳኒዝመ ወሪትት ኽግ ክንሰጢዝ ዊቅሰጘ', 'እየሱስም እኒንት ዊግት ኻተጘ ላው ፈሪሳነው እጅር እየሱስት ምዘት ዀስጠ ጝጝኒል ኣቭንወ ጭጙ፤ ጘጝም ፊር ጝጅቅ መዲል ጐዩ።', 'ፈሪሳነውድም እየሱስ ምዘት ዀነዊዝ በውገ ጝናንጣንድ ቓሪየው ኣቓንስቅ ጊርምሹ።', 'ኣደረም እንት ዩ፦ «እፈ ፈሪሳን ክታትርነ! ወኝጨይዝመ ድስቲዝዙ ዲግድ ዊር ሽርን ቓስርነኵ፤ ክታጊዝውድ ግን ጭቕትዝመ ቀመነውዝ እቻቕኩ።', 'እፈ ኻጘፃን ክታትርነ! እደረ ዲግድ ፋጥረጘ ኣቒድስ ፋጥሪየውመ?', 'ዊገድ ግን ኣቒል ፅበውድ ምፅዋት ፃቭርን ይውጥን፤ እንዝ ግረ ክታጭስ እጝቅቅ ንፅዅ ኣጡ።', '«እፈ ፈሪሳን ክታትርነ ወየው! ኣዝሙዲስ፣ ጨናዳሚስመ ላጥ ቅመማኒስቅ ኣስራት ፊስርን ይውርነኵ፤ ኣነጚ እማን ፊርደነውዝመ እደረት ቀነነውዝ በትርንኵርኑ፤ እንዛት በሪጝቀ ዊኑ እዛት ፃቨነውድ።', 'እፈ ፈሪሳን ክታትርነ ወየው! ምኵራቪስ ኪብረው ጐይተል ጐየነው፣ ኣርየ ማኽሊስም እጅርቅ ክታት ሲለም ይጠ በንርነኵ።', 'እቅ ኣርቒጝቀ ጝዲጊል ፃጝጘው ምልክት እጀው መቃቭርድ ተክርነቅ ክታትርነ ወየው።»', 'ወሪትት ኽግ ክንሰጢስም ላውድ፦ «ክንሰተወ! እንት ይር ዊግርትራንድ ቃል ይናት ዛሸነት የጝ» ዩ።', 'እየሱስም እንት ዩ፦ «ወሪትት ኽግ ክንሰጥ ክታትርነ ክታግልም ወየውተ ተርጡ፤ ምላሰንድም እቅዝ መውርሻው ፅጐወው መውር መውስርነኵ፤ ክታቕም ግን ክታላይ ኽጨውለየስ እኳ ዳቓይርነቅም።', 'ክታኣቅልድ ቍውጘቍ ነቭያታኒዝ መቃቭርድ ተስርነቅ ክታግስ ወየው።', 'ነስየ ክትን ክታኣቅልድ ሰራሽጘው ሰቪዝ ቲስመምርነቅ ሚዝረጫን የጝ፤ ጛይ ነቭያታንድዛት ቍዉⶖ፤ ክትን ቈሽ ጝታመቃቭራንድ ተስርነኵ።', 'እንዝ ማጥን እደረት ጥቨቭሸን እንት የች፤ ‹ነቭያታንዝመ ኻወርየታንዝ ጝታጐ በርስጭር፤ ጛጊስም ላው ላውድ ቍውጥቍ፤ እዳቐቍድዛት ቈሽ ሲድስጥቍ።›', 'ኣቓንስቅም ንጭት ዅለድ ኣልም ፋጥርሸት ኪርም ቅብረው ነቭያታኒዙ ብሪዝቍዝቅ ዋቕርሸው የጝ።', 'ኣቭየልት ብሪስ ኪርም መሰዊየይዝመ መቅደሲዝ ማኽሊል ቍውሽተው ዘካርያስትል ኣሽ ቅብረው ብረድቅ እን ዅለይስ ደምዝሽትጡ፤ የይ! እን ዅለድ እንዝቅ ዋቕርሸው የጝ።', 'ክትን ወሪትት ኽግ ክንሰጥ ክታትርነ ወየው! ኣርቕትዙ ቝልፍድ ፃይርንኵርኑ፤ ዊገድ ግን ክታቕምም ጥዋይርነቅም፤ ጡጥጘ በነቍድም ጊግቭርነኵ።»', 'እየሱስም ጝጊስ ፋንድ ፈሪሳኒዝመ ወሪትት ኽግ ክንሰጢዝ ጭቕጘ ተቃውምሽጛ\\ue07d ንቕፀቍ ዊቅም ዋቕርጛ\\ue07d ኣዋክቭጥጘ ኪርም\\ue07d።', 'እንት ሽጘውድም ጝምቸይስ ፈው ቃሊዝ ፃውርጥጘ በንጝ የጝ።', 'ሉቃስት ወንጌል', 'እየሱስ ጝክንደጥድዛት ጣጝቅቅሰጘዝመ በርታዘጘዝ', 'ኣይንድ ንቕፀው ሽኽዝ እጊተው ኽዝቭ ጝስመ ጝስ ደድሽጢስቅ ኣኽቭሽ ፅባ\\ue07d፣ እየሱስ በውግ ጝክንደጢዝ እንት የነው ኪርሙ፦ «ፈሪሳኒዙ ሚጨይስ ጣጝቅቅጭጥን፤ እንም ጝታተክዝኒስ ጣጝቅቅጭጥን የነት የጝ።', 'ሺፍንሸው ጋልፅሺጝቀ እዳቓውም፤ ሲውርሸውም ኣረሲጝቀ እዳቓውም።', 'ኣቓንስቅም ጥመዝ ዊግትርነውድቅ ብርኻንዝ ወይሽትጡ፤ ዲቭሽተው ጝንል ኣቕርን ቀርዝል ሽዅሽዅ ይርና\\ue07d ዊግትርነውድም ኽድም ዲጊል ይፋዝ ዊግሽጡ።', 'ክትን ይወደጃኒዝ ግን እንት የኵን፤ ስየት ቍወነው ኣሽጚ ላየ ውርም ፃቭጥጘ ቸላቍድዛት ጐውትርነ።', 'ዊገድ ግን ጐውተነውድ ኣውት ኣቐጘ ቓሊስጭር፤ ስየት ቍወት ግረ ገኻነመሳትል ማለነው ስልጣንዝ ጕርየድየንት የጝ፤ የይ! ጝት ጐውትጥን የኵን።', 'ኣኰ መልቍ ዚልቅ ፅቃ ሳንቲምዝ ቂሸቍ ኣየቍመ? ኣነጚ ጛጊስ ላይሸንት እኳ እደረ ሚራውም።', 'ክትንም ክታኣውር ፅቭቀድ እኳ እጊተው የጝ፤ እደስለስ ጐውትርነ፤ ንቕፀቍ መልቍ ዚልቂስ ክትን ዲቍርነቅ የጝ።»', 'ክርስቶስትቍዝ ሚዝርደነው ጥውሽጠጘ', 'እየሱስም ቈሽ እንት ዩ፦ «ኣይቭቲጝቀ እቀ በዊል ይማጥን ሚዝርደዊይዝቅ ያን ቈሽ እደረት መላእክታኒዝ በዊል ጝማጥን ሚዝርድጭር የኵን።', 'እቀ በዊል ይት ኻድየውድየንት ቈሽ ያንም እደረት መላእክታኒዝ በዊል ጝት ኻዲጭር።', 'እጅር ዅርት ዛንዝ ዊግተው እጅር ፅብሽ ጝበደልድ ይቅር ይሽትጡ፤ መንፈስ ቅዱስት ዛሸው እጅር ፅብሽ ግን ጝበደልድ ይቅር ይሽታውም።', 'እቅ ክታት ምኵራቪል፣ መኳንንታኒልም ኣነ ደጝጢልቅ ፍርድል ኣልስጛንድ፦ ‹ውር ዊስንቅ? ኣወሽንስ ዊግትንቅ?› ይርን ጨጝቅሽትርነ።', 'ኣይንድ ክትን ዊግትርነ ጥውሽውድቅ መንፈስ ቅዱስ ክታጭስ ድቍጡ።»', 'ኻፍታም እጅሪዙ ኻጝልትድ', 'ኽዝቪዝ ማኽሊስም ላው እጅር፦ «ክንሰተወ! ይናኣይርት እርስቲስ ይጭስም ኣድል ነይጠ ማጥን ይዝንስቀ ድቋር» ዩ።', 'እየሱስም፦ «እጅር ክተ! እርስት ኣድልጨ ማጥን ክታዲጊል ይት ደጘ ፃቭ ይመውድ ኣው የጝ?» ዩ።', 'ቈሽም እጝቅዝቅ እንት ዩ፦ «እጅርዙ ርዅየድ ኻፍትዙ ንቕፀዝ ሚስርትሸውም ኣየው፤ ኣቓንስቅም ጣጝቅቅጭጥን! ስግቭግቭ የነዊስም ክታቕምት ኣክኑጥን» ዩ።', 'እንዝ ግረ ቈሽ እኒን ተከድ እንት የው ድቁ፦ «ጭቕጘ ኣረ ኣቐው ቺዝጝ ፃየው ላው ኻፍታም እጅር ዊኑ።', 'እን እጅርድም፦ ‹ኣይር ኣረድ ድወነ ስፍረ እጀርም፤ ውር ፃቭጭር ኣጢ› ያ\\ue07d ጝእዘኒዝ ኻስቨነው ኪርሙ።', 'እግረም፦ ‹እንት ሽጨ! ይፅበቍ ቅፋንጥድቅ ፋዝ ላጥ ፈራቐቍ ቅፋንጥ ተስጨ፤ ጝግልም ይምርቲዝመ ይንቭረቲዝቅ ኣኽቭ ዱጭር።', 'ጝዝለም ይቕምት እንት ይጭር፤ ነስየ ኽየው ዚምንዝ ኣቐው ንቕፀው ኻቭት ፃይርኵሩ ፈውር ዃይ! ዝጭ! ዲስ ይ! ይጭር› ዩ።', 'እደረም፦ ‹እፈ ኻጝ እጅር ክተ! ክኒፍስሸየንት ንጭ ኻርዝ ክስየይስ ቲዝጝ ፊስጥጘ የጝ፤ እደስለ እን ኣኽቭረው ኻፍትድቅ ኣውስ ኣጠ የጝ› ዩ።', 'ጝቕምስ ኻፍት ኣኽቫ\\ue07d እደረት በዊል ድኻ ኣቐው እጅርም ጝኻትሸነድ እኒዝጘ ኣጡ።»', 'ጝታእምንትድ እደረትል ፃቨነው', 'እንዝ ግረ ጝክንደጢዝ እንት ዩ፦ «እንዝ ማጥን፦ ‹ውር ዅንቅ? ውርስ ሲርንቅ?› ይርና\\ue07d ክታስየትቍዝ ጨጝቅሽትርነ የኵን።', 'ምላሰንድም ዀነው ዅረይስ ርዅየ፣ ሲረነው ኣልቨይስም እጅርነይ ዲቈኵ።', 'ወፈጥድ ቓልጥን፤ ፊዛቍም፤ ኣይራቍም፤ ኣረ ኣኽቨነው ስፍረ ዊንም ቅፋነ እጀቍም፤ እደረ ግን ጛት ቀልቨኵ፤ እደስለ ዚልቂስመ ክትን ቺዛይርነቀ?', 'ኣየውጚ! ክታጊስ ጨጝቅሽ ጝእድሚል ላው ግርየ ቈሸነው ቸለውድ ኣው የጝ?', 'እደስለ እኒን ዊቱድ እኳ ፃቨነው ቸሊርነውዝየ ውር ማጥን የጝ ላየዝ ጨጝቅሽርነውድ?', 'እስቲ ግኒንኣቨቨድ ኣወይ ሊግዘጘ ቓልጥን! ልቕርዳውም፤ ምቃውም፤ ኣነጚ ሰለሙን እኳ እድቝጠ ጝክቭሪስቅ ጝጊስ ላይሸንትጘ ሲሪየውም።', 'እደስለ እደረ ንጭ እትል ኣምር ልየይል ሊቨው በራኸይዙ ፃቀድየንት እነሽ ሲሰው ኣቐውዝየ እምንት ጒድልድርነቅ ክታትርነ! ክታጭሰ ኣወሽ ዲቈው ሲሳው?', '«እንዝ ማጥን፦ ‹ውር ዅንቅ? ውርስ ዝይንቅ?› ይርና\\ue07d ኻስቨነውዝ ጨጝቅሽትርነ።', 'እኒዝቍዝሰ ኣልሚዝቍ ኣኽዛቫንድቅ ጨጝቅሽጘኵ ቃየው፤ ክታጭስ ግን እንቅ በንዝጠጘድ ሲመቱ ክታይርድ ኣርቐኵ።', 'ኽሽስ እደረት ምጝግስትት በንጥን፤ እኒንትቅም ቈሽ ነይጡ።', '«እፈ እጥን መጝገ ክተ! ጐውተ! እደረ ጝምጝግስትድ ነይጠ በንኩ።', 'ፃይርነውድቅ ቅይርን ድኽዝ ምፅዋት ይውጥን ኣቢታው ቡርሰዝ ፃቭርን ቓፅጘ ስ\\ue07bዊል ናዘም ዃዊል ምጝግስተሰማያቲል ኣቢታው ኻቭት ኣኽቭጥን።', 'ክታኻቭትድ ፅበዊል ክታእዘንድም ፅብጡ።»', 'ነቃቕን ሊሚደነው ጥውሽጠጘ', 'እንዝ ግረም እየሱስ እንት ዩ፦ «እጅጝዝ ከምትርን ኣስልሽርነቅ ኣጥን፤ ክታመቭራትድም ኣቭርኸው ኣነ።', 'ጝታኣደረድ ቅየኒስ ዋጥርጢስቅ ሊሚደቊዝመ ተረጘም ቢለድ ኰኳሻንድ በውዝ ብዝጥጘ ኣስልሸቍ እቂዝ ተክጥን።', 'ጝታኣደረድ ዋጥራንድ ነቃቕጝ ሊሚድጛ\\ue07d ችጝሸቍ እዛይ ኣገልጋያንድ ቀቫሸቍ ጛይ፤ እማንዝ የኵን፤ ጘጝም እጅጝዝ ከምር ጛት መዲል ጐይስ ኣግልግልጡ።', 'ኻረ ግቨሪዝ፣ ዊንም ጂርውዋኒዝ ተራንድ እነይጝ ነቃጛ\\ue07d ዊነቍ እዛይ ኣገልጋያንድ ቀቫሸቍ ጛይ።', 'ዊገድ ግን ላው ዊገ ኣርቕጥን፤ ጝን ጕርየ እጅር ቓፅጘ ዋቐ ሳዝ ተርጠት ኣርቓን፣ ጝጝንድ ሲርስራንድ ዝም የው ቓልጠም ዊኒየው።', 'ክትንም እጅር ዅርት ተረነ ግርየድ ክትን ኻልዪይርነው ግርየይዝ ኣቓንስቅ ኣስልሽርን ሊሚድጥን።»ጭቓ ኣገልጋይዝመ ቀሰው ኣገልጋይዝዙ ተከድ', 'ቢጥሮስም፦ «እኒን ተከድ ይናጭስመ ዊንስ እጝቅዝቅ የጝ ድቍረውድ?» የው እየሱስት ዋቕሩ።', 'ኣደረም እንት ዩ፦ «ነስየ ጝታዀነውድ ጛጭስ በንዘው ሰቲዝቅ ይውጠ ማጥን ኣደረድ ጝበተሰቪል ይመው ኣምንሽተው ብልኽ መጋቪድ ኣው የጝ?', 'ጝኣደረድ ዋጥራንድ እነሽ ሰራሻ\\ue07d ችጝሸው ኣገልጋይድ ቀቫሸው የጝ።', 'እማንዝ የኵን፤ እድ ኣገልጋይድየንት ጝፃየው ኻፍቲልቅ ይምጡ።', 'ዊገድ ግን እድየን ኣገልጋይድ፦ ‹ይኣደረድ ተራውም ደይጡ› የው ጝእዘኒዝ ኻስቫን፣ ቈሽም ኣርጪዝመ ብንድጢዝ ድድባ\\ue07d ዅጠ፣ ዝይጠ፣ ራጠም ኪርማን፣', 'ጝኣደረድ ጘጝ ኻልዪየው ግርየየይዝመ ጣርጥሪየው ሰቲዝ ተርጡ፤ ጝትም ሊጘትል ቀቭ ማልጡ፤ ጝእድልድየንትም ኣምንሽታቊጅቅ ፃቭጡ።', '«ጝኣደረይዝ ፍቃድድ ኣርቓ\\ue07d ፅባ\\ue07d ኣስልሻው፣ ጝፍቃድድም ፋፅማው ኣገልጋድቅ ኽየው ቕፃር ቐፃሽጡ።', 'ጝኣደረይዝ ፍቃድድ ኣርቒጝቀ ጝት ጊርፍሰው ሰቭድ ሰራሸው ኣገልጋይ ግን ዊቱ ጊርፍሽጡ፤ ንቕፀቍ ይውኑ እጅሪስ ንቕፀቍ ደምሽጡ፤ ኽየው ኽድር ለምረው እጅሪስም ኽየው ደምሽጡ።»', 'እጝቅትቅ በርን እየሱስት ቲክነነው', '«ያን ተጠውድ ዝቨትል ልየ ማልጨ የጝ፤ ነን ቃዝየዝ ኻውያን ውርጘ ዲስ ይጨ ዊኑን!', 'ዊገድ ግን ያን ጣምቅጨው ጥምቅት እኩ፤ ጘጝ ፋፅምሽጢስቅም ጭቕጘ ጨጝቅጭኩን።', 'ዝቨትል ዲግተ ነስጨም ኣየው ያን ተጠውድ፤ ኣየውም! እማንዝ የኵን፤ ያን ተጠውድ ቲዘ ቲዝጨ የጝ።', 'ነንስ ኪርም ላው ጝኒል ጛስ ጛይ ቲተቲተቍ ኣኰ በተሰቭ ዊንጥቍ፤ ሻቘድ ሊጘይጅቅ ሊጘድ ቈሽ ሻቘይጅቅ ጐርትጛ\\ue07d ቲተቲትጥቍ።', 'ኣይር ጝዅር ጅቅ ዅርም ጚር ጅቅ፣ ኵየን ጝርቝረ ጅቅ ዅረም ጝርኘ ጅቅ፣ ጣስን ጝርስሪ ጅቅ ስሪይም ጝርጣስን ጅቅ ጐርትጛ\\ue07d ቲተቲትጥቍ።', 'ዚምንድየንት ሚርምረው', 'ቈሽም ኽዝቪዝ እንት ዩ፦ «ድምነ ምራቪዝጐቱ ጅልዋንድ ቓልድርናንድ ቃዝይርን፦ ‹ስወ ሊቭጠ የጝ› ይርነኵ፤ እርግጥም ሊቨኵ።', 'እኒዝጘም ደቩቪዝጐቱ ፊግየ ጣዛንድ፦ ‹ንጭ ግርየድ ብረው ኣጠ የጝ› ይርነኵ፤ እርግጥም ኣቐኵ።', 'እፈ ተክዘጥ ክታትርነ! ዝቨዝመ ሲመይዝቱ ሚልክድ ሚርምረነው ኣርቕርነኵ፤ እደስለ እኒን ዚምንድ ወረጘ የጝ ኣርቐነ ብርነውድ?', '«ውረም እማንዝ ክታቕምስ ፊርዳይርነቅ?', 'ክቃርኘይጅቅ ደጘል ኣልተ ፊትራንድ ገነ ጒደነይል ፅብራ\\ue07d ክቃርኘይጅቅ ኣርቅሽተ ማጥን ልቕርጭ፤ ኣለዝየ ክቃርኘድ ጒዝ ደጘይል ፊስጡ፤ ደጘድም ቡሊስዝ ዲቍስ ይውጡ፤ ቡሊስድም ወኽኒ ጝኒል ድውጡ።', 'ጝዝለ ክቕፃርድ እጝቅትቅ ፋፅምቲስቅ ጝጊስ ፋርም የኵን።»', 'ሉቃስት ወንጌል', 'ንስኻዙ ጭጝን', 'ኣይንድም እቅ ተርጝ፦ «ገሊለትቍ እቅ ምስዋይት ኣልስጛ\\ue07d ሲጝቀ ቢላጠውስ ጛት ቍዉ፤ ጝታብርድም ጝታምስዋይቲጅቅ ዲቭልቁ» ይጝ እየሱስስ ጂጝዝ\\ue07d።', 'ጘጝም እንት የው ዊሱ፦ «እደስለ እንዛይ ገሊለት እቅድ እንቝጠ ሚከረ ችጘውድ ላጥ ገሊለት እቂስቅ ኽጥያትኝጥ ኣጛንስቅመ ይርንኵኑ?', 'ኣየቍም የኵን፤ ንስኻ ጥዊርነውዝየ ክትንም እጝቅቅ ጝታጘ ድዝርነቅ የጝ።', 'ዊንስ ቈሽ ሰሊዀምት ግምብድ ጝታዲጊል ፋይር ክረቍ ፅጭ ሰውጠ እቅድ እየሩሳልየም ፅበቍ እቂስቅመ ጛይ ወሰቍ ኽጥያትኝጥ ይርንኵርኑ?', 'ኣየቍም የኵን፤ ንስኻ ጥዊርነውዝየ ክትንም እጝቅቅ ጝታጘ ድዝርነቅ የጝ።»', 'እንዝ ግረ ቈሽ እኒን ተከድ እንት የው ዊግቱ፦ «ላው እጅር ጝወይኒዙ ቺዝጚል በለስ ዘፍት ቲክል ዊኑ፤ ጘጝም እቸን በለስየንቲስ ፍር ችጝጭር የው ማርቕፅ ፊራን ውርም ችጚጝቀ እዳቑ።', 'እንዝ ግረ ጝኣታክልቲዝ ሊምደተድየንት፦ ‹እንወ እኝቸን በለስየንቲስ ፍር ችጝጭር የር ሻቘ ምት ዋጥርጥራን ውርም ችጚቀር፤ ኣቓንስቅም ነስየ ቀቭር ማል፤ ውር ማጥን የጝ ዝቨድ ጨቅራ\\ue07d ፅብረውድ?› ዩ።', 'ሊምደተድ ግን፦ ‹ኣደረወ እስቲ ጝርጅልወድ ኲትኵትጪስቅ፣ ዛረም ዚስጪስቅ ንጭት ኣምረየንት በጭ!', 'ኣምር ኣሽ ፍርዝርሽ ቀሰው የጝ፤ ኣለዝየ ግን ቀቭትር›» ዩ።', 'እየሱስ ቅዳምሲንቭት ግርየዝ ጐቫጥ እውነት ቓዘጘ', 'እየሱስም ቅዳምሲንቭት ግርየዝ ላው ምኵራቭል ክንሳ\\ue07d ዊኑ።', 'ጝግልም ፅጭ ሰውጠ ምት ምሉ ርኵስ መንፈስዝ ፃይሽረይ ፅውዝጅነ እውነ ዊንች፤ ጚይም ጝርይውድ ጐቫጥ ኣቓንስቅ ጭቅ ይን ቓለነው ቸላይም ዊንች።', 'እየሱስም ጝርት ቓል በር ጭጝ፦ «እውነ ክተ ክፅውዘይስ ቓድርኵሩ» ዩ።', 'ጝናንድም ጝርዲጊል እቝሩ፤ ኣይንድም ቀጥ ይር ችብርች፤ እደረትም ሚዝየንዝች።', 'ምኵራቪዝ ኻልቀድ ግን እየሱስ ቅዳምሲንቭትዝ ቓዛንስቅ ኻልክሽ፦ «ሰቭ ሰራሽጥነ ጥውሸቍ ዋልጠ ግርቅ እኵ\\ue07d፤ ጛይ ግርቂዝ ተትርና\\ue07d ቓድጥንጚ፤ ቅዳምሲንቭትዝ ኣቓውም» የው ኽዝቪዝ ዊግቱ።', 'እየሱስም ዊስ፦ «እፈ ተክዘጥ ክታትርነ! ክትንስ ክታቢረድ ዊንም ክታድዃረድ መድሪስ እክስርን ኣቝ ዚስትርነ ፊስርነቅ ኣይርነቅመ?', 'እደስለ እኝቸን እውነየን ኣቭርኻምት ዚረ ኣቕር ፅብራ\\ue07d፣ ፅጭ ሰውጠ ምት ምሉ ሲጣንዝ እፁሽር ፅብረይሸን፣ ቅዳምሲንቭት ግርየዝ እኪተ ጥውሻውመ?» ዩ።', 'እኒንት ዊግታንድም ጝት ተቃውምሽጛ\\ue07d ዊነቍድቅ ኣይቭት\\ue07d፤ ኽዝቭድ ግን ጘጝ ሰራሸው ዲንቅሰው ሰቪዝቍዝ ዲስ ዩ።።', 'ስናፍጭ ዚረት ተክድ', 'እንዝ ግረ እየሱስ፦ «እደረት ምጝግስትየን ውር ተክረይ ጚ? ውር ጅቅስ ተክዝጭር?', 'እጅር ፊስ ጝቺዝጚል ፊዘይ ስናፍጭት ተከች፤ ጚይም ሊግዝር ዘፊዝጘ ኣቲ፤ ዚልቅድም ጝር ጫፊል ሲፍር\\ue07d» ዩ።', 'ቈሽም፦ «እደረት ምጝግስትት ውርዝ ተክዝጭር?', 'ላይ እውነ እጝቅቅ ምጭትጠ ማጥን ሸውን እቭለ ግዘን ፊስር ሊውስረው ሚጨድ ተከች» ዩ።', 'ኣፅረይ ሚረየን', 'እንዝ ግረ እየሱስ እየሩሳልየም ትጐ ፊራንድ ችጘው ኻጥመይዝመ ኪዊዝቅ ክንሳ\\ue07d ዲቁ።', 'ኣይንድም ላው እጅር ኣልት፦ «ኣደረወ! ቓደቍድ ዊትቍ እቅ ጭቝመ?» የው ዋቕሩ፤ እየሱስም እንት የው ዊሱ፦', '«ኣፅረይ ሚረየንስ ጡትርነ ማጥን ልቕርጥን፤ እማንዝ የኵን! ንቕፀቍ እቅ ጡጥጘ በንጘኵ፤ ግን ቸላቍም።', 'ጝኒዝ ወነድ ጕ ሚረድ ቘልፈት ግረ ክትን ቢዘይል ችብትርን፦ ‹ኣደረወ! ኣደረወ! ኣለቀይ ብዝ› ይርና\\ue07d ቢለድ ኰኳዝትርነ ኪርምትርንቅ፤', 'ጘጝ ግን፦ ‹ክትን ኣውታይ ኣቕርነጘ ኣርቐቅም› የው ዊስጡ።', 'ክትንም፦ ‹ክጅቅ ዅን ዝይንኵኑን፣ ይናኣርወይልም ክንስርኵሩ› ይትርነ ኪርምትርንቅ።', 'ጘጝም እንደ ገነ፦ ‹ክትን ኣውታይ ኣቕርነጘ ኣርቐቅም፤ እፈ ጭቕ ክታትርነ! እድጐ እክልጥን› ይጡ።', 'ኣቭርኻምት፣ ይሳቅት፣ ያይቈቭት፣ ነቭያታንድዛትቅም እደረት ምጝግስቲል ቓልድርናንድ ክትን ግን ቢዘይል ሊቭርን እዳቕርናንድ ኣይንድ ክትን ሊዝርና\\ue07d ክታእርቍጣንድ ገጫዝትርንቅ።', 'ንቕፀቍ እቅ ምስራቂስ ምራቪስ ሰምየኒስም ደቩቪስም ተርጝ እደረት ምጝግስቲዝ መድል ጐይጥቍ።', 'ኣቓንስቅም እገጢስ በውጥ፣ በውጢስ ቈሽ እገጥ ኣቐቍ እቅ እኵ\\ue07d።»', 'እየሱስ እየሩሳልየምት ማጥን ኻዝነጘ', 'ኣይንድም ፈሪሳኒስ ላው ላውድ እየሱስ ትጐ ተርጝ፦ «ኺረውድስ ክት ቍውጡ ደምዘኵ፤ እኒስ ጕር ፊጥ» ይ\\ue07d።', 'እየሱስም እንት ዩ፦ «እቸን ቘፅለየንስ ፊትርን፦ ‹ንጭስመ ኣምርስ ጋኒናን ፊስጭር ፅውዝጅንጥድም ቓዝጭር፤ ሸወትረ ግርየይዝም ይኻስቨውድየንት ፋፅምጭር፤ የኵ› ይርን ድቍጥን።', 'ዊገድ ግን ንጭ፣ ኣምር፣ ኣምርት ግረ፣ እየሩሳልየም ፊጭር ምላሰንድም ነቭይ እየሩሳልየምትልጚ ላየ ብጣል ክርጠ ጥውሻውም።', 'ኣቓንስቅም ክታጝንድ በድመ ኣቕ እዳጡ፤ ነስየ፦ ‹ኣደረት ሽ\\ue07dዝ ተረውድ በርክሸው የጝ› ይትርኒስቅ ይት ሊጘት ቓላይርነቅም የኵን።»', 'ሉቃስት ወንጌል', 'እየሱስ ቅዳምሲንቭት ግርየዝ ፅውዝጅነ ቓዘጘ።', 'እየሱስም ላው ቅዳምሲንቭት ግርየዝ ፈሪሳነ ኻልቅጢስ ላዊዙ ጝኒል ሚ ዅጠ ጥዉ፤ ጝግል ዊነቍድም ፃቨውድቅ ቓልጥጘ ትክ ይጝ ጝት ጝት ቓልጛ\\ue07d ዊን\\ue07d።', 'ኣይንድም ጝጊዝውድ ጝሰውነትድቅም ኣቕረው ፅውዝጅነ እጅር እየሱስት በዊል ዊኑ።', 'እየሱስም ወሪትት ኽግ ኣርቐቲዝመ ፈሪሳኒዝ፦ «ቅዳምሲንቭት ግርየዝ ፅውዝጅነ ቓዘነው ወሪትት ኽግድ ፊቅደኵመ ፍቅዳው?» የው ዋቕሩ።', 'ጛይ ግን ውርቅ ዊሲጝቀ ዝም ይ\\ue07d፤ ጘጝም ፅውዝጅነ እጅርድየንት ጝናኒዝ ፃይ ቓዝ ሲነቭትሱ።', 'እየሱስም ጝግል ጭጝሸቍ ኣብንድ ንየ ኪብረው ጐይተይል ጐይጥጘ ቀድምድምሽጛንድ ቓል፣ ጛጭስ ተከዝ እንት የው ዊግቱ።', '«ላው እጅር ክት ቅየንል ጭጝሽ፣ ቀድምድምሽር ንየ ኪብረው ጐይተይል ጐይተ፤ ምናልቫች ክጊስ ኪብረው ላየ እጅር ጭጝሽ ዊንሽ፣', 'ክታቪሉ\\ue07dትቅ ጭጘው እጅርድ ተር፦ ‹እኒን ጐይተድየንት እን እጅሪዝ ሊቅ› ይጠ የጝ፤ ክትም ኣይንድ ኣይቭትራ\\ue07d ሳ ዝጥቅ ይር ጐይትር።', 'ዊገድ ግን ጭጝሽር ፊትራንድ ሳ ዝጥቅ የው ጐይተይል ጐይ፤ ክት ጭጘው እጅርድም ተር፦ ‹ያን ቀነውወ! ጕ ንየ ኪብረው ጐይተይል ጐይ› ይጡ፤ ክትም ኣይንድ ክጅቅ ጐየቍ እቂዝቅ በዊል ኪብርትር።', 'ምላሰንድድም ጝቕምት ንየስ ንየስ ሸውድቅ ዝጥቅ ይጡ፤ ጝቕምት ዝጥቅ ሸውድቅ ግን ንየስ ንየስ ይጡ።»', 'እድ ጭጘው እጅርድየንት ቈሽ እንት ዩ፦ «ምዘትም ኣነ ድረይ ኣስልዳንድ ጛይም ጝታልቭነ ዊስጥጘ ጝታቲረዝ ጭጛይጘጘ፣ ክወደጃንድ ዊንም ክፅንድ ዊንም ክዚምዳንድ ዊንም ኻፍታመን ክግፅድ ጭጝተ።', 'ዊገድ ግን ድግስ ኣስልዳንድ ድኽድ፣ ቈማጣንድ፣ ኻካዛንድ ኻርብድ፣ ጭጝ።', 'እኒንት ፃቭርሽ በርክሽረር ኣትር፤ ጛይ ክልቭነድ ዊሰነው ኣቅም እጀቍ ኣጛንስቅ፣ ፃድቃኒዙ ክርጘይስ ጐነይዝ ኰር እደረ ክልቭነድ ዊስጡ።»', 'ኽየው ድግስዙ ተከድ', 'መዲል ጐይጝ ዊነቊስም ላውድ እየሱስ ዊግተው ዊገድ ወሽ፦ «እደረት ምጝግስቲዝ ኰር መዲል ኣልት ዀው እጅር ውርጘ ቀቫሸዋ» ዩ።', 'እየሱስም፦ «ላው እጅር ኽየው ድግስ ኣስል ንቕፀቍ እቅ ጭጙ።', 'ድረይ ዀነ ሰትድ ችጛንድም፦ ‹እጝቅቅ ኣስልሽኩ ላቝጥን ጡጥን› የው ድቍጠ ማጥን ጝኣገልጋይድየንት እድ ጭጝሸቍ እቂል እፃቑ።', 'እድ ጭጝሸቍድ ግን እዳጥጘ በንጝ፣ ጝታይታምላሰነ ፋጥርጥጘ ክርም\\ue07d፤ በውረድ፦ ‹ገነ ነን ቺዝጝ ጅቫንስቅ ጝት ቓልጨ ፊጨ የጝ፤ ኣለቀይ ቂይምሽረር› ዩ።', 'ላውድ ቈሽ፦ ‹ኣኰ ፅምር ቢል ጅቫንስቅ ጛት ፊትነር የጝ፤ ሚቻውም፤ ኣለቀይ ቂይምሽረር› ዩ።', 'ላውድ ቈሽ፦ ‹ገነ ነን እውነት ድው ኣስን ኣቓንስቅ ተጨ ቸለቅም› ዩ።', 'እፃሸው ኣገልጋይድም ጝጝን ዋጥር እን ዊገድቅ ወነይዝ ድቁ፤ ወነድም ኻልክሽ፦ ‹ለው ቃሲ! ኻትመይዝቍ ፈራቐቍ ጒደንጢዝመ ኣፀቍ ዲቈዲቈነቍ ጒደንጢዝቅ ፊጥ! ድኽድ፣ ቈማጣንድ፣ ኻርብድ፣ ኻካዛንድቅ ነስር እንል ዲ› ዩ።', 'ኣገልጋይድም ዋጥር ተር፦ ‹ኣደረወ! ክት ኣዝረውድቅ ፋፅምኩን፤ ጐይተድ ግን ገነ እቻቒየውም› ዩ።', 'ወነድም ጝኣገልጋይድ፦ ‹ይጝንድ እቻጠ ማጥን ጒደንጢልም ኣነ ኻፅሊልቅ ፊትር ችጝረቍድቅ ቓናዝር ጭጝ።', 'እዛይ በውገ ጭጝሸቍ እቂስ ላው እኳ ይድግስድ ጣማውም የኵን› ዩ።»', 'እየሱስት ቲክነናንድ ኪፍልዘው ምስዋትነትድ', 'ንቕፀው ኽዝቭም እየሱስ ጅቅ ላብጠ ፃጛ\\ue07d ዊኑ፤ ጘጝም ኽዝቪዝጐ ዋጥር እንት የው ዊግቱ።', '«ኣውማው ይጐ ተረው እጅር ፅብሽ ጚርስመ ጝኘስ፣ ጝውነስመ ጝቝርስ፣ ጝፅንስመ ጝቕምት ርዅየድቅ እኳ እዳቒጝቀ ይጊስ ዲቍስ ቀነው ኣቐውዝየ ይክንደተ ኣጠ ቸላውም።', 'ጝሚከረ ሚስቅልድየንት መውር ይግርገይል ቲክናው ኣውማው እጅርድቅ ይክንደተ ኣጠ ቸላውም።', '«ክታጊስ ላው እጅር ዲቭር ጝን ተስጠ በናን ተሰነዊስ በውገ፦ ‹ጊንዝቫንድ ኣጥቍመ ኣቓቍ?› የው ኻስቫው እጅርድ ኣው የጝ?', 'ሚስርትድ ሚስርተት ግረ ፋፅመነ ብሽ ግን ቓለቍድቅ እቘርጥቍ።', '‹እን እጅርድ ተስጠ ኪርም ፋፅመነ ቡ› ይጛ\\ue07d ቂልድጥቍ።', '«ዊንስ ቈሽ ላው ንጕስ ላየ ንጕስ ጅቅ ኣጭነ ጋጥምጠ በናን፣ ለርን ሽኽ ዊተድር ፃይ ተረው ንጕስድየንት ፅቃ ሽኽ ዊተድርዝ ማኽተነው ቸለው ኣቕሽ ጋጥመነዊስ በውገ ጐይ ማኽራውድ ኣው የጝ?', 'ጝኣቅሚዝ ንየ ኣቕሽ ግን ጝፃለትድ ገነ እክል ፅባ\\ue07d እቅ እፃቕ በውግስ እርቅ ዋቕረኵ።', 'እኒዝጘ ቈሽ ክታጊስ ጝፃየውድየንትቅ በራው ኣውማው እጅር ፅብሽ ይክንደተ ኣጠ ቸላውም።', '«ጭውጥረ ቀሰው የጝ፤ ኣነጚ ጭውጥረ ጝጣምነድ ባን ጝጣምነድ ኣወሽን የጝ ጣምሰነው ቸልሸውድ?', 'እነየው ጭውጥረድ ዘቭዝም ኣነ ዛረዝ ጣቅማው ኣቓንስቅ እለ ቢዘ የጝ ማልጘውድ፤', 'ነስየ ወሸው ቀርዝ ፃየውድቅ ወሽነ።»', 'ሉቃስት ወንጌል', 'ድዝ ችጝሸው ቢገይዝ ተከድ', 'ላው ግርየ ቀረጥ ቀቨቍዝመ ኽጥያትኝጥዝ እየሱስ ክንሳንድ ወሽጥጘ ጝጐ ኣኽቭሽጝ ተርጝ ዊን\\ue07d።', 'ወሪትት ኽግ ክንሰጢዝመ ፈሪሳኒዝም፦ «እን እጅርድ ኽጥያትኝጥድዛት ለምረኵ፤ ጛጅቅም ዀኵ» ይጛ\\ue07d ኣጕርምርምጥጘ ኪርም\\ue07d።', 'ጘጝም እኒን ተከድ ዊግቱ፦', '«ክታማኽሊስ ላ ቢቅ ፃየው እጅር ጛጊስ ላው ቢገ ድዛን ፃይጭርጝን ፃይጨድ ድሪል ማል እድየን ድዘው ቢገድየንት ችጝጢስቅ ደምዝጠ ፊረው ኣየውመ?', 'ችጛንድም ጭቕጘ ዲስ የው ጝጅውሪዝ መውር ነሰኵ።', 'ጝጝን ችጘጘም ጝወደጃኒዝመ ጝግፂዝ ላው ፃቭ ጭጝ፦ ‹ድዘው ይቢገድ ችጛንስቅ ዲስ የርኩን፤ ክትንም ዲስ ይጥን› የኵ።', 'እኒዝጘም ንስኻ ጥወነው በንዛቍ ፃይጭርጝን ፃይጨ ፃድቃኒስ ሽ\\ue07d፣ ንስኻ ጥወው ላው ኽጥያትኘዝቍዝ ሲመይስ ዲስተ ኣቐኵ የኵን።»', 'ድዝ ችጝሸው ሳንቲሚዝ ተከድ', 'እንደ ገነም እንት ዩ፦ «ቍርሸዝቍ ፅቃ ሳንቲማን ፃይረይ እውነ ፅቃይስ ላይ ሳንቲም ድዝራን መቭራት ኣቭርኽዝር ጝርጝንድ ጂዝር ችጝቲስቅ ቐናዝር ደምዝረይ ኣይረይመ?', 'ችጝራንድም ጝርወደጃኒዝመ ጝርግፂዝ ላው ፃቭር ጭጝር፦ ‹ድዝረይ ይሳንቲምሸየንት ችጛንስቅ ዲስ የርኩን፤ ክትንም ዲስ ይጥን› የች።', 'እኒዝጘም ንስኻ ጥወው ላው ኽጥያትኘዝቍዝ እደረት መላካንድ ዲስ ይጘኵ።»', 'ድዝ ችጝሸው ዅሪዝ ተከድ', 'እንዝ ግረ ቈሽ እንት ዩ፦ «ሊጘ ዅል ፃየው ላው እጅር ዊኑ።', 'ጛጊስ እጥንድየን ጚርት፦ ‹ኣየ! ክኻፍቲስ ይችጘው ይፊንተድየንት ኣድልድር ነቅ› ዩ፤ ኣይርድም ጝኻፍትድ ጝቝርስ ኣድል ይዉ።', 'እንዝ ግረ እድ እጥን እፈረድ ዊቱ ሳብጥ የጘ ኣድልሽ ችጘው ጊንዝቭድቅ ጥቅል ፃይ እለ እክል ኻግር ፊሩ፤ ጝጊስም ጝጊንዝቭድቅ ጊነዝ ማግጣ\\ue07d ቢክንዙ።', 'እጝቅትቅ ቢትን ኣብዘት እግረ እድ ኻግሪል ኽየው ኰር ጥዉ፤ ጘጝም ጭቕጘ ቺግርሹ።', 'ኣቓንስቅም ጘጝ ኻግሪዝቊስ ላው እጅርል ፊር ኣልቱ፤ እድ እጅርድም ለምር ኣሰመ ምቓ ፃቩ።', 'እፈረድም ጭቕጘ ግድርዳንስቅ ኣሰምጥድ ዅጘው ኻስረይስ ዅ ጝጊዝውድ እቻዝጠ በና\\ue07d ዊኑ፤ ኣነጚ ጝት እኳ ይወውም ችጚየው።', 'እግረ ግን እዘን ቅም እንት ያ\\ue07d ኻስቭጠ ኪርሙ፦ ‹ይርት ጝኒል ዋቐ ኣርጭጥድቅ ጛይ ሚ እቭትጝ ቲርፍዘቍድፈ! ያን ግን እንል ግድርዝ ክጨ ጕኩን።', 'ነስየስ ጕ ይርትል ፊጥ እንት ይጨ፦ ኣየወ! እደረትም ክትም ቢድልኩን።', 'ነስየ ክዅር ይሽጨ ጥውጨቅም፤ ዊገድ ግን ክኣርጪስ ላዊዝጘ ፃቭር ቓል ይጨ› ዩ።', 'እንዝ ግረ ጕ ጚርትል ፊሩ፤', 'ጚርም ጝዅር ተራንድ ገነ እለይስ ከስ ቓላንድ ገነይስጝቀ ኣርኽርኹ፤ ጝጐም ውጥያ\\ue07d ፊር ጝዅርት ቕልመድ ጣጥም ፃይ እምቑ።', 'እፈረድም፦ ‹ኣየወ! እደረትም ክትም ቢድልኩን፤ ነስየ ክዅር ይሽጨ ጥውጨቅም› ዩ።', 'ኣይርድ ግን ጝኣገልጋያንዛት ጭጝ፦ ‹ቃዚጥን ሸገ ኣልቨድ ነስርን ሲስጥን፤ ጝናኒል ቃጠ፣ ጝልኵጣኒልም ፃብጣን ዱጥን!', 'ሰወው ሲዘድ ነስርን ዝውጥን፤ ዅና\\ue07dም ዲስ ይነ።', 'እን ይዅርድ ክር ዊኑ፤ ነን ግን ቓድኩ፤ ድዝ ዊኑ፤ ነን ግን ችጝሽኩ› ዩ። ጛይም ዲስ ይጥጘ ኪርም\\ue07d።', 'ኣይንድ ጝሽ\\ue07d ኽየው እፈረድ ቺዝጝል ውላቕ ግሪ ዊኑ፤ ጝጝኒል ዋጥራንድም መሰጝቈዝመ ጅመዝዙ ድመዝ ወሹ።', 'ኣርጪስም ላውድየንት ጭጝ፦ ‹እን ወጨው ጅመድ ወረጘዙ የጝ?› የው ዋቕሩ።', 'ኣርሸድም፦ ‹ክዝን ተርኩ፤ ኪርም ጝት ዲግተዝመ ዳኽነዝ ችጛንስቅ ሰወው ሲዘ ዝውኩ› የው ድቁ።', 'ኣይንድ እድ ኽየው እፈረድ ኻልክሽ ጝኒል ጥወቅ ዩ፤ ኣይርድም ፍ ጡጠ ማጥን ጨዉ።', 'እፈረድ ግን ጚርት እንት የው ዊግቱ፦ ‹ያን እንቝጠ ዚምን በረይዝጘ ኣቕ ክጭስ ቅምጭኩን፤ ክት ኣዝረዊስቅ እግርገ የርም ኣርቐቅ፤ ክት ግን ይፃምጥጅቅ ዲስ ይጨ ማጥን ላው ወጠጢ እኳ ነይርም ኣርቓር።', 'እኒን ክዅርድ ኣቓንድ ክጊንዝቭድቅ ጝገልምጥ ጅቅ ዅ ኣብዝ ተራንድ ሰወው ሲዘድ ማልዱ› ዩ።', 'ኣይርድም፦ ‹ይዅር ቈደይ! ክት ኣራንድ ዊትርቅ ይጅቅ የጝ ፅብረውድ፤ ይውድቅ ኩ የጝ።', 'እኒን ክዝንድ ግን ክር ዊኑ፤ ነን ግን ቓድኩ፤ ድዝ ዊኑ ነን ግን ችጝሽኩ፤ ኣቓንስቅም ጭቕጘ ዲስ ይነ ጥውሸኵ› ዩ።»', 'ሉቃስት ወንጌል', 'ብልኽ መጋቪዝ ተከድ', 'እንዝ ግረ እየሱስ ጝክንደጢዝ እንት ዩ፦ «ጝጝንድ ጭሰጭሰው መጋቪ ፃየው ላው ኻፍታም እጅር ዊኑ፤ ጘጝ እጅሪዝ፣ እቅ ፊርጝ፦ ‹እኒን ክመጋቪድየን ክኻቭትድ ቢክንዘኵ› ይጝ ድቍ\\ue07d።', 'ጘጝም ጝመጋቪድየንት ጭጝ፦ ‹እን ወጨው ዊገድ ወረጘ የጝ? ነስየ ይመጋቪ ኣተ ቸላርም፤ ኣቓንስቅም ነኳን ኣሽ ጭሰጭስራንድ ሰራሽረው ይንቭረቲዝ ኺሳቭድ ኣልሽ› ዩ።', 'እድ መጋቪድም ጝእዘኒዝ እንት የው ኻልዩ፦ ‹ነስየ ይኣደረድ ይሰቪስ ፊስጠ የጝ፤ እደስለ ውር ፃቫን ቺዝጡ? ጒዝ ዃይቀጘ ኻይል እጀርም፤ ጨዋይቀጘ ቈሽ ኣይቭጠኵን።', 'ነስየ ይሰቪስ ፋንድ ይወደጃን ኣቕጝ ጝታጝንጢል ለምርጥጘ ማጥን ፃቨውድ ይቕም ኣርቕጭር› ዩ።', 'ጝኣደረይዝ ቢን ጕይጥድዛትም ላውዝ ላው ፃቭ እጝቅትቅ ጭጙ፤ በውረድየንትም፦ ‹ይኣደረዝ ኪፍልደቍ ክቢንድ ዋቐ ጛይ?› የው ዋቕሩ።', 'ጘጝም፦ ‹ላ ጭንጥ ዘይታ› የው ዊሱ፤', 'መጋቪድም፦ ‹ለው ቃሲ ኣስ ክመዝገቭድ፦ «ኣኵርጝን ጭንጥ ዘይት» ይር ጐይር ፃፍ› ዩ።', 'ላየድየንት ቈሽ ጭጝ ክቍድሰ ዋቐ ጛይ? የው ዋቕሩ፤', 'ጘጝም፦ ‹ላ ክቭቅ ዚርዋ› ዩ፤', 'መጋቪድም፦ ‹ለው ቃሲ ኣስ ክመዝገቭድ፦ «ሰውጥርጝን ክቭቅ ዚሩ» ይር ፃፍ› ዩ።', 'ኻፍታምድም እድ ኣጭቨርቫሪ መጋቪዝ ብልኽትድ ቓል ዲንቅሹ፤ እማንዝ የኵን፤ እደረት ቝሪስ ሽ\\ue07d እን ኣልሚዝ ቝርድ ጝታኽዝቪጅቅ ኣወይን ፅበነው መለዝ ብልኻን ጛይ።', 'ያንም እን ኣልሚዝ ጊንዝቭድ ኣቢታንድ ዘላልምትቍ ጝንጢል ክታት ለምርጥጘ ማጥን ጝዝ ወደጃን ፍርዝጥን የኵን።', 'ዊትቍዝ ኣምንሽተው እጅር ንቕፀቍዝም ኣምንሽትጡ፤ ዊትቍዝ ኣምንሽታውድ ግን ንቕፀቍዝም ኣምንሽታውም', 'እደስለ እን ኣልሚዙ ጊንዝቪዝ ኣምንሽቲርነውዝየ እማንተው ኻፍትድ ኣው የጝ ክታት ኣምን ነየውድ?', 'ቀብራው ኻፍቲዝ ኣምንሽቲርነውዝየ ክታውድ ኣው ነይጡ?', 'ላው ኣገልጋይ ሊጘ ኣደርጥዝ ሊንስ ቀምሸነው ቸላውም፤ ላውድ ቀን ሊጘትረድ ሽክተኵ፤ ዊንም ላውድ ኪብርዝ ሊጘትረድ ነቀኵ፤ እኒዝጘም ክትንም እደረስመ ጊንዝቭዝ ሊጘይዝቅ ቅምሸነው ቸላይርነቅም።»', 'ጊንዝቭ ቀነቍ ፈሪሳንም እን ዊገድቅ ወሽጛንድ እየሱስት ኣሽፉ\\ue07d።', 'እየሱስ ግን፦ «ክትን እቀ በዊል ክታቕምት ፃድቃን ተክዝርነኵ፤', 'እደረ ግን ክታጊዝውድ ኣርቐኵ፤ ምላሰንድም እጅርዝ ኪብረውድቅ እደረስ ነቅሸው የጝ።', '«ወሪትት ኽግዝመ ነቭያታነ መፃፋኒዝ ጣምቀተ ይዃንስ ተርጢስቅ ኣሽ ድቍሽትጛ\\ue07d ዊንጝኵ\\ue07d፤ ጝዝ ግረ ድቍሽተውድ ቈሽ እደረት ምጝግስትዙ ኣቭዝርተ ቃልድ የጝ፤ እጅር እጝቅ እደረት ምጝግስየንትል ኽየው ልቕረዝ ጥወኵ።', 'ኽጊስ ላይ ነቍጠ እኳ ሊቭራንቲስ ሽ\\ue07d ሲመይሰመ ዝቨስ ዲቍጛን ቀለኵ።', '«ጝውነት ዳቕር ላየ እውነት ድወውድቅ ሸርሙጠ የጝ፤ ቈሽም ጝርግልወይስ ዳቕርሽረየንት ድወውድቅ ሸርሙጠ የጝ» ዩ።', 'ኻፍታም እጅርዝመ ኣላዛርስ', 'እየሱስም ቈሽ እንት ዩ፦ «ጝታወየድ ጭቕጘ ኪብረቍ ሸግጥ ኣልብ ሲረው፣ ግሪ ጨቨቅም ዲስ ያ\\ue07d ሚችጘዝ ፅበው ላው ኻፍታም እጅር ዊኑ።', 'ቈሽም ጝሰውነትድቅ ልኻንዝ ዊርሽተው ኣላዛር ይሽተው ድኻ እጅር እድ ኻፍታም እጅሪዝ ጝን ሚረይል ኽሪ ዊኑ።', 'እን ድኻ እጅርድ ኻፍታሚዙ መዲስ ቲርፍ ሊቨው ፍርፋሪስ ዅጠ በና\\ue07d ዊኑ፤ ግፅጝም ተርጝ ጝልኻንድ ላፅጛ\\ue07d ዊን\\ue07d።', 'ላው ግርየ እድ ድኻ እጅርድ ክሩ፤ መላካንም ፊስጝ ኣቭርኻምት ጋቢል ጐይስ\\ue07d፤ እድየን ኻፍታምድም ክሩነ ዲቭሽቱ።', 'ሲወል ኣቕም ተሰቃይሻ\\ue07d ጭቅ የው ኣቭርኻምስመ ኣቭርኻምት ጋቢል ቈሽ ኣላዛር ጐይ እክሊስ ቓሉ።', 'ጝድመድም ኣጕስ ሸው፦ ‹ኣየ ኣቭርኻምወ! ኣለቀይ ሳቝጭ! እኒን ኻውየው ልየይዝ ተሰቃይጫ\\ue07d ኣቓንስቅ ጝዘፍርነይዝ ጫፍድ ኣቝዝ ናኽር ነስ ይላቕድ ቝስጠ ማጥን ኣላዛርትቀ ይጐ እፃቓር› ዩ።', 'ኣቭርኻም ግን፦ ‹ይዅር ቈደይ! ክት ዝቨት ዲጊል ፅብራንት ኰር ቀሰውድቅ ችጝር ዲስ ይራ\\ue07d ፅብረጘ ኣላዛር ቈሽ ጭቓ ሚከረ ለምራ\\ue07d ዊነጘ ትዝ ይ። ኣቓንስቅም ጘጝ እንል ዲስ ያ\\ue07d ሚችጘዝ ፅባንድ፣ ክት ኣራንድ ጝግል ተሰቃይሽራ\\ue07d ፅብትር።', 'እኒስቅ ላየም ቈሽ ይናስመ ክታስ ማኽሊል ኽየው ከዝጝ እኩ፤ ኣቓንስቅም ይናጊስም ኣነ ክታጊስ ከረነው ቸለውም እጀው› ዩ።', 'ጘጝም፦ ‹ኣየወ! እደስለስ ኣለቀይ ኣላዛርት ይርት ጝኒል እፃቕ!', 'ኣኰ ይፅን እኵ\\ue07d፤ ጛይም እን ስቃይ ስፍረይል ተራይጘጘ ፊር ጣጝቅቅስነ› ዩ።', 'ኣቭርኻም ግን፦ ‹ክፅንስ ሙሴት መፃፋኒዝመ ነቭያታነ መፃፋኒዝ እኵ\\ue07d፤ ጛት ወሽጝነ› ዩ።', 'ጘጝም ዊስ፦ ‹ኣየ ኣቭርኻምወ! ኣየውም፤ ላው እጅር ክርጘይስ ጕ ፊር ድቋን የጝ ኣኑሽጝ ንስኻ ጥውጘውድ› ዩ።', 'ኣቭርኻምም፦ ‹ሙሴት መፃፋኒዝመ ነቭያታነ መፃፋኒዝ ይጘውድየንት ወሺጘውዝየ፣ ላው እጅር ክርጘይስ ጕ ድቍሽም ኣምናቍም› ዩ።»', 'ሉቃስት ወንጌል', 'ኽጥያት ይቅር የነውዝመ እምንትዝ', 'እየሱስም ጝክንደጢዝ እንት ዩ፦ «እቅድ ፅጋስ ኽጥያትል ድውሰው ገቨ ተሪጝቀ እዳቓውም፤ ዊገድ ግን እድየን ፅጋሰው ገቨድ ነሰው እጅሪዝ ወየው!', 'ላው እጅር እንዛይ መልቊስ ላውድ ፅጋስ ኽጥያትል ድውሳንቲስ፣ ኽየው እጕ ቕርጘ ጝቕልመይል እፁሸጘ ባኽሪል ጥዋን ጝጭስ ቺዝጠ ዊኑ።', 'ግርየዝ ላጝጠን ቢድል እኳ ግርየዝ ላጝጠን፦ ‹ሳቝጭ› ይሽ ሳቝጭ።»', 'ኻወርየታንድም ኣደረት፦ «ኣለቀይ ይናጭስ እምንት ቈሽ» ይ\\ue07d።', 'ኣደረም፦ «ስናፍጭ ፍረት ኵተ እምንትት ፃይርነቅ ኣቕርናን እን ጥሉሰድ፦ ‹እኒስ ኒቅልሽር ባኽር ማኽሊል ቲክልጭ› ይርናን ክታጭስ ኣዚትጡ» ዩ።', 'እንዝ ግረ ቈሽ እንት ዩ፦ «ክታማኽሊስ ኣርሸ ዊንም ምቓ ቃፅረው እጅር ዊናን እድ ኣርሸድ ኵኑ ጝሰቪስ ዋጥራንድ፦ ‹ለው ቃሲ መዲል ኣልጭ› የው እጅር እኩመ?', 'ኽሽስ፦ ‹ፈር መድድ ኣልሽ! ያን ዅጪስ ዝቅጪስቅ ከምትር ዀሽ! እንዝ ግረ ቈሽ ክት ዃይ› የው ኣየውመ?', 'እደስለ እድ ኣርሸድ ኣዚተውድየንትቅ ፋፅማን ጝኣደረድ ሚዝየንዝጡመ ይርን ኵርኑ?', 'እኒዝጘ ቈሽ ክትንም ኣዚትርነውድቅ ፋፅምርን በትርን፦ ‹ሰራሽነ ጥውሸውድ ፋፅኑንጚ፤ ይን ጣቅማይነቅ ኣገልጋያን የጝ› ይጥን።»', 'እየሱስ ፅቃ ለምፃማን ቓዘጘ', 'እንዝ ግረ እየሱስ እየሩሳልየም ፊራንድ ሰማርየስመ ገሊለት ድምበሪዝ ፃቭ ዲቁ።', 'ላይ ኪውትል ጥወጘም ፅቃ ለምፃማን ጝጐ ተርጝ እክልድጝ ችብር\\ue07d።', 'ጝታድመድም ኣጒስ ሽጝ፦ «እየሱስ ኣደረወ! ኣለቀይ ይናጭስ ኣርኽርኽ» ይ\\ue07d።', 'ጘጝም ጛት ቓል፦ «ፊጥን ክታሰውነትድ ካኽነጣኒዝ ቓሊስጥን» ዩ።', 'ጛጊስም ላውድ ጝለምፂስ ቓደጘ ቓላንድ ጝድመድ ኣጕስ ሸው እደረት ሚዝየንዛ\\ue07d ዋጥር ተሩ።', 'እየሱስትም ሚዝየንዛ\\ue07d ጝልኲል ደፋሽ ሲግዱ፤ እን እጅርድም ሳምራነው እጅር ዊኑ።', 'እየሱስም፦ «ለምፂስ ቓደቍድ ፅቃ እቅ ኣየቍቃ? እደስለ ፃይጨድ ኣውል እኵ\\ue07d?', 'እን ቀብራ ኻግሩ እጅሪዝለ እደረት ሚዝየንዝጠ ዋጥር ተረው እጅር እጀውም የነት የጝ» ዩ።', 'እንዝ ግረ እጅርድየንት፦ «ፈር ክእምንትድ ቓዝኩ ጕ ፊጥ» ዩ።', 'እደረት ምጝግስትየንት ተረነድ', 'ላው ግርየም ፈሪሳንድ፦ «እደረት ምጝግስትየን ተትረውድ ኣውን የጝ? ይጝ እየሱስት ዋቕር\\ue07d፤ ጘጝም፦ «እደረት ምጝግስትየን ተትረውድ ቓልሽተው ምልክትዝም ኣየው።', 'ቈሽም፦ ‹እንወ! እንል ጚ› ዊንም፦ ‹እድል ጚ› ይሽታይም፤ እንወ! እደረት ምጝግስትየን ክታማኽሊል የጝ ፅብረውድ» ዩ።', 'ጝክንደጢዝም እንት ዩ፦ «እጅር ዅር ይናጅቅ ኣቐቝ ግርቂስ ላየንት እኳ ውረ ቓልናንፈ! ይርነው ግርየ ተርጡ፤ ኣነጚ ቓላይርነውቅም።', 'እቅ፦ ‹እንወ! እንል የጝ፤ ዊንም እድል የጝ› ይጥቍ፤ ኣቕሽም ጛይ ይጘውድየንት ኣምንድርነቅ፤ ቲክንድርነቅም።', 'መቭረቅ ሲመይስ ምርቃንድ እለ ደዪስ ኪርም እለ ደዪል ኣሽ እትላንትጘ፣ እጅር ዅር ተራንትኰርም ልክ እኒዝጘ ኣጡ።', 'ዊገድ ግን እንቅ ኣቐነዊስ በውገ እጅር ዅር ኽየው ሚከረ ለምርጠ፣ እን ዚምኒዝ ዅለይዝም ነቅሽ ሽክሽጠ ጥውሸኵ።', 'ነዅት ዚምኒዝ ኣቐዊዝጘ እጅር ዅር ተራንድም ልክ እኒዝጘ ኣጡ።', 'ነዅ ሚርክቪል ጥዋንት ግርየይል ኣሽ እቅ ዅጛ\\ue07d፣ ዝይጛ\\ue07d፣ ገባሽጛ\\ue07d ዊን\\ue07d፤ ኣይንድ ድሰው ኣቝ ተር እጝቅትቅ ድሱ።', 'እንደ ገነ ቈሽ ለውጥት ዚምኒዝ ኣቐዊዝጘ ኣጡ፤ ኣይንድ እቅ ዅጛ\\ue07d፣ ዝይጛ\\ue07d፣ ቅይጛ\\ue07d፣ ጅቭጛ\\ue07d፣ ኣታክልት ቲክልጛ\\ue07d፣ ጝን ተስጛ\\ue07d ዊን\\ue07d።', 'ዊገድ ግን ለውጥ ሰደውምቲስ ፈው ግርየይዝ ልየዝመ ዲንዝ ሲመይስ ሊቭ እጝቅትቅ ድሱ።', 'እጅር ዅር ተራንትኰርም እኒዝጘ ኣጡ።', 'ኣይንት ግርየይዝ ኽድም ዲጊል ዊነው እጅር ኽድም ኣቒል ፅበቍ ጝጐዝድ ጒጠ ሳ ጊሚነ፤ ቺዝጝል ግርየውም ጝጝኒል ዋጥሪነ።', 'ለውጥት እውነት ትዝ ይጥን!', 'ጝርዅየሸንት ቲርፍዝጠ በነውድቅ ድስጡ፤ ጝርዅየሸንት ዲቍስ ይወውድቅ ቲርፍዝጡ።', 'ኣይንት ኻርሸንስ ሊጘ እቅ ላው ኣረትል ኽሪጥቍ፤ ጛጊስ ላውድ ፊስሽትጡ፤ ሊጘትረድ እዳጡ የኵን።', 'ሊጘ እቍን ላው ኣቕጝ ዛጥቍ፤ ጛጊስ ላይሸን ፊስሽትቲ፤ ሊጘትረየን እዳቲ።', 'ሊጘ እቅ ላው ቺዝጝል ላብጠ ዊንጥቍ፤ ጛጊስ ላውድ ፊስሽትጡ ሊጘትረድ እዳጡ።»', 'ጝክንደጥድም፦ «ኣደረወ ኣውላ?» ይጝ ዋቕር\\ue07d፤', 'ጘጝም ጥምብ ፅበው ስፍረይል ኣሞጥ ኣኽቭሽጘኵ ዩ።', 'ሉቃስት ወንጌል', 'እንዝ ግረ እየሱስ ሲዙሪጝቀ ዊትርቅ ፃልየነው ጥውሽጠጘድ ክንስጠ በን ጝክንደጢዝ እኒን ተከድ ድቁ።', '«ላይ ኻትመትል እደረት ጐውታው፣ እጅርም ኣይቭታው ላው ደጘ ዊኑ።', 'ጚ ኻትመየንትል ፅብረይ ላይ ልጀጊርድ ቈሽ ዊንች፤ ጚይም እን ደጘይል ተትራ\\ue07d፦ ‹ይቃርኘይጅቅ ጨቅን ፃቀር የጝ፤ ኣለቀይ ፍርድ ነቅ› ይራ\\ue07d ዊንች።', 'ጘጝ ግን ፍርድ ይዊጝቀ እክሰው ግርየ ዲቍሱ፤ እግረ ግን እንት የው ኻስቩ፦ ‹ውርም እኳ እደረት ጐውጠቅ፣ እጅርም ኣይቭጠቅ ኣቓን።', 'እኝቸን ልጀጊርድሸን ኒዝንዝራንስቅ ፊርጥ በጨጚ፤ ኣቒየውዝየ ግን ዋጥርጥርዳ\\ue07d ሲለስተ ጚ› ዩ።»', 'ኣደረም ዊስ፦ «ጭቓ ደጘድ ዊግተውድየንት ኣስክስጥን።', 'እደስለ እደረ ኻር ጊርቅ ጝት ጨወቍ ጝምርፃኒዝ ፊርዳውመ? ቸለል የውስ ጛት ከቨነዊስ ደይጡመ?', 'ደዪጝቀ በውዝ ፊርድጡ የኵን፤ ዊገድ ግን እጅር ዅር ተራንት ኰር ዝቨቲስ እምንት ችጝጡመ ኣጢ? ዩ።»', 'ፈሪሳነው እጅርዝመ ቀረጥ ቀቨው እጅርዝ ተከድ', 'ቈሽም፦ «ይን ፃድቃን» ይጝጛ\\ue07d ማክኽሸቊዝመ ላጥድ ነቀቍ እቂዝ እኒን ተከድ ዊግቱ፦', '«ሊጘ እቅ ፃልይጥጘ መቅደሲል ፊር\\ue07d፤ ላውድ ፈሪሳነው፣ ላውድ ቈሽ ቀረጥ ቀቨተ ዊኑ።', 'ፈሪሳነውድ ችብር ጝእዘኒዝ እንት ያጕ ፃልዩ፦ ‹እደረወ! ያን ላጢዝጘ ቀመተም፣ ኣመፅኘም፣ ሸርሙጠም፣ ኣይቀር ኣቓንስቅ ክት ሚዝየንዘኵን፤ ኽሽም እን ቀረጥ ቀቨተይዝጘ ኣይቀር ኣቓንስቅ ሚዝየንዘኵን።', 'ሸወጭዝ ሊጘ ግርቅ ፃመኵን፤ ችጘዊስቅ ኣስራት ይወኵን› ዩ።', 'እድየን ቀረጥ ቀቨተድ ግን እክልት የው ችብሩ፤ ጭቅ የው እኳ ሲመይት ቓልጠ ዲፍሪየውም፤ ዊገድ ግን ጝእዘንድ ድቝላ\\ue07d፦ ‹ኣደረወ! ያን ኽጥያትኘድየንት ሳቝጫ› ያ\\ue07d ዊኑ።', 'እማንዝ የኵን፤ እድ ፈሪሳነዊስቅ እን ቀረጥ ቀቨተድ ፃድቅ ኣቕ ፊሩ፤ ምላሰንድ ጝቕምት ንየስ ንየስ ሸውድቅ ዝጥቅ ይጡ፤ ጝቕምት ዝጥቅ ሸውድቅ ግን ንየስ ይጡ።»', 'እየሱስ ኽፃናታን በርከጘ', 'እየሱስ ጝናንጣንድ ጝታዲጊል እቝር በርክጠ ማጥን እቅ ኽፃናታን ጝጐ ነስ\\ue07d፤ ጝክንደጥድ ግን እኒንት ቓልጛንድ እቅድዛት ቃርሽ\\ue07d።', 'እየሱስ ግን ኽፃናታንድዛት ጝጐ ጭጝ፦ «ኽፃናታን ይጐ ተርጥጘ ማጥን ጊግቭትርነ፤ ምላሰንድም እደረት ምጝግስትየን እንዛት ተከቊዝ ጚ።', 'እማንዝ የኵን፤ እደረት ምጝግስትየንት ኽፃንዝጘ ለምራውድቅ ጝርግል ጥዋውም» ዩ።', 'ኻፍታም ኣይዅዳነ ኻልቀይዝ ዋቕረ', 'ኣይዅዳነ ኻልቅጢስም ላውድ፦ «ቀሰው ክንሰተወ! ዘላልምዙ ርዅየ ችጝጨ ማጥን ውር ፃቭጨ?» የው እየሱስት ዋቕሩ።', 'እየሱስም፦ «ወረጘ የጝ ቀሰው ይረውድፈ! ላው እደረትለ ቀሰውም እጀው።', 'ትዛዛንድ ኣርቕረኵ፤ ጛይም፦ ‹ሻርሙጥተ፤ ቁተ፤ ስ\\ue07dተ፤ ኻሽትዝ ሚዝርድተ፤ ኪር ክኘት ኪብርዝ፤› የቍድ ጛይ» ዩ።', 'ጘጝም፦ «እንዛትስ ገነ መሉሲጝቀ ኪርም ፋፅምኩን» ዩ።', 'እየሱስም እኒንት ወሻንድ፦ «እደስለስ ገነ ላይ እዳቕርኵች፤ ክፃይረው ኻፍትድቅ ቂይር ድኽዝ ይይ፤ ምጝግስተሰማያትስም ኻቭትዙ መዝገቭ ችጝትር፤ ጝዝለ ተትር ይት ቲክን» ዩ።', 'እጅርድ ግን ኽየው ኻቭት ጕርየ ዊናንስቅ እኒንት ወሻንድ ጭቕጘ ኻዝኑ።', 'እየሱስም እጅርድ ኻዝነጘ ቓል፦ «ኻፍታማንዝ እደረ ምጝግስትል ጥወነውድ ውርጘ ቺግርዘው የጝፈ!', 'ኻፍታም ምጝግስተሰማያት ጥዋንትሽ\\ue07d ግምለ ሚርቨዙ እልዝ ጭልቓን ቀለኵ» ዩ።', 'እንት ያንድ ወሸቍ እቅድም፦ «እደስለ ኣው የጝ ቓደነው ቸለውድፈ!» ይ\\ue07d።', 'እየሱስ ግን፦ «እጅርዝ ቸልሻው ዊገድየን እደረስ ግን ቸልሸኵ» ዩ።', 'ቢጥሮስም፦ «እንወ! ይን ይናፃይነውድቅ በርን ክት ቲክኑን» ዩ።', 'እየሱስም፦ «እማንዝ የኵን፤ እደረት ምጝግስትት ማጥን የው ጝጝንድ፣ ዊንም ጝውነት፣ ዊንም ጝፅንት፣ ዊንም ጝኣቅልድ፣ ዊንም ጝቝርት በረው እጅር፣', 'እን ዚቭኒዝ ንቕፀው ኣፅቨ፣ ተረው ዚቭኒዝ ቈሽ ዘላልምዙ ርዅየ ለምራው ኣውማውም እጀው» ዩ።', 'እየሱስ ጝክርጘይዝቍዝ ሸወት ዊግተጘ', 'እየሱስም ፅጭ ሊጘድ ጝጐ ኣልስ እንት ዩ፦ «ነስየ እየሩሳልየም ፊርንቅ፤ እጅር ዅርት ማጥን ነቭያታኒዝ ፃፍሸውድቅ ጝግል ፋፅምሽጡ።', 'ጘጝም ኣኽዛቫነ ናኒል ዲቍሽት ይውሽትጡ፤ ጛይም ጝት ቂልድጥቍ፤ ገልታዝጥቍ፤ ጝዲጊልም ጝታብፅቕንድ ትፍ ይጥቍ፤ ጝዝለም ጊርፍጝ በርጝ ቍውጥቍ።', 'ኣነጚ ሸወትረ ግርየይዝ ክርጘይስ ጕጡ» ዩ።', 'ጝክንደጥድ ግን እንቝጥጘ ዊቂስቅ ላውድም ቲዚየቍ፤ ጘጝ ዊግተው ዊገድ ጛጊስ ሲውርሻንስቅ ውር ዊግተጘ እኳ ኣርቒየቍም።', 'እየሱስ ኣያሪኰስ ላው ኻርቨ ቓዘጘ', 'እየሱስ እያሪኰ ትጐ ኣልታንድ ላው ኻርቨ እጅር ምፅዋት ጨዋ\\ue07d ጒደን ደዪይል ጐይ ዊኑ።', 'ጘጝም ጝጋቢዝ ዲቈው ንቕፀው ኽዝቭዝ ድመድ ወሻንድ፦ «እን ጃጃተድ ወረጘ የጝፈ? የው ዋቕሩ።', 'እቅድም፦ «ናዝሪትቱ እየሱስ እንዝ ዲቋ\\ue07d የጝ» ይጝ ድቍ\\ue07d።', 'ጘጝም፦ «ዳዊትት ዅር እየሱስወ! ኣለቀይ ሳቝጭ» ያ\\ue07d ቓፁ።', 'ቀድምጝ በው በዊል ፃጝጛ\\ue07d ዊነቍ እቅድም፦ «እፈ ዝም ይ» ይጝ ቃርሽ\\ue07d፤ ጘጝ ግን ጝድመድ ኣጒስ ሸው፦ «ዳዊትት ዅርወ! ኣለቀይ ሳቝጭ» ያ\\ue07d ቓፁ።', 'እየሱስም ችብር፦ «ይጐ ነስጥን» የው ኣዙ፤ ኻርቨድም ጝጐ ኣልታንድ፦', '«ውር ፃቭጨ በንረኵ?» የው ዋቕሩ፤', 'ጘጝም፦ «ኣደረወ! ቓለነው በነኵና» ዩ።', 'እየሱስም፦ «ቓል! ክእምንትድ ቓዝኩ» ዩ።', 'ኻርቨድም ኣይንድ ጝእልጣንድ ቢትጝ ጫቓለነው ቸሉ፤ እደረትም ሚዝየንዛ\\ue07d እየሱስት ቲክኑ፤ ኽዝቭድም እጝቅ እኒንት ቓላንድ እደረት ሚዝየንዙ።', 'ሉቃስት ወንጌል', 'እየሱስም እያሪኰ ኻትመይል ጥው በር ጝዝ ዲቍ ፊራ\\ue07d ዊኑ።', 'ጝግልም ጝሽ\\ue07dድ ዘኪወስ ይሽተው ላው ኻፍታም እጅር ዊኑ፤ ጘጝ እጅርድ ቀረጥ ቀቨቍዝ ኻልቀ ዊኑ።', 'ጘጝም፦ «እየሱስ ኣውየን ኣጢ» ያ\\ue07d ጝት ቓልጠ በና\\ue07d ዊኑ፤ ዊገድ ግን ጝሊግዝድ እጅጝ ዊናንስቅ፣ ኽዝቭድም ጭቕጘ ንቕፀው ዊናንስቅ፣ ቓለነው ቸሊየውም።', 'ኣይንድም እየሱስ ዲቈው ጒደነድ ጝጐቱ ዊናንስቅ፣ ኽዝቭድየንት ዲቍ በዊል ውጥያ\\ue07d ፊር ጝት ቓልጠ ማጥን ላው ጥሉሰ ዘፍል ፉ።', 'እየሱስም ጝግል ችጛንድ ጝቕልመድ ንየ ጭቅ የው ዘኪወስት ቓል፦ «ዘኪወስ! ንጭ ክጝን ግርቅጨ ጥውሸኵ፤ ዘፊስ ጊም ቃዚ» ዩ።', 'ዘኪወስም በውዝ ጊም እየሱስት ጝጝኒል ዲስተዝ ለምሩ።', 'ጝግል ዊነቍ እቅድ ግን እኒንት ቓልጛንድ፦ «እን እጅርድ ኽጥያትኘ እጅርዝ ጝንል ኣቭንወ ጥዉወይ» ይጛ\\ue07d ኣጕርምርምጥጘ ኪርም\\ue07d።', 'ዘኪወስ ግን ችብር ኣደረ እየሱስት፦ «ኣደረወ! ነስየ ይፃቀው ኻፍቲስቅ ግቨርድ ድኽዝ ይውጭር፤ ኻሽትዝ ቀመው ፅብሽም ሲዘ ኣፅቨ ፃቭ ዊስጭር» ዩ።', 'እየሱስም፦ «ንጭ እን ጝኒል ቓድት ኣቑ፤ ምላሰንድም እን እጅርድ ቈሽ ኣቭርኻምት ዅር የጝነ።', 'እጅር ዅርም ድዘውድ ደምዝጠ ቓዝጠም የጝ ተረውድ» ዩ።', 'ፅቃ ኣገልጋያኒዝ ተከድ', 'እቅድ እኒንት ወሽጛ\\ue07d ሲጝቀ እየሱስ ላው ተከ ድቁ፤ ምላሰንድም ጘጝ እየሩሳልየም ችጝጠ ጓንስቅ፣ እቅ ቈሽ እደረት ምጝግስትየን ነን እልትዝ ኪርምሽቲ ይጝ ዊንጛንስቅ የጝ።', 'ኣቓንስቅም እንት ዩ፦ «ላው ሽም እጅር ንግስነ ለምር ተርጠ እክል ኻግር ፊሩ።', 'እንዝ ማጥን ጝኣገልጋያኒስ ፅቃድ ጭጝ ጝታይተእጝቅዝቅ ፅቃ ፅቃ ምናን ይው፦ ‹ዋጥር ተጪስቅ እንዛዝ ኒግጥን› ዩ።', 'ጝኻግሪዝቍ እቅድ ግን ጝት ቀናቍ ዊንጛንስቅ፦ ‹እን እጅርድ ይናዲጊል ኒግስጠ በናይነቅም› ይጝ ጘጝ ፊረት እግረ እፃ በርስ\\ue07d።', '«እድ ሽምድየን ግን ንግስነድ ለምር ተረጘ ለምርጘቍ ጊንዝቫኒዝ ዋቐ ኣጠ ቲርፍዝጘጘ ኣርቕጠ በን ጝኣገልጋያንድዛት ጭጝሱ።', 'በውረ ኣገልጋይድም ኣልት፦ ‹ኣደረወ! ነይረቍ ፅቃ ምናናኒዝ ኒግጥ እንወ ፅቃ ምናናን ቲርፍዝኩን› ዩ።', 'ኣደረድም፦ ‹ኣምንሽትረር ኣገልጋይ ክተ! ቀሰው ፃቭርኵሩ፤ ዊትቍዝ ኣምንሽትራንስቅ ያን ቈሽ ፅቃ ኻትምጥል ይምኩን› ዩ።', 'ሊጘትረ ኣገልጋይድም ኣልት፦ ‹ኣደረወ! ነይረቍ ምናናኒዝ ኒግጥ እንወ ኣኰ ምናናን ቲርፍዝኩን› ዩ።', 'ኣደረድም፦ ‹ኣምንሽትረር ኣገልጋይ ክተ! ቀሰው ፃቭርኵሩ፤ ዊትቍዝ ኣምንሽትራንስቅ ያን ቈሽ ኣኰ ኻትምጥል ይምኩን› ዩ።', '«ላየ ኣገልጋይድም ኣልት፦ ‹ኣደረወ! ክነይረቍ ክቍርሻንድ ፃርቀዝ ቓጭል እቝርኩን ኣስ።', 'ምላሰንድም ክት እቝሪረውድ ፊስረር፣ ፊዚረውድም ኣይርደር ጨካኝ እጅር ኣራንስቅ ጐውጡን› ዩ።', 'ኣደረድም፦ ‹እፈ! ጭቓ ኣገልጋይ ክተ! ክቕም ዊግትረው ቃሊዝ ፊርድጭር፤ ያን እቝሪቀውድ ፊሰር፣ ፊዚቀውድ ኣይረር፣ ጨካኝ እጅር ኣቐጘ ኣርቕረውዝየ፦', 'ይጊንዝቫንድ ተጥ ጝታትርፋኒጅቅ ፊስጨ ማጥን ውረ ላጥ ኒግረቍዝ ይዊረር?› ዩ።', 'ኣደረድም ጝግል ችብርጝ ዊነቊድዛት፦ ‹ጝቍርሻንድ ጕይርን ፅቃ ቍርሻን ቲርፍዘዊዝ ይውጥን› ዩ።', 'ጛይም፦ ‹ኣደረወ! ጘጝ ቃል ፅቃ ቍርሻን ፃይኩ› ይ\\ue07d።', 'ኣደረድም፦ ‹ፃየዊዝ ይውሽትጡ፤ እጀዊዝ ግን እድ ፃይ ዊነውድ እኳ ፊስሽትጡ።', 'እዛይ ጝታዲጊል ኒግሳይቀጘ ሽክተውቍ ይፃለታንድ ግን እንል ይበዊል ነስርን ቁጥን› ዩ።»', 'እየሱስ እኒን ተከድ ዊግተት ግረ እየሩሳልየም ፋንድ ጝክንደጢዝ በው በዊል ፃጛ\\ue07d ዊኑ።', 'እየሱስ ኽየው ክቭርዝ እየሩሳልየም ጥወጘ', 'እየሱስም ደቭረ ዘይት ኣበይዝ ጋቢል ችጝሸቍ በተፋግየ ቢታንየ የነቍ ኪቋኒል ችጛንድ ጝክንደጢስ ሊጘድ እንት የው እፃቑ፦', '«ክታበዊል ችጝሽረይ ኪውሸንትል ፊጥን፤ ጝርግል ችጝርናንድም ገነ ኣውማውቅ ድቃሪነው ድዃር እወል ችጝትርንቅ፤ ጝት እክስርን እንጐ ነስጥን።', 'ኣውማው እጅር፦ ‹ውር ፃቭትርነ የጝ እክስርነውድ? የው ዋቕርሽ፦ ‹ኣደረ በናንስቅ የጝ› ይርን ዊስጥን።»', 'እፃሸቍድም ፊርጝ እጝቅትቅ ልክ እየሱስ ድቈጘ ችጝ\\ue07d።', 'እወልድ እክስጛንድም ወንድ፦ «ውር ፃቭትርነ የጝ እክስርነውድ?» ይጝ ዋቕር\\ue07d።', 'ጛይም፦ «ኣደረስ በንዛንስቅ የጝ» ይጝ ዊስ\\ue07d።', 'እወልድየንትም እየሱስትል ነስ\\ue07d። ጝታፃርቅጥድም እወሊዝ ዲጊል ጒዝጕዝጝ እየሱስት ድቃስ\\ue07d።', 'እየሱስም ፊራንድ እቅድ ጝበው በዊል ዲቍጛ\\ue07d ጝታኣልብድ ጒደነይል ወፃጛ\\ue07d ዊን\\ue07d።', 'እየሩሳልየም ኻትመይል ጥውጠ ጣቅራንድም ደቭረ ዘይት ኣበይዝ ቍልቍለድ ጊማ\\ue07d ዊኑ፤ ኣይንድ ጝት ቲክንጛ\\ue07d ዊነቍ እቅድቅ ጘጝ ፃቨቍ ታምራንድዛትቅ ቓልጛንስቅ ዲስተዝ ክርጛ\\ue07d፣ ጝታድመድ ኣጒስ ሽጝ እደረት ሚዝየንዝጛ\\ue07d ዊን\\ue07d።', '«እደረት ሽ\\ue07dዝ ተረው ንጕስ በርክሸው የጝ፤ ሲመይስ ዲግተ፣ ክብርም ኣርያም ፅበው እደረስ ኣነ» ይጛ\\ue07d ዊን\\ue07d።', 'ኽዝቪዝ ማኽሊል ዊነቍ ላው ላው ፈሪሳንድ ግን፦ «እፈ ክንሰተወ! ክክንደጥድዛት ዝም ሽ» ይ\\ue07d።', 'ጘጝም፦ «ጛይ ዝም ይጝሽም እኳ ቕርጝድ ቓፅጥቍ የኵን» ዩ።', 'እየሱስ እየሩሳልየምት ማጥን ሊዘጘ', 'እየሱስም እየሩሳልየም ችጛንድ ኻትመየንት ቓል እንት ያ\\ue07d ሊዙ፦', '«ክዲግተድየንት ነሰው ዊገድየንት ውረ ንጭ ክት ኣርቕር ዊንዳንፈ! ነን ግን ክእልጣኒስ ሲውርሽኩ።', 'ክፃለታንድ ኻፅር ኻፅርጝ ክጅልወድ ኪብጝ እንዝም እድዝም ክት ጨጝቅዝጘው ግርየ ተርጡ።', 'ክስመ ክኣቒል ፀበቍ ክቝሪዝም ብጢጅቅ ዲብልቅጥቍ፤ ክስፍረይስ ፋይሪጝቀ እዳቐው ቕርጘ ዊናውም፤ እንቅ ኣቐውድ እደረ ክት ገቭስጠ በነው ግርየድየንት ኣርቐነው ብራንስቅ የጝ።»', 'እየሱስ መቅደስ ጝኒል ኣቕጝ ኣርይደቍድዛት ጅግዘጘ', 'እንዝ ግረ እየሱስ መቅደስ ጝኒል ጥው ጝግል ኣቕጝ ኣርይድቍድዛት ጅግዝጠ ኪርሙ።', 'እንት የውም ዊግቱ፦ « ‹ይጝንድ ፀለውትዙ ጝን ኣጡ› ይሽት ፃፍሽኩ፤ ክትን ግን ቓፅጝዙ ጋ ፃቭርኑ» ዩ።', 'ግሪ ጨቨቅም መቅደሲል ክንሳ\\ue07d ዊኑ፤ ካኽነጣነ ኻልቅጢዝመ ወሪትት ኽግ ክንሰጢዝ፣ ላጥ ኽዝቪዝ ሽመቅልድም ኣቕጝ፣ ጝት ቁጥጘ ደምዝጛ\\ue07d ዊን\\ue07d።', 'ዊገድ ግን ኽዝቭድ እየሱስት ወሽጠ ጝእዘንድ ሲቅልሽ ዊናንስቅ ፃቨነው ገቨ ብ\\ue07d።', 'ሉቃስት ወንጌል', 'እየሱስት ስልጣኒዝቍዝ ኣልተው ዋቕረ', 'ላው ግርየ እየሱስ መቅደሲስ ኽዝቭድ ክንሳ\\ue07d ወንጌልም ሲቭካ\\ue07d ዊኑ፤ ኣይንድም ካኽነጣነ ኻልቅጢዝመ ወሪትት ኽግ ክንሰጢዝ፣ሽመቅልድም ኣቕጝ ጝጐ ተር\\ue07d።', 'ጝትም፦ «እስቲ ድቍ፤ እንዛት ፃቭረውድ ውር ስልጣንዝ የጝ? እንዛት ፃቭተ ማጥንስ ክጭስ ስልጣን ነየውድ ኣው የጝ?» ይጝ ዋቕር\\ue07d።', 'እየሱስም ዊስ፦ «ያንም ክታት ላው ዊገ ዋቕርጨር ፈርጥን እስቲ ዊስጥን!', 'ይዃንስት ጥምቅትድ እደረቲስመ ዊንስ እጅሪስ ዊኑ?» ዩ።', 'ጛይም ጛስ ጛይ እንት ይጝ ማኽርኽሽ\\ue07d፦ «እደረቲስ የጝ ይናን፦ ‹እደስለ ውረ ጝት ለምሪርነቅ?› ይጠ የጝ።', 'እጅሪስ የጝ ይናን ቈሽ ኽዝቭድ ይናት ቕርጘዝ ድድብጠ የጝ፤ ምላሰንድም ኽዝቭድ እጝቅቅ ይዃንስ ነቭይ ኣቐጘ ኣምንኩ።»', 'ኣቓንስቅም፦ «ይን ኣዊስ ኣቐጘ ኣርቓይነቅም» ይጝ ዊስ\\ue07d።', 'እየሱስም፦ «እደስለስ ያንም እንዛት ፃቨውድ ውር ስልጣንዝ ኣቐጘ ክታጭስ ድቈቅም» ዩ።', 'ወይኒዙ ኣታክልቲዝ ኣርጪዝ ተከድ', 'እየሱስም እንዝ ግረ ኽዝቪዝ እኒን ተከድ ዊግተነው ኪርሙ፦ «ላው እጅር ወይንዙ ኣታክልት ቲክሉ፤ ጝትም ኣርጭዝ ክራይስ ላየ ኻግርል ፊር ዋጥሪጝቀ ኽየው ግርየ ዲቍሱ።', 'ወይኒዙ ፍረነ ግርየድ ችጛንድም ኣታክልቲዝ ወነድ ፍረይስ ጝፊንተድ ለምርጠ በን ጝኣርሸድ እፃቑ፤ እዛይ ኣርጭድ ግን እፃሸው ኣርሸድየንት ድድብጝ ባደው ናን በርስ\\ue07d።', 'ወነድም ዊስ ላየ ኣርሸ እፃቑ፤ ጛይ ግን ጝትም ድድብጝ ኣዋርዝጝ ባደው ናን በርስ\\ue07d።', 'እንደ ገነ ቈሽ ሸወትረ ኣርሸ እፃቑ፤ ጛይ ግን ጝትም ድድብጝ ልኻንዝጝ በርጝ ቢዘ ፊስጝ ማል\\ue07d።', 'ኣታክልቲዝ ወነድም፦ ‹ነስየ ውር ፃቫን ቺዝጡ ኣጢ! እስቲ ቈሽ ይቀነው ይዅርድየንት እፃጫ! ምናልቫች ጝት እኳ ኣይቭተቍ ኣጝሽ› ዩ።', 'እዛይ ኣርጭድ ግን ጝዅርድየንት ቓልጛንድ ጛስ ጛይ፦ ‹እኒንመ ወራሽድ የጝ፤ ላቝጥን ቁነ፤ ጝርስትድም ይናቕምስ ኣጡ› ይጛ\\ue07d ማኽርሽ\\ue07d።', 'ጝትም ኣታክልቲዝ ቢዘይል ፊስጝ ቍዉ\\ue07d፤', '«ነስየ ኣታክልቲዝ ወነድ እዛይ ኣርጭድዛት ወረጘ ፃቭጡ ተከኵ?', 'ጝቕም ተር እዛይ ኣርጭድ ቍውጡ፤ ወይኒዙ ኣታክልትድም ላጥ ኣርጭዝ ይውጡ» ዩ።', 'ኽዝቭድም እኒንት ወሻንድ፦ «እነየውድስ ነሲነ!» ይ\\ue07d።', 'ጘጝ ቕርጘይል ሊቨውድቅ ኪልድሽ ብትንትን ይጡ፤ ቕርጘድየን ጝቕም ጝዲጊል ሊቨው እጅርድ ግን ጫፍልቕሽጡ።»', 'ወሪትት ኽግ ክንሰጢዝመ ካኽነጣነ ኻልቅጢዝም እኒን ተከድየንት ዊግተውድ ጝታማጥን ኣቐጘ ኣርቕጛንስቅ ኣይንድ በውዝ ፃይጥጘ በንጝ ዊን\\ue07d፤ ዊገድ ግን ኽዝቭድ ጐውት\\ue07d።', 'ግቭር ኪፍለነውዝ ማጥን ኣልተው ዋቕረ', 'እስቲ ድቍ፤ ቂሳርስ ግቭር ኪፍለነው ጥውሸኵመ ጥውሻው?» ይጝ ዋቕር\\ue07d።', 'እየሱስ ግን ጝታተ\\ue07dኰልድ ኣርቕ እንት ዩ፦', '«እስቲ ላው ቍርሽ ቓሊስጥን፤ እድ ቍርሺል ፅበው ፅፈሺዝመ ሚልኪዝ ኣውቱ የጝ?» ዩ፤', 'ጛይም፦ «ቂሳርቱዋ» ይጝ ዊስ\\ue07d።', 'ጘጝም፦ «እደስለስ ቂሳትርትውድ ቂሳርስ፣ እደረትውድ ቈሽ እደረስ ይውጥን» ዩ።', 'ጛይም ኽዝቪዝ በዊል ዊግተቍ ዊቂዝ ፃውረነው ቸሊየቍም፤ ጘጝ ዊሰው ዊገይዝም ጊርምሽጛ\\ue07d ዝም ይ\\ue07d።', 'ክርጘይስ ጐነዝቍዝ ኣልተው ክርክር', 'ክርጘይስ ጐነድ ኻድየቍ ሰዱቃኒስም ላው ላውድ እየሱስትል ኣልትጝ እንት ይጝ ዋቕር\\ue07d፦', '«ክንሰተወ! ሙሴ፦ ‹ላው እጅር እውነት ድው ዅር እዅሪጝቀ ክርሽ ክረዊዝ ጝዝንድ እቸን እውነየንት ድው ክረዊዝ ዚረ ቲኪነ› የው ይናጭስ ጝኽጊዝ ፃፍኩ።', 'እደስለ ላጝጠ ዚን ዊን\\ue07d፤ እጝቂስቅ ኽየውድ እውነት ድው ዅር እዅሪጝቀ ክሩ።', 'ጝሳቱ ጝዝንድም እቸን እውነየንት ድው እዅሪጝቀ ክሩ።', 'ሸወትረድም ጘጝት፤ እደይጛ\\ue07d ላጝጠድቅ እቸን እውነየንት ድውጝ እጝቅቅ ዅር እዅሪጝቀ ክር\\ue07d።', 'እጝቂስቅ እግርገይል ቈሽ እውነየን ክርች።', 'ነስየ ላጝጠድቅ ድውጛንስቅ እኝቸን እውነየን ክርጘይስ ጐነይዝ ኰር ኣዊዝ እውነ የጝ ኣረውድ?» ይ\\ue07d።', 'እየሱስም፦ «እን ኣልሚዝ እቅድ ድውጘኵ፤ ገባሽጘኵ።', 'ተረው ኣልሚዝመ ክርጘይስ ጐነይዝ ችጘነውዝ በቃቐቍ እቅድ ግን ድዋቍም ገባሻቍም።', 'መላካታኒዝጘ ኣጛንስቅም ጝዝግረ ክራቍም፤ ክርጘይስ ጕጛንስቅም እደረት ቝር ጛይ።', 'ክርጘይስ ጐነዝቍዝ ኣቓንድም ሙሴም ቍጥቋጠይዙ ልየይዝቍዝ ዊግተው ታሪኪዝ፦ ‹ኣቭርኻምት ኣምላክ ይሳቅት ኣምላክ ያይቈቭት ኣምላክ› የው ጭጝኩ።', 'ኣቓንስቅም እጝቅቅ እደረስ ፅበቍ ኣጛንስቅ እደረ ፅበቍዝ ኣምላክ የጝጚ ክረቍዝ ኣምላክም ኣየው» ዩ።', 'ወሪትት ኽግ ክንሰጢስም ላው ላውድ፦ «ክንሰተወ! ቀሰው ፃቭር ዊግትሩ» ይ\\ue07d።', 'እንዝ ግረ ላው እጅር እኳ ጝት ዋቕርጠ ዲፍሪየውም።', 'ክርስቶስ ጝቕምት ኣውት ዅር ኣቐጘ ዋቅረ ኣልሱ', 'እንዝ ግረ እየሱስ እቅ፦ «ክርስቶስ ዳዊትት ዅር የጝ ይጘውድ ኣወይጝ የጝ?', 'ዳዊት ጝቕም መዝሙር መፃፊዝ፦', 'እደስለ ዳዊት ጝቕም ኣደረ የው ጭጘውዝየ ኣወይ የጝ ክርስቶስ ዳዊትት ዅር ኣቐውድ?» የው ዋቕሩ።', 'ወሪትት ኽግ ክንሰጢስ ጣጝቅቅሸነው', 'ኽዝቭድቅ ወሻ\\ue07d እየሱስ ጝክንደጢዝ እንት ዩ፦', 'ጛይ ልጀጊርዳኒዝ ጝንጥድ ቢዝብዝጘኵ፤ እጅርዝ እትልጥጘ ማጥንም ጝታፀለውትድ ሊጊስጘኵ፤ ኣቓንስቅም ጛይ ወሰው ፍርድ ችጝጥቍ።', 'ሉቃስት ወንጌል', 'ድኻ ልጀጊርድ ኣልስረው ሚቨድ', 'እየሱስም ጭቅ የው ቓላንድ፣ ኻፍታማን እቅ ጝታሚቨድ መቅደሲዙ ሚቨ ማለነ ሳፁኒል ድውጛንድ ቓሉ።', 'ላይ ድኻ ልጀጊርድም ሊጘ ሳንቲማን ሳፁኒል ድውራንድ ቓሉ።', 'ኣይንድም፦ «እማንዝ የኵን፤ እጝቂስቅ እኝቸን ድኻ ልጀጊርድሸን ኒቒስር ይውች።', 'ጝክንደጢስም ላው ላውድ፦ «እን መቅደስ ጝንድ ኣወሽ ዲስ ሸኵፈ! ሸግጥ ቕርጝዝመ እቅ እደረስ ይውጘቍ ገይፅዝ ገይፅኩ» ይጛ\\ue07d ዊግሽጛ\\ue07d ዊን\\ue07d።', 'እየሱስ ግን፦ «እን ቓልድርነውድቅ ፋይሪጝቀ ቕርጘይዝ ዲጊል ቕርጘ ኲንሸጘ እዳቓው ግርየ ተርጡ» ዩ።', 'ጛይም፦ «ክንሰተወ! እንቅ ኣቐው ግርየድ ኣውን የጝ? እንቅ ኣቐው ግርየድ ጣቅረጘ ኣርቕሰው ምልክትድስ ወረጘ የጝ?» ይጝ ዋቕር\\ue07d።', 'እየሱስም እንት የው ዊሱ፦ «ቀትርነቅ ጣጝቅቅጭጥን፤ ንቕፀቍ እቅ፦ ‹ያን ክርስቶስ የጝ፤ እንወ! ዚምንድ ችጝኩ› ይጛ\\ue07d ይሽ\\ue07dዝ ተርጥቍ፤ ክትን ግን ጛት ቲክንትርነ።', 'ኣጭነዝመ ዅውክትዝ ወሽርናንድ ዳጝግፅትርነ፤ በውግዝ እንቅ ኣጠ ጥውሸው የጝ፤ ኣነጚ ኻትሸነድ በውዝም ኣቓው።»', 'ቈሽም እንት ዩ፦ «ኽዝቭ ኽዝቭል፣ ምጝግስትም ምጝግስትል ጕጡ።', 'እንም ይሽ\\ue07dዝ ሚዝርድትርነ ማጥን ቀሰው ኣጋል ኣጡ።', 'ኣቓንስቅም፦ ‹ወረጘ ይን ዊስንቅ ኣጢ?› ይርን ጨጝቅሻይርነጘ እኒንት ልብ ይጥን።', 'ክታፃለታኒስ ኣውማውቅ ተቃውምሸነውም ኣነ ተቋቍምሸነውቅ ቸላይጘው ቃልዝመ ጥቨቭዝ ነቅጭር።', 'ክታኣቅልድ፣ ክታዚምዳንድ፣ ክታፃምጥድቅ እኳ እዳቒጝቀ ክታት ዲቍስጝ ይውጥቍ፤ ክታጊስም ላው ላውድ ቁጥቍ።', 'ይሽ\\ue07dዝ ማጥንም እጅርዝቅ ሽክሽርነቅ ኣትርንቅ።', 'ዊገድ ግን ክታኣውር ፅቭቀይስ ላይሸን እኳ ድዛይም።', 'ፀናቕን ችብረነውዝም ክታኒፍስየንት ቓዝትርንቅ።', '«እየሩሳልየም ጠውርሰራዊትዝ ኪብሽረጘ ቓልድርናንድ ጝርድዘነ ግርየድ ጣቅረጘ ኣርቕጥን።', 'ኣይንድ ይዅዳ ኻግሪል ፅበቍድ ኣብቒዝጐ ሰይጝነ፤ ኻትመየንትል ፅበቍድም ጝርጊስ ፍጝነ፤ ገጠሪዝቍድም ኻትመየንትል ጥዊጝነ።', 'ምላሰንድም እንዝ ማጥን ፃፍሸውድቅ ፋፅምሽጠ ማጥን እኒን ቢቅልደነው ቕፃርዙ ግርየ የጝ።', 'ኣይንትቍ ግርቂዝ ጊዙረቍዝመ ኒቭሰቍ መሉጅንጥዝ ወየው! ዝቨትል ኽየው ሚከረ ኣጡ፤ እን ኽዝቪልም ቍጠ ተርጡ።', '«እንዝ ግረ ኰረይስ፣ ኣርቨይስ፣ ፅግልውጢቅም ምልክታን እትልጥቍ፤ ባኽሪዝመ መጐዲዙ ድመይዝቍዝም፣ ዝቨትል ፅበው ኽዝቭድቅ ጨጝቅሻ\\ue07d ኻውክሽጡ።', 'እቅም እን ኣልሚል ተረው ኣቕንድየንት ሊሚደነውዝ ዝላጥቍ፤ ምላሰንድም ሲመይት ኻይላንድቅ ናውፅውፅሽትጥቍ።', 'ኣይንድም እጅር ዅርት ኽየው ኻይልዝመ ክቭርዝ ኣቕ ድምነዝ ተራንድ ቓልጥቍ።', 'ክትንም እንቅ ኣቐነው ኪርማንድ ክታቓደነ ግርየድ ጣቅራንስቅ ጭቅ ይርን ንየ ቓልጥን።»', 'ቈሽም ተከ እንት የው ዊግቱ፦ «በለስስመ ላየ ዘፍድቅ ኣስክስርን ቓልጥን።', 'ጝታኻፀድ ጭጭቫንድ፣ እየድ ችጘጘ ክታቕም ኣርቕትርንቅ።', 'እኒዝጘ ቈሽ ክትንም እንዛይቅ ኣቐነው ኪርምጛንድ፣ እደረት ምጝግስትት ተረነ ግርየድ ችጘጘ ኣርቕጥን።', 'እማንዝ የኵን፤ እንቅ ኣጢስቅ እን ዅለድ ዲቋውም።', 'ሲመይስመ ዝቨስ ዲቍጥቍ፤ ይቃልድ ግን ፍፅም ዲቋም።»', 'ጣጝቅቅሽን ሊሚደነው ጥውሽጠጘ', '«ጭቕጘ ዝየና\\ue07d እራቐነውዝመ ጨነዝ ማጥን ጨጝቅሸነውዝ ክታኣይምረውድ ዲንዝዛየጘ ጣጝቅቅጭጥን። ኣለዝየ እድ ግርየድ ፅውረይዝጘ ድጝግት ችጝጡ።', 'እድ ግርየድም ዝቨትል ፅበቍ እቅድቅ ድጝግትዝ ፃውርጡ።', 'ነስየ እን ተረው ጭቓ ዊገይስቅ ጭልቕትርነ ማጥን፣ ቈሽም እጅር ዅርት በዊል ኣይቭቲጝቀ ችብርትርነ ማጥን፣ ዊትርቅ ፃልይርና\\ue07d ነቃጥን» ዩ።', 'እየሱስም ግሪ ጨቨቅ መቅደሲል ክንሳ\\ue07d ዊኑ፤ ኻር ግን ደቭረ ዘይት ኣበይል ፍ ጫ\\ue07d ዊኑ።', 'ኽዝቭድቅ ጝት ወሽጠ ግረቨዝ ጕ መቅደሲል ጝጐ ተራ\\ue07d ዊኑ።', 'ሉቃስት ወንጌል', 'ይዅዳ እየሱስት ዲቍስ ይውጠ ቲስመመጘ', 'ፈዝየ የነው ቅጣ ዀነው በሊዝ ግርየድ ችጝ ዊኑ።', 'ካኽነጣነ ኻልቅጢዝመ ወሪትት ኽግ ክንሰጢዝም ኽዝቭድ ጐውትጛንስቅ፣ እየሱስት ስውርዝ ቍወነው መለ ደምዝጝጛ\\ue07d ዊን\\ue07d።', 'ኣይንድም ፅጭ ሊጘይጅቅ እጊት ዊነው ኣስቈረውትቱ ይዅዳትል ሲጣን ጥዉ።', 'ጘጝም ካኽነጣነ ኻልቅጢዝመ መቅደስ ጝንድ ኻየቊዝ ኻልቅጢዝጐ ፊር፣ እየሱስት ኣወሽ ዲቍስ ይውጠጘድ ጛጅቅ ዊግሹ።', 'ጛይም እን ዊገይዝ ዲስ ይጝ፣ ቍርሻን ይውጥጘ ወለይሽ\\ue07d።', 'ይዅዳም ውሊዝ ቲስመም ኽዝቭ ዊናው ግርየዝ ዲቍስ ይውጠ ሚቸው ግርየ ደምዘነው ኪርሙ።', 'ፈዝየት ድረይዝመ ቅዱስ ቍርቫንዙ ስረቲዝ', 'እንዝ ግረ ፈዝየት ቢገድ ዝውሸው ቅጣ ዀነው በልድ ችጙ።', 'እየሱስም፦ «ፈዝየት ድረይድ ዅነ ማጥን ፊትርን ኣስልጥን» የው ቢጥሮስመ ይዃንስስ እፃቑ።', 'ጛይም፦ «ኣውል የጝ ኣስልነ በንረውድ?» ይጝ ዋቕር\\ue07d።', 'እየሱስም፦ «እት ኻትመይል ጥውርናንድ ጭን ኣቝ መውረው እጅር ችጝትርንቅ፤ ጘጝ እጅርድ ጥወው ጝኒል ኣሽ ቲክንድርን ጥውጥን።', 'ጝኒዝ ወነድየንትም፦ ‹ክንሰተድ <ይክንደጢጅቅ ፈዝየት ድረይድ ዅጨ ማጥን ኣብኒዝ ጝንድ ኣውል የጝ?> የኵ› ይጥን።', 'ጘጝም ኽየው ዲቭሪል ወፃሽ ኣስልሸው ፈራቐው ወልወል ቓሊስጡ፤ ጝግል ኣስልጥን» ዩ።', 'ጛይም ፊርጛንድ እየሱስ ድቈጘ እጝቅትቅ ችጝ\\ue07d፤ ፈዝየት ድረይድም ጝግል ኣስል\\ue07d።', 'ፈዝየት ድረይድ ዀነው ሰትድ ችጛንድም ፅጭ ሊጘ ኻወርየታኒጅቅ መዲል ጐዩ።', 'ጛጭስም፦ «ይሚከረይዝ በውገ እኒን ፈዝየት ድረይድ ክታጅቅ ኣቕ ዀነው ጭቕጘ በና\\ue07d ዊኑን።', 'እን ዊገይዝ ትርጕምድ እደረት ምጝግስቲዝ ኻትሽጢስቅ እን ፈዝየት ድረይድ ሊጘት ዀቅም የኵን» ዩ።', 'እንዝ ግረ ፅወድየንት ለምር ሚዝየንዝ በር፦ «ኣስጥን ክትን እጝቅቅ ላብጠ እኒስ ዚጥን።', 'ነንስ ኪርም እደረት ምጝግስትየን ተርቲስቅ እን ወይኒዝ ፍረይዙ ድቘይስ ዝቀቅም የኵን» ዩ።', 'ኽቭስትድም ጒ ሚዝየንዙ፤ ጛጭስም ኪል ይው በር፦ «እኒን ክታቺ ይውሽተው ይስየድ የጝ፤ ይት ኻስቭርናንስ ማጥን እኒንት ፃቭጥን» ዩ።', 'እኒዝጘ ቈሽ ድረይድ ዅጘት ግረ ፅወድ ጒ በር፦ «እኒን ፅወድ ክታቺ ቅብረው የብሪዝ ሚስርትሸው ኣይር ኪዳን የጝ።', '«ዊገድ ግን ይት ዲቍስ ይወው እጅሪዝ ናንሸን ይጅቅ መዲል ጚ።', 'እጅር ዅርስ በውግስ ዊስንሸጘ ክረነውድ እዳቓውም፤ ዊገድ ግን ጝት ዲቍስ ይወው እጅሪዝ ወየው» ዩ።', 'ጝክንደጥድም ጛስ ጛይ፦ «ይናማኽሊስ እነየው ዊገ ሰራሸውድ ኣው የጝ?» ይሽተ ይሽተነው ኪርም\\ue07d።', 'እጝቂስቅ ኪብረው እጅር ኣወየውድ ኣቐጘ', 'ቈሽም ጛይ፦ «ይናእጝቂስቅ ንየቱ ኣቐውድ ኣው የጝ?» ይሽተይሽትጛ\\ue07d ጛስ ጛይ ተከራክርሽጥጘ ኪርም\\ue07d።', 'እየሱስ ግን እንት ዩ፦ «እን ኣልሚዝ ንጕሳንድ ጝታኽዝቭድ ኻይልዝ ቅምጘኵ፤ ጝታኻልቅጥድም፦ ‹ቀሰው ፃቨቍ› ይሽትጝ ጭጝሽጘኵ።', 'ክትን ግን ጝታጘ ኣትርነ፤ ኽሽስ ክታማኽሊስ ኽየውድ እጥኒዝጘ፣ ቅመውድም ቅምሸዊዝጘ ኣነ።', 'ኣየውጚ! መዲል ጐይ ዀዊስመ ችብር ኣግልግለዊስ ኣውየን የጝ ኽየውድ? መዲል ጐይ ዀውድ ኣየውመ? ያን ግን ክታማኽሊል ችብር ኣግልግለዊዝጘ የጝ።', 'ክትንም ይሚከረይዝቅ ይጊስ ቲቲጝቀ ይጅቅ ፀናቕርንኵርኑ።', 'ኣቓንስቅም ይር ይት ይመጘ፣ ያን ቈሽ ይምጝስቲዝ ክታት ይምጭር።', 'ይምጝስቲዝ ኰርም ይመዲል ጐይርን ዅትርንቅ፤ ዚትርንቅ፤ ዙፋናንልም ጐይርን ፅጭ ሊጘ እስራየልት ዊግናኒል ፊርድትርንቅ።»', 'ቢጥሮስ ኻዲጠጘድ እየሱስ በውግስ ዊግተጘ', 'እንዝ ግረ እየሱስ ቢጥሮስት፦ «ስሙን! ስሙን! እንወ! ሲጣን ክታት ዚሩ ጣቅሰናንትጘ ጣቅስጠ በን ጨዉ።', 'ያን ግን ክእምንትድ ድዛይየጘ ክማጥን ፃልዩን፤ ክትም ኣኑሽር ይጐ ዋጥርዳንድ ዊስር ክፅንት ፀናዝ» ዩ።', 'ስሙንም እየሱስት፦ «ኣደረወ! እፅወም ኣነ ክርጘድቅ ክጅቅ ለምጨ ኣስልጨር የጝ» ዩ።', 'እየሱስም፦ «ቢጥሮስ! ንጭ ጂርወ ዋቒጝቀ ይት ሸውን ኻዲትር» ዩ።', 'እንዝ ግረም ጝክንደጥድዛት፦ «ቡርሰዝመ ኽረጢት ፃዪጝቀ፣ ፃብጣንም ፃብሪጝቀ እፃቓንድ ክታጊስ ሚንትርነ ግቱመ» ዩ፤ ጛይም፦ «ውርም ግቲየው» ይ\\ue07d።', 'እየሱስም፦ «ነን ግን ቡርሰም ኣነ ኸረጢት ፃየውድቅ ፃይነ፤ ሰይፍ እጀውድም ጝኣልቨድ ቂ ሰይፍ ጅቭነ።', '‹ኣመፅኝጢጅቅ እጊቱ› የው መፃፍ ይማጥን ዊግተውድቅ ችጝጠ ጥውሸኵ የኵን፤ የይ! ይማጥን ፃፍሸውድቅ ችጘው ግርየድ ነን ችጝኩ» ዩ።', 'ጛይም፦ «ኣደረወ እንወ! እንል ሊጘ ሰይፍጥ እኵ\\ue07d» ይ\\ue07d፤ ጘጝም ዊስ፦ «ኣጥጘች» ዩ።', 'እየሱስ ደቭረ ዘይት ኣበይል ፃልየጘ', 'እንዝ ግረ እየሱስ ጝጊስ ፍ፣ ጝክንደጘ ደቭረ ዘይት ኣበይል ፊሩ፤ ጝክንደጥድም ጝት ቲክንጝ ፊር\\ue07d።', 'ጝግል ችጘጘም፦ «ፊተነል ጥዋይርነጘ ፃልይጥን» ዩ።', 'ጛጊስም ቕርጘ ዊርውርን ችጝዘነ ብጣይዝ ቝጠ እክልድ የው ግርቨቭሽ እንት ያ\\ue07d ፃልየነው ኪርሙ።', '«ኣየወ! ክት ዊድረር ኣርሽስ እን ሚከረይዝወ ፅወይንት ይጊስ እድጐ ዲቍሽ፤ ዊገድ ግን ይፍቃድድ ኣይጝቀ ክፍቃድድ ኣነ» ዩ።', 'ኣይንድ መላክ ሲመይስ ተር በርታዙ።', 'እየሱስም ጐውት ጭቕጘ ጨጝቅሻንስቅ ኻይልዝ ፃልያ\\ue07d ዊኑ። ጝስዛድም ብሪዙ ጥርብርብተይዝጘ ቅብራ\\ue07d ዊኑ።', 'ጛይም ጭቕጘ ኻዝነነዊስ ጐው ፅገውሽጛንስቅ ኽርይጝ ዊን\\ue07d።', 'ጘጝም፦ «ውር ማጥን የጝ ኽርይርነውድፈ? ኽሽስ ፊተነል ጥዋይርነጘ ጕርን ፃልይጥን» ዩ።', 'ጘጝ ገነ ዊግታ\\ue07d ሲጝቀም፣ ንቕፀቍ እቅ ተር\\ue07d፤ ፅጭ ሊጘይጅቅ ዊነው ይዅዳም ጛት ቃዋ\\ue07d ተሩ፤ እምቝጠም እየሱስትጐ ኣልት ዩ።', 'እየሱስ ግን፦ «ይዅዳወ! እምቕራ\\ue07dመ እጅር ዅርት ዲቍስር ይውተ?» ዩ።', 'እየሱስ ጅቅ ዊነቍ እቅድም ኣቐው ዊገድቅ ቓልጛንድ፦ «ኣደረወ! ሰይፍዝ ጣዝነ ኣቕሻ» ይ\\ue07d።', 'ጛጊስም ላውድ ጕ ካኽነጣነ ኻልቀይዝ በረድየንት ጣዝ ለወ ቀርዝድ ቀቭ ማሉ።', 'እየሱስ ግን፦ «በጭ! እንስ ጥውሻውም» ዩ። እድ እጅሪዙ ቀርዝድየንትም ዳቕ ቓዙ።', 'እንዝ ግረ ጝት ፃይጥጘ ተረቍ ካኽነጣነ ኻልቅጥድ፣ መቅደስድ ኻየቊዝ ኣዘጢዝመ ሽመቅሊዝ፦ «ሽፍተ ፃይትርነጘመ ሰይፍዝመ ዱለዝ ፃይርን ተትርኑ?', 'ግሪ ጨቨቅ ክታጅቅ መቅደሲል ፅባ\\ue07d ክታናንጣንድ ጕዪይርነቅም ዊንድርኑ፤ ነን ግን ክታግርየ የጝ፤ ቈሽም ጥመዝ ስልጣኒዙ ግርየ የጝ» ዩ።', 'ቢጥሮስ እየሱስት ኻድየጘ', 'እንዝ ግረ እየሱስት ፃይጝ ፊር\\ue07d፤ ካኽነጣነ ኻልቀይዝ ኻፅሪልም ፊስ\\ue07d፤ ቢጥሮስም እክልድ የው ቲክና\\ue07d ዊኑ።', 'እቅድም ካኽነጣነ ኻልቀይዝ ኻፅር ማኽሊል ልየ ኻውሽጝ ላብጠ ጐይጝ ፅብጛ\\ue07d ቢጥሮስም ጝታማኽሊል ጐዩ።', 'ቢጥሮስም ልየይዝ ጋቢል ብርኻኒዝጐቱ ጐይ ፅባ\\ue07d ላይ ጊርድ ጝት ትክ ይር ቓልድር በትር፦ «እኒንም ቃል እየሱስ ጅቅ ዊኑ» ይች።', 'ቢጥሮስ ግን፦ «እፈ እውነ ክተ! ያን ጝት ኣርቐቅም» የው ኻድዩ።', 'ዊቱ ዊን የው ቈሽ ላየ እጅር ቢጥሮስት ቓል፦ «ክትም ጛጊስ ላውድ የጝ» ዩ፤ ጘጝም፦ «እፈ እጅር ክተ! ያን ጝት ኣርቐቅም» ዩ።', 'ላው ሰት ኣጠ ዊን የው ቈሽ፣ ላየ እጅር ቢጥሮስት፦ «እን እጅርድ ገሊለቱ የጝ፤ እርግጥም እየሱስ ጅቅ ዊኑ» የው ጭቕጘ ደድስ ዊግቱ።', 'ቢጥሮስም፦ «እፈ እጅር ክተ! እኒን ክት ይረው እጅርድየንት ያን ኣርቐቅም» ዩ፤ ኣይንድም ገነ ዊግታ\\ue07d ሲጝቀ ጂርወ ዋቑ።', 'ኣደረም ዋጥር የው ቢጥሮስት ቓሉ፤ ቢጥሮስም፦ «ንጭ ጂርወ ዋቒጝቀ ይት ሸውን ኻዲትር» የው ኣደረ ዊግተው ቃልድ ትዝ ዩ።', 'ቢጥሮስም ቢዘይል ፍ ኽርር የው ሊዙ።', 'ኣይንድም እየሱስት ፃየቍ እቅድ ተዘቫቭትሽጛ\\ue07d ድድብጛ\\ue07d ዊን\\ue07d።', 'ጝእልጣንድም ሺፍንጝ ጝጋፅድ ጥፊዝ ጣዝጛ\\ue07d፦ «ነቭይ ኣረውዝየ ክት ጣዘውድ ኣው የጝ? እስቲ ድቋ?» ይጛ\\ue07d ዋቕርጛ\\ue07d ዊን\\ue07d።', 'ላጥ ንቕፀቍ ዛንዝቍ ዊቅም ዊግትጛ\\ue07d ዊን\\ue07d።', 'እየሱስ ፍርድዙ ሸ\\ue07dጐዊል ኣልተጘ', 'ቅሻንድም ኽዝቪዝ ሽመቅልድ፣ ካኽነጣነ ኻልቅጥድ፣ ወሪትት ኽግ ክንሰጥድም ላብጠ ኣኽቭሽ\\ue07d። እየሱስትም ጝታሸ\\ue07dጐዊል ኣልስጝ፦', '«እስቲ ድቍ! ክት ክርስቶስመ?» ይጝ ዋቕር\\ue07d፤', 'እየሱስም፦ «ድቍሽም ኣምናይርነቅም።', 'ክታት ዋቕራንም ዊሳይርነቅም።', 'ዊገድ ግን ነንስ ኪርም እጅር ዅር ኻይሉ እደረት ለዊል ጐይጡ» ዩ።', 'ኣይንድም ጛይ እጝቅቅ፦ «እደስለ ክት እደረት ዅርመ?» ይጝ ዋቕር\\ue07d፤', 'ጘጝም፦ «የይ፤ ክትን ይርናንትጘ የጝ» ዩ።', 'ጛይም፦ «ነስየ ውርት ሚዝር ደሚስጠፈ! ይናቕም በገዘ ጝምቸይዝ ዊግታንድቀ ወሽንጅነቅ» ይ\\ue07d።', 'ሉቃስት ወንጌል', 'እየሱስ ቢላጠውስት በዊል ኣልተጘ', 'ጝግል ዊነቍድም ምሉዝ ጕጝ፣ እየሱስት ቢላጠውስትል ፃይጝ ፊስ\\ue07d።', 'ቢላጠውስስም፦ «እን እጅርድ ይናኽዝቭድ ቀሳ\\ue07d፣ ንጕስ ቂሳርስም ግቭር ኪፍልሻይየጘ ኪልክላ\\ue07d፣ ቈሽም፦ ‹ያን ክርስቶስ ንጕስ የጝ› ያ\\ue07d ክንሳንድ ችጝን ፃይኑን» ይጛ\\ue07d ኪስጥጘ ኪርም\\ue07d።', 'ቢላጠውስም እየሱስት፦ «ክት ኣይዅዳነ ንጕስመ?» የው ዋቕሩ፤ እየሱስም፦ «ክት ክቕም ይረጘ የጝ» የው ዊሱ።', 'ቢላጠውስም ካኽነጣነ ኻልቅጢዝመ ኽዝቪዝ፦ «ያን እን እጅሪስ ላው ወንጀልም ችጚቀር» ዩ።', 'ጛይ ግን፦ «እን እጅርድ ገሊለስ ኪርም እንል ኣሽ ይዅዳት ኽዝቭድቅ እዳቒጝቀ እጝቅትቅ ክንሳ\\ue07d ኽዝቭድ ኽምዘል ጕይሰኵ» ይጛ\\ue07d ኪው ሽጝ ኪስ\\ue07d።', 'ቢላጠውስም ገሊለ ይጛንድ ወሽ፦ «እን እጅርድ ገሊለቱመ?» የው ዋቕሩ።', 'ጝዝለም እየሱስ ተረውድ ኺረውድስ ቅመው ኻግሪስ ኣቐጘ ኣርቓንስቅ፣ ኺረውድስትል በርሱ፤ ኣይንድ ቈሽ ኺረውድስ እየሩሳልየም ኻትመይል ዊኑ።', 'ኺረውድስም እየሱስት ቓላንድ ጭቕጘ ዲስ ዩ፤ ምላሰንድም እየሱስት ጂጘድ ጝዝ በውገ ወሽ ዊናንስቅ፣ እክሰው ግርየ ቓልጠ በና\\ue07d ዊኑ፣ ጝበዊል ኣቕም ታምራን ሰራሻንድ ቓልጠ በና\\ue07d ዊኑ።', 'ኣይንድም እየሱስት ንቕፀቍ ዊቅ ዋቕሩ፤ እየሱስ ግን ላይ ዊገትም ዊሲየው።', 'ካኽነጣነ ኻልቅጢዝመ ወሪትት ኽግ ክንሰጢዝም ጝግል ችብርጝ ኪው ሽጝ ኪስጛ\\ue07d ዊን\\ue07d።', 'ኺረውድስም ጝዊተድሪጅቅ ኣቕ ነቅጘዝ ቂልዱ፤ ገይፀው ኣልቨም ሲስ ቢላጠውስ ትጐ ዊስ በርሱ።', 'ኺረውድስስመ ቢላጠውስስም ኣይንቲስ ኪርምጝ ጛስ ጛይ ቀነቀንሽ\\ue07d፤ ጝዝ በውገ ግን ጐርኝጥ ዊን\\ue07d።', 'እየሱስት ክርጘ ፍርድ ፊርድጘጘ', 'ቢላጠውስም ካኽነጣነ ኻልቅጥድ፣ ቅመትድ፣ ኽዝቭድም ሊንስ ኣኽቩ።', 'እንት የውም ዊግቱ፦ «ክትን፦ ‹እን እጅርድ ኽዝቭድ ኽምዘል ጕይሰኵ› ይርን ይጐ ነስርኑ፣ ያንም ክታበዊል ፃቭ ሚርምሩን፤ ኣነጚ እን እጅሪስ ክትን ኣልስርነው ክሲስ ላው ወኝጀልም ችጚቀር።', 'ኺረውድስም ውረውረ ወኝጀልቅ ባንስቅ ይናጐ ዊስ በርስኩ፤ እን እጅርድ ክርጘል ችጝዘው ውርም ኣይንት ወኝጀል ሰራሺየውም።', 'ኣቓንስቅም ጊርፍንዝ ቐፃቕ በርስጨ የጝ» ዩ።', 'እነይ ዊግተውድም ፈዝየት በሊዝ ላው እፁሸው እጅር እክስጠ ጥውሸው ዊናንስቅ የጝ።', 'ኽዝቭድም ሊንስ፦ «እን እጅርድ እድጐ እክልሽ፤ በርቫንት እክሽ!» ያ\\ue07d ቓፁ።', 'በርቫን ይሽተው እጅርድ ኻትመይል ኽምዘ ጕይሳንስቅ፣ ኒቭስም ቍዋንስቅ እፁሽ ዊነው የጝ።', 'ቢላጠውስም እየሱስት እክስጠ በን፣ ኽዝቭድ ሊጘት ዋቕሩ።', 'ጛይ ግን፦ «ሲቅል! ሲቅል!» ይጛ\\ue07d ቓፅ\\ue07d።', 'ቢላጠውስም፦ «ውረይፈ? እን እጅርድ ሰራሸው ዊገድ ወረጘ የጝ? ያን ጝት ክርጘል ችጝዘው ወኝጀልም ችጚቀር፤ ኣቓንስቅም ቐፃቕ እክስጨ የጝ» የው ሸወት ዊግቱ።', 'ጛይ ግን ጝታድመድ ኣጕስ ሽጝ፦ «ሲቅል» ይጛ\\ue07d ቓፅ\\ue07d፤ ጝታድመድም ቢላጠውስት ኻለይድ ላውጥሱ።', 'ቢላጠውስም ጛይ ዋቕርጘውድ ኣጠ ማጥን ውሳኒ ዲቍሱ።', 'እድየን ኽውክት ጕይሳንስቅ ኒቭስም ቍዋንስቅ፣ እፁሽ ዊነው እጅርድየንት ጛይ ዋቕርጘጘ እክሱ፤ እየሱስት ግን ጛይ በንጘጘ ሲቅልሽጠ ማጥን ዲቍስ ይዉ።', 'እየሱስ ሊጘ ወኝጀልኝጢዝ ማኽሊል ሲቅልሸጘ', 'እየሱስት ፃይጝ ፊርጛንድም ስሙን ይሽተው ቀሪነቱ እጅር ገጠሪስ ተራንድ ችጝጝ፣ ሲቅልጥጘ ኣስልጘው ሚስቅልድየንት መውስጝ እየሱስት እግርገይል ቲክንዝ\\ue07d።', 'ንቕፀቍ እቅዝመ ጝታእዘንድ ድቝልጛ\\ue07d ሊዘቍ እቍንም እግርገ እግርገይል ቲክንጛ\\ue07d ዊን\\ue07d።', 'እየሱስ ግን ጝታጐ ብሩ የው፦ «እፈ እየሩሳልየምት እቍን ክታትርነ! ክታቕምስመ ክታቝርዝ ማጥን ሊዝጥንጚ ይቍዝስ ሊዝትርነ።', 'እንወ! ‹ማኽንጣን እቍን፣ እዅሪየቍ ማፅንታን፣ ኒቭሲየቍ እቍጣንም ውርጘ ቀቫሸቍ ጛይ› ይርነው ግርየ ተርጡ።', 'ኣይንድ ኣብቕድዛት፦ ‹ይናዲጊል ሊቭጥን› ኵምብልጥድዛትም፦ ‹ጭቭስጥን› ይጥጘ ኪርምጥቍ።', 'ነስየ ቝጥን ቃነይዝ እኳ እንት ሽጘውዝየ ይዘው ቃነይዝ ኣቓን ኣወሽጥጘ ዊን\\ue07d?» ዩ።', 'ላጥ ሊጘ ወኝጀልኝጥም ጝጅቅ ቁጥጘ ፃይጝ ፊር\\ue07d።', 'ቀራንየው ይሽተው ስፍረይል ችጛንድም እየሱስት ጝግል ሲቅል\\ue07d፤ እዛይ ወኝጀልኝጥድዛትም ላውድ እየሱስት ለዊዝጐቱ ሊጘትረድ ቈሽ ጝፃግቪዝጐቱ ፃቭጝ ሲቅል\\ue07d።', 'እየሱስም፦ «ኣየወ! እኒንትቅ ፃቭጘውድ ኣርቓቍ ኣጛንስቅ የጝ፤ ይቅር ይ!» ዩ፤ ጛይም ጝኣልቨድ እፀ ማልጝ ኣድልሽ\\ue07d።', 'ኽዝቭድም ጝግል ችብር ቓላ\\ue07d ዊኑ፤ ኣይዅዳነ ኻልቅጥድም፦ «ላጥ እቅ ቓዙ፤ እደስለ ጘጝ እደረ ማርፀው ክርስቶስድ ኣቐውዝየ እስቲ ጝቕምት ቓዝነ» ይጛ\\ue07d ቂልድጛ\\ue07d ዊን\\ue07d።', 'ዊተድርድም ቂልድጛ\\ue07d ዊን\\ue07d፤ ጝጐም ኣልትጝ፣ ዃምጥጠው ወይንዙ ሚዝ ይው\\ue07d።', 'ጝትም፦ «ክት ኣይዅዳነ ንጕስ ኣረውዝየ እስቲ ክቕምት ቓዝ!» ይጛ\\ue07d ዊን\\ue07d።', 'እየሱስት ኣውሪዝ ንየ ሚስቅሊልም፦ «እኒን ኣይዅዳነ ንጕስ የጝ» ይሽት ፃፍሸው ፅፈሽ እቝርጝ ዊን\\ue07d።', 'ጝጅቅ ሲቅልሸቍ ወኝጀልኝጢስም ላውድ፦ «ክትሰ ክርስቶስ ኣይረርቀ? እደስለ ክቕምትም ይናትም ቓዛርመ!» የው ዛሹ።', 'ሊጘትረድ ግን፦ «እፈ ክት ጝጘ ፍርድ ለምትራ\\ue07dጐስ እኳመ እደረት ጐውታራ!', 'ይን ቐፃሽናንስ ሰራሽነው ሰቪዝ ልክ ኣቓንስቅ ፍርድድ እማንተው የጝ፤ እን እጅርድ ግን ውረውረ ጭቕት ሰራሺየው» የው ቃርሹ።', 'እየሱስትም፦ «ኣደረወ ክምጝግስቲዝ ተትራንት ኰር ይት ኻስቫ» የው ቓፁ።', 'እየሱስም፦ «እማንዝ የኵን፤ ንጭ ገነት ጥውር ይጅቅ ፅብትር» የው ዊሱ።', 'እየሱስ ክረጘ', 'ኣይንድም ጊዝያትድ ዋልጠ ሰት ኣቕ ዊኑ፤ ፃይጨ ሳይል ኣሽም ዝቨይልቅ ጥመ ኣቑ።', 'ኰረይዝ ብርኻንድቅ ድዙ፤ መቅደሲዙ ገርደነድም ሊጘትል ቀድሹ።', 'እየሱስም ጝድመድ ኣጕስ ሸው፦ «ኣየወ! ይኒፍስሸየንት ክናኒል ነቀኵን» የው ቓፁ፤', 'እኒንት የት ግረ ጝፈውጥድ ፍ\\ue07d።', 'ጝግል ዊነው ላዝ ኻቀድም ኣቐው ዊግድቅ ቓላንድ፦ «እን እጅርድ እማንም ፃድቅ ዊኑ» የው እደረት ኪብርዙ።', 'እኒንት ቓልጠ ጘጝ ስፍረይል ኣኽቭሽ ዊነው ኽዝቭድም እን ኣቐው ዊገድየንትቅ ቓላንድ ጭቕጘ ኻዝናንስቅ ጝእዘንድ ድቝላ\\ue07d ጝጝን ጝጝን ዋጥር ፊሩ።', 'ኣነጚ እየሱስት ጣቀትዝ ኣርቐቍ ዊነቍ እቅዝመ ገሊለስ ኪርምጝ ጝት ቲክንጝ ተረቍ እቍንዝ እጝቅቅ እን ዊግድ ቓልጛ\\ue07d እክልድጝ ችብርጝ ዊን\\ue07d።', 'እየሱስ ዲቭሽተጘ', 'እንዝ ግረ ላው ዮሴፍ ይሽተው ኣይዅዳነ ሸ\\ue07dጐዊዝ ማኽረተ ኣቐው ቀሰው ፃድቅ እጅር ዊኑ።', 'እን እጅርድ ጝታምኽሪልም ኣነ ጛይ ሰራሽጘው ሰቪልቅ ጥዊየውም ዊኑ፤ ጝኻግርድም ኣርማትያስ ይሽትረይ ላይ ኣይዅዳነ ኻትመትል ዊኑ፤ እደረት ምጝግስትት ተረነ ግርየድም ሊሚዳ\\ue07d ዊኑ።', 'ጘጝም ቢላጠውስትል ፊር፦ «እየሱስት እርሸድ ኣለቀይ ነቅ» የው ጨዉ።', 'እርሸድየንትም ጊምዝ ፃረው ኻር ኣልቨዝ ጊንዙ፤ ላው እጅርቅ ዲቪሽቲየው ፃፀድ ፊልፍልን ተስኑ ኣይር መቃቭርልም ዲቩ።', 'እኒንት ፃቨውድም ቅዳምሲንቭትስ ኣስልሸነ ዊነው ኣርቭ ግርየዝ የጝ፤ ቅዳምሲንቭትም ጥውጠ ጕ ዊኑ።', 'ገሊለስ ኪርምጝ ጝት ቲክንጝ ተረቍ እቍንድም ዮሴፍ ጅቅ ፊርጝ መቃቭርድ ቓል\\ue07d፤ እርሸድም ኣወሽጝ እቝርጘጘ ቓል\\ue07d።', 'ጝዝለም ዋጥርጝ ሽቱዝመ እቓሰነው ዘይትዝ ኣስል\\ue07d፤ ወሪትት ኽግድ ኣዘጘም ቅዳምሲንቭትት ፈውጝ ግርይ\\ue07d።', 'ሉቃስት ወንጌል', 'እየሱስ ክርጘይስ ጐጘ', 'እንዝ ግረ እቍንድ እድ ኣስልጘው ሽቱድ ፃይጝ ኽየሲንቭት ግረቨዝ ጕጝ መቃቭሪል ፊር\\ue07d።', 'መቃቭሪዝ ሚረድ ዲቭጝ በርጘው ቕርጘድም እድጐ ጊልብርሽ ዊኑ።', 'መቃቭሪል ጃቝ ይጝ ቓልጛንድ ግን ኣደረት እርሸድ ችጚየቍም።', 'እቍንድም እንዝ ግራ ጥውጝ ፅብጛ\\ue07d ብርቕርቕ የው ኣልቨ ሲረቍ ሊጘ እቅ ድጝግት ተርጝ ጝታጋቢል ችብር\\ue07d።', '«ፅበውድየንት ውር ማጥን የጝ ክረቊጅቅ ደምዝርነውድ?', 'ጘጝ ክርጘይስ ጕኩ፤ እንልም እጀው፤ ገሊለ ፅባ\\ue07d ክታጭስ ድቈው ዊገድ ኣጅጥን።', 'ኣይንድ፦ ‹እጅር ዅር ኽጥያትኝጥዝ ናኒል ዲቍሽት ይውሽትጠ፣ ሲቅልሽጠ፣ ጝዝግረም ሸወትረ ግርየይዝ ክርጘይስ ጕጠ፣ ጥውሸኵ› የው ዊግት ዊኑ» ይ\\ue07d።', 'እቍንድም ኣይንድ እየሱስ ዊግተውድ ኣጅ\\ue07d።', 'መቃቭሪስም ዋጥርጝ ፅጭ ለው ኻወርየታኒዝመ ጛጅቅ ዊነቍ ላጢዝቅ ድቍ\\ue07d።', 'እኒንት ኻወርየታኒዝ ድቈቍ እቍንድም መግደላዊት ማርያም፣ ይዃነ፣ ያይቈቭትኘ ማርያም፣ ጛጅቅ ዊነቍ ላጥ እቍንም፣ ጛይ።', 'እዛይ ግን እቍንድ ድቍጘው ዊገድ ጛጭስ ኽትፍትፍተ ተክ እትላንስቅ ኣምኒየቍም።', 'ቢጥሮስ ግን ጕ መቃቭሪል ውጥያ\\ue07d ፊሩ፤ ጝግል ችጘጘም ፍጥ\\ue07d የው ኣቒድ ቓላንድ እርሸድ ጊንዝሽተው ኻር ኣልቨድ ጭቝ ቓሉ፤ ጘጝም ኣቐው ዊገይዝ ጊርምሻ\\ue07d ዋጥሩ።', 'እየሱስ ሊጘ ክንደጢዝ እትለጘ', 'ኣይንት ግርየይዝ እየሱስት ክንደጢስ ሊጘድ ይማኹስ ትጐ ፊርጛ\\ue07d ዊን\\ue07d፤ ይማኹስ እየሩሳልየምስ ፅጭ ለው ኪለው ሚትር ኣጠ እክልድ ይር ችጝሽረይ ኪው ጚ።', 'ጛይም እን ኣቐው ዊገይዙ ገቨድቅ ጕይጛ\\ue07d ዋርድጛ\\ue07d ዊን\\ue07d።', 'እኒንትም ዊግትጛ\\ue07d ሚርምርሽጛ\\ue07d ሲጝቀ እየሱስ ጝቕም ጛጅቅ ላው ኣቕ ፃጛ\\ue07d ዊኑ።', 'ጛይ ግን ጝታእልጣኒዝ ቓልጛ\\ue07d፣ ጝት ኣርቒየቍም ዊን\\ue07d።', 'እየሱስም፦ «ፃጝርና\\ue07d ክታስ ክታይ ዊግትርነው እን ዊገድ ወረጘ የጝ?» የው ዋቕሩ፤', 'ጛይም ኻዝንጛ\\ue07d ቀጥ ይጝ ችብር\\ue07d።', 'ጛጊስም ቀለየበ ይሽተው ላውድ እየሱስት፦ «እንዛይ ግርቂዝ እየሩሳልየምስ ኣቐው ዊገድ ኣርቓይረውድ ክት ክለ እን ኻግሪስ ኣቭንመ?» ዩ።', 'ጝትም ካኽነጣነ ኻልቅጢዝመ ይናደጝጢዝ፣ ክርጝፍርድዝ ዲቍስጝ ይውጝ በርጝ ሲቅል\\ue07d።', 'ይን ግን እስራየልት ኻርነይ ፊሰውድ ጘጝ ኣጡ ይን ቲስፈ ፃቭን ዊኑን፤ ኣነጚ እን ዊገድ ኣቐት ንጭ ሸወትረ ግርየ የጝ።', 'ይናጅቅ ዊነቍ እቍኒስ ቈሽ ላው ላውድ ጊርምስጝኩ\\ue07d፤ ጛይ ንጭ ግረቨዝ መቃቭሪል ፊርጝ ዊን\\ue07d።', 'እየሱስት እርሸድ ግን ችጚየቍም፤ ኣነጚ፦ ‹መላካን ቓልኑን፤ ጛይም፦ «እየሱስ ፅበው የጝ» ይጝ ይናጭስ ድቍ\\ue07d› ይጛ\\ue07d ተርጝ ጂጝዝ\\ue07d።', 'ይናማኽሊስም ላው ላውድ ፊርጝ እቍንድ ዊግትጘጘ ኣቕ ችጝ\\ue07d፤ እየሱስት ግን ቓሊየቍም» ይጛ\\ue07d እየሱስስ ድቍ\\ue07d።', 'እየሱስም፦ «እፈ ኣስክሳይርነቅ፣ ክታእዘንድም ነቭያታንድ ዊግትጘውድቅ ኣምነነዊስ ደየው እቅ ክታትርነ!', 'ክርስቶስ እኒን ሚከረድቅ ለምርጠ፣ ጝዝ ግረ ቈሽ ጝክቭሪል ጥውጠ ጥውሸው ኣየውመ?» ዩ።', 'ጝዝ ግረ ሙሴስመ ነቭያታኒስ ኪርም ቅዱሳን መፃፋኒዝ ጝቍዝ ፃፍሸውድየንትቅ ጣቅሳ\\ue07d ኣስርድዙ።', 'እደይጛ\\ue07d ጝታፊርጘው ኪዊል ጣቅርጛንድ፣ እየሱስ ጛት ዲቍ ፊረው ተኩ።', 'ጛይ ግን፦ «ኰረድ ጥውጠ ጕኩ፤ ድልም ኣጠ የጝ፤ እደስለ ይናጅቅ ጭጚ» ይጝ ኪው ሽጝ ጨው\\ue07d፤ ጘጝም ጝታጅቅ ጭጠ ጥዉ።', 'እንዝ ግረ ጝታጅቅ መዲል ጐይ ፅባ\\ue07d ሚድ ጒ በርክ በር ኪል ይዉ።', 'ኣይንድ ጝታእልጣንድ ቢት\\ue07d፤ ጘጝ እየሱስ ኣቐጘም ኣርቕ\\ue07d፤ እየሱስ ግን በውዝ ጝታበዊስ ሲውርሹ።', 'ጛይም ጛስ ጛይ፦ «ጒደነይዝ ፃጝናንድ ድቋ\\ue07d፣ ቅዱሳን መፃፋኒስም ጣቅሳ\\ue07d ቲርጕማንድ ይናእዘንድ ልየ ቃጥልሻ\\ue07d ዊኒየውቀ» ይሽተይሽት\\ue07d።', 'ጝዝለም ጕጝ እየሩሳልየም ዋጥርጝ ፊር\\ue07d፤ ፅጭ ለው ኻወርየታንድም ጝታፃምጢጅቅ ኣኽቭሽጝ፦', '«ኣደረ እየሱስ እማንም ክርጘይስ ጕኩ፤ ስሙንስም እትልኩ» ይጛ\\ue07d ዊን\\ue07d።', 'ሊጘ ክንደጥድም ጛት ችጘው ዊገይዝመ ኣደረ እየሱስ ሚድ ኪል ይዋንድ ኣወሽጝ ጝት ኣርቕጘጘ እጝቅትቅ ድቍ\\ue07d።', 'እየሱስ ጝክንደጢዝ እትለጘ', 'ጛይም እኒንት ዊግትጛ\\ue07d ሲጝቀ፣ እየሱስ ጝቕም ጛታማኽሊል ችብር፦ «ዲግተ ክታጅቅ ኣነ» ዩ።', 'ጛይ ግን መንፈስ ቓልጘው ተካንስቅ፣ ዳጝግፅጝ ጐውትዝ ስ\\ue07dርሽ\\ue07d።', 'እየሱስም፦ «ውር ቃጥ የጝ ዳጝግፅርነውድ? ውር ቃጥስ የጝ ክታእዘኒዝ ተጠራጥርሽርነውድ?', 'ይናንጣኒዝመ ይልኵጣኒዝ ቓልድርን ያን ይቕም ኣቐጘ ኣርቕጥን፤ ይጊስ ቓልድርናንትጘ መንፈስ ስየዝመ ጛፅዝ እጀውም» ዩ።', 'እንት የው በር ጝናንጣኒዝመ ጝልኵጣኒዝ ቓሊሱ።', 'ጛይም ጭቕጘ ዲስ ይጛንስቅ ዲንቅሽጛ\\ue07d ገነ ኣምነነ ብጝ ዊን\\ue07d፤ እየሱስም፦ «እንል ውረውረ ዀነው ፃይርንኵርኑመ?» ዩ።', 'ጛይም ጂሽተው ኻዘይስ ዊቱ ቀቭሽተው ይው\\ue07d።', 'ጘጝም ለምር ጝታበዊል ኣቕ ኹ።', 'እንዝ ግረ፦ «ክታጅቅ ፅባ\\ue07d ‹ሙሴት ኽግዝ፣ ነቭያታንዝመ መዝሙራን መፃፋንዝ ይማጥን ፃፍሸውድቅ ፋፅምሽጠ ጥውሸኵ› የር ድቈው ይቃልድየን እኒን የጝ» ዩ።', 'ኣይንድም ቅዱሳን መፃፋንድ ኣስክስጥጘ ማጥን ጝታኣምረውድ ብዙ።', 'እንት የውም ድቁ፦ « ‹ክርስቶስ ሚከረ ለምርጡ፤ ሸወትረ ግርየይዝም ክርጘይስ ጕጡ።', 'ቈሽም እየሩሳልየምስ ኪርም ኻግራኒልቅ ጝሽ\\ue07dዝ ንስኻዝመ ኽጥያቲስ ይቅር ይሽተነውዝ ኽዝቪዝቅ ድቍሽትጡ› ይሽት ፃፍሽኩ።', 'ክትንም እን ዊገይዝቅ ሚዝረጫን የጝ።', 'ያንም ይር ነየው ቲስፈድ ክታጭስ በርስጭር፤ ክትን ግን ንየይስ ኻይል ለምርትርኒስቅ እየሩሳልየም ዊንጥን።»', 'እየሱስ ኣርገጘ', 'እንዝ ግረ እየሱስ ጝክንደጥድ እየሩሳልየምስ ፊስ ቢታንየ ኣሽ ፃይ ፊሩ፤ ጝጊስም ጝናንጣንድ ዘርጋቕ በርኩ።', 'ጛት በርካ\\ue07dም ጛጊስ ቲት ሲመይ ትጐ ፉ።', 'ጛይም ጝጭስ ሲግድጝ ኽየው ዲስተዝ እየሩሳልየም ዋጥር\\ue07d።', 'ዊትርቅ መቅደሲስ ቲቲጝቀ እደረት ሚዝየንዝጛ\\ue07d ዊን\\ue07d።', 'ጣምቀተ ይዃንስት ኣዋጅድ', 'እኒን እደረት ዅር እየሱስ ክርስቶስት ወንጌሊዙ ኪርመነድ የጝ።', 'እንም ነቭይ ይሳያስ፦ «እንወ፣ ክጕደነድ ኣስለው ይእፃሸረድ ክበዊል እፃጭር፤', '‹ኣደረት ጒደነድ ኣስልጥን፤ ጥርግየድየንትም ጭቅ ሽጥን› ያⶖ በራኸይስ ቓፀው እጅርዙ ድመ» የው ፃፈጘ የጝ።', 'እንዝ ማጥን ጣምቀተ ይዃንስ፦ «ኽጥያቲዙ ይቅርተድ ችጝርናስ ማጥን ንስኻ ጥውርን ጣምቅጭጥን» የው ኣውጃ\\ue07d በራኸይዝ ተሩ።', 'ይዅዳ ኻግርድቅ እጝቅ፣ እየሩሳልየም ኻትመይል ፅበውድቅ ጥቅለዝ ጝጐ ፊራⶖ፣ ጝኽጥያቲስም ነዚታⶖ፣ ዮርዳኖስ ዊርቨይል ይዃንስት ናኒዝ ጣምቅሻ\\ue07d ዊኑ።', 'ይዃንስም ሲረውድ ግምል ፅቭቀዝ ተሲተው ኣልቨ፣ ጝከምረነድም ኣኽር ዊኑ፤ ጝዅረድም ኣብጠዝመ በራኸዙ ሳረዝ ዊኑ።', 'ሲቭካንድም፦ «ፍጥ\\ue07d የር ጝፃቢዙ ፃልየድየንት እኳ እክስጨ ጥውጨቅ ይጊስ ጭቕጘ ዲቈው ይግረይል ተርጡ።', 'ያን ክታት ኣቚዝ ጣምቀኵን፤ ጘጝ ግን ክታት መንፈስ ቅዱስዝ ጣምቅጡ» ያ\\ue07d ዊኑ።', 'እየሱስት ጣምቅሸነይዝመ ፊትንሸነይዝ', 'ኣይንድም እየሱስ ገሊለ ኻግሪል ችጝሽረይ ናዝሪት ኻትመየንቲስ ተር ዮርዳኖስ ዊርቨይል ይዃንስት ናኒዝ ጣምቅሹ።', 'ይዃንስም በውዝ እየሱስ ኣቚስ ፈጘ ሲመይ ቢት መንፈስ ቅዱስ ርግቨት ተከዝ እየሱስትል ጊማንድ ቓሉ።', 'ኣይንድም፦ «ይቀነነር ይዅርድ ክት የጝ፤ ክቍዝ ዲስ የኵን» የው ድመ ሲመይስ ወይሽቱ።', 'በውዝም መንፈስ ቅዱስ እየሱስት በራኸዝጐ ፊሱ።', 'ሲጣኒዝም ፊትንሻ\\ue07d ኣርቨ ግርቅ በራኸይል ኣረዊታኒጅቅ ሳብጡ፤ መላካንድም ጝት ኣግልግል\\ue07d።', 'እየሱስት በውጥ ክንደጥድ', 'ይዃንስም ፃይሽ ወኽኒ ጝንል ጥወት ግረ፣ እየሱስ እደረት ወንጌልድ ሲቭካⶖ ገሊለ ትጐ ተሩ።', 'ሲቭካንድም፦ «ግርየድ ችጝኩ፤ እደረት ምጝግስትየንም ኣልትርኵች፤ ንስኻ ጥውጥን፤ ወንጌሊዝም ኣምንጥን» ያⶖ ዊኑ።', 'እየሱስ ገሊለ ባኽሪዝ ጋቢዝ ዲቋንድ፣ ኻዘ ፃውረጥ ስሙንስመ ጝዝን እንድርያስስ ጝታመረቭድ ኣቚል ማልጛንድ ቓሉ።', 'እየሱስም ጛት፦ «ላቝጥን ይት ቲክንጥን፤ ነስየ ይጭስ እቅ ፃውርድርነቅ ፃቭጭር» ዩ።', 'ጛይም በውዝ ጝታመረቭድ በርጝ ጝት ቲክን\\ue07d።', 'ዊቱ ዲቍ የጘም ዘቭዲወስት ቝር ያይቈቭስመ ይዃንስስ ታ\\ue07dኰይል ኣቕጝ ጝታመረቭድ ኣስልጋⶖ ቓሉ።', 'ጘጝም በውዝ ጛት ጭጙ፤ ጛይም ጝታይር ዘቭዲወስት ጝሰራሸጢጅቅ ታ\\ue07dኰይል በርጝ ጝት ቲክንጝ ፊርⶖ።', 'እየሱስ እርኵስ መንፈስዝ ፃይሸው እጅር ቓዘጘ', 'ጝዝለም ቅፍርናዀም ትጐ ፊርⶖ፤ እየሱስም ቅዳምሲንቭት ግርየዝ ምኵራቭል ጥው ክንሰነው ኪርሙ።', 'ክንሰውድም ወሪትት ኽግ ክንስጢዝጘ ኣይጝቀ ኽየው ስልጣንዝ ዊናንስቅ ኽዝቭድ ጝክንስኒዝ ጊርምሹ።', 'ኣይንድም ጝታምኵራቭ ኣቒል ዊነው እርኵስ መንፈስዝ ፃይሸው እጅር፦', '«ናዝሪትቱ እየሱስወ! ይን ክጅቅ ወረጘ ፃይነቅ? ይናት ድስተመ ተትሩ? ክት ኣው ኣረጘ ኣርቐኵን፤ ክት ቃል እደረት ቅዱስ የጝ!» የው ቓፁ።', 'እየሱስም ርኵስ መንፈስድየንት፦ «ዝም ይ! እጅሪስም ፍ!» የው ኣዙ።', 'እርኵስ መንፈስድየንም እጅርድየንት ማል ፍርግስ በር ጭቕጘ ቓፃⶖ እጅሪስ ፉ።', 'ኽዝቭድም እጝቅቅ ጊርምሸነውዝ፦ «እኒን ዊገድ ወረጘ የጝ? ስልጣን ፃየው ኣቭን ክንድጝ ኣጠት! እርኵሳን መንፈሳንድዛት እኳ ስልጣንዝ ኣዘኵ፤ ጛይም ኣዚትጘኵ» ያ\\ue07d ጝስመ ጝስ ዋቕረዋቕርሹ።', 'በውዝም ጝጂጘድ ገሊለት ጅልወይዝቍ ኻግራኒልቅ ወይሽቱ።', 'እየሱስ ንቕፀቍ ፅውዝጅንጥ ቓዘጘ', 'ምኵራቪስ ፈጘም ያይቈቭስመ ይዃንስስታጅቅ ኣቕ ስሙንስመ እንድርያስስታጝኒል ጥዉ።', 'ስሙንት ጣስንም ብርዘው ፅውዘዝ ፅዊትር ኽርይር ዊንች፤ ጛይም ጚ ፅዊተነውድ እየሱስስ ድቍⶖ።', 'ጘጝም ጝርጐ ኣልት ጝርናንድ ፃይ ጒሱ፤ ብርዘው ፅውዘድም በውዝ ጝርጊስ ሊቁ፤ ጚይም ጕር ጛት ኣቭኑዝች።', 'ኰረየን ጥውረት ግረም፣ ድልሚዝ ጘጝ ጅልወይዙ ኽዝቭድ ፅውዝጅኒዝመ ጋኒናኒዝ ፃይሸቊዝዛት እጝቅትቅ እየሱስትጐ ነሱ።', 'ኻትመይዙ ኽዝቭድ እጝቅቅ ቢዘይል ኣኽቭሽ ዊኑ።', 'ጘጝም ቲተቲተው ፅውዘዝ ፅዊተቍ ንቕፀቍ እቅ ቓዙ፤ ንቕፀቍ ጋኒናንም ፊሱ፤ ዊገድ ግን ጋኒናንድ እየሱስት ኣው ኣቐጘ ኣርቕጝ ዊንጛንስቅ ውረውረቅ ዊግትጥጘ ፊቅድየውም።', 'እየሱስ ገሊለስ ወንጌል ክንስጘ', 'ጛምርሲዝም ግረቨዝ ቅሸነይዝ ጕ ጝኒስ ፉ፤ ላው ገለል የው ስፍረልም ፊር ፃልያ\\ue07d ዊኑ።', 'ስሙንስመ ጝፃምጢዝም ጕጝ ጝት ደምዝጥጘ ኪርምⶖ።', 'ችጘጘም፦ «እጅር እጝቅ ክት ደምዘኵ» ይ\\ue07d።', 'እየሱስም፦ «ክንስጨ ማጥን እኒስ ጕን እት ጣቂል ፅበቍ ኪቋኒል ፊርነ፤ ምላሰንድም ያን ተጠውድ እንዝቍዝ የጝ» ዩ።', 'እንዝ ማጥን ጝታምኵራቫኒል ክንሳ\\ue07d ጋኒናንድም እቂስ ፊሳⶖ ገሊለት ምሉዝ ጅልዉው።', 'እየሱስ ለምፃም እጅርድ ቓዘጘ', 'ላው ለምፃም እጅርም እየሱስ ትጐ ተር ጝበዊል ግርቨቭሽ፦ «ፊቅድረውዝየ ይለምፂስ ቓዝተ ቸልደኵ» የው ጨዉ።', 'እየሱስም ጝጭስ ጭቕጘ ኣርኽርኻንስቅ ጝናንድ ዘርጋቕ ላምጥጣ\\ue07d፦ «ፊቅድኩን ቓጭ» ዩ።', 'ኣይንድም በውዝ ጝለምፅድየን ጝጊስ ሊቁ፤ ጝፁዘይስም ቓዱ።', 'ማርቈስት ወንጌል', 'እየሱስ ድውይ እጅር ቓዘጘ', 'ዊትቍ ግርቅዝ ግረም እየሱስ ቅፍርናዀም ዋጥር ተሩ፤ ኽዝቭድም እየሱስ ጝግል ጝኒል ፅበጘ ወሹ።', 'ኣቓንስቅም ጝንድም ቢዘድም እቻቕ ስፍረ ብሽትጢስቅ ንቕፀው ኽዝቭ ኣኽቭሹ፤ ጘጝም እደረት ቃልድየንት ሲቭኩ።', 'እቅም ላው ድውይ እጅር ሲዘ እቅዝ መውስጝ ጝጐ ነሰⶖ።', 'ኽዝቭድ ጭቕጘ ንቕፅ ድውይድየንት እየሱስ ትጐ ኣልሰነ ብጛንስቅ ኽድምድየንት እየሱስት ጭቅተይዝ ባቝዝጝ ድውይድየንት ኣረቲጅቅ ጊምዝⶖ።', 'እየሱስም ጝታእምንትድ ኣርቕ ድውይድየንት፦ «እፈረ ክተ! ክኽጥያትድ ይቅር ይሽትኩ» ዩ።', 'ኣይንድም ጝግል ጐይጝ ዊነቊ ላው ላው ወሪትት ኽግ ክንሰጥድ ጝታዘኒዝ፦', '«እን እጅርድ ወረጘ የጝ እነየው ዛንዙ ዊገ ዊግተውድ? ላው እደረትለ ኽጥያት ይቅር ይጠ ቸለውድ ኣው የጝ?» ይⶖ።', 'እየሱስም በውዝ ጝታእዘኒዙ ኻሰቭድድየንት ጝመንፈሲዝ ተረድሽ፦ «ውር ቃጥ የጝ ክታእዘኒዝ እንት ይርን ኻስቭርነውድ?', 'ድውይድየንት፦ ‹ክኽጥያትድ ይቅር ይሽትኩ› የነውድመ ዊንስ፦ ‹ጒር ክኣረትድ መውትር ፊጥ› የነውድ ኣውየን ቀለኵ?', 'ዊገድ ግን እጅር ዅር ዝቨይስ ኽጥያትድየንት ይቅር ይጠ ስልጣን ፃየው ኣቐጘ ኣርቕትርነ ማጥን የጝ» የው ድውይድየንት፦', '«ጕር ከኣረትድየንት መውትር ክጝን ፊጥ የኵን» ዩ።', 'እጅርድም ጕ እጝቅቅ ቓልጛⶖ ጝኣረትድየንት መውር ፊሩ፤ ጘጝ ስፍረይል ዊነቍድም እን ዊገይዝ ዲንቅሽጝ፦ «እነየው ዊገ ቓልንም ኣርቓይነቅ» ይጛⶔ እደረስ ሚዝየነ ኣልስⶖ።', 'እየሱስ ማቲወስ ይሽተው ለዊት ጭጘጘ', 'እየሱስም እንደ ገነ ባኽሪዙ ደርቸይል ፉ፤ ንቕፀው ኽዝቭም ጝጐ ተሩ፤ ጘጝም ክንሱ።', 'ጝዝ ዲቋንድም እልፊወስት ዅር ለዊት ቀረጥ ቀቨነ ስፍረይል ጐይ ቓሉነ፦ «ለው ይት ቲክን» ዩ፤ ጘጝም ጕ ጝት ቲክኑ።', 'እየሱስም ለዊት ጝኒል መድል ጐይ ፅባ\\ue07d፣ ንቕፀቍ ቀረጥ ቀቨቍዝመ ኽጥያትኝጥዝ ጝስመ ጝክንደጢዝዛጅቅ ዅጛ\\ue07d ዊን\\ue07d፤ ጝት ቲክነቍድም ንቕፀቍ ዊንⶖ።', 'ፈሪሳኒዝ ዊግን ኣቐቝ ወሪትት ኽግ ክንሰጥድም ቀረጥ ቀቨቊዝመ ኽጥያትኝጢዝዛጅቅ ኣቕ ዃንድ ቓልጝ፣', 'ጝክንደጥድዛት፦ «ውር ቃጥ የጝ ቀረጥ ቀቨቊዝመ ኽጥያትኝጢዝዛጅቅ ዀውድ?» ይጝ ዋቕርⶔ።', 'እየሱስም ዊግትጘውድየንት ወሽ፦ «ኻይክም በንዘውድ ፅውዝጅንጥዝጚ ትኽንቊዝም ኣየው፤ ያንም ኽጥያትኝጥድጚ ፃድቃንድ ጭጝጨም ተጢቀር» ዩ።', 'ፃምዝቍዝ ኣልተው ዋቕረ', 'እየሱስም፦ «ኣስንድ ጛጅቅ ፅባⶔ መጭድ ፃምጥጘ ጥውሽጡመ? ኣየውም፤ ኣስንድ ጛጅቅ ኣቕ ፃምጥጘ ጥውሻውም።', 'ዊገድ ግን ኣስንድ ጛጊስ ቲተው ግርየ ተርጡ፤ ኣይንድም ፃምጥቍ።', 'ኻፍለ ኣልቨይል ኣይር ምልግቨ ሚልግቨው ኣውማውም እጀው፤ እኒን ፃቭሽትሽ ግን ኣይር ምልግቨድ ኻፍለድየንት ቀድጡ፤ ቀዳድድም ወሰው ኣጡ።', 'ቈሽም ኣይር ወይኒዙ ሚዘ ኣርጐው መርል እቝረው ኣውማውም እጀው፤ እኒን ፃቭሽትሽ ግን ወይኒዙ ሚዘድ መርድየንት ብጥቕ ሽጡ፤ ወይኒዙ ሚዘድም ቅብርጡ፤ መርድም ጨቅሽጡ፤ እንዝ ማጥን ኣይር ወይኒዙ ሚዘይዝ ኣይር መር በንዘኵ» ዩ።', 'ቅዳምሲንቭትት ማጥን ኣልተው ዋቕረ', 'ቅዳምሲንቭት ግርየዝ እየሱስ ቺዝጝ ማኽሊዝ ፃቭ ዲቋንድ፣ ጝክንደጥድ ፃጝጛ\\ue07d ሽውር ቅዝጥጘ ኪርምⶔ።', 'ፈሪሳንድም፦ «ቓል! ክክንደጥድ ውርቃጥ የጝ ቅዳምሲንቭትት ኰር ፃቭጥነ ጥውሻው ዊገ ፃቭጘውድ?» ይጝ ዋቕርⶖ።', 'እየሱስም፦ «ዳዊት ጝጅቅ ዊነቍ እቂጅቅ ጭቕጘ ግድርዳንድ ፃቨው ዊገድ ኣንቭቪርነቅመ?', 'ካኽነጣነ ኻልቀ ኣቭየተርት ዚምኒዝ እደረት ጝኒል ጥው፣ ካኽነጣንድ ጭቍ ዅጥጘ ጥውሸው ቀድሽተው ኽቭስትድየንት ኹ፤ ጝጅቅ ዊነቍዝም ይዉ» ዩ።', 'ቈሽም፦ «ቅዳምሲንቭት እጅርዝ ማጥን ፋጥርሹጚ እጅርም ቅዳምሲንቭት ማጥን ፋጥርሺየው።', 'እንዝ ማጥን እጅር ዅር ቅዳምሲንቭትስም እኳ ኣደረ የጝ» ዩ።', 'እየሱስም እንደ ገነ ምኵራቪል ጥዉ፤ ጝግልም ጝናንድ ሲለው እጅር ዊኑ።', 'ጛጊስም ላው ላውድ ምላሰንዝ ኪስጥጘ በንጝ፦ «እስቲ ቅዳምሲንቭት ግርየዝ ቓዘው ኣቕሽ ቓልነ» ይጝ ጝት ጝት ቓልጛ\\ue07d ዊን\\ue07d።', 'እየሱስም ጝናንድ ሲለው እጅርድየንት፦ «ኣኽቭሸው ኽዝቭዝ በዊል ጕር ችብጭ» ዩ።', 'እየሱስም፦ «ቅዳምሲንቭት ግርየዝ ፊቅድሸውድ ቀሰው ፃቨነውመ ዊንስ ጭቓ ፃቨነው? ርዅየ ቓዘነውመ ዊንስ ድሰነው?» ዩ፤ ጛይ ግን ዝም ይⶔ።', 'ጘጝም ጝታዘንድ ዲንድነው ኣቓንስቅ ኻዝን፣ ጝት ኪብጝ ችብረቊድዛት ቍጠዝ ቓሉ፤', 'እጅርድየንትም፦ «ክናንድ ዘርጋቕ» ዩ፤ እጅርድም ዘርጋቑ፤ ኣይንድም ጝናንድ ቓዱ።', 'ፈሪሳንድም ኣወሽጝ ጝት ድስጥጘ ኺረውድስት ዊግኒጅቅ ማኽርኽርሸነው ኪርም\\ue07d።', 'ንቕፀቍ እቅ እየሱስት ቲክንጘጘ', 'እየሱስም ጝክንደጢጅቅ ባኽሪዝጐ ፊሩ፤ ገሊለስ ተረው ንቕፀው ኽዝቭም ጝት ቲክኑ።', 'ሰራሸው ዊገድቅ ወሽጛንድ ንቕፀው ኽዝቭ ይዅዳስ፣ እየሩሳልየምስ፣ የደውምያስስ፣ ዮርዳኖስት እጂ ፅበቍ ኻግራኒስ፣ ቈሽም ጢረውስስመ ሲዱነታጐይስ ተሩ።', 'ኣኽቭሸው ኽዝቭድም ጝት ኣፂሳየጘ፣ ጝክንደጥድዛት፦ «መልወ ታ\\ue07dኰት ኣስልጥን» የው ኣዙ።', 'ንቕፀቍ እቅ ቓዛንስቅ ፅውዘዝ ተሰቃይሽተቊድቅ ዳቕጥጘ ቀድምድምሽጛⶔ ዊን\\ue07d።', 'ርኵሳን መንፈሳንድም ጝት ቓልጘው ጨቨቅ ጝበዊል ሊቭጛⶔ፦ «ክት እደረት ዅር የጝ!» ይጛ\\ue07d ቓፅጛⶔ ዊንⶔ።', 'እየሱስ ግን ጝጝ ኣው ኣቐጘ ጋልፃይጘጘ ቐናዝ ጣጝቅቅሱ።', 'እየሱስ ፅጭ ሊጘ ኻወርየታንድዛት ይመጘ', 'እየሱስም ኣበል ፍ ጘጝ በነቍ እቅድዛት ጝጐ፦ «ላቝጥን» የው ጭጙ፤ ጛይም ጝጐ ተርⶖ።', 'ጝጅቅ ኣጛንስ፣ ሲቭክጛንስም እፃጠ፣ ጛጊስ ፅጭ ሊጘ ይሙ፤ ጛትም፦ «ኻወርየታን» የው ጭጙ።', 'ጋኒናንድዛት ፊስጛንስም ስልጣን ይዉ።', 'ይምሸቊ ፅጭ ሊጘድም፦ ጘጝ ቢጥሮስ የው ሽ\\ue07d ፊሰው ስሙን፣', 'በኣኒርገስ ዊንም ነጐድጓድዝ ቝር የው ጭጘቍ ዘቭዲወስት ቝር ያይቈቭስመ ጝዝን ይዃንስስ፤', 'እንድርያስ፣ ፊልበውስ፣ በርተለሚወስ፣ ማቲወስ፣ ተውማስ፣ እልፊወስት ዅር ያይቈቭ፣ ታዲወስ፣ ቀንየተ ስሙን፣', 'እየሱስት ዲቊስ ይወው ኣስቈረቱ ይዅዳ ጛይ።', 'እየሱስ ብየልዘቩልዝ ጋኒናን ፊሰኵ ይሽተጘ', 'ጝዝግረም እየሱስ ላው ጝንል ጥዉ፤ ጝስመ ጝክንደጢዝ ሚ ዀነ ብጥጚስቅ ንቕፀው ኽዝቭ እንደ ገነ ኣኽቭሹ።', 'ጝዚምዳንድም እን ዊገድ ወሽጛንድ፦ «ጝኣይምረውድ ቀርኩ» ይጝ ጝት ፊስጥጘ ተርⶔ።', 'እየሩሳልየምስ ተረቍ ወሪትት ኽግ ክንሰጥድም፦', '«ብየልዘቩልዝ ፃይሽኩ፤ ጋኒናንድ ፊሰውድም ጋኒናነ ኻልቀዝ የጝ» ይⶖ።', 'እየሱስም ጛት ጭጝ፦', '«ሲጣን ሲጣንድየንት ፊስጠ ቸልጡመ?', 'ጝስመ ጝስ ቲተቲተው ምጝግስት ፀናጠ ቸላውም።', 'በተሰቭም ጝስመ ጝስ ቲተቲተውዝየ ፀናቕ ፅብጠ ቸላውም።', 'እኒዝጘም ሲጣን ጝቕም ቲተቲተው፣ ጝቕምትም ተፃርርሸው ኣቐውዝየ ድዘኵጚ ፀናቕ ችብርጠ ቸላውም።', 'እኒዝጘም ላው እጅር በውርስ ኻይሉ እጅርድ እፅቊጝቀ ኻይሉ እጅሪዝ ጝኒል ጥው ንቭርትድ ዚርፍጠ ቸላውም፤ ዚርፈነው ቸለውድም ኻይሉ እጅርድየንት እፅቋንድ ጭቝ የጝ።', 'እማንቱ የኵን! እቀ ኽጥያትዝመ ዛሽጘው ዛንዝድቅ ይቅር ይሽትጡ።', 'ዊገድ ግን መንፈስ ቅዱስትል ዛንዙ ቃል ዊግተው እጅርድቅ እጝቅ ዘላልምዙ ኽጥያት ቢን ጕርየ ኣቐኵጚ ዘላልም ይቅር ይሽታውም» ዩ።', 'እኒንትም የውድ፦ «ርኵስ መንፈስዝ ፃይሽኩ» ይጛንስቅ የጝ።', 'እየሱስት ኘስመ ጝፅንስ', 'እንዝ ግረ ጝኘስመ ጝፅንስ ተርⶖ፤ ቢዘይል ኣቕጝም እጅር እፃቕጝ ጭጝስⶖ።', 'ጝጋቢል ጐይጝ ዊነቍ እቅድም፦ «እንወ! ክኘስመ ክፅንስ ቢዘይል ክት ደምዝጘኵ» ይ\\ue07d።', 'እየሱስም፦ «ይኘየን ኣውጚ? ይፅንድስ ኣውታይ ጛይ?» ዩ።', 'ጝጅልወይል ጐየቍ እቅድዛትም ቓላⶖ፦', '«ይኘየንም ይፅንድም እንዛይ ጛይ።', 'እደረት ፍቃድድ ፋፅመውድቅ እጝቅ ጘጝ ይዝን፣ ይስን፣ ይኘም የጝ» ዩ።', 'ማርቈስት ወንጌል', 'ዚረ ፊዘተዙ ተከድ', 'እየሱስም እንደ ገነ ባኽሪዝ ጋቢል ኣቕ ክንስጠ ኪርሙ፤ ጘጝ ፅበው ጅልወይል ጭቕጘ ንቕፀው ኽዝቭ ኣኽቭሻንስቅ፣ ባኽሪል ፅብረይ ታ\\ue07dኰየንትል ጥው ጐዩ፤ ኽዝቭድ እጝቅ ባኽር ደዪል ፅበው ስፍረይል ዊኑ።', 'ጘጝም ንቕፀቍ ዊቅ ተከዝ ክንሱ፤ ክንሳንድም እንት ዩ፦', '«ወጭጥን፤ ላው ኣርሸ ዚረ ፊዝጠ ፊሩ።', 'ፊዛንድም ላው ላው ዚረድ ጒደን ደዪል ሊቩ፤ ዚልቅም ተርጝ ሊቅምጝ ዅⶖ።', 'ላው ላው ዚረድም እቀጘ ብጥ እጀው ፃፀይል ሊቩ፤ ዝቨድም ሲፍ የው ኣቓንስቅ በውዝ ቢቍሉ።', 'ዊገድ ግን ኰረድ ፋንድ በውዝ ፃምልዉ፤ ስር ሲቭየው ኣቓንስቅም ይዙ።', 'ላው ላው ዚረድ ቈሽ ኣምቃነው ቊጥቋጥ ማኽሊል ሊቩ፤ ኣምቃነው ቍጥቋጠድም ሊግዝ ቢቈለድየንት ኻንቓንስቅ ፍር ፍርዝየውም።', 'ላው ላው ዚረድ ቈሽ ቀሰው ስፍረይል ሊቭ ሊግዙ፤ ፍርም ይዉ፤ ላውድ ሰውርጝን ፍር፣ ላውድ ዋልጥርጝን ፍር፣ ላውድም ላ ፍር ፍርዙ።»', 'ዊግት ኻተጘም፦ «ወሸው ቀርዝ ፃየውድቅ ወሽነ» ዩ።', 'ጝለ ኣቓንድም ፅጭ ሊጘይዝመ ላብጠ ዊነቍ እቂዝ ተከጢዙ ትርጕምድ ዋቕርⶖ።', 'ጘጝም፦ «ክታጭስ እደረት ምጝግስቲዙ ምስጢርድ ኣርቐነው ነይሽትኩ፤ ቢዘይዝቍዝ ግን ዊገድ እጝቅ ተከዝ ድቊሽተኵ።', 'እንም ኣቐውድ ጛይ እደረ ትጐ ዋጥርጝ ጝታኽጥያትድ ይቅር ይሽታየጘ፦ «ቓለነውድ ቓልጘኵ፤ ዊገድ ግን ኣስክሳቍም፤ ወሸነውድ ወሽጘኵ፤ ዊገድ ግን ልብታቍም» ይሽተውድ ፋፅምሻንስ የጝ።', 'እንዝ ግረም እንት ዩ፦ «እኒን ተከድየንት ተረድሽቲርነቅመ? እድስለ ላጥ እጝቅ ተከጥድዛት ኣውሽርን የጝ ተረድሽትትርነ ቸልድርነውድ?', 'ኣርሸድ ቃልድየንት ፊዘኵ።', 'ላው ላው እቅድ ጒደን ደዪል ሊቨው ዚረድ ተክጘኵ። ቃልድ ወሽጋንድ ሲጣን በውዝ ተር ጝታዘኒል ፊተው ቃልድየንት ፊሰኵ።', 'እኒዝጘም ላጥድ ፃፀ ዝቨይል ፊተው ዚረድ ተክጘኵ፤ ቃልድየንት ወሽጛንድ ዲስተዝ ለምርጘኵ።', 'ዊገድ ግን ስር ሲቭየቍ ኣቕጛንስቅ ዊቱ ግርየ ጭቝ የጝ ዊንጘውድ፣ ቃሊዝ ምላሰንዝ ሚከረ ዊንም ስድት ተራንድ በውዝ ፅጋርጘኵ።', 'ላጥድ ቈሽ ኣምቃነው ቍጥቋጥ ማኽሊል ፊተቍ ዚረድ ተክጘኵ፤ ቃልድየንት ወሸነውድ ወሽጘኵ።', 'ዊገ ግን እን ኣልሚዙ ኻሰቭድ፣ ኻፍትዙ ፍቅርድ፣ እኒዝጘም ላየ ዊገዙ ምርቕፀድ ቃልድየንት ኻንቕ ፃየነውዝ ፍር ፍርዛየጘ ፃቨኵ።', 'ላጥድ ቈሽ ቀሰው ዝቨይል ፊተቍ ዚረድ ተክጘኵ፤ እንዛይም ቃልድየንት ወሽጝ ለምርጝ ሰውርጝን፣ ዋልጥጝን፣ ላም ፍር ፍርዘቍ ጛይ።»', 'መቅረዚዙ መቭራቲዝ ተከድ', 'እየሱስም፦ «መቭራት ነስርን ቃቀ ኣቒል ዊንም ኣረት ኣቒል እቝርድርነኵመ? መቅረዚል ኣየውቀ እቚርድርነውድ?', 'እኒዝጘም ጭቭርሸው ጋልፅሽቲጝቀ ሲውርሸውም እትሊጝቀ እዳቓውም።', 'ወሸው ቀርዝ ፃየውድቅ ወሽነ» ዩ።', 'እንደ ገነም፦ «ወሽርነው ዊገይዝቍዝ ጣጝቅቅጭጥን፤ ሚክርድርነው ሚክረነይዝ ክታጭስም ሚክርሽጡ፤ እንድያውም ጝጊስ ዲቈው ቈሺትጡ።', 'ፃየው እጅሪዝ ቈሺተኵ፤ እጀው እጅሪስ ግን ፅብረየን እኳ ፊስሽተች» ዩ።', 'ቢቊለው ዚረይዙ ተከድ', 'እየሱስም፦ «እደረት ምጝግስትየን ዝቨይል ዚረ ፊዘው እጅርድየንት ተከች።', 'እጅርድ ኻር ኽርየኵ፤ ጊርቀም ነቃቐኵ፤ ዊገ ግን ጘጝ ኣርቒጝቀ ዚረድ ቢቊል ሊግዘኵ።', 'ዝቨየን ጝርቕም ኣፍለ ቢቈለ፣ እግረም ዘለለ፣ ጝዝ ግረ ቈሽ ፍር ይወች።', 'እጅርድም ኣረድ ችጛንድ ማፅወ ችጛንስቅ ኣይርጠ ጝመይር ኣስለነው ኪርመኵ» ዩ።', 'ስናፍጭ ዚረት ተከድ', 'ቈሽም፦ «እደረት ምጝግስትየንት ወረጘ ጅቅ ተከተክዝንቅ? ወረጘ ተከዝስ ጝርት ጋልፅንቅ?', 'ስናፍጭ ዚረት ተከች፤ ጚ ዝቨየንትል ፊተው ዚረይስቅ ጭቕጘ እጥን ጚ።', 'ፊትር ሊግዝረት ግረ ግን ኣታክልቲዙ ስፍረይል ፅበቍ ኣታክልታኒስቅ ጚ ኽየች፤ ኽየቍ ቅርንጫፋንም ፊሰች፤ ዚልቅም ጝርፃመይል ፈወነው ቸልጘኵ» ዩ።', 'እየሱስም እቅድ ተረድሸነው ቸልጥጚስቅ፣ እንዛት ተከቍ ንቕፀቍ ተከጥዝ ድቁ።', 'ተከዝ ኣዪጝቀ ውረውረቅ ድቋውም ዊኑ፤ ጝታለ ኣጛንድ ግን እጝቅ ዊገድየንትቅ ጝክንደጢዝ ኣስርድዛⶖ ዊኑ።', 'እየሱስ ማቨልድየንት ችብሰጘ', 'ጘጝ ግርየድም ኵናንድ ጝክንደጥድዛት፦ «ባኽሪዝ እጂ ከርነ» ዩ።', 'ጛይም ኽዝቭድ በርጝ እየሱስ ታ\\ue07dኰይል ዊነጘ ጝዝ ጝዝ ፃይጝ ፊርⶖ፤ ላጥ ታ\\ue07dኵጥም ጝጅቅ ዊንⶖ።', 'ኣይንድም ኻይሉ ማቨል ጉ፤ ማቨልድም ታ\\ue07dኰድየንት ኣቝዝ እቻጢስቅ ኣናውጥዛⶖ ዊኑ።', 'እየሱስ ግን ታ\\ue07dኰይዝ ግርገይዙ ክፍሊል ቍርሸነ ቍርሽ ኽርይ ዊኑ፤ ጝክንደጥድም ጒስጝ፦ «ክንሰተወ! ድዝናንድመ ዝም ይራ?» ይⶖ።', 'እየሱስም ጕ ፊግየድየንት ጋስፁ፤ ባኽርድየንትም፦ «ዝም ይ! ፀጥ ይ!» ዩ፤ ፊግየድም ዝም ዩ፤ ኽየው ፀጥተም ኣቑ።', 'እየሱስም ጝክንደጥድዛት፦ «ውር ቃጥ የጝ እነይርን ጐውትርነድ? ውር ቃጥስ የጝ እምንት ብርነውድ?» ዩ።', 'ጛይም ጭቕጘ ጐውትጝ ጛስ ጛይ፦ «ፊግየዝመ ባኽርዝ ኣዚትጘው እኒን ኣውፈ!» ይሽተይሽትⶖ።', 'እየሱስ ጋኒናን ጭጘው እጅር ቓዘጘ', 'ባኽርድየንትም ከርጝ ገርገሲኑን የነው ኻግሪዝጐ ተርⶖ።', 'እየሱስም ታ\\ue07dኰይስ ጊመጘ ርኵስ መንፈስዝ ፃይሸው እጅር መቃቭር ስፍረይስ ፍ ዲምቅሽጠ ጝጐ ተሩ።', 'እኒን እጅርድ መቃቭር ስፍረይል ዊኑ ፅበውድ፤ ኣውማውቅ ጝት ሰንስለትዝ እኳ እፅቍጠ ቸላውም ዊኑ።', 'እክሰው ግርየም ልኵ እፅቈነ ብረትዝመ ሰንሰለትዝ እፅቍሻ\\ue07d ዊኑ፤ ዊገድ ግን ጝናኒዙ ሰንሰለትድ ቅዛⶖ፣ ጝሊኲዙ ብረትድየንትም ቅጥዝጥዝ ሸው ማላ\\ue07d ዊኑ፤ ጝት ፃይ ችብስጠ ቸለው ኣውማውም ዊኒየው።', 'መቃቭራንዝመ ኣብቕዝ ማኽሊል ኻር ጊርቅ ጅልዋ\\ue07d፣ ቓፃⶖ፣ ጝሰወነትድየንትም ቕርጘዝ ቀቨቀቫ\\ue07d ዊኑ።', 'እጅርድየንም እየሱስት እክልስ ቓለጘ ጝጐ ውጢ ጝበዊል ግርቨቭሽ ሲግዱ።', 'ኽየው ድመዝም ቓፅ፦ «ልውል እደረት ዅር እየሱስወ! ክት ይጅቅ ውር ውላ ፃይረር? ይት ኣሰቃይዛይረጘ እደረስ ፃይስኩን» ዩ።', 'እኒንት የውድም እየሱስ፦ «ርኵስ መንፈስ ክተ! እን እጅሪስ ፍ!» የው ኣዝ ዊናንስቅ የጝ።', 'እየሱስም፦ «ክሽⶖድ ኣው የጝ?» የው ዋቕሩ፤', 'እጅርድም፦ «ንቕፀቍ ኣናንስቅ ይሽ\\ue07dድ ለጊወን የጝ» ዩ።', 'ኻግሪስም ጅግዛየጘ ጭቕጘ ጨዉ።', 'ጘጝ ብጣይል ችጝሸቍ ኵምብልትጢል መጝገ ኣሰመ ውላቕ ዊኑ።', 'ርኵሳን መንፈሳንድም እየሱስት፦ «ኣለቀይ ኣሰምጢል ፊርን ጥውነ ፊቅጅ» ይጝ ጨውⶖ።', 'ጘጝም ፊቅዱ፤ ርኵሳን መንፈሳንድም እጅሪስ ፍጝ ኣሰምጢል ጥውⶖ፤ ሊጘ ሽኽ ኣቐቝ ኣሰምጥድም ቀልቅለይዙ ጫፊስ በጕርጝ በጕርጝ ባኽሪል ጥውጛ\\ue07d ስ\\ue07dርሽ\\ue07d።', 'ምቕድም ሰይጝ ፊርጝ፤ ጂጘድየንት ኻትመይልም ገጠሪልም ጂጝዝ\\ue07d፤ ኽዝቭድም ኣቐው ዊገድየንት ቓልጠ ጝፅበው ጝፅበው ስፍረይስቅ ፉ።', 'እየሱስ ትጐ ተርጛንድም ርኵሳን መንፈሳኒዝ ፃይሽ ዊነው እጅርድ ኣልቨ ሲር፣ ጝኣይምረውድ ዋጥር፣ ዳኽነ ጐይ ቓልጛንድ ዳጝግፅ\\ue07d።', 'እኒንት ቓለቍ እቅድም ርኵስ መንፈሲዝ ፃይሽ ዊነው እጅሪዝመ ኣሰምጢል ፃቭሽተው ዊገድየንት እጝቅዝቅ ድቍⶖ።', 'እንዝ ግረም እቅድ እየሱስት ጝታኻግርድየንት ሊቅ ፊራንስ ማጥን ጨውጥጘ ኪርምⶖ።', 'እየሱስ ታ\\ue07dኰይል ጥውጠ ጓንድም ርኵሳን መንፈሳኒዝ ፃይሽ ዊነው እጅርድ፦ «ኣለቀይ ክጅቅ ተጨ» የው ጨዉ።', 'እየሱስ ግን ፊቅድየውም፤ ዊገድ ግን፦ «ክጝን ፊጥ፤ ኣደረ ኣወየው ቀሰው ዊገ ፃቨጘዝመ ክጭስ ቓሊሰው ስቝርቲዝቍዝ ክዚምዳኒዝ ድቍ» ዩ።', 'እጅርድም ፊሩ፤ እየሱስ ፃቨው ዊገድየንትም ፅቃ ኻትምጥ ይሽተው ኻግሪልቅ ኣውጁ፤ ወሸቍድም እጝቅ ዲንቅሽⶖ።', 'እየሱስ ክትረይ እፈረስመ ፅዊትረይ እውነስ ፃቨው ታምርድ', 'እየሱስም እንደ ገነ ታ\\ue07dኰይዝ እጂ ከራንድ ንቕፀው ኽዝቭ ጝጐ ኣኽቭሹ፤ ባኽር ደዪልም ፅባⶖ፦', 'ምኵራቭ ኻልቅጢስ ላው እያይረውስ ይሽተው እጅር ጝጐ ተሩ፤ እየሱስትም ቓላንድ ጝልኲል ሊቭ፦', '«ይቝረ መልወየን ክርተ ጕርኩች፤ ቓድር ርዅየዝ ፅብራንስ ማጥን ኣለቀይ ተትር ክናንድ ጝርዲጊል እቝር» የው ጨዉ።', 'እየሱስም ላብጠ ፊሩ፤', 'ንቕፀው ኽዝቭም ትክቭክቭሻ\\ue07d ጝት ቲክኑ።', 'ጝግልም ፅጭ ሊጘ ምት ምሉ ጝርብረድ ቅብርጛ\\ue07d ዊንደይ ላይ እውነ ዊንች።', 'ንቕፀቍ ጥላ ኣርቐቊል ጅልውራⶖ ጝርጊንዝቭድቅ ጨርስራንም እኳ ፅውዘድ ግን ወሱጚ ቺዝየውም።', 'እየሱስት ጂጘድ ወሽራንድም ጝእግርገይዝ እቀ ማኽሊዝ ፃቭር ተትር ጝኣልቨድየንት ዳቕች።', 'እኒንት ፃቭረውድም፦ «ጛልቨይዝ ጫፍድ እኳ ዳቓን ቓጭር» ይር ኣምንዳንስቅ የጝ።', 'ኣይንድም ቅብራⶖ ዊነው ጝርብረድ በውዝ ችብሩ፤ ጝርስቃይስ ቓድረጘም ጝርሰውነቲዝ ኣርቕች።', 'እየሱስም ኻይል ጝጊስ ፈጘ ኣርቕ፣ ኽዝቪዝጐ ዋጥር የው፦ «ኣው የጝ ያልቨድ ዳቐውድ?» ዩ።', 'ጝክንደጥድም፦ «ኽዝቭድ ኣፂት ትክቨትክቭሻ\\ue07d ቓልዳⶖመ፦ ‹ይት ኣው የጝ ዳቐውድ› ይራ?» ይⶖ።', 'እየሱስ ግን እኒንት ፃቨውድ ኣው ኣቐጘ ቓልጠ እግርገ ዋጥር ዩ።', 'እውነየንም ጝርጭስ ኣቐው ዊገድየንት ኣርቕራንስቅ ጐውትር ቈጥቈጥ ይራⶖ ተትር ጝበዊል ደፋሽች፤ ኣቐው እማንተው ዊገድየንትም ድቍች።', 'እየሱስም፦ «ይቝረወ! ከእምንትድ ቓዝኩ፤ ዲግተዝ ፊጥ፤ ክስቃይቲስም ፈው» ዩ።', 'እየሱስም ዊግታⶖ ሲጝቀ ምኵራቭ ኻልቀ እያይረውስት ጝኒስ እቅ እፃሽጝ ተርጝ፦ «ክቝረ ክትርኵች፤ እደስለ ውር ፃቭተ ክንሰተድየንት ዝላዝራ?» ይⶖ።', 'እየሱስ ግን እቅድ ዊግትጘው ዊገድየንት ቸለል የው ምኵራቪዙ ኻልቀድየንት፦ «ኣምን ጭቝጚ ጐውተ» ዩ።', 'እየሱስም ቢጥሮስስመ ያይቈቭስ፣ ያይቈቭት ዝን ይዃንስስታዝለ ላየ ኣውማውቅ ጝት ቲክንጠ ፊቅድየውም።', 'ምኵራቭ ኻልቀይዝ ጝኒል ችጘጘም እየሱስ እቅድ ቓፅጛⶖ ዋይ ዋይ ይጛⶖ ሊዝጛንድ ቓሉ።', 'ጝኒልም ጥው፦ «እን ቓፀይዝመ ሊዚዝ ወረጘ የጝ?', 'እፈረየን ኽርይርኵችጚ ክሪረይም» ዩ።', 'እቅድ ግን እቘርⶖ፤ ጘጝ ግን እቅድዛት እጝቅትቅ ጝኒስ ፊሰት ግረ፣ እፈረየንቲርስመ ጝርኘስ፣ ጝክንደጥድዛትም ቲክንዝ እፈረየን ፅብረዊል ጥዉ።', 'ጝዝእለም እፈረየንት ናንድ ፃይ፦ «ጣሊተ ቍሚ» ዩ፤', 'ትርⶖምድም፦ «እፈረ ክተ ጕ» የነት የጝ።', 'እፈረየንም በውዝ ጕር ችብርች፤ እነኒረም ዋጥርጥርች፤ ጝርእድሚድም ፅጭ ሊጘ ምት ዊኑ፤ እቅድም ኣቐው ዊገይዝ ጭቕጘ ዲንቅሽⶖ።', 'እየሱስም ኣቐው ዊገድ ኣውማውቅ ኣርቓየጘ ቐናዝ ጣጝቅቅሱ፤ ጝርስም ዀነው ይውጛንስ ማጥን ኣዙ።', 'ማርቈስት ወንጌል', 'እየሱስት ናዝሪትቍ እቅድ ለምጠቅ ይጘጘ', 'እንዝ ግረ እየሱስ ጝጊስ ጕ ጝኻግር ፊሩ፤ ጝክንደጥድም ጝት ቲክንⶖ።', 'ቅዳምሲንቭት ችጛንድም ምኵራቪል ኣቕ ክንስጠ ኪርሙ፤ ወሸቍ ንቕፀቍ እቅድም ዲንቅሽ\\ue07d፤', 'ጛይም፦ «እኒን እጅርድ እንዛይ ዊቅድዛት ኣዊስ ችጙ? እኒን ጝጭስ ይውሽተው ጥቨቭድስ ወረጘ የጝ? እንዛይ ታምራንድዛትስ ፃቨውድ ኣወሸ የጝ?', 'እኒን ቃነ ፃርቨተ ኣቐው ማርያምት ዅር ኣየውቀ? ያይቈቭ፣ የውሳ፣ ይዅዳ፣ ስሙንታዝን ኣየውቀ? ጝፅን እቍንድስ እንል ይናጅቅ ፅበቍድ ኣየቍቋ?» ይ\\ue07d፤ ጝቊዝም ፅጋርⶖ።', 'እየሱስም፦ «ነቭይ ኪብራውድ በገዘ ጝኻግርስ፣ ጝዚምዳኒስ፣ ጝበተሰቪስም ጭቝ የጝ» ዩ።', 'ጝጊስም ዊትቍ ፅውዝጅንጢል ጝናንድ እቝር ቓዙጚ ላጥ ታምራን ፃቭጠ ቸሊየውም።', 'ኣምናቍ ኣጘጘም ቓል ጊርምሹ፤', 'ጝዝለም ኪው ጨቨቅ ጅልዋⶖ ክንስጠ ኪርሙ።', 'እየሱስ ፅጭ ሊጘድ እፃቐጘ', 'ፅጭ ሊጘድዛትም ጭጝ ሊጘ ሊጘ ፃቫⶖ እፃቑ፤ ርኵሳን መንፈሳንድዛት ፊስጛንስም ስልጣን ይዉ።', 'እንት የውም ኣዙ፦ «ክታጒደነይዝ ግብ ኣቕሽጚ ሊቈ ዊንም ሳንጠ ዊንም ክታከምሸነይል ጊንዝቭ ፃይትርነ።', 'ፃብ ፃብጥን፤ ዊገድ ግን ሊጘትረ ኣልቨ ሲርትርነ።', 'ኣውማው ጝንልቅ ጥውርናንድ ኻትመይስ ፍትርኒስቅ ጘጝ ጝኒል ጐይጥን።', 'ኣውማው ስፈረይስም እቅ ክታት ለምራቍ ዊንም ወሻቍ ኣጘውዝየ ጘጝ ስፍረይስ ፍርናንድ ጛጭስ ሚዝር ኣቓንስ ማጥን ክታልኵጣኒዙ ኣወረድየንት ጝግል ኣርግፍጥን።»', 'ጛይም ጝጊስ ፍጝ እቅድቅ ንስኻ ጥውጥጘ ማጥን ሲቭክ\\ue07d።', 'ንቕፀቍ ጋኒናንም እቂስ ፊስⶖ፤ ንቕፀቍ እቅም ዘይት ቓስጛⶖ ቓዝⶖ።', 'ጣምቀተ ይዃንስ ክረጘ', 'እየሱስት ሽⶖድ ኣርቕሽታⶖ ፊራንስቅ፣ ንጕስ ኺረውድስ እኒንት ወሹ፤ ላው ላው እቅድም፦ «ጣምቀተ ይዃንስ ክርጘይስ ጕኩ፤ ዲንቅሰቍ ታምራን ጝግዝ ፃቭሽትጘውድም እንዝ ማጥን የጝ» ይ\\ue07d።', 'ላጥድም፦ «ይልያስ የጝ» ይⶖ፤', 'ላጥድ ቈሽ፦ «ኽፅምትቍ ነቭያታኒስ ላዊዝጘ የጝ» ይጛ\\ue07d ዊን\\ue07d።', 'ኺረውድስ ግን ዊገድየንት ወሻንድ፦ «እኒን ያን ጝቕልመድ ቀቭሰው ይዃንስ የጝ፤ እንወ! ክርጘይስ ጕኩ» ዩ።', 'ኺረውድስ ጝዝን ፊልበውስት እውነ ኺረውድያደት ድዋንስቅ፣ ይዃንስት ጝርማጥን ፃይስ ወኽኒ ጝንል እፁስ ዊኑ።', 'እንም ይዃንስ ኺረውድስት፦ «ክዝንት እውነት ድውተ ወሪትት ኽግድ ፊቅዳውም» ያ\\ue07d ዊናንስቅ የጝ።', 'ኺረውድያደም እን ዊገይዝ ቅይምሽር ይዃንስት ቍውስተ በንራ\\ue07d ዊንች፤ ዊገድ ግን ቍውስተ ቸሊረይም።', 'ምላሰንድም ይዃንስ ፃድቅ ቅዱስም እጅር ኣቐጘ ኺረውድስ ኣርቓንስቅ ጐውት ሊሚዳ\\ue07d ዊኑ፤ ኺረውድስም ይዃንስ ዊግተውድየንት ወሻንድ ጭቕጘ ኻውክሻ\\ue07d ዊኑ፤ ኣነጚ ዲስተዝ ዊኑ ወሸውድ።', 'እንዝ ግረም ኺረውድስ ጝእዅርሸው ግርየድ ኪብርዝጠ፣ ስልጣን ጒጢዝ፣ ጠውር ኣዘቲዝ፣ ላው ላው ኣርቕሽተቍ ገሊለትቍ እቂዝ ድግስ ኣስል ጭጙ፤ እንም ኺረውድያደስ ቀሰው ኣጋል ኣቑ።', 'ኣይንድም ኺረውድያደት ቝረ ድግሲል ጥውር ዚቨነውዝ ኺረውድስስመ ድግሲል ዊነቍ ኣብኒዝ ዲስ ሽች፤', 'ንጕስ ኺረውድስም እፈረየንት፦ «በንረውድቅ ዋቕር ነቅጭር» ዩ።', 'ቈሽም፦ «ይምጝግስቲስ ግቨርድ እኳ ዋቕርድሽ ነቀኵን» የው ቃል ጥዉ።', 'እፈረየንም ጝርኘትል ፊትር፦ «ወረጘ ጨውጫ?» ይች፤', 'ጝርኘም፦ «ጣምቀተ ይዃንስት ኣውርድ» ይች።', 'እፈረየንም በውዝ ንጕሲል ዋጥርድር፦ «ጣምቀተ ይዃንስት ኣውርድየንት ነን ሽኻንል ፃቭር ነቅ» ይች።', 'ንጕስድም እን ዊገይዝ ጭቕጘ ኻዝኑ፤ ጭጘቍ ኣብኒዝ በዊል ጥወው ቃልድየንት ግን ኣፅቭጠ በኒየውም።', 'እንዝ ማጥን ላው ዊተድረ በውዝ እፃቕ ይዃንስት ኣውርድ ቀቭ ነሳንስ ኣዙ፤ ዊተድረድም ወኽኒ ጝኒል ፊር ይዃንስት ኣውርድ ቀቩ።', 'ሽኻንልም ፃቭ እፈረየንስ ይዉ፤ እፈረየንም ጝርኘስ ፊስር ይውች።', 'ይዃንስት ክንደጥድም እኒንት ወሽጘጘ በውዝ ተርጝ እርሸድየንት ፊስጝ ዲቭⶖ።', 'እየሱስ ኣኰ ሽኽ እቅ ታምርዝ ሚግቨጘ', 'ኻወርየታንድም እየሱስት ጋቢል ኣኽቭሽጝ ፃቭጘውድየንት ክንስጘውድየንትም እጝቅትቅ ጝጭስ ድቍⶖ።', 'ንቕፀቍ እቅ ዋጥርጥርጛⶖ ዊንጛንስቅ ዅረ ዀነው ሰት እኳ ችጝየቍም፤ ኣቓንስቅም፦ «ላቝጥን ገለል የው ስፍረል ፊርነነ ጝግል ዊቱ ፈውጥን» ዩ።', 'እንዝ ማጥን ጝታለ ገለል የው ስፍረል ታ\\ue07dኰዝ ፊርⶖ።', 'ኣነጚ ጛይ ፊርጛንድ ንቕፀቍ እቅ ቓልጝ ጛይ ኣጘጘ ኣርቕጛንስቅ ኻትምጢስቅ ፍጝ ጝታሊኲዝ ውጢጛⶖ ቃውስⶖ።', 'እየሱስም ታ\\ue07dኰይስ ጊማንድ ንቕፀው ኽዝቭ ኣኽቭሽ ቓሉ፤ ምቓ እጀቍ ቢቂዝጘ ኣጘጘ ቓልም ጛጭስ ኻዝኑ፤ ንቕፀቍ ዊቅም ክንስጠ ኪርሙ።', 'ኣይንድ ግርየድ ኵናⶖ ፊራንስቅ ጝክንደጥድ ጝጐ ኣልትጝ፦ «እኒን ስፍረድ በራኸ የጝ፤ ግርየድም ኵንኩ።', 'እንዝ ማጥንም ኽዝቭድ ጣቀቲዝቍ ኪቊል ፊር ጝዅረ ጅቫንስ ማጥን ሲነቭሽ» ይ\\ue07d።', 'እየሱስ ግን ዊስ፦ «ክትን ዀነው ይውጥን» ዩ፤', 'ጛይም፦ «እደስለ ፊርን ዅጛንስ ማጥን ሊጘ ላ ዲናርዝ ሚ ጅቭን ይውነመ?» ይⶖ።', 'እየሱስም፦ «ዋቐ ምጭ ፃይርንኵርኑ? እስቲ ፊትርን ቓልጥን» ዩ፤', 'ጛይም ፊርጝ ቓልጝ፦ «ኣኰ ምጭዝመ ሊጘ ኻዝዝ እኵ\\ue07d» ይⶖ።', 'እንዝ ግረም ጝክንደጥድዛት ኽዝቭድየንት ቡድን ቡድንዝ ኣድልጝ ለምለም ፃቀይል ጐይስጛንስ ኣዙ።', 'ኽዝቭድም ላ ላዝመ ኣኵርጝን ኣኵርጝንዝ ኣቓ\\ue07d ቡድን ቡድንዝ ጐዩ።', 'እጝቅቅም ዅጝ እፍትⶖ።', 'ጝክንደጥድም ቲርፈውድየንት ፅጭ ሊጘ ሚስቫን ምሉ ጕይ\\ue07d።', 'ዀቍ ግልቍድም ኣኰ ሽኽ ዊንⶖ።', 'እየሱስ ባኽር ዲጊል ልኵዝ ፃጘጘ', 'በውዝም እየሱስ ኽዝቭድየንት ሲነቭሳⶖ ጝክንደጥድዛት ታ\\ue07dኰዝ በተሰይደ ቃውስጝ ከርጛንስ ኣዙ።', 'ጝጊስም ጛት በር ፃልይጠ ኣበል ፉ።', 'ኵናንድም ታ\\ue07dኰየን ባኽር ማኽሊል ዊንች፤ ጘጝም ጝለ ዝቨይል ዊኑ።', 'ጝክንደጥድም ጝታበዊል ጐው ፊግየድ ኻይልድ ዊናንስቅ ቀዝፈነውዝ ቺግርሽጝ ጋጥምጛ\\ue07d ቓሉ፤ ኻሪዙ ፃይጨ ሳድ ዲቈት ግረ ባኽርድ ደዳ\\ue07d ጝታጐ ተሩ፤ ጛትም ዲቍ ፊርጠ በን ዊኑ።', 'ዊገድ ግን ባኽርድየንት ደዳ\\ue07d ጝታጐ ተራንድ ቓልጝ ምታት ተካንስቅ ጐውትጝ ቓፅⶖ።', 'እጝቅም ጝት ቓልጛንድ ዳጝግፅⶖ፤', 'እየሱስ ግን በውዝ፦ «ኣይዝዀጥን! ያን የጝ ጐውትርነ!» ዩ።', 'ጘጝም ታ\\ue07dኰይል ፍ ጛጅቅ ላብጠ ኣቑ፤ ፊግየድም ችብሩ፤ ጛይም ጭቕጘ ዲንቅሽⶖ።', 'ምላሰንድም ሚዙ ታምርድየንት ኣስትውሊየቍም ዊን\\ue07d፤ ጝታዘንድም ዲንድን ዊኑ።', 'ባኽርድም ከርጝ ገንሰሪጥ ችጝ\\ue07d፤ ታ\\ue07dኰድየንትም ዝቨይዝጐ ኣልስጝ እፅቍⶖ።', 'ጊምጘጘም ኽዝቭድ እየሱስት ኣርቑ።', 'ጅልወይልቅ ውጥየነውዝም ፅውዝጅንጥድዛት ኣረትዝ መውርጝ ጘጝ ችጝሸው ስፍረይዝጐቅ ነስ\\ue07d።', 'ማርቈስት ወንጌል', 'እየሱስ ኣይዅዳኒዝ ኣቅለ ወግድ ተቃውምሸጘ', 'እንዝ ግረ ፈሪሳኒዝመ እየሩሳልየምስ ተረቍ ላው ላው ወሪትት ኽግ ክንሰጥዝ እየሱስትል ተርጝ ኣኽቭሽⶖ።', 'ጛይም እየሱስት ክንደጢስ ላው ላውድ ዊር የነው ስረትድ በርጝ የነትም ጝታናንድ እቓሪጝቀ ዅጛንድ ቓልⶖ።', 'ፈሪሳኒዝመ ኣይዅዳኒዝ እጝቅ ኣቅለ ወግድየንት ሊሚድጛንስ ማጥን ጝታናንድ ቐናዝጝ ቓሪጘውዝየ \\ue403ቍም ዊንⶖ።', 'ኣርየይስ ዋጥርጛንድም እቓርጝ ዊር ዪይጘውዝየ \\ue403ቍም ዊን\\ue07d፤ እኒዝጘም ወኝጨድየንት፣ መስርድየንት፣ ሽኻንድየንት፣ ኣረትድየንት ቓሰነውዝመ ላየ ንቕፀው ወግዝ ኻየቍ ዊንⶖ።', 'ፈሪሳኒዝመ ወሪትት ኽግ ክንሰጢዝም፦ «ክክንደጥድ ውር ቃጥ የጝ ይናቅለ ወግድየንት ሸረነውዝ ጝታናንድ እቓሪጝቀ ሚ ዅጘውድ?» ይጝ ዋቕርⶖ።', 'ጘጝም፦ «ይሳያስ ክትን ተክዘጢዝ ማጥን ‹እኒን ኽዝቭድ ጝምቸይዝ ይት ኪብርዘኵ፤', 'ጝእዘንድ ግን ይጊስ እክልደው የጝ።', 'ይት ጊነዝ ኣምልክጘኵ፤', 'ጝታክንድጝድም እቅ ሰራሽጘው ስረት ጭቝ የጝ› የው እማንዝ ዊግትኩ።', 'እደረት ትዛዝድ በትርን እቀ ወግ ሊሚድርነኵ» ዩ።', 'እንደ ገነም እንት ዩ፦ «ክታቕምት ወግድየንት ሊሚድትርነ ማጥን እደረት ትዛዝድየንት በረነው ቀሰውመ?', 'ሙሴ፦ ‹ኪር ክኘት ኪብርዝ፤ ጚርት ዊንም ጝኘት ዛሸውድቅ ክርጘዝ ቐፃሽነ› የውኩ።', 'ክትን ግን ላው እጅር ጚርት ዊንም ጝኘት እርዲ የነው በር፦ ‹ያን ክታጭስ ነቅጨ ጥውሸው ከቨድቅ ቍርቫን የነትም እደረስ ኣልሰነው ሚቨ ፃቭኩን› ይሽ፣', 'ክትንም እኒን እጅርድ ጝኘስም ኣነ ጚርስ ውረውረ ዊገቅ ፃቭጠ ፊቅዳይርነቅም።', 'እንዝ ኣይንትዝም ክታዅለይዝ ዲቈዲቍስርነው ወጊዝ ማጥን ይርን እደረት ቃልድየንት ሸርድርነኵ፤ እኒዝጘም እኒንት ተከው ላየ ንቕፀው ዊገ ፃቭርነኵ።»', 'ቈሽም ኽዝቭድየንት ጝጐ ጭጝ፦ «ወጭጥን! ክታእጝቅቅም ኣስክስጥን።', 'ጘጝም፦ «ክትንም እኒን ዊገድየንት ኣስክሲርነቅመ? ቢዘይስ ጊዝውል ጥወው እጅር ኣርክሰው ውረውረቅ እጀውም።', 'እዘኒል ኣዪጝቀ ጊዝውል ጥወኵ፤ ጝዝ ግረም ጝሰወነቲዝ ፈኵ» ዩ፤ እየሱስ እንት የው ዊግተነውዝ እጝቅ ዅረድቅ ንፅዅ ኣቀጘ ጋልፁ።', 'እንደ ገነም፦ «እጅሪስ ፈውድቅ እጅርድየንት ኣርክሰኵ።', 'ኣቒ እጅርዝ እዘኒስ ፈቍድ፣ ጭቓ ኻሰቭ፣ ሻርሙጠነው፣ ስⶓነው፣ እጅር ቍወነው፣', 'ጝውነት ዲጊል ፊረነው፣ ስግቭግቭየነው፣ ጭቕት፣ ኻጝሰነው፣ ደራሸነው፣ ምቀኝደነው፣ ሽⶖ ድሰነው፣ ትቪት፣ ሲዝው፣ ጛይ።', 'እንዛይ ጭቕ ዊቅድ እጝቅ እጅሪስ ፍጘኵ፤ እጅርድየንትም ኣርክስጘኵ» ዩ።', 'ሲሩፊኒቃንወ እውነት እምንትድ', 'እየሱስም ጝጊስ ጕ ጢረውስ ኻትመይዝ ጣቂል ችጝሸው ኪዊል ፊሩ፤ ላው ጝንልም ጥዉ፤ ጝግል ፅበጘም ኣውማውቅ ኣርቕጠ በኒየውም፤ ኣነጚ ሲውርሽጠ ቸሊየውም።', 'ኣይንድም መልወ ጝርቝረየን ርኵስ መንፈስዝ ፃይሽረይ ላይ እውነ እየሱስ ተረጘ ወሽር በውዝ ተትር ጝልኵጣኒል ሊቭች።', 'እውነየንም ጝርእዅርሽንድ ግሪክትወ ሲሩፊኒቃነ ዊግነ ዊንች፤ ጚይም ጝርቝረቲስ ጋኒንድ ፊሳንስ ማጥን እየሱስት ጨውች።', 'ጘጝ ግን፦ «ዅሊዙ ዅረድየንት ግፅጝዝ ማለነው ጥውሻውም፤ በዊል ዅልድ እፍጥጚስ ዅጝነ» ዩ።', 'ጚይም፦ «የይ ኣደረወ! ግፅጝም ቃል መዲዝ ሳይል ኣቕጝ ዅልድ ዅጛንድ ማልጘውድየንት ዅጘኵ» ይች።', 'ጘጝም፦ «ቀሰው ዊግትርኵሩ እንዝ ማጥን ፊጥ፤ ጋኒንድም ክቝረቲስ ፍኩ» ዩ።', 'ጚይም ጝርጝን ዋጥርድራንድ ጝርቝረ ኣረቲል ኽርይር፣ ጋኒንድም ጝርት ሊቅ ችጝች።', 'እየሱስ ዲ\\ue07dቋር ድደም ኣቐው እጅር ቓዘጘ', 'እንዝ ግረም እየሱስ ጢረውስስ ጕ ሲዱነቱ ፃቭ ፅቃ ኻትመ ይሽተው ኻግሪዝ ዲቍ ገሊለ ባኽሪዝጐ ተሩ።', 'ጝግልም እቅ ዲ\\ue07dቋር ድደም ኣቐው እጅር ጝጐ ነስⶖ፤ እየሱስትም ጝናንድ እጅሪዝ ዲጊል ፃቫንስ ጨውⶖ።', 'እየሱስም እጅርድድየንት እቂስ ቲዝ ፊስ ጝዘፍርንጥድ እጅሪዝ ቀርዝጣኒል ድዉ፤ ትፍ የውም እጅሪዝ ላቕድየንት ዳቑ።', 'ሲመይ ትጐም ቓላⶖ ቃትቱነ፦ «የፍታኽ!» ዩ፤ ትርጕምድም፦ «ቢጭ» የነት የጝ።', 'በውዝም ጝቀርዝጣንድ ቢትⶖ፤ ጝላቕድም እኪር ዊርሸው ዊግተነው ኪርሙ።', 'እየሱስም እኒንት ኣውማውስቅ ድቋይጘጘ ኣዙ፤ ኣቕሽም ጘጝ፦ «ድቍትርነ» የው ኣዘጘ ኣይጝቀ ዊገድየንት ጭቕጘ ጂጝዝ\\ue07d።', 'ኽዝቭድም ጭቕጘ ዲንቅሸነውዝ፦ «ፃቨው ዊገድቅ ቀሰው የጝ፤ ዲ\\ue07dቍራንድ ወሽጥጘ፣ ዊግትጝ ቸላቍድዛትም ዊግትጥጘ ፃቭኩ» ይⶖ።', 'ማርቈስት ወንጌል', 'እየሱስ ሲዘ ሽኽ እቅ ታምርዝ ሚግቨጘ', 'ኣይንድም እንደ ገነ ንቕፀው ኽዝቭ ኣኽቭሹ፤ ውረውረ ዀነውም ዊኒየው ኣቓንስቅ ጝክንደጥድዛት ጝጐ ጭጝ፦', '«እንዛይ እቅድ ይጅቅ ሻቘ ግርቅ ዊንጛንስቅ፣ ዀነውም እጀቍ ኣጛንስቅ ኻዝንስጘኵ።', 'እነይጝ ግድርድጘጘ ጝታጝን በርሳን ላው ላውድ እክል ኻግሪስ ተርጛንስቅ ምናልቫች ጒደነይል ዝላቕጝ ሊቭጥቍ» ዩ።', 'ጝክንደጥድም፦ «እን በራኸይስ እንቝጠ ኽዝቪዝቅ ኣቐው ሚ ኣዊስ ችጝና?» ይጝ ዊስⶖ።', 'እየሱስም፦ «ዋቐ ምጭ ፃይርንኵርኑ?» የው ዋቕሩ፤', 'ጛይም፦ «ላጝጠ ምጫ» ይⶖ።', 'ጘጝም ኽዝቭድ ዝቨይል ጐያንስ ኣዙ፤ ላጝጠ ምጭድዛትም ጒ እደረት ሚዝየንዝ በር ኪል እቂዝ ኣድልጛንስ ማጥን ጝክንደጢዝ ይዉ፤ ጛይም ኽዝቪዝ ኣድልⶖ።', 'እኒዝጘም መልቍ ኻዝ ፃይጝ ዊንⶖ፤ ጘጝም ኻዝድዛት በርክ ኣድልጛንስ ኣዙ።', 'ኽዝቭድም ዅ እፍቱ፤ እንዝ ግረም ጝክንደጥድ ቲርፈውድየንት ላጝጠ ሚስቫን እቻዝጝ ጕይⶖ።', 'ዀቍድም ሲዘ ሽኽ ኣጥጘ እቅ ዊን\\ue07d፤ እየሱስም ኽዝቭድየንት ሲነቭሰት ግረ፣', 'ጝክንደጢጅቅ ታ\\ue07dኰዝ ተሳፍርሽ ዳልማኑተ የነው ስፍረይዝጐ ፊሩ።', 'ፈሪሳንድም እየሱስ ትጐ ተርጝ ተከራክርሽጥጘ ኪርምⶖ፤ ፊትንጠጘም በንጝ፦ «ሲመይስ ምልክት ቓሊሽ» ይጝ ዋቕር\\ue07d።', 'ጘጝም ጝመንፈሲዝ ጭቕጘ ቃትት፦ «ወረጘ የጝ እን ዅለድ ምልክት በነውድ? እማንዝ የኵን፤ እን ዅለይዝ ውረውረ ምልክት ይውሽታውም» ዩ።', 'ጝጊስም ጛት ጝግል በር እንደ ገነ ታ\\ue07dኰዝ ተሳፍርሽ እጂ ከሩ።', 'ፈሪሳኒዝመ ኺረውድስት ምጨይስ ጣጝቅቅሸነው', 'ጝክንደጥድም ሚ ፃየነው ሚርⶖ፤ ላው ሚዝለ ታ\\ue07dኰይል ውረውረቅ ዊኒየውም።', 'እየሱስም፦ «ጣጝቅቅጭጥን፤ ፈሪሳነ ምጨይስመ ኺረውድስት ምጨይስ ክታቕምት ሊሚድጥን» የው ኣዙ።', 'ጛይም ጛስ ጛይ፦ «እንት የውድ ቃል ሚ እጅነቅ ኣናንስቅ የጝ» ይⶖ።', 'እየሱስም ጝታኻሰቭድ ኣርቕ፦ «ወረጘ የጝ፦ ‹ሚ እጅነቅ ኣናንስቅ የጝ› ይርን ዊግትርነውድ? ነንም ገነ ኣስክሳይርነቅመ? ልብስ ያይርነቅመ? ዊንስ ክታዘንድመ ዲንድንኩ?', 'እልጣን ፃይርን ፅብርና\\ue07d ቓላይርነቅመ? ቀርዝጣንስ ፃይርን ፅብርናⶖ ወሻይርነቅመ? ትዝስ ያይርነቅመ?', 'ኣኰ ምጭድዛት ኣኰ ሽኽ እቂዝ ቈርሳንድ ዋቐ ሚስቫን ቲርፈው ጕይርኑ?» ዩ፤', 'ጛይም፦ «ፅጭ ሊጘ ሚስቫና» ይⶖ።', '«ላጝጠ ምጭድዛትስ ሲዘ ሽኽዝ ቈርሳንድ ዋቐ ሚስቫን ቲርፈው ጕይርኑ?» ዩ፤', 'ጛይም፦ «ላጝጠ ሚስቫና» ይⶖ።', 'ጘጝም፦ «እደስለ ነኳን ኣሽ ኣስክሳይርነቅም የነትመ?» ዩ።', 'በተሰይደስ ቓደው ኻርቨድ', 'በተሰይደ ትጐም ተር\\ue07d፤ ጝግል ችጘጘም እቅ ላው ኻርቨ እጅር እየሱስ ትጐ ነስጝ ጝናኒዝ ዳቓንስ ማጥን ጨው\\ue07d።', 'እየሱስም ኻርቨይዝ ናንድ ፃይ ኪዊስ ፊሱ፤ እጅሪዝ እልጣኒልም ትፍ የው ጝናንጣንድ እጅሪዝ እልጣኒል እቝር፦ «ወረጘ ቓልደኵ?» የው ዋቕሩ።', 'ኻርቨድም ጭቅ የው ቓል፦ «እቅድ ዘፋኒዝጘ ተጝቀሳቅሽትጛንድ ቓለኵና» ዩ።', 'እየሱስም እንደ ገነ ጝናንጣንድ እጅሪዝ እልጣኒል እቝሩ፤ ኣይንድም እጅሪዝ እልጣንድ ቢት\\ue07d፤ እጝቅትቅም ዊር ሸው ቓሉ።', 'ጝጊስም እየሱስ እጅርድየንት፦ «ኪዊዝጐ ጥውተ፤ ኣውማውስም ድቍተ፤» የው ድቍ ጝጝን ሲነቭሱ።', 'ቢጥሮስት እምንቲዝመ ሚዝርነይዝ', 'እየሱስም ጝክንደጢጅቅ ኣቕ ፊልበውስ ቂሳርየት ጅልወይል ፅበቍ ኪቊዝጐ ፊሩ፤ ጒደነይል ፅብጛⶖም ጝክንደጥድዛት፦ «እቅ ይት ኣው ይጛ?» የው ዋቕሩ።', 'ጛይም፦ «ጣምቀተ ይዃንስ የጝ የቍ እኵⶖ፤ ላጥድ ይልያስ የጝ ይጘኵ፤ ላጥድ ቈሽ ነቭያታኒስ ላውድ የጝ ይጘኳ» ይጝ ድቍⶖ።', 'ጘጝም፦ «ክትንሰ ይት ኣው ይርና?» የው ዋቕሩ፤', 'ቢጥሮስም፦ «ክት ክርስቶስ የጝ» ዩ።', 'እየሱስም ጝማጥን ኣውማውስቅ ድቋይጘጘ ጛት ጣጝቅቅሱ።', 'እየሱስ ጝክርጘይዝቍዝ በውርስ ዊግተጘ', 'ጘጝም እኒንት ግልፅዝ ድቁ፤ ኣይንድም ቢጥሮስ እየሱስት ጝለ ፊስ ጋስፅጠ ኪርሙ።', 'እየሱስ ግን ዘወር የው ክንደጥድዛት ቓላⶖ ቢጥሮስት፦', '«ሲይጣን ክተ! ይእግርገይስ ፊጥ! ክት እጅርዝ ኻሰቭድየንትጚ እደረት ኽሳቭድ ኻስቫርም» የው ጋስፁ።', 'እንዝ ግረም ኽዝቭድየንት ጝክንደጢጅቅ ጝጐ ጭጝ እንት ዩ፦ «ይት ቲክንጠ በነው ፅብሽ ጝቕምት ኻዲነ፤ ጝሚስቅልድም መውር ይት ቲክነ።', 'ጝኒቭስሸንት ቓዝጠ በነውድቅ ጝርት ድስጡ፤', 'ይቍዝመ ወንጌልዝቍዝ የው ጝኒቭስሸንት ድሰውድቅ ግን ጝርት ቓዝጡ።', 'እጅር ኣልሚዙ ኻፍትድቅ ችጛን ጝኒቭስሸንት ግን ቓዚየውዝየ ጝጭስ ውር ጣቅምጡ?', 'ዊንስ እጅር ጝኒቭስሸንት ማጥን ኪፍለው ወየድ ወረጘ የጝ?', 'እኒን ክኻዲ ኽጥያትኘም ኣቐው ዅለይዝ በዊል ይቍዝ፣ ይቃሊዝቍዝም ኣይቭተውድቅ፣ እጅር ዅር ጚርት ክቭሪዝ ቅዱሳን መላካኒጅቅ ኣቕ ተራንድ ጝቍዝ ኣይቭትጡ።»', 'ማርቈስት ወንጌል', 'እየሱስም፦ «እማንቱ የኵን፤ ነን እንል ማኽሊል ፅበቊስ እደረት ምጝግስትየን ኽየው ኻይልዝ ተትራንድ ቓልጥጚስቅ ክራቍ ላው ላው እቅ እኵⶖ» ዩ።', 'እየሱስት ሚልክድ ላውጥሸጘ', 'ዋልጠ ግርቅዝ ግረም እየሱስ ቢጥሮስት፣ ያይቈቭት፣ ይዃንስት ቲክንዝ ላው ሊግዘው ኣበል ጝታለ ፃይ ፉ፤ ጝታበዊልም ላውጥሹ።', 'ጝኣልቨድም ኣውማው ዝቨቱ እጅርቅ እቓስ እነሽ ፃርዝጠ ቸላው ኣጢስቅ ጭቕጘ ፃረው ኣቑ።', 'ኣይንድም ይልያስስመ ሙሴስ እየሱስ ጅቅ ዊግትጛⶖ እትልⶖ።', 'ቢጥሮስም እየሱስት፦ «ክንሰተወ! እንል ኣቐነው ይናጭስ ቀሰው የጝ፤ ክጭስ ላው፣ ሙሴስ ላው፣ ይልያስስ ላው፣ ሻቘ ደፅ ተስነ» ዩ።', 'ጛይም ጭቕጘ ጐውትጝ ዊንጛንስቅ ቢጥሮስ ዊግተውድየንት ኣርቓውም ዊኑ።', 'ኣይንድም ድምነ ተር ጛት ገርዱ፤ ድምነይስም፦ «ይቀነው ይዅርድ እኒን የጝ፤ ጝት ወጭጥን» የው ድመ ተሩ።', 'በውዝም ዘወር ይጝ ቓልጛንድ ጛጅቅ እየሱስትለ ኣውማውትም ቓሊየቍ።', 'ኣበይስ ጊምጛንድም እየሱስ፦ «እጅር ዅር ክርጘይስ ጕጢስቅ እኒን ቓልድርነውድየንት ኣውማውስቅ ድቍርነቅ!» የው ኣዙ።', 'ጛይም ጘጝ ዊግተው ቃልድየንት ጝታዘኒዝ ፃይⶖ፤ ኣነጚ፦ «ክርጘይስ ጐነው የውድ ወረጘ የነት ኣጢ?» ይጛⶖ ጛስ ጛይ ዊግተ ዊግሽⶖ።', 'ጝጊስም፦ «እደስለ ወረጘ የነት የጝ ወሪትት ኽግ ክንሰጥድ፦ ‹በዊል ተርጠ ጥውሸውድ ይልያስ የጝ› ይጘውድ?» ይጝ ዋቅርⶖ።', 'እየሱስም፦ «እርግጥ የጝ፤ ይልያስ በውርስ ተርጡ፤ እጝቅትቅም ጭቅሽጡ፤ እደስለ እጅር ዅር ኻይሉ ሚከረ ለምርጠጘ፣ ነቅሽጠጘ፣ ፃፍሽተውድ ውር ማጥን ተከኵ?', 'ዊገድ ግን ይልያስ በውርስ ተር ዊኑ፤ ጛይም ጝቍዝ ፃፍሸጘ ጛት ሸውድየንት እጝቅትቅ ፃቭ\\ue07d የኵን» የው ዊሱ።', 'እየሱስ ርኵስ መንፈስዝ ፃይሸው እፈረ ቓዘጘ', 'ጛይም ላጥ ክንደጢዝጐ ዋጥርጝ ተርጛንድ ንቕፀው ኽዝቭ ጅልወይል ኣኽቭሽ፣ ወሪትት ኽግ ክንሰጥድም ጝክንደጢጅቅ ተከራክርሽጛⶖ ቓሉ።', 'ኽዝቭድም እጝቅ እየሱስት ቓላንድ ጊርምሻ\\ue07d ጝት ዲምቅሽጠ ጝጐ ውጥዩ።', 'ጘጝም፦ «ጛጅቅ ተከራክርሽርነው ዊገድ ወረጘ የጝ?» የው ዋቕሩ።', 'ኽዝቭ ማኽሊስም ላው እጅር፦ «ክንሰተወ! ርኵስ መንፈስዝ ፃይሽ ድደ ኣቐው ይዅርት ክጐ ነስኩን።', 'ፅውዘድ ጓንድም ማለኵ፤ ገፍረም ገፍርዘኵ፤ ጝርቍጣንድም ገጫዘኵ፤ ጝሰውነትድም ቢድን ፃቨኵ፤ ርኵስ መንፈስድየንትም ፊስጛንስ ክክንደጥድዛት ዋቕሩን፤ ጛይ ግን ቸሊየቍም» ዩ።', 'እየሱስም፦ «ኣምናይርነቅ እቅ ክታትርነ! ኣውን ኣሽ የጝ ክታጅቅ ፅበውድ? ኣውን ኣሽስ ክታት ታግሽትጭር? እፈረድየንት ይጐ ነስጥን!» ዩ።', 'እቅድም ጝጐ ነስⶖ፤ ርኵስ መንፈስድም እየሱስት ቓላንድ እፈረድየንት ቈጥቈጥሹ፤ ጘጝም ዝቨይል ሊቭ ፍርግራⶖ ገፍረ ገፍርደነው ኪርሙ።', 'እየሱስም እፈረይዝ ኣይርድየንት፦ «እን ፅውዘድ ኪርመት ዋቐ ኰር የጝ?» የው ዋቕሩ፤ እጅርድም፦ «መልውሲጝቀ ኪርም የጝ።', 'እክሰው ግርየም ቍውጠ በን ልየይል፣ ኣቘይል ማለኵ፤ ቸልድረር እርሽ ኣለቀይ ይናጭስ ኻዝን፤ እርዲም ይ» ዩ።', 'እየሱስም፦ «ቸልድረር ኣርሽመ ይሩ? ኣምነው እጅርዝ እጝቅ ዊገድቅ ቸልሸኵ» ዩ።', 'በውዝም እፈረይዝ ኣይርድ፦ «ኣምነነውስ ኣምነኵን፤ ግን ኣምንጨ ቸለነ በው ዊገይዝቅ ክት ክቭሽ!» የው ቓፁ።', 'እየሱስም ኽዝቭድ ተጝጋግሽት ውጥያⶖ ተራንድ ቓል፦ «ዲ\\ue07dቋር ድደም መንፈስ ክተ! እፈረይስ ፍ! ነስየ ዋጥርድር ጥዋይረጘ ኣዝኩን!» የው ርኵስ መንፈስድየንት ጋስፁ።', 'ርኵስ መንፈስድም ቓፅ ጭቕጘ ፍርግሰት ግረ እፈረይስ ፉ፤ ንቕፀቍ እቅዝ ክረው ተክጢስቅ እፈረድ ቢድን ኣቑ።', 'እየሱስ ግን ጝናንድየንት ፃይ ጒሱ፤ እፈረድም ጕ ችብሩ።', 'እየሱስ ጝኒል ጥወት ግረ ጝክንደጥድ ጝታለ ኣቕጝ፦ «እርኵስ መንፈስድየንት ይን ፊሰነ ብነውድ ወረጘ የጝ?» ይጝ ዋቕሩ\\ue07d።', 'ጘጝም፦ «እነየውድ ፍጠ ቸለውድ ፀለውትዝመ [ፃምዝ] የጝ» ዩ።', 'ጝጊስም ጕጝ ገሊለቱ ፃቭጝ ዲቍⶖ፤ እየሱስም ፅበው ስፍረድየንት ኣውማውቅ ኣርቕጠ በኒየውም።', 'እንም ጝክንደጢዝ፦ «እጅር ዅር እቀ ናንዝ ዲቍሽት ይውሽትጡ፤ ጛይም ቍውጥቍ፤ ሻቘ ግርቅዝ ግረም ክርጘይስ ጕጡ» የው ክንሳⶖ ዊናንስቅ የጝ።', 'ጛይ ግን ጘጝ ዊግተውድየንት ተረድሽትየቍም፤ ዋቕርጥጘም ጐውትⶖ።', 'እጝቂስቅ ኽየው ኣቐው እጅርድ', 'እንዝ ግረም ቅፍርናዀም ትጐ ተርⶖ፤ ጝኒል ጥወት ግረም፦ «ጒደነይል ተከራክርሽርናⶖ ዊንድርነውድ ወረጘዝቍዝ የጝ?» የው ዋቕሩ።', 'ጛይ ግን ጒደነይስ ተከራክርሽጛⶖ ዊንጘውድ፦ «ይናጊስ ኽየውድ ኣው የጝ» የነው ኣቓንስቅ ዝም ይⶖ።', 'እየሱስም ጐየት ግረ ፅጭ ሊጘድ ጭጝ፦ «በውረ ኣጠ በነውድቅ እጝቂስቅ ኽተተ ኣገልጋይም ኣነ» ዩ።', 'መልወ እፈረም ነስ ጝታበዊል ችብሱ፤ ጝትም ኣቅቭ፦', '«እንዛይ ኽፃናታኒስ ላውድየንት ይሽ\\ue07dዝ ለምረውድቅ ይት ለምረኵ፤ ይት ለምረውድም ይት ኣይጝቀ ይት እፃቐውድየንት ለምረኵ» ዩ።', 'ይናት ተቃውምሻውድቅ ይናጅቅ የጝ', 'ይዃንስም፦ «ክንሰተወ! ላው እጅር ክሽⶔዝ ጋኒናን ፊሳንድ ቓልኑን፤ ይናት ቲክናው ኣቓንስቅም ኪልክልኑን» ዩ።', 'እየሱስ ግን እንት ዩ፦ «ኪልክልትርነ፤ ኣውማውቅ ይሽ\\ue07dዝ ታምር ሰራሽ በውዝ ይት ጭቓዝ ጒስጠ ቸላውም።', 'ይናት ተቃውምሻውድቅ ይናጅቅ የጝ።', 'እማንዝ የኵን፤ ክርስቶስትቍ ኣቕርናንስቅ ኣውማውቅ ይሽ\\ue07dዝ ላው ሽቅነ ኣቝ ነየውድቅ ጝወየድ ባውም።', 'ላየዝ ፅጋ ኣቐነዊስ ጣጝቅቅሸነው', '«ይት ኣምነቍ እንዛይ መልቊስ ላውድየንት ቀሰው ኣውማው እጅርድቅ ኽየው እጕ ጝቕልመይል እፅቍሽ ባኽሪል ሊቫን ቺዘኵ።', 'እንዝ ማጥን ክናንድ ክት ቀስሽ ጝት ቀቭር ማል። ሊጘ ናንጣን ፃይር ገኻነምሳቲል ጥውራንት ሽ\\ue07d ቈማጥ ኣቕር ርዅየል ጥውራን ቺዘኵ።', 'ግኻነመሳት ኽፀድ ክራው፣ ልየድም ስታው ስፍረ የጝ', 'ክልኵድ ክት ቀስሽ ጝት ቀቭር ማል። ሊጘ ልቍጣን ፃይር ገኻነምሳቲል ጥውራንት ሽ\\ue07d ኻካዝ ኣቕር ርዅየል ጥውራን ቺዘኵ።', 'ግኻነመሳት ኽፀድ ክራው፣ ልየድም ስታው ስፍረ የጝ', 'ክእልድም ቀስሽ ጝት ፊስር ማል፤ ሊጘ እልጣን ፃይር ገኻነምሳቲል ጥውራንት ሽ\\ue07d ላው እል ኣቕር እደረት ምጝግስትየንትል ጥውራን ቺዘኵ።', 'ገኻነምሳት ኽፀደ ክራው፣', 'ሊየድም ስታው ስፍረ የጝ።', '«ምስዋይት ጭውጥረዝ ዊር ያንትጘ ኣውማው እጅርም ሊየዝ ዊር ይጡ።', 'ጭውጥረ ቀሰው የጝ፤ ኣነጚ ጭውጥረ ጝጣምነድየንት ባን ወረጘዝ የጝ ጝጣምነድ ዊስትርነ ቸልድርነውድ? ክታግልም ጭውጥረዙ ጣምነ ፅብነ፤ ክታስ ክታይም ቲስመምርን ዲግተዝ ፅብጥን።»', 'ድቕርዝቍዝ ኣልተው ዋቕረ', 'እየሱስም ጝጊስ ጕ ይዅዳ ኻግሪል፣ ዮርዳኖስት እጂ ፅበው ጅልወይዝጐም ፊሩ፤ ኽዝቭድም እንደ ገነ ጝጋቢል ኣኽቭሹ፤ ጘጝም እንዝ ሚቅ ፃቫⶖ ዊነጘ ክንሱ።', 'ፈሪሳኒስም ላው ላውድ ፊትንጠጘ በንጛንስቅ ጝጐ ኣልትጝ፦ «እጅር ጝውነት ዳቕርጠ ፊቅድሸኵመ?» ይጝ ዋቕር\\ue07d።', 'እየሱስም፦ «ሙሴ እን ዊገይዝቍዝ ክታት ወረጘ የው ኣዙ» ዩ።', 'ጛይም፦ «ሙሴመ ጝርድቕሪዙ ወረቂት ይው ዳቕራንስ ፊቅድኩ» ይⶖ።', 'እየሱስም፦ «ሙሴ እኒን ኽግድየንት ፃፈውድ ክታዘንድ ደንዳን ኣቓንስቅ የጝ።', 'ዊገድ ግን እደረ በውገ ፍጥርቲስ ግልወዝመ እውነስ ፃቭ ፋጥሩ።', 'ኣቓንስቅም እጅር ጚር ጝኘት በረኵ፤ ጝእውነ ጅቅም ጣምርሸኵ።', 'ጝታቪል\\ue07dም ላው ኣካል ኣጘኵ፤ ጝዝለ ጛይ ላው ኣካል ጛይጚ ሊጘም ኣየቍ።', 'እንዝ ማጥን እደረ ላው ፃቨውድየንት ኣውማውም ቲዛው» ዩ።', 'ጝኒል ጥውጛንድም ጝክንደጥድ እን ዊገድየንት ጕይጝ እንደ ገነ ዋቕር\\ue07d።', 'እየሱስም፦ «ኣውማው ጝእውነት ዳቕር ላየ እውነት ድወው እጅርድቅ ጝእውነት ዲጊል ሻርሙጠኵ።', 'ጚይም ጝርጕርየት ዳቕርድር ላየ ግልወ ድውረውዝየ ሻርሙጥች የነት የጝ» ዩ።', 'እየሱስ ኽፃናታንድ በርከጘ', 'እቅም እየሱስ ኽፃናታንድዛት ጝናኒዝ ዳቓንስ ማጥን ጝጐ ነስⶖ፤ ጝክንደጥድ ግን ጛት ጋስፅⶖ።', 'እየሱስም እኒንት ቓላንድ ቈጣሽ፦ «ኽፃናታንድዛት ይጐ ተርጝነ በጥን ኪልክልትርነ፤ ምላሰንድም እደረት ምጝግስትየን እንየቊዝ ጚ።', 'እማንዝ የኵን፤ እደረት ምጝግስትየንት ኽፃኒዝጘ ለምራውድቅ እጝቅ ስሪስቅ ጝርግል ጥዋውም» ዩ።', 'ኽፃናታድዛትም ኣቅቩ፤ ጝናንድም ጝታዲጊል እቍር በርኩ።', 'ኻፍታም ውርጋጠዙ ዋቕረድ', 'እየሱስም ዊነው ስፍረይስ ጕ ጕደነድየንት ኪርማንድ፣ ላው እጅር ጝጐ ውጥያⶖ ተሩ፤ ጝበዊልም ግርቨቭሽ፦ «ቀሰው ክንሰተወ! ዘላልምዙ ርዅየ ዊርሳንስ ወረጘ ፃቭጨ ጥውሽኵ» ዩ።', 'እየሱስም፦ «ወረጘ ይት ቀሰው ይራ? ላው እደረትለ ቀሰውም እጀው።', 'ትዛዛንድዛት ኣርቕረኵ፤ ቁተ፤ ሻርሙጥተ፤ ስ\\ue07dተ፤ ኻሽትዝ ሚዝርድተ፤ ኻጝስተ፤ ኪር ክኘት ኪብርዝ» የው ዊሱ።', 'እጅርድም፦ «ክንሰተወ! እንዛትመ እጝቅትቅ መልውሲጘቀ ኪርም ሊሚጥኩን» ዩ።', 'እየሱስም እጅርድየንት ቓል ቀኑ፦ «እደስለስ ላው ዊገ እዳቐኵ፤ ፊትር ፃይረው ኻፍትድቅ ቂ፤ ጊንዝቭድም ድኺዝ ይይ፤ ሲመይስ ንቕፀው ኻፍት ችጝትር፤ ጝዝግረ ለው ይት ቲክን» ዩ።', 'እጅርድም እኒንት ወሻንድ ጭቕጘ ኻዝኑ፤ ንቕፀው ኻፍትም ፃየው ዊናንስቅ ቲክዛ\\ue07d ጝጝን ዋጥሩ።', 'እየሱስም ዋጥር የው ቓል ጝክንደጥድዛት፦ «ኻፍታማኒዝ እደረት ምጝግስትየንትል ጥወነው ውርጘ ቺግርዘው የጝፈ!» ዩ።', 'ጝክንደጥድም ጝዊገይዝ ጊርምሽⶖ፤ እየሱስ ግን እንደ ገነ ዊስ፦ «ይቝርወ! እደረት ምጝግስትየንትል ጥወነው ውርጘ ቺግርዘው የጝፈ።', 'ኻፍታም እጅር እደረት ምጝግስትየንትል ጥወነዊስ ግምለ ሚርቨዙ እልዝ ጭልቓን ቀለኵ» ዩ።', 'ጝክንደጥድም በውገትዊስ ሽ\\ue07d ጭቕጘ ጊርምሸነውዝ፦ «እደስለ ኣው የጝ ቓድጠ ቸለድ?» ይⶖ።', 'እየሱስም ጛት ቓላ\\ue07d፦ «እርግጥ እን ዊገድ እጅርዝ ቸልሻውም፤ እደረስ ግን ቀላል የጝ፤ እደረስ ቸልሻው ዊገም እጀው» ዩ።', 'ቢጥሮስም፦ «እንወ! ይን እጝቅትቅ በርን ክት ቲክኑን» ዩ።', 'እየሱስም፦ «እማንዝ የኵን፤ ይቍዝመ ወንጌልዝቍዝ የው ጝጝንድየንት ዊንም ጝፅንድዛት ዊንም ጝኘት ዊንም ጚርት ዊንም ጝቝርት ዊንም ጝቺዝጝድየንት በረውድቅ፣', 'ነን እን ዚምኒዝ ስድት ጅቅ፣ ጝጝንጥድ፣ ጝፅንት፣ ጝኵየንጣንድ፣ ጝቝርት፣ ጝቻፅጝድ እፅቭ ድርቭ ለምርጡ፤ ተረው ኣልሚዝም ዘላልምዙ ርዅየ ዊርስጡ።', 'ዊገድ ግን ንቕፀቍ ነን በውጥ ኣቐቍ እገጥ ኣጥቍ፤ ነን እገጥ ኣቐቍም በውጥ ኣጥቍ» ዩ።', 'እየሱስ እንደ ገነ ጝክርጘይዝቊዝ ዊግተጘ', 'እየሩሳልየም ትጐ ፊርጥጘ ጒደነይል ፅብጛⶖ፣ እየሱስ ጝታበው በዊል ፊራⶖ ዊኑ፤ ጝክንደጥድም እንዝ ጊርምሽⶖ፣ ላጥ ጝት ቲክነቍድ ቈሽ ጐውትጝ ዊንⶖ፤ እንደ ገነም ፅጭ ሊጘድዛት ኽዝቪስ ቲዝ ወረጘ ጝግል ችጝጠ ኣቀጘ እንት የው ድቁ፦', '«እንወ! እየሩሳልየም ፍንቅ፤ እጅር ኵር ካኽነጣነ ኻልቅጢዝመ ወሪትት ኽግ ክንሰጢዝ ዲቍሽት ይውሽትጡ፤ ጛይም ክርጘዙ ፍርድ ፊርድጥቍ፤ ኣኽዛቫኒዝም ዲቍስጝ ይውጥቍ።', 'ኣኽዛቫንድም ኣፊዝጥቍ፤ ጝዲጊልም ትፍ ይጥቍ፤ ድድብጥቍ፤ ጝዝ ግረም ቍውጥቍ፤ ጘጝ ግን ሻቘ ግርቅዝ ግረ ክርጘይስ ጕጡ» ዩ።', 'ያይቈቭስመ ይዃንስስታ ዋቕረድ', 'ዘቭዲወስት ቝር ያይቈቭስመ ይዃንስስ እየሱስ ትጐ ኣልትጝ፦ «ክንሰተወ! ጨውነውድየንት እጝቅትቅ ፃቭተ በነኵን» ይ\\ue07d።', 'ጘጝም፦ «ወረጘ ፃቭጨ በንርና?» ዩ።', 'ጛይም፦ «ክምጝግስቲዙ ክቭሪዝ ይናጊስ ላውድ ክለዊዝ ላውድ ክፃግቪዝ ጐይናንስ ፊቅጅ» ይⶖ።', 'እየሱስም፦ «ጨውርነውድየንት ኣርቓይርነቅም፤ ያን ዝቀው ሚከረይዙ ፅወድየንት ዚትርነ፣ ያን ጣምቅጨው ጥምቅትድ ጣምቅሽትርነ ቸልትርንቅመ?» ዩ።', 'ጛይም፦ «የይ ቸልንቅ» ይⶖ፤ እየሱስም፦ «ያን ዝቀው ፅወድየንት ዚትርንቅ፤ ያን ጣምቅጨው ጥምቅትድም ጣምቅሽትርንቅ።', 'ዊገድ ግን ይለወይዝመ ይፃግቪዝ ጐየነውድ እደረ ኣስለቊዝ ይውሽተውጚ ያን ይወው ዊገም ኣየው» ዩ።', 'ላጥ ፅቃ ክንደጥድም እን ዊገድየንት ወሽጛንድ ያይቈቭስመ ይዃንስስታል ኻልክሽ\\ue07d።', 'እየሱስም እጝቅትቅ ጝጐ ኣኽቭ፦ «ኣኽዛቫነ ኻልቅጥ ይሽተቍድ ጝታኽዝቭድ ኻይልዝ ቅመቍ ኣጘጘ፣ ጝታሽማንድም ጛግል ስልጣን ፃየቍ ኣጘጘ ኣርቕርነኵ።', 'ክታጭስ ግን እነየው ኣጠ ጥውሻውም፤ ክታማኽሊስ ኣውማው ኽየው ኣጠ በነውድቅ ክታኣገልጋይ ኣነ።', 'ንየቱ ኣጠ በነውድም እጝቅት በረ ኣነ።', 'እጅር ዅርም ተረውድ ኣግልግልጠ፣ ጝርዅየድየንትም ንቕፀቊዝ ጝታቺ ዲቊስ ይውጠጚ ጝት ኣግልግልጛንስም ኣየው» ዩ።', 'እየሱስ ኻርቨ በርጠሚወስት ቓዘጘ', 'እየሱስስመ ጝክንደጢዝም እያሪኰ ኻትመይል ተርⶖ፤ ንቕፀው ኽዝቭ ጅቅም ኣቕጝ እያሪኰስ ፍጛንድ፣ ጠሚወስት ዅር ኻርቨ በርጠሚወስ ጒደን ደዪል ጐይ ጨዋⶖ ዊኑ።', 'ጘጝም ጝዝ ዲቈውድ ናዝሪቱ እየሱስ ኣቐጘ ወሻንድ፦', '«ዳዊትት ዅር እየሱስወ! ኣለቀይ ይቅር ይ» ያⶖ ቓፅጠ ኪርሙ።', 'ንቕፀቍ እቅም፦ «እፈ ዝም ይ!» ይጝ ጋስፁ\\ue07d፤ ጘጝ ግን፦ «ዳዊትት ዅርወ! ኣለቀይ ይቅር ይ!» ያⶖ ቐናዝ ቓፁ።', 'እየሱስም ችብር የው፦ «ጭጝጥን» ዩ፤', 'ጛይም ኻርቨድየንት፦ «ኣይዝዀች ጕ፤ እየሱስ ጭጘኵ!» ይⶖ።', 'ጘጝም ጝኣልቨድ ማል ብድግ የው ጕ እየሱስ ትጐ ፊሩ።', 'እየሱስም፦ «ወረጘ ፃቫንስ የጝ በንረውድ?» ዩ፤', 'ኻርቨድም፦ «ክንሰተወ! ቓልጨ በነኵና» ዩ።', 'እየሱስም፦ «ፊጥ፤ ክእምንትድ ቓዝኩ» ዩ፤ በውዝም ጝልጣንድ ቓድⶖ፤ ጒደነይስም እየሱስት ቲክን ፊሩ።', 'እየሱስ ኽየው ክቭርዝ እየሩሳልየም ጥወጘ', 'ጛይም እየሩሳልየምት ጣቂል ደቭረ ዘይት ኣበይዝ ጋቢል ችጝሸቍ በተፋግየ ትጐስመ ቢታንየ ትጐስ ችጛንድ እየሱስ ጝክንደጢስ ሊጘድዛት፦', '«ክታበዊል ችጝሸው ኪዊል ፊጥን፤ ጝግልም እጅር ድቃር ኣርቓው እወል እፅቍሽ ችጝትርንቅ፤ ጝትም እክስርን እንጐ ነስጥን።', 'ኣውማው እጅር፦ ‹ወረጘ የጝ እኒንት ፃቭርነውድ?› የው ዋቕርሽ፦ ‹ኣደረ በናንስቅ የጝ፤ በውዝ ዊስ በርስጡ› ይርን ድቍጥን» የው እፃቑ።', 'ጛይም ፊርⶖ፤ እወልድየንትም ጝን ሚረይዙ ጒደነይል እፅቍሽ ችጝጝ እክስⶖ።', 'ጝግል ችብረቍ እቂስም ላው ላውድ፦ «ውርፃቭትርነ የጝ እወልድየንት እክስርነውድ?» ይⶖ።', 'ጝክንደጥድም እየሱስ የውድየንት እቂዝ ድቍ\\ue07d፤ ጛይም ፊቅድⶖ።', 'እወልድየንትም ጝጐ ነስጝ ጝታልቨድየንት ጝሲጊል ፃቭⶖ፤ እየሱስም ድቃሩ።', 'ንቕፀቍ እቅም ጝታልቨድየንት ጒደነይል ወፃቕⶖ፤ ላጥድ ቈሽ በራኸይስ ለምለም ዘፍዙ ጫፍ ጫፍድየንት ጫንቕዝጛ\\ue07d ዝቨይል ጒዝጒዝⶖ።', 'በዊል ቃውሰቍ እቂዝመ እግርግረይል ቲክነቍ እቂዝም ኽየው ድመዝ፦', '«ዀሳይነ! ኣደረት ሽⶖዝ ተረውድ በርክሸው የጝ።', 'ተትረይ ይናኣይር ዳዊትት ምጝግስትየን በርክሽረይ ጚ፤', 'ዀሳይነ ኣርያምስ!» ይⶖ።', 'እየሱስም እየሩሳልየም ችጙ፤ ጝዝ ግረም መቅደስ ጝኒል ጥው ጅልወይል ፅበውድየንትቅ ቓሉ፤ ግርየድም ኵን ዊናንስቅ ፅጭ ሊጘይጅቅ ኣቕ ቢታንየ ፉ።', 'እየሱስ መቅደስ ጝኒል ኒግረቍድዛት ጅግዘጘ', 'ጝኣምርሲዝም ቢታኒየስ ፍጛንድ እየሱስ ግድርዱ።', 'ኻፀ ፃይረይ በለስ ዘፍትም ከስ ቓል ምናልቫች ፍር ችጝሽረይ ኣርሸ የው ጝርጐ ፊሩ፤ ዊገድ ግን በለስዙ ወቅት ኣየው ኣቓንስቅ ኻፀዝለ ላየ ውረውረቅ ችጚየውም።', 'ዘፍሸንትም፦ «ነንስ ኪርም ዘላልም ኣሽ ክጊስ ኣውማውቅ ፍር ዂነ» ዩ፤ ጝክንደጥድም እኒንት ዊግታንድ ወሽ\\ue07d።', 'እየሩሳልየምም ዋጥር\\ue07d፤ መቅደስ ጝኒልም ጥው ጝግል ኣቕጝ ቅየቊዝመ ጅቨቊዝ ጅግዝጠ ኪርሙ፤ ቍርሻን ላውጠቊዙ ጠረቢዘይዝመ ርግቫን ቅየቊዙ ወምበሪዝ ጊልብርብሩ።', 'ኣውማውድቅ ጐዝ መውር መቅደስ ጝኒዙ ኻፅር ኣቒል ዲቋየጘ ኪልክሉ።', 'ክንሳንድም፦ « ‹ይጝንድ ኽዝቭዝቅ ፀለውትዙ ጝን ይሽተኵ!› ይሽት ፃፍሺየውመ? ክትን ግን ቓፅጘ ጭቭረነ ጋ ፃቭርኑ» ዩ።', 'ካኽነጣነ ኻልቅጢዝመ ወሪትት ኽግ ክንሰጢዝም እኒንት ዊግታንድ ወሽ\\ue07d፤ ኽዝቭድም እጝቅ ጝክንስኒዝ ጊርምሻ\\ue07d ዊናንስቅ ጐውትⶖ፤ እንዝ ማጥን ጝት ኣወሽጝ ድስጥጘጘ መለ ደምዝነው ኪርም\\ue07d።', 'ኵናንድም እየሱስስመ ጝክንደጢዝ ኻትመይስ ፍጝ ፊርⶖ።', 'እየሱስ እፀይ በለስ ዘፍሸን', 'ጝኣምርሲዝም ግረቨዝ ጒደነይዝ ዲቍጛንድ በለስሸን ጝርስሪስ ኪርምር ይዝር ቓልⶖ።', 'ቢጥሮስም ዊገድ ትዝ የው እየሱስት፦ «ክንሰተወ! እንወ እፅረይ በለስ ዘፍሸን ይዝርኵች» ዩ።', 'እየሱስም ዊስ እንት ዩ፦ «እደረት ኣምንጥን።', 'እማንዝ የኵን፤ ኣውማው እጅር እን ኣበድየንት፦ ‹እኒስ ኒቅልሽር ባኽሪዝጐ ዊርውርጭ› ያን፣ እንም ኣጠጘ ጝዘኒዝ ተጠራጥርሺጝቀ ኣምናን ጝጭስ ኣጡ።', 'እንዝ ማጥን ፀለውትዝ ጨውርነውድየንትቅ ለምትርነጘ ፃቭርን ኣምንድርናን ጘጝ ክታጭስ ፃቭሽትጡ የኵን።', 'እኒዝጘም ፀለውትዝ ችብትርናንድ ሲመይቱ ክታይር ክታኽጥያትድየንት ይቅር ያንስ ማጥን ክትንም እጅርል ፃይርነውድየንት እጝቅትቅ ይቅር ይጥን።', 'ክትን ይቅር ያይርነቅ ኣርነውዝየ ግን ሲመይቱ ክታይርድ ክታኽጥያትድ ይቅር ያውም።»', 'እየሱስት ስልጣኒዝቍዝ ኣልተው ዋቕረ', 'እንደ ገነም እየሩሳልየም ተርⶖ፤ እየሱስም መቅደስ ጝኒዙ ኻፅር ኣቒል ጅልዋንድ፣ ካኽነጣነ ኻልቅጥድ፣ ወሪትት ኽግ ክንስጥድ፣ ሽመቅልድም ጝጐ ኣልትጝ፣', '«እንዛይ ዊቅድዛት ፃቭረውድ ወረጘዙ ስልጣኒዝ ይጝ? እንዛት ፃቭተስ እን ስልጣንድ ክጭስ ነየውድ ኣው የጝ» ይⶖ።', 'እየሱስም፦ «እስቲ ያንም ላው ዋቕረ ዋቕርጨ፤ ክትንም ዊስጥን፤ ያንም እንዛይ ዊቅድዛት ወረጘዙ ስልጣንዝ ፃቨር ኣቐጘ ድቍጭር።', 'ይዃንስት ጥምቅትድ ተረውድ ሲመይስመ ዊንስ እጅሪስ ዊኑ? እስቲ ዊስጥን» ዩ።', 'ጛይም ጛስ ጛይ፦ « ‹ሲመይስ የጝ› ይናን፦ ‹እደስለ ውረ ጝት ኣምኒርነቅ?› ይጡ፦', '‹እጅሪስ የጝ› ይናንሳ?» እኒንት ያይጘጘ ኽዝቭድ እጝቅ ይዃንስት እማንተው ነቭይ ኣቐጘ ኣምናⶖ ዊናንስቅ ጐውትⶖ።', 'እንዝ ማጥን፦ «ኣርቓይነቅም» ይጝ ዊስⶖ፤', 'እየሱስም፦ «እደስለስ ያንም እንዛይ ዊቅድዛት ወረጘዙ ስልጣንዝ ፃቨር ኣቀጘ ድቈቅም» ዩ።', 'ወይን ኣታልቲዙቍ ኣርጪዝ ተከድ', 'እንዝ ግረም እንት ያⶖ ተከዝ ድቈነው ኪርሙ፦ «ላው እጅር ወይንዙ ኣታክልት ቲክሉ፤ ጝጅልወድየንትም ኻፅሩ፤ ወይን ድቝዘነው ቢ\\ue07dም ፃሩ፤ ሊሚደነ ደዘም ኣስሉ፤ ጝዝ ግረም ኣርጭዝ ኣከራይዝ ላየ ኻግርል ፊሩ።', 'ማፅወድ ችጛንድም ወይኒይዙ ፍረይስ ነስጛንስ የው ጝኣገልጋያኒስ ላውድየንት ኣርጪዝጐ እፃቑ።', 'ጛይ ግን ጝት ፃይጝ ድድብⶖ፤ ጝባደው ናንም በርስ\\ue07d።', 'እንደ ገነም ላየ ኣገልጋይ እፃቑ፤ ጝትም ኣውርድ ኪልጝ ኣዋርዝጝ ዊስⶖ።', 'ነንም እንደ ገነ ላየ እፃቑ፤ እኒንትም ቍዉⶖ፤ እኒዝጘም ንቕፀቍድዛት እፃቓን ላው ላውድዛት ድድብⶖ፤ ላው ላውድዛት ቈሽ ቍዉⶖ።', 'ነንም ገነ እፃሸው ላው እዳቕ ዊኑ፤ እንም ጝቀነው ጝዅርድ የጝ፤ ኣታክልቲዝ ወነድም፦ ‹ይዅርትስ ኪብርዝጥቍ› የው እጝቅት ግረ ጝት እፃቑ።', 'ኣርጭድ ግን ጛስ ጛይ፦ ‹እንመ ዋነ ዊርሰተድ የጝ፤ ላቍጥን ቍዉነ፤ ጝርስትድም ይናው ኣጡ› ይⶖ፤', 'ጝዝለም ፃይጝ ቍዉⶖ፤ ኣታክልቲዙ ስፍረይስም ፊስጝ ማልⶖ።', '«ነስየ ኣታክልቲዝ ወነድ ወረጘ ፃቭጡ ተከኵ? ተርጡ፤ ኣርጭድዛትም ቍውጡ፤ ኣታክልቲዝ ስፍረድየንትም ላጥዝ ይውጡ።', 'ቅዱሳን መፃፋኒዝ፦', '‹ግምብኝጥድ ነቅጘው ቕርጘድ', 'ማይዘንዙ ኣውር ኣቑ፤', 'ኣደረ እኒንት ፃቭኩ፤', 'የው ዊግተው ቃልድየንት ኣንብቪርነቅመ?»', 'ግቭር ኪፍለነውዝቍዝ ኣልተው ዋቕረ', 'እንዝ ግረ ፈሪሳኒዝመ ኺረውድስት ዊግን ኣቐቍ ላው ላው እቅ እየሱስት ዊገዝ ፃውርጥጘ ጝጐ እፃሽⶖ።', 'ጛይም ኣልትጝ፦ «ክንሰተወ! ክት እማንተው እጅር ኣረጘ ኣርቕነኵን፤ ኣውማውስቅ ኣድልዊጝቀ እጝቅትቅ እኵለዝ ቓልደር የጝ፤ እደረት ጒደነድም እማንዝ ክንስረኵ፤ እደስለ ቂሳርስ ግቭር ኪፍለነው ጥውሸኵመ ጥውሻው? ይንስ ኪፍልነመ ዊንስ በርነ?» ይ\\ue07d።', 'እየሱስም ጝታተክዘንድ ኣርቕ፦', '«ወረጘ የጝ ይት ፊትንድርነውድ? እስቲ ላው ዲናር ነስጥን ቓልጨር» ዩ።', 'ጛይም ነስⶖ፦ «እኒን ኣውት ምስል የጝ? ፅፈሽድስ ኣውቱ የጝ?» ዩ፤', 'ጛይም፦ «ቂሳርቱዋ» ይⶖ።', 'እየሱስም፦ «እደስለስ ቂሳርትውድ ቂሳርስ፣ እደረትውድ እደረስ ይውጥን» ዩ፤', 'ጛይም ጝቍዝ ዲንቅሽⶖ።', 'ክርጘይስ ጐነዝቍዝ ኣልተው ዋቕረ', 'እንዝ ግረ ሰዱቃን ጝጐ ተር\\ue07d፤ ሰዱቃንድ ክርጘይስ ጐነዝ ኣምናቍም ዊን\\ue07d።', 'ጛይም፦ «ክንሰተወ! ሙሴ፦ ‹ላው እጅር እውነት ድው ዅር እዅሪጝቀ ክርሽ ጝዝንድ እውነየንት ድው ክረው ጝዝኒዝ ዚረ ቲኪነ› የው ፃፍኩ።', 'እደስለ ላጝጠ ዚን ዊንⶖ፤ በውረድ እውነት ድው ዚረ ቲኪዪጝቀ ክሩ።', 'ሊጘትረድም እውነየንት ድው ጘጝም ዚረ ቲኪዪጝቀ ክሩ፤', 'ሸወትረድም እኒዝጘ ኣቑ።', 'ላጝጠድቅ ድውⶖ፤ ዚረ ግን ቲክዪየቍም፤ ኻትሸነይዝም እውነየን ክርች።', 'ነስየ ላጝጠድቅ ድውጛንስቅ ክርጘስ ጐነይዝ ኰር እኝቸን እውነየን ኣዊዝ እውነ ኣተጚ?» ይጝ ዋቕር\\ue07d።', 'እየሱስም እንት የው ዊሱ፦ «ቀትርነውድ ቃል ቅዱሳን መፃፋኒዝመ እደረት ኻይሊዝ ኣርቓይርነቅ ኣቕርናንስቅ የጝ።', 'ክረቍድ ጕጛንድ ሲመይት መላካኒዝጘ ኣጘኵጚ ድዋቍም፤ ገባሻቍምም።', 'ክርጘይዝ ጐነዝቍዝ ግን ሙሴት መፃፊዝ እንም ቍጥቋጠይዝቍዝ ድቍሽተው ክፍሊዝ እደረ፦', '‹ያን ኣቭርኻምት ኣምላክ፣ ይሳቅት ኣምላክ፣ ያይቈቭት ኣምላክ የጝ› የውድየንት ኣንቭቪርነቅመ?', 'እደረ ፅበቍዝ ኣምላክጚ ክረቍዝ ኣምላክም ኣየው፤ ክትን ግን ጭቕጘ ቀትርንኵርኑ።»', 'እጝቂስቅ ኽየው ትዛዝድ', 'ወሪትት ኽግ ክንሰጢስም ላውድ ተር ተከራክርሽጛንድ ወሹ፤ እየሱስ ጝግል ኣልተው ዋቕረዝቍዝ ጥውሸው ዊሰ ይወጘ ኣስክስ፦ «ኣየውጚ ትዛዛኒስቅ ዲቈው ትዛዝድ ኣውየን የጝ?» የው ዋቕሩ።', 'እየሱስም፦ «እጝቂስቅ ዲቈው ትዛዝድ፦ ‹እስራየልወ! ወጭ፤ ኣደረ ይናኣምላክድ ላው ኣደረ የጝ።', 'ክትም ክኣደረ ኣምላክት ክዘኒዝ፣ ክኒፍሲዝ፣ ክኻሰቪዝ፣ ክኻይሊዝም ምሉ በምሉዝ ቀን› የውድ የጝ።', 'ሊጘትረድ ቈሽ፦ ‹ክፃምረድየንት ክቕም ትጘ ፃቭር ቀን› የውድ የጝ፤ እንዛይስ ዲቈው ላየ ትዛዝም እጀው» ዩ።', 'ወሪትት ኽግ ክንሰተድም እየሱስት፦ «ክንሰተወ! ቀሰው ይሩ፤ እደረ ላው የጝ፤ ጝዝለ ላየ ኣምላክም እጀው፤ እማን የጝ ዊግትረውድ፣', 'እየሱስም ኣስትውል ዊሰጘ ቓል፦ «ክት እደረት ምጝግስትየንቲስ እክልድረርም ኣይረር» ዩ፤', 'እንዝ ግረ ጝት ዋቕርጠ ዲፍረው ኣውማውም ዊኒየው።', 'ክርስቶስ ኣውት ዅር ኣቐጘ?', 'እየሱስም መቅደስ ጝኒል ክንሳⶖ ሲጝቀ እንት የው ዋቕሩ፦ «ወሪትት ኽግ ክንሰጥድ ኣወይጝ የጝ ክርስቶስ ዳዊትት ዅር ይጘውድ?', 'ዳዊት መንፈስ ቅዱስት ኣማካይነትዝ ዊግታንድ፦', '‹ኣደረ ይኣደረት፦', '<ክፃለታንድዛት ክልኲዝ ደደነ ፃቭጪስቅ', 'ይለዊል ጐይ> ዩ›', 'የኵ።', 'እደስለ ዳዊት ጝቕም፦ ‹ኣደረ› የውዝየ፣ ኣወይ የጝ ዋጥር ጝዅር ኣጠ ቸለውድ?»', 'ንቕፀው ኽዝቭም ዲስተዝ ወሻⶖ ዊኑ።', 'ክንሳንድም፦ «ወሪትት ኽግ ክንስጢስ ጣጝቅቅጭጥን፤ ዘፈፍየው ቅምስ ሲርጝ ጅልወነው ቀንጘኵ፤ ኣሪ ጨቨቅም ክቭርዙ ሲለምተ በንጘኵ።', 'ምዅራቭ ጨቨቅም ኽየው ወምበር፣', 'ጭጝሽጝ ፊርጘዊስም ኪብረው ስፍረ በንጘኵ።', 'ጝታፀለውትድ ሊጊሰነውዝ ልጀጊርዳኒዙ ጝንድየንት ባደው እዳዝጘኵ፤ እንዛይ ወሰው ፍርድ ለምርጥቍ» ዩ።', 'ድኻ ልጀጊርድ ይውረው ሚቨድ', 'እየሱስ ምፅዋት ይወነ ሳፁኒዝ በውዝ በው ጐይ፣ ንቕፀቍ እቅ ጝታሚቨድየንት መቅደሲዙ ሚቨ ማለነ ሳፁኒል ድውጛንድ ቓላⶖ ዊኑ፤', 'ንቕፀቍ ኻፍታማንም ንቕፀው ጊንዝቭ ድውⶖ።', 'ላይ ድኻ ልጀጊርድ ግን ሊጘ ሳንቲም ኣቐው ናስዙ ሳንቲም ነስር ድውች።', 'እየሱስም ጝክንደጥድዛት ጭጝ፦ «እማንዝ የኵን፤ እኝቸን ድኻ ልጀጊርድሸን ሳፁኒል ድወቍ ላጥ እቂስቅ ዲቈው ይውች።', 'ላጥድ እጝቅቅ ይውጘውድ ጝታፃይጘው ኻፍቲስ ቲርፈውድየንት የጝ፤ እኝቸን ግን ድኻ ኣቕር ፅብራⶖ ውረውረቅ ዳዚጝቀ ጝርፃይረውድየንት እጝቅትቅ ይውች» ዩ።', 'ኻትሸነይዙ ዚምኒዝ ምልክታንድ', 'እየሱስ መቅደስ ጝኒስ ፋንድ ጝክንደጢስ ላውድ፦ «ክንሰተወ! ቕርጝድ ኣወየቍ ኣጘጘ፣ ኽንፀድም ኣወየው ሸገ ኣቐጘ ቓል» ዩ።', 'እየሱስም ዊስ፦ «እንዛይ ኽየቍ ኽንፅጥድ ቓልድረኵመ? ላው ቕርጘድ ላዊል ኣቐጘ እዳቓውም፤ እጝቅቅ ፋይተው የጝ» ዩ።', 'እየሱስም መቅደስ ጝኒዝ በውዝበው ደቭረ ዘይት ኣበይል ጐይ ፅባⶖ ቢጥሮስ፣ ያይቈቭ፣ ይዃንስ፣ እንድርያስ ጝጐ ተርጝ፦', '«እኒን ኣውን ኣቐው ኣቐጘ ድቍ፤ እንቅ ፋፅምሽጠ ኣልተጘ ቓሊሰው ምልክትድ ወረጘ የጝ?» ይጝ ዋቕር\\ue07d።', 'እየሱስም እንት ዩ፦ «ኣውማውቅ ቀሳየጘ ጣጝቅቅጭጥን።', 'ንቕፀቍ እቅ፦ ‹ያን ክርስቶስ የጝ› ይጛⶖ ይሽ\\ue07dዝ ተርጥቍ፤ ንቕፀቍድዛትም ቀስጥቍ።', 'ኣጭነዝመ ኣጭነዙ ጂጘዝ ወሽርናንድ ዳንግፅትርነ፤ እንቅ ኣጠ ግድ የጝ፤ ኻትሸነድ ግን ገነ የጝ።', 'ኽዝቭ ኽዝቪል፣ ምጝግስት ምጝግስቲል ጕጡ፤ ንቕፀቍ ስፍሊልም ዝቨዙ ኒንቀሸነዝመ ግድርዝ ኣጡ፤ እንዛይ እጝቅ ቅምትዙ ጭጝቅት ኪርመን ጛይ።', '«ክታቕምስ ጣጝቅቅጭጥን፤ እቅም ክታት ፍርድ ሸ\\ue07dጐውል ዲቍስጝ ይውጥቍ፤ ምኵራቭ ጨቨቅም ክታት ጊርፍጥቍ፤ ይሚዝረጫንም ኣትርነ ማጥን ይቍዝ ቅመቊዝመ ነጕሳኒዝ በዊል ችብርትርንቅ።', 'በውርስ ግን ወንጌል ኣልሚዙ ኽዝቪዝቅ ሲቭክሽጠ ጥውሸኵ።', 'ፃይሽርን ፍርድል ኣልትርናንድ ኣይንድ ክታጭስ ነይሽተውድየንት ዊግትጥንጚ፦ ‹ወረጘ ዊግጭር ኣጢ?› ይርን በውርስርን ጨጝቅሽትርነ፤ ዊግተውድ መንፈስ ቅዱስጚ ክትንም ኣይርነቅ።', 'እጅር ጝዝንት፣ ኣይርም ጝዅርት ክርጘል ዲቍስ ይውጡ፤ ዅል ጝታኣቅሊል ኣምፅጥቍ፤ ቁጥቍም።', 'ይቍዝም እቀ በዊልቅ ሽክሽርነቅ ኣትርንቅ፤ ዊገድ ግን ኻትሸነይል ኣሽ ፀናቐውድ ጘጝ ቓድጡ።', '«ድዘርዙ ርኵስነድ ጝጭስ ጥውሻው ስፍረይል ችብር ቓልድርናንድ እኒንት ኣንቫቪድ ኣስክስነ፤', 'ኣይንድ ይዅዳ ኻግሪል ፅበቍድ ጅልወይዝጐ ሰይጝነ።', 'ኽድም ዲግል ዊነውድም ጊሚነ፤ ጝንቭርትድም ፊስጠ ጝኒል ጥዊነ።', 'ቺዝጝል ዊነውድም ጝኣልቨድየንት ፊስጠ ዋጥሪነ።', 'እንዛይ ግርቂዝ ጊዙረቍዝመ ኒቭሰቍ መሉጅንጥዝ ወየው!', 'እንቅ ጫረዝ ኣቓየጘ ፃልይጥን።', 'ኣይንድ እደረ በውገ ፍጥርትድ ፋጥረው ግርየይስ ኪርም ነኳን ኣሽ እትሊየው፣ ነስየ ተረው ዚምኒዝም እትላው ኽየው ሚከረ ኣጡ።', 'ኣደረ ጛይ ግርቅድዛት እጅጝዚየው ኣቓን ኣውማውቅ ቓዳውም ዊኑ፤ ዊገድ ግን ማርፅሽተቍ እቂዝ ማጥን የው ግርቅድዛት እጅጝዝጡ።', 'ኣይንድ ኣውማውቅ፦ ‹እንወ ክርስቶስ እንል የጝ!› ዊንም፦ ‹እንወ እቲል የጝ!› ይሽ ኣምንትርነ።', 'ኻሰትኝጥ ክርስተውሳንዝመ ኻሰተኝጥ ነቭያታንዝ ተርጥቍ፤ ዲንቅሰቍ ምልክታንዝመ ታምራንዝ ፃቭጛⶖ ቸልጛንስ ማርፅሸተቍድዛት እኳ ቀስጥቍ።', 'እንዝ ማጥን ጣጝቅቅጭጥን፤ ግርየድ ችጚጝቀ እጝቅትቅ ድቍኩን።', '«ኣይንድ እን ሚከረይዝ ግረ፦', '‹ኰረየን ጥምትቲ፤', 'ኣርቨየንም ጝርብርኻንድ ይዋይም።', 'ፅግልውጥድም ሲመይስ ኣርግፍሽጥቍ፤', 'ሲመይ ፅበቍ ኻይላንድም ተናውጥሽጥቍ።›', 'ኣይንድ እጅር ዅር ኽየው ኻይልዝመ ግርመዝ ድምነዝ ፃቭ ተራንድ ቓልሽትጡ።', 'ጘጝም ጝመላካንድ እፃቕ ኣልሚዝቍ ሲዘ ማእዘናኒስ ዝቨት ደርቸይስ ኪርም ሲመይት ደርቸይል ኣሽ ጝማርፅሽተቍድዛት ኣኽቭጡ።', '«ተከድየንትም በለስ ዘፍሸንቲስ ክንድጥን፤ ጝርጫፋንድ ጭጭቭጛንድ፣ ጝርኻፅድም ሊልምድጛንድ ኣይንድ እየ ችጘጘ ኣርቕትርንቅ።', 'እኒዝጘም ክትን እንቅ እጝቅ ኣቐጘ ቓልድርናንድ እጅር ኵር ተረው ግርየድ ኣልተጘ፣ ሚረይልም ኣቐጘ ኣርቕጥን።', 'እማንዝ የኵን፤ እንዛይ ዊቅድ ፋፅምሽጥጚስቅ እን ዅለድ ዲቋውም።', 'ሲመይስመ ዝቨስ ዲቍጥቍ፤ ይቃልድ ግን ስሪስቅ ዲቋውም።»', 'ኣደረት ተረነ ግርየይዝመ ሰቲዝ ኣርቕሽታው ኣቀጘ', '«እቸን ግርየየንስመ ሰትሸንስ ግን ኣይር ኣቕሽጚ ሲመይ ፅበቍ መላካንድም ኣጝሽ ዅርም ኣቕሽ ኣውማውቅ ኣርቓውም።', 'እንዝ ማጥን ግርየድ ኣውን ኣቐጘ ኣርቓይርነቅም፤ ኣቓንስቅም ጣጝቅቅጭጥን፤ ቲጊይጥን፤ ፃሊጥንም።', 'እንም ጝንድየንት በር እክል ኻግርል ፊረው እጅርድ ተከኵ፤ ጘጝም ጛኣገልጋያንድዛት እጝቅትቅ ጝታይተሰቭል ውላዙ፤ ዘቨኘድም ነቃቕ ሊሚዳንስ ኣዙ።', 'ነስየ ጝኒዝ ወነድ ድልሚዝ፣ ኻረ ግቨሪዝ፣ ጂሩ ዋኒዝ ዊንም ቢየድ ፋንድ ተርጠጘ ኣርቓይርነቅም፤ ኣቓንስቅም ቲግይርን ሊሚድጥን።', 'ድጝግት ተራንድ ኽርይርን ችጛየጘ ቲጊጥን።', 'ክታጭስ ድቈውድየንት ላጢዝም እጝቅዝቅ፦ ‹ቲግይርን ሊሚድጥን› የር ድቈኵን።»', 'ላይ እውነ እየሱስት ሽቱ ቓስረጘ', 'ፈዝየይዝመ ቅጣ ዀነው በሊዝ ኪብርጠ ሊጘ ግርቅ እዳጛንድ፣ ካኽነጣነ ኻልቅጢዝመ ወሪትት ኽግ ክንሰጢዝ እየሱስት ፃይጝ ቍውጥጘ መለ ደምዝጛⶖ ዊንⶖ።', 'ኣነጚ፦ «ኽዝቭድ ኣመፅ ጕያየጘ ኣምርበሊዝ ኣቒነ» ይጛⶖ ዊን\\ue07d።', 'እየሱስም ቢታንየስ ለምፃም ስሙን የነው እጅሪዝ ጝኒል መድል ጐይ ፅባⶖ ላይ እውነ ንፅዅ ናርደውስዝ ኣስልኑ ጝወየድ ጭቕጘ ኪብረው ሽቱ እቻቐው ኣልቫስጥረውስ ብልቃጥ ፃይር ተርች፤ ብልቃጥድየንትም ኪልድር ሽቱድየንት ጝኣውሪል ቅብስች።', 'ጝግል ዊነቊስም ላው ላውድ ኻልክሽጝ ጛስ ጛይ፦ «እኒን ሽቱድ ወረጘ የነት የጝ ቢክነውድ?', 'ሻቘ ላ ዲናርዝ ንየዝ ቅይሽ፣ ጊንዝቭድ ድኽዝ ይውሽትጠ ዊኑ» ይ\\ue07d፤ እውነየንትም ኒቕፍⶖ።', 'እየሱስ ግን፦ «ውር ቃጥ ጝርት ቺግርዝርና? በጥን፤ ጚ ይግስ ቀሰው ዊገ ፃቭርኵች።', 'ድኽድ ዊትርቅ ክታጅቅ ጛይ፤ በንርነው ግርየይዝቅ ከቭትርነ ቸልድርነኵ፤ ያን ግን ዊትርቅ ክታጅቅ ፅበቅም።', 'ጚ ቸልደውድየንት ፃቭርኵች፤ ይመቃቭሪዝ ኣቓንስ ማጥን ይሰወነትድ በውርስር ሽቱዝ ቓስርኵች።', 'እማንዝ የኵን፤ እን ወንጌልድ ኣልሚልቅ ሲቭክሻንድ ኣውማው ስፍረይልቅ ጝርኻስቭሸነ ኣቕ ድቍሽትጡ» ዩ።', 'እንዝ ግረ ፅጭ ሊጘይስ ላውድ ኣስቈረውትቱ ይዅዳ፣ እየሱስት ዲቍስ ይውጠ ካኽነጣነ ኻልቅጢል ፊሩ።', 'ጛይም እኒንት ወሽጛንድ ዲስ ይⶖ፤ ጊንዝቭም ይውጥጘ ቃል ጥውⶖ፤ እንዝ ማጥን ጝት ዲቍስ ይውጠ ሚቸው ግርየ ሊሚዳⶖ ዊኑ።', 'ፈዝየት ድረይዝመ ቅዱስ ቍርቫንዙ ስረትዝ', 'ፈዝየይዝመ ቢገ ዝውሽተው ቅጣ ዀነው በሊዙ በወትረ ግርየይዝ ጝክንደጥድ እየሱስ ትጐ ኣልትጝ፦ «ፈዝየት በሊዙ ድረይድየንት ኣውል ኣስልነ በንረኵ?» ይⶖ።', 'ጘጝም ጝክንደጢስ ሊጘድዛት፦ «ኻትመይዝጐ ፊጥን፤ ጝጊስም ጭን ኣቝ መውረው እጅር ችጝትርንቅ፤ ጝትም ቲክንጥን።', 'እጅርድ ጥወው ጝኒልም ፊትርን ጝኒዝ ወነድየንት፦ ‹ክንሰተድ፦ <ይክንደጢጅቅ ፈዝየት በሊዙ ድረይድየንት \\ue403ንስ ማጥን ኣቭን ፈወነ ጝንድ ኣውየን የጝ?> የኵ› ይጥን።', 'ጘጝም ዲቭሪል ኣስልሽ ወፃሸው ፈራቐው ኣዳራሽ ቓሊስጡ፤ ጝግልም ኣስልጥን» የው እፃቑ።', 'ክንደጥድም ጝጊስ ፍጝ ኻትመየንትጐ ፊርጛንድ፣ እጝቅ ዊገድቅ ልክ እየሱስ የጘ ኣስልሽ ችጝ\\ue07d፤ ጝግልም ፈዝየ በሊዙ ድረይድ ኣስልⶖ።', 'ኵናንድም እየሱስ ፅጭ ሊጘይጅቅ ኣቕ ተሩ።', 'መድል ፅብጛⶖም፦ «እማንዝ የኵን፤ ክታማኽሊስ ላውድ ይት ዲቍስ ይውጡ፤ ጘጝም ነን ይጅቅ ድረይ ዀውድ የጝ» ዩ።', 'ጛይም እን ዊገይዝ ኻዝንጝ ቲረቲረዝ፦ «ያንመ ኣጭር ኣጢ? ያንመ ኣጭር ኣጢ?» ይጛⶖ ዋቕርጥጘ ኪርምⶖ።', 'እየሱስም፦ «ፅጭ ሊጘይስ ላውድ ጝናንድየንት ይጅቅ ዝብዲል በርሰውድ የጝ።', 'እጅር ዅርስ በውርስ ጝማጥን ፃፍሽጘ ክርጡ፤ ዊገድ ግን እጅር ዅርት ዲቍስ ይወው እድየን እጅሪዝ ወየው፤ እድ እጅርድ እዅርሺጝቀ እዳቕ ዊናን ቺዝጠ ዊኑ» ዩ።', 'ዅጛⶖ ሲጝቀም ሚድ ጕይ በርኩ፤ ኪልም ጝክንደጢዝ፦ «ኣስጥን እኒን ይስየድ የጝ» የው ይዉ።', 'ፅወድየንትም ጒ እደረት ሚዝየንዝ ይዉ፤ እጝቅቅም ዝይⶖ።', 'ቈሽም፦ «እኒን ንቕፀቊዝ ማጥን ቅብረው ኣይር ኪዳኒዙ ይብርድ የጝ።', 'እማንዝ የኵን፤ እደረት ምጝግስቲዝ ኣይር ወይኒዙ ፍረይስ ዝቅጪስቅ እቸን ግርየንትል ኣሽ ሊጘት እኒንት ዝቀቅም» ዩ።', 'እንዝ ግረም መዝሙር ዚምርጝ ደቭረ ዘይት ኣበይዝጐ ፍⶖ።', 'ቢጥሮስ ኻዲጠጘድ እየሱስ በውርስ ዊግተጘ', 'ዊገድ ግን ያን ክርጘይስ ጐት ግረ ገሊለ ትጐ ክታት ቃውስ ፊጭር» ዩ።', 'ኣይንድም ቢጥሮስ፦ «እጝቅቅ ፅጋርጝሽ እኳ ያን ግን ፅጋጠቅም!» ዩ።', 'እየሱስም፦ «እማንዝ የኵን፤ እኝቸን ኻርሸንስ ጅርወ ሊⶓን ዋቒጘቀ ይት ሸውን ኻዲትር» ዩ።', 'ቢጥሮስ ግን፦ «ክረነው እኳ በንዛን ክጅቅ ክጭርጚ ክት ኻድየቅም» ያⶖ ቐናዝ ዊግቱ፤ ላጥድም ጘጝት ዊግት\\ue07d።', 'እየሱስ ጀተሲማኒስ ፃልየጘ', 'እንዝ ግረ እየሱስስመ ጝክንደጢዝ ጀተሲማኒ ይሽተው ስፍረይዝጐ ፊርⶖ፤ ጘጝም ጝክንደጥድዛት፦ «ያን ፃሊጪስቅ እንል ዊንጥን» ዩ።', 'ቢጥሮስት፣ ያይቈቭት፣ ይዃንስትም ፃይ ፊሩ፤ ጭቕጘም ኻዝንጠ፣ ጨጝቅሽጠም ኪርሙ።', 'ቈሽም፦ «ይኒቭስሸን ክርጘል ኣሽ ጭቕጘ ኻዝንች፤ እንል ኣጥን፤ ነቃቕርንም ሊሚጥን» ዩ።', 'ዊትወት ዲቍ የውም ዝቨይል ሊቭ ቸልሸው ኣቕሽ፣ ጚ ሰትሸን ጝጊስ ዲቍራንስ ማጥን ፃልዩ።', 'እየሱስም፦ «ኣየወ! እጝቅትቅ ቸልደኵ፤ እኒን ሚከረዙ ፅወድየንት ይጊስ እክልሽ፤ ዊገድ ግን ክት ዊድረውድጚ ያን ዊደውድ ኣቒነ» ዩ።', 'ዋጥር ተራንድም ጝክንደጥድዛይ ኽርይጝ ዊን\\ue07d፤ ቢጥሮስትም፦ «ስሙንወ! ኽርይርመኵሩ? ላው ሰት እኳመ ነቃቕር ሊሚደነው ብሩ?', 'ፊተነይል ጥዋይርነጘ ቲግይርን ፃልይጥን፤ መንፈስ ኣስልሸው የጝ፤ ስየ ግን ዝላቐረ የጝ» ዩ።', 'እንደ ገነም በዊል ፃልየውድየንት ቈሽ ፃልዩ።', 'ሊጘት ዋጥር ተራንድም ጝታእልጣንድ ዝመውዝ ዝላቕጝ ዊንጛንስቅ ኽርይጝ ዊን\\ue07d፤ ጝጭስ ዊስጘው ዊገድየንትም ኣርቓቍም ዊንⶖ።', 'ሸወትም ተር፦ «ነንምመ ገነ ኽርይርን፣ ፈውርንም እኵርኑ? ነስየስ ኣጥጘች፤ ሰትሸን ችጝርኵች፤ እንወ! እጅር ዅር ኽጥያትኝጢዙ ናኒዝ ዲቍሽት ይወሽትጡ።', 'ጕጥን ፊርነ፤ ይት ዲቍስ ይወውድ ተርኵ» ዩ።', 'እየሱስ ፃይሸጘ', 'ጘጝም ዊግታውⶖ ሲጝቀ ፅጭ ሊጘይስ ላውድ ይዅዳ ተሩ፤ ጝጅቅም ሰይፍዝመ ዱለዝ ፃየቍ፣ ካኽነጣነ ኻልቅጢስ፣ ወሪትት ኽግ ከንሰጢስ፣ ሽመቅሊስ እፃሸቍ ንቕፀቍ እቅ ዊን\\ue07d።', 'ይዅዳም፦ «ክትን ደምዝርነው እጅርድ ያን እምቘድ የጝ፤ ጝት ፃይጥን፤ ጣጝቅቅሽርንም ፊስጥን» የው በውርስ ምልክት ይው ዊኑ።', 'ጝግል ችጘጘም በውዝ እየሱስትጐ ኣልት፦ «ክንስተወ!» የው እምቑ።', 'እቅድም እየሱስት ፃይጝ እፅቍⶖ።', 'ጝጋቢል ችብርጝ ዊነቊስም ላውድ ጝሰይፍድየንት ምዝ ኻክናጣነ ኻልቀዝ ኣገልጋይዙ ቀርዝድየንት ቅዝ ማሉ።', 'እየሱስም፦ «ወምበዲ ፃየቍዝጘመ ይት ፃይትርነ ሰይፍዝመ ዱለዝ ፃይርን ተትሩ?', 'ግሪ ጨቨቅ መቅደስ ጝኒል ክንሳ\\ue07d ክታጅቅ ዊናንድ ፃዪርነቅም፤ ዊገድ ግን ቅዱሳን መፃፋንድ ይጘውድ ፋፅምሻንስ ማጥን እኒን ኣቑ» ዩ።', 'ኣይንድም እጝቅቅ ጝት ማልጝ ሰይⶖ።', 'ኵተ ጭቝ ሲረው ላው ውርጋጠም እየሱስት ቲክናⶖ ዊኑ፤ እቅድም እን ውርጋጠድ ፃይጛንድ፣', 'ጝግልድምድየንት ማል መጥማጥ ሰዩ።', 'እየሱስት ፍርድዙ ሸ\\ue07dጐዊል ፊስጘጘ', 'እየሱስትም ካኽነጣነ ኻልቀይዝጐ ፊስⶖ፤ ጝግልም ካኽነጣነ ኻልቅጥድ፣ ሽመቅልድ፣ ወሪትት ኽግ ክንሰጥድ እጝቅ ኣኽቭሽ\\ue07d።', 'ቢጥሮስም እክልድ የው ቲክናⶖ ካኽነጣነ ኻልቀዝ ኻፅሪል ኣሽ ፊሩ፤ ጝግልም ጐይ ኣገልጋያኒጅቅ ልየ ቃውራ\\ue07d ዊኑ።', 'ካኽነጣነ ኻልቅጢዝመ ሽ\\ue07dጐዊዝቍ ኣቫላንድም ምሉዝ እየሱስት ቍዉስጥጘ ሚዝር ደምዝጛⶖ ዊን\\ue07d፤ ዊገድ ግን ኣውማውትም ችጚየቍ።', 'ንቕፀቍ እቅ ኻሽትዝ ሚዝርድጝሽም፣ ጝታቃልድ ግን ላው ኣጠ ቸሊየውም።', 'እንም ኣቕ እኳ ጝታሚዝርነይድ ላው ኣቒየውም።', 'ካኽነጣነ ኻልቀድም ጕ ጝታበዊል ችብር፦ «እንዛይ እቅድ ክት ኪስጘውድ ወረጘ የጝ? ውር ቃጥስ ዊሰ ይዋር?» የው እየሱስት ዋቕሩ።', 'እየሱስ ግን ዝም ዩ፤ ውረውረቅ ዊስየውም፤', 'ካኽነጣነ ኻልቀድም እንደ ገነ፦ «ብሩክ እደረት ዅር ክርስቶስ ክትመ?» የው ዋቕሩ።', 'እየሱስም፦ «የይ ያን የጝ፤ እጅር ዅር ኻይሉ እደረት ለዊል ጐያንድ፣ ሲመይዙ ድምነዝም ተራንድ ቓልትርንቅ» ዩ።', 'ካኽነጣነ ኻልቀድም ጝቕምት ኣልቨድየንት ቀድ፦ «እንዝለ ውርት ሚዝር በንዝጣ?', 'ጝዛንድ ወሽርንኵርኑ፤ እድስለ ወረጘ ይርና?» ዩ፤', 'ጛይም፦ «ክርጠ ጥውሸኵ» ይጝ ላው ቃልዝ ፊርድⶖ።', 'ኣይንድም ላው ላውድ ጝታብፅቕንድ ጝዲጊል ትፍ ይጥጘ ኪርምⶖ፤ ጝ', 'ልጣንድም ሺፍንጝ ቡጢዝ ጣዝጛⶖ፦ «ክት ጣዘውድ ኣው ኣቐጘ እስቲ ኣርቓ!» ይጛ\\ue07d ዊን\\ue07d፤ ኣገልጋያንድም ጥፊዝ ጣዝጛ\\ue07d ፊስⶖ።', 'ቢጥሮስ እየሱስት ኻድየጘ', 'ቢጥሮስ ሳ ኻፅር ኣቒል ጐይ ፅባ\\ue07d ካኽነጣነ ኻልቀይዝ ጊርዳኒስ ላይሸን ተትር፣', 'ቢጥሮስ ልየ ቃውራⶖ ሲጝቀ ጝት ትክ ይር ቓልችነ፦', '«ክትም ናዝሪትቱ እየሱስ ጅቅ ዊንዱ» ይች።', 'ቢጥሮስ ግን፦ «ያን ክት ይረውድየንት ኣርቐቅም፤ ዊግትረው ዊገድም ይጭስ ጥዋውም» የው ኻድዩ፤ እኒንትም የው ሚረይዝጐ ፉ፤ ኣይንድም ጂርወ ዋቑ።', 'ጊርድሸንም ጝት ቓልዳንድ ጝግል ችብረቊዝ፦ «እን እጅርድ ጛጊስ ላውድ የጝ» ይር እንደ ገነ ዊግትች።', 'ቢጥሮስ ግን እንደ ገነ ኻድዩ፤', 'ዊትው ዊንጘጘም ጝግል ችብረቍ እቅድ ቢጥሮስት፦ «ክት ገሊለቱ እጅር ኣራንስቅ እርግጥ ጛጊስ ላውድ የጝ» ይⶖ።', 'ቢጥሮስ ግን፦ «ክትን ይርነው እጅርድየንት ያን ኣርቐቅም» ያ\\ue07d ጝቕምት እፃⶖ ፃርጠ ኪርሙ።', 'በውዝም ጂርወ ሊጘት ዋቑ፤ ቢጥሮስም፦ «ጂርወ ሊ\\ue07dን ዋቒጝቀ ሸውን ኻዲትር» የው እየሱስ ዊግተው ቃልድየንት ትዝ ዩ፤ ኣይንድም ኽርር የው ሊዙ።', 'እየሱስት ቢላጠውስትል ፊስጘጘ', 'ቅሻንድም ካኽነጣነ ኻልቅጥድ ሽመቅሊጅቅ፣ ወሪትት ኽግ ክንሰጢጅቅ፣ ሸ\\ue07dጐዊዝቍ ኣቫላኒጅቅ ማኽርሽጘት ግረ እየሱስት እፅቍጝ ፊስⶖ፤ ቢላጠውስስም ዲቍስጝ ይውⶖ።', 'ቢላጠውስም፦ «ክት ኣይዅዳነ ንጕስመ?» የው ዋቕሩ፤', 'እየሱስም፦ «ክት ይረጘ የጝ» የው ዊሱ።', 'ኻኽናጣነ ኻልቅጥድም ንቕፀቍ ዊቅዝ ኪስጛⶖ ዊን\\ue07d።', 'ቢላጠውስም፦ «ዊሰ ይዋር ወረጘ የጝ? እንወ! ክት ንቕፀቍ ዊቅዝ ኪስጘኵ» የው እንደ ገነ ዋቕሩ።', 'እየሱስ ግን ቢላጠውስ ጊርምሽጢስቅ ውረውረም ዊስየው።', 'ቢላጠውስም ፈዝየ በሊዝ ኣምረ ኣምረዝ ኽዝቭድ ላው እፁሸው እጅር ጝት ዋቕርጘውድየንት እክሰነው ክንስ ዊኑ።', 'ኣይንድ ኣመፅ ጕይስጝ ኒቭስ ቍወቍ ኣመፅኝጢጅቅ እፁውሸው በርቫን የነው ላው እጅር ዊኑ።', 'ኽዝቭድም ቢላጠውስ ትጐ ኣልት ክንሸው ስቝርትድ ፃቫንስ ጨዉ።', 'ካኽነጣነ ኻልቅጥድ ግን፦ «እየሱስት ቃጥ በርቫን እኪትነ» የው ዋቕራንስ ማጥን ክዝቭድየንት ኣቭልቭል\\ue07d።', 'ቢላጠውስም እንደ ገነ፦ «እደስለ እኒን ኣይዅዳነ ንጕስ ይርነውድየንት ውር ፃቭጨ በንርነኵ?» ዩ።', 'ጛይም እንደ ገነ፦ «ሲቅል!» ይጛⶖ ቓፅⶖ።', 'ቢላጠውስም፦ «ውረ ሰራሸው በደልድ ወረጘ የጝ?» ዩ፤', 'ጛይ ግን፦ «ሲቅል» ይጛⶖ ወሰገቨ ቓፅⶖ።', 'ቢላጠውስም ኽዝቭድ ዲስ ያንስ የው በርቫንት እክሱ፤ እየሱስት ግን ጊርፍስ በር ሲቅልጛንስ ጛጭስ ዲቍስ ይዉ።', 'ዊተድርድ እየሱስትል ኣሹፍጘጘ', 'ዊተድርድም እየሱስት፦ «ብራይተውሪወን» ይሽተው ቅመተይዙ ኻፅሪል ፊስⶖ፤ ላጥ ዊተድርዛትም እጝቅትቅ ላው ፃቭጝ ኣኽቭⶖ።', 'ሰረው ኣልቨም ሲስⶖ፤ ኣሚዙ ኣክሊልም ጒንጕን ጝኣውሪል ደፋቕⶖ።', 'ጝዝለም፦ «ኣይዅዳነ ንጕስወ! ዲግተ ክጭስ ኣነ!» ይጛⶖ ሲለም ይ\\ue07d።', 'ጝኣውርድየንትም ግብዝ ጣዝⶖ፤ ጝታብፅቕንድም ጝዲጊል ትፍ ይ\\ue07d፤ ኣሹፍጛ\\ue07dም ጝበዊል ግርቨቭሽጝ ሲግድⶖ።', 'ኣሹፍጘት ግረም ሰረው ኣልቨድየንት ጭውዝጝ፣ ጝቕምት ኣልቨድየንት ሲስⶖ፤ ሲቅልጥጘም ፃይጝ ፊርⶖ።', 'እየሱስ ሲቅልሸጘ', 'ኣለክሳንድረውስስመ ሩፈውስስታይር ስሙን ይሽተው ቀሪነቱ እጅር ገጠሪስ ኻትመይዝጐ ተራንድ ችጝጝ ሚስቅልድየንት መውራንስ ኣስግድድዝⶖ።', 'እንዝ ግረም እየሱስት ጝትርጉምድ፦ «ኣውር በወ ስፍረ» ይሽተው ጐልጐልተ ትጐ ፊስⶖ።', 'ጝጊስም ከርቭየ ጅቅ ዲቭልቅሸው ወይንዙ ሚዝ ይውⶖ፤ ጘጝ ግን ዚዪየውም።', 'እንዝ ግረም እየሱስት ጝግል ሲቅልⶖ፤ ጝኣልቨድየንትም እፀ ማልጝ ኣድልድልሽⶖ።', 'ሲቅልጛንድም ግረቨዝ ሻቘ ሳ ዊኑ።', 'ጝኪስሽተው ዊገድየንት ቓሊሳንስ ማጥን፦', '«እኒን ኣይዅዳነ ንጕስ የጝ» የው ፅፈሽ ፃፍሽ ዊኑ።', 'እየሱስ ጅቅም ሊጘ ወምበዲጥ ነስጝ ላውድየንት ጝፃግቪዝ ሊጘትረድየንት ቈሽ ጝለወይዝ ሲቅልⶖ።', 'እንዝም መፃፍ፦ «ኣመፅኝጢጅቅ እጊቱ» የው ዊግተው ትንቪቲዙ ቃልድ ፋፅምሹ።', 'ጒደነይዝ ዲቈቍድም ጝታውርድ ኒንቅጛⶖ፦ «ኣዪይ! መቅደስ ጝንድየንት ፋዝር ሻቘ ግርቅዝ ተስረርድ ክት ቃይረር?', 'እስቲ ነን ሚስቅሊስ ጊምር ክቕምት ቓዝ» ይጛ\\ue07d ዛሽ\\ue07d።', 'እኒዝጘም ካኽነጣነ ኻልቅጢዝመ ወሪትት ኽግ ክንሰጢዝ ጛስ ጛይ፦ «ላጥድዛት ቓዙ፤ ጝቕምት ግን ቓዝጠ ቸላውም።', 'ጘጝ እማን እስራየላነ ንጕስ ክርስቶስ ኣቐውዝየ ይንም ቓልን ኣምንናንስ ማጥን እስቲ ነን ሚስቅሊስ ጊምነ!» ይጛ\\ue07d ኣሹፍጛⶖ ዊን\\ue07d፤ ጝጅቅ ሲቅልሸቍ ወምበዲጥድም ዛሽጛⶖ ዊን\\ue07d።', 'እየሱስ ክረጘ', 'ዋልጠ ሳይስ ኪርም ፃይጨ ሳይል ኣሽ ዝቨይልቅ ጥመ ኣቑ።', 'እየሱስም ፃይጨ ሳይዝ፦ «የለዅየ የለዅየ ላማ ሰቨቅታኒ?» የው ኽየው ድመዝ ቓፁ፤ ጝትርጕምድም፦ «ይኣምላክወ! ይኣምላክወ! ውረ ይት በትሩ?» የነት የጝ።', 'ጝግል ችብርጝ ዊነቍ እቂስ ላው ላውድ እኒንት ወሽጛንድ፦ «እንወ! ይልያስት ጭጘኵ» ይⶖ።', 'ላው እጅርም ውጢ ፊር \\ue403ምጥጠው ወይንዙ ሚዝ ሰፍነግዝ ናኽሩ፤ ዚግልም ፃቭ እየሱስ ዚያንስ ኣልሱ፤ ጝዝለም፦ «በጥን! እስቲ ይልያስ ተር ጊምዛንድ ቓልነር» ዩ።', 'እየሱስም ኽየው ድመዝ ቓፁ፤ ኣይንድም ጝፈውጥድ ፍ\\ue07d።', 'ኣይንድም መቅደስ ጝኒዙ ገርደነድ ንየ ጫፊስ ኪርም ሳ ጫፊል ኣሽ ሊጘትል ቀድሹ።', 'እየሱስት በዊል ችብር ዊነው ላዝ ኻልቀድም እየሱስ ቓፅ ጝፈውጥድ ፍጘጘ ቓል፦ «እን እጅርድ እማንም እደረት ዅር ዊኑ» ዩ።', 'ኣይንድም ላው ላው እቍን እክልድጝ ቓልጛⶖ ዊንⶖ፤ ጝታማኽሊስም መግደላዊት ማርያም፣ እጥን ያይቈቭስመ የውሳስታኘ ማርያም፣ ሰለውምየም ዊንⶖ።', 'እንዛይ እቍንድ ገሊለስ ኪርምጝ ቲክንጝ ጝት ኣግልግልጛⶖ ዊነቍ ጛይ፤ ቈሽም ጝጅቅ ላብጠ እየሩሳልየም ተረቍ ላጥ ንቕፀቍ እቍንም ዊንⶖ።', 'እየሱስት ድቭሽተጘ', 'ጊርቅድም ኵናⶖ ፊሩ፤ ቅዳምሲንቭትት ዋዚመ ኣስልሸነ ሰትም ኣቑ።', 'ኣይንድ ኣይዅዳኒዙ ሸ\\ue07dጐዊዝ ኣቫል ዊነው ዮሴፍ የነው ኪብረው ኣርማትያስቱ እጅር ተሩ፤ ጘጝ እጅርድ እደረት ምጝግስትየንት ቲስፈዝ ኣርውደው ዊኑ፤ ጘጝም ድፍርትዝ ቢላጠውስትል ፊር እየሱስት እርሸድየንት ጨዉ።', 'ቢላጠውስም በውዝ ክረጘ ወሻንድ ዲንቅሹ፤ ላዝ ኻልቀድየንትም ጭጝ፦ «ክረመ ክሩ?» የው ዋቕሩ።', 'እየሱስት ክርጘድየንት ላዝ ኻልቀይስ ተረድሸተት ግረ እርሸድየንት ዮሴፍስ ይዉ።', 'ዮሴፍም ፃረው ኻር ኣልቨ ጅቩ፤ እርሸድየንትም ጘጝ ኣልቨይዝ ጊንዙ፤ ጝዝ ግረም ፃፀይስ ፃርቭሽ ኣስልሸው መቃቭርል እቝሩ፤ መቃቭሪዝ ሚረድየንትም ኽየው ቕርጘ ትጕለልዝ ዲቩ።', 'ማርያም መግደላዊትስመ የውሳትኘ ማርያምስም እየሱስት ኣውል ዲቭጘጘ ቓልጛ\\ue07d ዊንⶖ።', 'እየሱስ ክርጘይስ ጐጘ', 'ቅዳምሲንቭት ዲቈት ግረ መግደላዊት ማርያም፣ ያይቈቭ ትኘ ማርያም፣ ሰለውምየም ኣቕጝ እየሱስት እርሸድየንት ቓስጥጘ ሽቱ ጅቭⶖ።', 'ሸወጪዙ በወትረ ግርየይዝም ግረቨዝ ኻር ጕጝ ገነ ኰረየን ፍረጘ መቃቭሪዝጐ ፊርጛⶖ ሲጝቀ፦', '«ቕርጘድየንት መቃቭሪዙ ሚረይስ ኣው ጊልብርጡ ኣጢ?» ይጛⶖ ጛስ ጛይ ዊግትጛⶖ ዊንⶖ።', 'እኒንትም ይጘውድ መቃቭርድ ዲቭሽተው ቕርጘድ ጭቕጘ ኽየው ዊናንስቅ የጝ፤ ጭቅ ይጝ ቓልጛንድ ግን፣ ቕርጘድ ጊልብርሽ ቓልⶖ።', 'መቃቭሪዝጐ ጥውጘጘም ፃረው ኣልቨ ሲረው ውርጋጠ እጅር ጝታለወይዝጐቱ ጐይ ቓልጝ ዳጝግፅⶖ።', 'ጘጝ ግን፦ «ኣይዝዀጥን ዳጝግፅትረነ፤ ክትን ደምዝርነውድ ሲቅልሸው ናዝሪትቱ እየሱስት ኣቐጘ ኣርቕኩን፤ ጘጝ ጕኩ፤ እንል እጀውም፤ ዲቭሽተው ስፍረድም ቓልጥን።', 'ነን ግን ፊጥን፤ ጝክንደጢዝመ ቢጥሮስስ፦ ‹እንዝ ሚቅ እየሱስ ክታጭስ ድቈጘ ገሊለ ቃውስ ፊርጡ፤', 'ጝጊስም ቓልትርንቅ› ይርን ድቍጥን» ዩ።', 'እቍንድም ጐውትዝ ቈጥቈጥ ይጛⶖ መቃቭር ስፍረይስ ፍጝ ውጥይⶖ፤ ጭቕጘ ጐውትጝ ዊንጛንስቅም ኣውማውስቅ ውርቅ ዊግቲየቍም።', 'ሸወጪዙ በወትረ ግርየይዝ ግረቨዝ ክርጘይስ ጐት ግረ፣ እየሱስ ላጝጠ ጋኒናን ጝርጊስ ፊሰቍ ማርያም መግደላዊትስ በዊል እትሉ።', 'እንዝ ግረም ክንደጢስ ሊጘድ ገጠሪዝጐ ፊርጋⶖ ጛጭስ ላየ ሚልክዝ እትሉ።', 'ጛይም ዋጥርጝ እኒንት ላጥ ጝክንደጢዝ ድቍⶖ፤ ኣነጚ ጛትም ኣምኒየቍም።', 'ጝዝ ግረም ፅጭ ለውድ መድል ጐይጝ ፅብጛⶖ ጛጭስ ጋልፅሽቱ፤ ክርጘይስ ጐት ግረ ቓለቍ እቅድ ድቍጘውድየንት ኣምነቅ ይጛንስቅም ጝታእምንት በነይዝመ ጝታእዘኒዙ ጥጝክርነይዝቍዝ ኒቕፉ።', 'እንትም ዩ፦ «ኣልሚልቅ ፊጥን፤ ወንጌልድየንትም ፍጥርቲዝቅ ሲቭክጥን።', 'ኣምነውድ፣ ጣምቅሸውድም ቓድጡ፤ ኣምናውድ ግን ፊርድሽጡ።', 'ይት ኣምነቍዝቅ እንዛይ ምልክታንድ ቲክንጥቍ፦ ይሽⶔዝ ጋኒናን ፊስጥቍ፤ ኣይር ቋ\\ue07dቈዝም ዊግትጥቍ።', 'ሳብልድ ጝታናኒዝ ፃይጥቍ፤ ቍወው መርዝም ዝይጝሽ ጛት ጒድያውም፤ ጝታናንድም ፅውዝጅኒል እቝርጥቍ፤ ፅውዝጅንድም ቓድጥቍ።»', 'ኣደረ እየሱስ እኒንት ዊግተት ግረ ሲመይ ኣርጉ፤ እደረት ለዊይልም ጐዩ።', 'ጝክንደጥድም ስፍረ ጨቨቅ ፊርጛⶖ ሲቭክⶖ፤ ኣደረም ጛጅቅ ኣቕ ሰራሻ\\ue07d ጝታክንድጚጅቅ ፃቭጘቍ ምልክታኒዝ ቃልድየንት ፀናዛ\\ue07d ዊኑ።', 'ማቲወስት ወንጌል', '.ዳዊትት ዅር፣ ኣቭርኻምት ዅር እየሱስ ክርስቶስት ዚረይዙ ኻረግድ እኒን የጝ፦', '.ኣቭርኻም ይሳቅት እዅሩ፤ ይሳቅ ያይቈቭት እዅሩ፤ ያይቈቭ ይዅዳስመ ጝፅንስ እዅሩ።', '.ይዅዳ ትማርቲስ ፋሪስስመ ዛረስ እዅሩ፤ ፋሪስ የስረምት እዅሩ፤ የስረም ኣራምት እዅሩ።', '.ኣራም ኣሚናዳቭት እዅሩ፤ ኣሚናዳቭ ናሰንት እዅሩ፤ ናሰን ሰልሙንት እዅሩ።', '.ሰልሙን ረኣቭቲስ በዊዝት እዅሩ፤ በዊዝ ሩትቲስ እየቪድት እዅሩ፤ እየቪድ እስየይት እዅሩ።', '.እስየይ ንጕስ ዳዊትት እዅሩ። ንጕስ ዳዊት ወርየውት እውነቲስ ሰለሙንት እዅሩ።', '.ሰለሙን ረቫምት እዅሩ፤ ረቫም ኣቭየት እዅሩ፤ ኣቭየ ኣሳፍት እዅሩ።', '.ኣሳፍ እየሳፍጥት እዅሩ፤ እየሳፍጥ እየራምት እዅሩ፤ እየራም ወዝያንት እዅሩ።', '.ወዝያን እየዋታምት እዅሩ፤ እየዋታም ኣካዝት እዅሩ፤ ኣካዝ ኽዝቅያስት እዅሩ።', '.ኽዝቅያስ ምናስየት እዅሩ፤ ምናስየ ኣሙፅት እዅሩ፤ ኣሙፅ እየስያስት እዅሩ።', '.እየስያስ እስራየላንድ ባቪለውን መራሽጝ ፊርጘው ዚምኒዝ እኰንያንስመ ጝፅኒዝ እዅሩ።', '.ባቪለውን መራሽጝ ፊርጘት ግረ፦ እኰንያን ሰላትያልት እዅሩ፤ ሰላትያል ዘሩቫቪልት እዅሩ።', '.ዘሩቫቪል ኣቭዩድት እዅሩ፤ ኣቭዩድ እልያቂምት እዅሩ፤ እልያቂም ኣዛርት እዅሩ።', '.ኣዛር ሳዱቅት እዅሩ፤ ሳዱቅ ኣኪምት እዅሩ፤ ኣኪም እልዩድት እዅሩ።', '.እልዩድ ኣላዛርት እዅሩ፤ ኣላዛር ማታንት እዅሩ፤ ማታን ያይቈቭት እዅሩ።', '.ያይቈቭ ዮሴፍት እዅሩ፤ ዮሴፍም ክርስቶስ ይሽተው እየሱስት እዅርደይ ማርያምት ወገነ ዊኑ።', '.ነስየ እጝቅ ዅለድቅ ኣቭርኻምቲስ ኪርም ዳዊትትል ኣሽ ፅጭ ሲዘ፣ ዳዊትቲስ ኪርም ባቪለውን ምራይል ኣሽ ፅጭ ሲዘ፣ ባቪለውን ምራይስ ኪርም ክርስቶስትል ኣሽ ፅጭ ሲዘ የጝ።', 'ይናኣደረ እየሱስ ክርስቶስት እዅርሸነይዙ ታሪክድ', '.እየሱስ ክርስቶስት እዅርሸነይዙ ታሪክድ እኒን የጝ። ጝኘ ማርያም ዮሴፍስ ወግሽትር ፅብራ\\ue07d ጝርጅቅ ዲምቅሺጝቀ መንፈስ ቅዱስት ኣመካይነትዝ ጊዙትር ችጝሽች።', '.ጝርወገነ ዮሴፍ ግን ፃድቅ እጅር ዊናንስቅ ጝርት እቀ በዊል ኣጋልፅዝጠ በኒየውም፤ ኣቓንስቅም ጝርት ስውርዝ በርጠ ጝእዘኒዝ ኻስቩ።', '.ዊገድ ግን እኒንት ጝእዘኒዝ ጕያ\\ue07d ማላ\\ue07d ሲጝቀ ኣደረት መላክ ኒቪዝ ጝጭስ እትል፦ «ዳዊትት ዅር ዮሴፍወ! ክወገነ ማርያምት ክጝን ፊሰነውድ ጐውተ! ምላሰንድም ጚ ጊዝውትረውድ መንፈስ ቅዱስት ኣመካይነትዝ የጝ።', '.ግልወ ዅር እዅርቲ፤ ጘጝም ጝኽዝቭድ ጝኽጥያቲስ ቓዝጡ፤ እንዝ ማጥን ጝሽ\\ue07dድ እየሱስ ይትር» ዩ።', '.እንም ኣቐውድ ነቭይዝ ኣደረቲስ፦ «እንወ ድጝግል ጊዝውርቲ፤ ግልወ ዅርም እዅርቲ፤ ጝሽ\\ue07dድም፦ ‹ኣማኑየል› ይሽት ጭጝሽጡ» ይሽት ዊግሸውድ ፋፅምሻንስ የጝ፤ ኣማኑየል የነውድ፦ «እደረ ይናጅቅ የጝ» የነት የጝ።', 'ማቲወስት ወንጌል', 'ምስራቂስ ተረቍ ፅግልውጥ ተመራምርሸቍ እቅ', '.እየሱስ ንጕስ ኺረውድስት ዚምኒዝ ይዅዳ ኻግሪዝወ በተልኺምስ እዅርሸት ግረ፣ ፅግልውጥ ተመራምርሸቍ እቅ ምስራቂስ ጕጝ እየሩሳልየም ተርጝ፦', '.«እዅርሸው ኣይዅዳነ ንጕስድ ኣውል የጝ? ጝፅግልወድየንት ምስራቂስ ቓልን ጝጭስ ሲግድነ ተርንኵኑን» ይጝ ዋቕር\\ue07d።', '.ጘጝም ካኽነጣነ ኻልቅጢዝመ ኽዝቪዝቍ ወሪትት ኽግ ክንሰጢዝ እጝቅትቅ ጭጝ፦ «ክርስቶስ ኣውል የጝ እዅርሸውድ?» የው ዋቕሩ።', '.ጛይም፦ «ይዅዳ ኻግሪዝወ በተልኺምስ የጝ።', '.ምላሰንድም ነቭይዝ፦ ‹ይዅዳ ኻግሪዝወ በተልኺምወ! ይዅዳ ኻግሪዝቍ ኽየቍ ኻትምጢስ ውረውረዝቅ ፅጓርም፤', 'ይኽዝቭ እስራየልት ሊሚደው ቅመተ ክጊስ ፍጡ› ይሽት ፃፍሽኩ» ይጝ ድቍ\\ue07d።', '.እንዝ ግረ ኺረውድስ እዛይ ፅግልውጥ ተመራምርሸቍ እቅድዛት ስውርዝ ጭጝስ ጝፅግለወድ እትለው ትክክልኘ ግርየድየንት ዋቕር ጛጊስ ተረድሹ።', '.ጛትም፦ «ፊጥን ኽፃንድየንት ጥጝቅቀዝ ደምዝጥን፤ ችጝርናንድም ያንም ፊጥ ጝጭስ ሲግጣንስ ማጥን ዋጥርድርን ይጭስ ድቍጥን» የው በተልኺም በርሱ።', '.ጛይም ንጕስድ የውድየንት ወሽጝ ጝታጒደነድ ቃጥል\\ue07d፤ እድየን ምስራቂስ ቓልጘው ፅግልወድም ጛት ቃዋⶖ ፊስ ኽፃንድ ፅበው ስፍረይል ችጛንድ ችብሩ።', '.ጝኒል ጥውጛንድም ኽፃንድ ጝኘ ማርያም ጅቅ ቓል\\ue07d፤ ጝታበዊዝም ደፋሽጝ ጝጭስ ሲግድ\\ue07d፤ ጝታሳፁንድም ብዝጝ ዊርቀ፣ እጣን፣ ከርቭየ፣ ይውት ይው\\ue07d።', '.እደረም ኺረውድስ ትጐ ዋጥራይጘጘ ኒቪዝ ጣጝቅቅሳንስቅ ላየ ጒደነዝ ጝታኻግር ፊር\\ue07d።', 'ዮሴፍ ኽፃኒዝመ ጝኘስ ፃይ ግቭፅ ሰየጘ', '.ፅግልውጥ ተመራምርሸቍ እቅድ ፊርጘት ግረ ኣደረት መላክ ዮሴፍስ ኒቪዝ እትል፦ «ኺረውድስ ኽፃንድ ቁጠ ደምዘኵነ ጕር ኽፃንድየንት ጝኘ ጅቅ ፃይር ግቭፅ ትጐ ሰይ፤ ያን ድቍጪስቅም ጝግል ጐይ» ዩ።', '.ዮሴፍም ኻር ጕ ኽፃንድ ጝኘ ጅቅ ፃይ ግቭፅ ፊሩ።', '.ኺረውድስ ክርጢስቅም ጝግል ጐዩ፤ እንም ኣቐውድ ነቭይዝ ኣደረቲስ፦ «ይዅርት ግቭፅስ ጭጙን» ይሽተው ቃልድ ፋፅምሻንስ የጝ።', '.ኺረውድስም ፅግልውጥ ተመራምርሸቍ እቅድዛይ ጝት ኻጝስጘጘ ኣርቓንድ ጭቕጘ ቈጣሹ፤ ጛጊስ ተረድሸው ግርየይዝ ሚስርትዝም ጝታእድሚድ ሊጘምትዝመ ጝዝ ሳዝ ኣቐቍ በተልኺምስመ ጝርጅልወይዝቍ ኻግራኒል ዊነቍ ግልቍ ኽፃናታንድዛትቅ ዊተድር እፃቕ ቍውሱ።', '.ኣይንድ ነቭይ የርምያስ፦', '.«ሊዝዝመ እሪተዙ ድመዝ ራመስ ወይሽቱ፤', 'ራኺል ጝርቝርት ማጥን ሊዝች፤', 'ጝርቝርድ እጝቅቅ ኣቢትጛንስቅ ዲብሽተነው እምቢ ይች» የው ዊግተውድ ፋፅምሹ።', 'ዮሴፍ ኽፃኒዝመ ጝኘስ ፃይ ናዝሪት ዋጥረጘ', '.ኺረውድስ ክረት ግረ ኣደረት መላክ ዮሴፍስ ግቭፅስ ኒቪዝ እትል፦', '.«ኽፃንድ ቁጥጘ በነቍ እቅድ ክርጛንስቅ ጕር ኽፃንድየንት ጝኘ ጅቅ ፃይር እስራየል ኻግሪል ዋጥር» ዩ።', '.ዮሴፍም ጕ ኽፃንድ ጝኘ ጅቅ ፃይ እስራየል ኻግሪል ጥዉ።', '.ነቭያታንዝ፦ «ናዝሪትቱ ይሽትጡ» ይሽት ዊግሸውድ ፋፅምሻንስ ማጥን ናዝሪት የነይ ኻትመትል ፊር ጐዩ።', 'ማቲወስት ወንጌል', 'ጣምቀተ ይዃንስት ስቭክትድ', '.ኣይንት ወራቲዝ ጣምቀተ ይዃንስ፦ «ምጝግስተሰማያት ኣልትርኵችነ ንስኻ ጥውጥን» የው ሲቭካ\\ue07d ይዅዳቱ በራኸይዝ ፃቭ ተሩ።', '.ይዃንስት ኣልቨድ ግምለዙ ፅቭቀዝ ተሲተው ዊኑ፤ ጝይዊልም ኣኽር ከምራ\\ue07d ዊኑ፤ ጝዅረድም ኣብጠዝመ በራኸዙ ሳረዝ ዊኑ።', '.ኣይንድ ኽዝቭ እየሩሳልየምስ፣ ድፍን ይዅዳ ኻግሪስ፣ ዮርዳኖስት ጅልወይል ፅበው ኻግሪስቅ ይዃንስ ትጐ ገይሽታ\\ue07d ዊኑ።', '.ጝኽጥያትድም ነዚታ\\ue07d ዮርዳኖስ ዊርቨይል ይዃንስት ናኒዝ ጣምቅሻ\\ue07d ዊኑ።', '.ይዃንስም ንቕፀቍ ፈርሳንዝመ ሰዱቃንዝ ጣምቅሽጥጘ ጝጐ ተርጛንድ ቓላንድ፦ «እፈ ሲቭረዝ ቝር ክታትርነ! ተረው ቍጠይስ ኣምልጥትርነ ማጥን ክታት ኣው ማኽሩ?', '.ነስየ ንስኻ ጥውርነጘ ቓሊሰው ሰቭ ሰራጭጥን።', '.ክታእዘኒዝ፦ ‹ይን ኣቭርኻምት ቝር የጝ› የነውዝ ኣምልጥንቅ ይርን ኻስቭትርነ፤ እደረ እንዛይ ቕርጚስ ኣቭርኻምስ ዅል ጒሰነው ቸለኵ የኵን።', '.እንወ ዘፋኒዝ ስሪል ባፅ ኣስልሽኩ፤ ነስየ ቀሰው ፍረ ፍርዛው ዘፍድቅ ቀቭሽት ልየዝ ቃጥልሽጡ።', '.ጝመሽንድየንት ጝናኒዝ ፃይኩ፤ ጝዋርነድየንትም ቐናዝ ዊር ሽጡ፤ ዚርወድየንት ጝቅፋነይል ድውጡ፤ ገለቨድየንት ግን ስታው ልየዝ ቃጥልጡ።»', 'እየሱስ ይዃንስት ናኒዝ ጣምቅሸጘ', '.ኣይንድ እየሱስ ይዃንስት ናኒዝ ጣምቅሽጠ ገሊለስ ዮርዳኖስ ትጐ ተሩ።', '.ይዃንስ ግን፦ «እንስ ኣቓውም! ያን ክናኒዝ ጣምቅጨ ጥውሻ\\ue07dመ ክት ይጐ ተትራ?» የው ኪልክልጠ ኪርሙ።', '.እየሱስም፦ «በጭ ግድ እጅረር፤ ፅድቅድቅ እነሽን ፋፅምነ ጥውሸኵ» ዩ። ይዃንስም ቲስመም እየሱስት ጣምቁ።', '.እየሱስም ጣምቅሽ ኣቚስ ፈጘ በውዝ ሲመይ ቢቱ፤ እደረት መንፈስድም እርግቨት ተክ ጊም እየሱስትል ጐያንድ ቓሉ።', '.ኣይንድም፦ «እንወ! ያን ጝቍዝ ዲስ የው ይቀነው ይዅርድ ጘጝ የጝ» የው ድመ ሲመይስ ተሩ።', 'ማቲወስት ወንጌል', 'እየሱስ ፊትንሸጘ', '.እየሱስ ግን፦ « ‹እጅር እደረት ምቸይስ ፈው ቃልዝቅጚ ሚዝ ጭቝ ፅባውም› ይሽት ፃፍሽኩ» ዩ።', '.እንዝ ግረ ዳቪለውስ እየሱስት ቅድስት ኻትመ እየሩሳልየምትል ፊስ መቅደስ ጝኒዝ ጫፍ ጕልላቲል ችብስ፦', '.ናዝሪትትም በር ዛቭለውንስመ ንፍታሊምት ኣውራጀይል ችጝሽረይ ቅፍርናዀም ትጐ ፊር ጐዩ።', '.እንም ኣቐውድ ነቭይ ይሳያስ፦ «ዛቭለንት ዝቨ፣ ንፍታሊምት ዝቨ፣ ዮርዳኖስት እጂ ባኽር ጒደነይዝ ደርቸይል ፅበው ኣኽዛቫኒዙ ገሊለም፣', '.እየሱስም ኣይኒስ ኪርም፦ «ምጝግስተሰማያት ኣልትርኵችነ ንስኻ ጥውጥን» ያ\\ue07d ሲቭክጠ ኪርሙ።', 'እየሱስት በውጥ ክንደጥድ', '.እየሱስ ገሊለት ባኽሪዝ ጋቢዝ ዲቋንድ ሊጘ ዚን እቅ የነትም ቢጥሮስ ይሽተው ስሙንስመ ጝዝን እንድርያስስ ቓሉ፤ ጛይም ኻዘ ፃውረቍ ዊን\\ue07d፤ ጝታመረቭድየንትም ባኽሪል ማልጛ\\ue07d ዊን\\ue07d።', '.ጘጝም፦ «ላቝጥን ይት ቲክንጥን፤ ነስየ እቅድ ይጭስ ፃውርድርነቅ ፃቭጭር» ዩ።', '.ጛይም በውዝ ጝታመረቭድ በርጝ ጝት ቲክን\\ue07d።', '.ጝጊስ ዲቍ የጘ ቈሽ ላጥ ሊጘ ዚን ዘቭዲወስት ቝር ያይቈቭስመ ይዃንስስ ቓል ጭጙ፤ ጛይም ጝታይር ዘቭዲወስ ጅቅ ታ\\ue07dኰል ኣቕጝ ጝታመረቭድየንት ኣስልጛ\\ue07d ዊን\\ue07d።', '.ጛይም በውዝ ታ\\ue07dኰይዝመ ጝታይርስ በርጝ ጝት ቲክን\\ue07d።', 'እየሱስ ክንሳ\\ue07d ፅውዝጅንጥድ ቓዘጘ', '.እየሱስም ጝታምኵራቫኒል ክንሳ\\ue07d፣ እደረት ምጝግስቲዙ ወንጌልድየንትም ሲቭካ\\ue07d፣ ቲተቲተው ፅውዘዝመ ቕጅወዝ ፃይሸቍ እቅድዛትም ቓዛ\\ue07d፣ ገሊለት ዝቨይልቅ ጅልዋ\\ue07d ዊኑ።', '.ጝጂጘድም ድፍን ሰውርየ ኣሽ ወይሽታንስቅ ጝሉ ጝሉ ፅውዘዝመ ደውየዝ ፃይሽጝ ተሰቃይሸቍድዛት፣ ጋኒናንዝ ፃይሸቍድዛት፣ ማለው ፅውዘ ፃየቍድዛት፣ ለውሻሻንድዛት፣ እጝቅትቅ ጝጐ ነስ\\ue07d፤ ጘጝም እጝቅትቅ ቓዙ።', '.ገሊለስ፣ ፅቃ ኻትምጢስ፣ እየሩሳልየምስ፣ ይዅዳስመ ዮርዳኖስ ዊርቨይዝ እጂስ፣ ተረቍ ንቕፀቍ እቅ እየሱስት ቲክን\\ue07d።', 'ማቲወስት ወንጌል', 'እየሱስ ኣበይል ኣቕ ክንሰው ክንድጝድ', '.እየሱስም ንቕፀው ኽዝቭ ኣኽቭሸጘ ቓላንድ ኣበል ፍ ጐዩ፤ ጝክንደጥድም ጝጐ ኣልት\\ue07d።', '.ጘጝም እንት ያ\\ue07d ክንስጠ ኪርሙ፦', 'እማንዝ ቀቫሸቍ እቅ', '.«መንፈስዝ ድኽ ኣቐቍ እቅ ቀቫሸቍ ጛይ፤', 'ምጝግስተሰማያት ጝታወ ጚነ።', '.ኻዝነቍ እቅ ቀቫሸቍ ጛይ፤', 'ዲብሽተነው ችጝጥቍነ።', '.ገርኻን እቅ ቀቫሸቍ ጛይ፤', 'ዝቨት ዊርስጥቍነ።', '.ፅድቅ ግድርደቍ ዝቛንደቍም እቅ ቀቫሸቍ ጛይ።', 'እቭትጥቍነ።', '.ስቝርት ፃቨቍ እቅ ቀቫሸቍ ጛይ፤', 'ጛይም ሳቝርሽጥቍነ።', '.ንፅዅ እዘን ፃየቍ እቅ ቀቫሸቍ ጛይ፤', 'እደረት ቓልጥቍነ።', '.ኣርቅሰቍ እቅ ቀባሸቍ ጛይ፤', 'እደረት ቝር ይሽትጥቍነ።', '.ፅድቅዝ ማጥን ሲድሽሸቍ እቅ ቀባሸቍ ጛይ፤', 'ምጝግስተሰማያት ጝታወ ጚነ።', '.«እቅ ይቍዝ ክታት ዛሽጛንድ፣ ሲድስጛንድ፣ ኻሽትዝም ክታሽ\\ue07dድ ጨቅጛንድ፣ ቀቫሽርነቅ የጝ።', '.ሲመይስ ችጝትርኑ ክታወየድ ኽየው ኣቓንስቅ ዲስ ይጥን፤ ኽየው ዲስተም ፃቭጥን፤ ክታበውገ ዊነቍ ነቭያታንድዛትም እነሽጝ ሲድስጝኵ\\ue07d።»', 'ጭወጥረዝመ መቭራትዝ ተከ', '.«ክትን ዝቨት ጭወጥረ የጝ፤ ዊገድ ግን ጭወጥረ ጝጣምነድ ባን ወረጘዝ ጣምትጡ? ቢዘይል ማልሽት እቀ ልኵዝ ደድሽጠ ኣቕሽጚ ጝዝለ ውርም ጣቅማው።', '.ክትን ኣልሚዝ ብርኻን የጝ፤ ኣበል ተሲትረይ ኻትመ ጭቭርተ ቸላይም።', '.እቅም መቭራት ኣቭርኽዝጝ ጝኒዝ ኣቒል ፅበቍ እቂዝቅ ኣቭርኽጠ ማጥን ንየ ዲቭየይል እቝርጘኵጚ ቃቀዝ ኣቒል እቝራቍም።', '.እኒዝጘም እቅ ክትን ሰራሽርነው ቀሰው ሰቭድየንት ቓልጝ ሲመይ ፅበው ክታይርድየንት ሚዝየንዝጛንስ ማጥን ክታብርኻንድ እቀ በዊልቅ ኣቭርኽነ።»', 'ወሪትት ኽጊዙ ፋፅምሸነድ', '.«ያን ክታግስ ወሪትት ኽጊዝመ ነቭያታኒዝ ሸርጨ ተጠር ተኪነ፤ ያን ተጠውድ ጛት ፋፅምጨ የጝጚ ሸርጨም ኣየው።', '.እማንዝ የኵን፤ ሲመይስመ ዝቨስ ዲቍጥጚስቅ ወሪትት ኽግድ እጝቅቅ ፋፅምሸኵጚ ኽጊስ ላይ ፊድል ዊንም ላይ ነቍጥ እኳ ሸርሻይም።', '.ነስየ ኣውማው እጅር እንዛይ ትዛዛኒስ ላይ እጥን ትዛዝሸንት እኳ ፋዝሽ፣ ላጥ እቂዝም ፋዝጛንስ ማጥን እነሽ ክንስሽ፣ ምጝግስተሰማያትስ እጝቂስቅ እጥን ኣጡ። እንዛይ ትዛዛንድዛት ፋፅመው፣ ላጥ እቂዝም ፋፅምጛንስ ማጥን ክንሰው ኣውማው እጅርድቅ ምጝግስተሰማያትስ ኽየው ኣጡ።', '.ኣቓንስቅም ክታፅድቅድ ፈሪሳኒዝመ ወሪትት ኽግ ክንሰጢዙ ፅድቂስ ዲቊየውዝየ ስሪስቅ ምጝግስተሰማያት ጥዋይርነቅም የኵን።', '.«በውገትቍ እቂዝ፦ ‹ኒቭስ ቁተ! ኒቭስ ቍወውድቅ ፍርድዝ ቐፃሽጠ ጥውሸኵ› ይሽተጘ ወሽርንኵርኑ።', '.ያን ግን ጝዝኒል ጊነዝ ቈጣሸው እጅርድቅ ፍርድዝ ቐፃሽጠ ጥውሸኵ፤ ጝዝንድየንት፦ ‹ኻጝ› የው ዛሸውድቅ ሸ\\ue07dጐውዙ ፊርድዝ ቐፃሽጠ ጥውሸኵ፤ ‹ዲ\\ue07dቋር› የው ዛሸው እጅር ቈሽ ግኻነመሳትዙ ፍርድዝ ቐፃሽጠ ጥውሸኵ የኵን።', '.እንዝ ማጥን ክሚቨድ መሰዊየይል ፃቭር እደረስ ኣልስራንድ፣ ክት ቂይምሸው ክዝን ፅበጘ ኣጅርሽ፣', '.ክሚቨድ መሰዊየይዝ ጋቢል እቝርነ በዊል ፊትር ክዝን ጅቅ ኣርቅጭ፤ ጝዝ ግረ ዋጥርድር ክሚቨድ ኣልሽ።', '.ክቃርኘድ ኪሱዝ ጝጅቅ ፍርድ ጝንል ፊትርሽ፣ ገነ ጒደነይል ፅብርና\\ue07d ክቃርኘይጅቅ ቲስመም፤ ኣለዝየ ክቃርኘድየን ደጘዝ ዲቍስ ይወኵ፤ ደጘድ ቈሽ እፅቈተዝ ዲቍዝ ይወኵ፤ ጘጝም ወኽኒ ጝንል ድውጡ።', '.እማንዝ የኵን፤ ጝዝ ግረ ቐፃሽረው ጊንዝቪስ ላይ ሳንቲምቅ እዳቒጝቀ እጝቅትቅ ኪፍልቲስቅ ጝጊስ ፋርም።', '.« ‹ሻርሙጥተ› ይሽተጘ ወሽርንኵርኑ።', '.ያን ግን፦ እውነት ቓል ጝርት ማርቕፀው እጅርድቅ ኣይንድ ጝእዘኒዝ ጝርጅቅ ሻርሙጥኩ የኵን።', '.ክለው እልድ ክት ቀስሽ ጝት እለ ፊስር ማል፤ ክሰውነትድ ምሉዝ ግኻነመሳትል ጥወነዊስ ክሰውነቲስ ላው ኣካል ብራን ቺዘኵ።', '.ክለው ናንድ ክት ቀስሽ ጝት ቅዝር ማል፤ ክሰውነትድ ምሉዝ ግኻነመሳትል ጥወነዊስ ክሰውነቲስ ላው ኣካል ብራን ቺዘኵ።', '.« ‹ጝውነት ዳቕረው እጅርድቅ ጝርድቕሪዝ ማስረጀ ኣቐው ወረቂት ጝርስ ይው በርስነ› ይሽተጘ ወሽርንኵርኑ።', '.ያን ግን ጝዲጊል ሻርሙጥር ችጝሽሩዝ ኣየውዝየቅ፣ ጝውነት ዳቕረው እጅርድቅ ሻርሙጥተ ፃቨኵ፤ ዳቕርሽረይ እውነት ድወው እጅርም ሸርሙጠይዝጘ እጊተኵ የኵን።', '.«ቈሽም በውገትቍ እቂዝ፦ ‹ኻሽትዝ ፃርተ፤ ኣደረት በዊል ፃርደውድየንትም ሊምጭ› ይሽተጘ ወሽርንኵርኑ።', '.ያን ግን ስሪስቅ ፃርትርነ የኵን፤ ሲመይዝም ኣሽ ፃርትርነ፤ ምላሰንድም ሲመይ እደረት ዙፋን የጝ።', '.ዝቨስም ኣሽ ፃርትርነ፤ ምላሰንድም ዝቨ እደረት ልኲዝ ደደነ ጚ። እየሩሳልየምስም ኣሽ ፃርትርነ፤ ምላሰንድም እየሩሳልየም ኽየው ንጕሲዝ ኻትመ ጚ።', '.ክታቕምትዝም ኣሽ ፃርትርነ፤ ምላሰንድም ክታፅቭቂስ ላይሸንት እኳ ፃረይት ዊንም ጝጭርት ፃቨነው ቸላይርነቅም።', '.እንዝ ማጥን ዊግትርናንድቅ ክታቃልድ፦ ‹የይ› ኣቕሽ፦ ‹የይ› ኣነ፤ ‹ኣየውም› ኣቕሽ፦ ‹ኣየውም› ኣነ፤ እንዝለቱ ዊገድ ግን ሲጣኒዙ የጝ።', '.« ‹እልዝ ፊንተ እል፣ እርቍዝ ፊንተ እርቍ ፍነ› ይሽተጘ ወሽርንኵርኑ።', '.ያን ግን ክታጭስ የኵን፤ ጭቓ ፃቨው እጅርድየንት ተቃውምሽትርነ፤ ዊገድ ግን ክለወ ጥቋድየንት ጥፊዝ ጣዘዊዝ ፃግቭ ጥቋድየንት ቈሽ ጅልውዝር ይይ።', '.ላው እጅር ክት ኪስሽ፣ ክኪተድም ፊስጠ በንሽ፣ ክኵተድየንትም ቈሽ ፊስጠር በጭ።', '.ላው እጅር፦ ‹ለው ዊቱ ጒደነ ይጅቅ ፊጥ› የው ኣስግድድዝሽ፣ ክት ቈሽ ላየ ጘጝ የዊዝ ቝጠ ቈሽር ፊጥ።', '.ክት ጨወዊዝቅ ይይ፤ ክጊስ እድውርጠ በነዊዝም ክጋፅድ ጨቅተ።', '.« ‹ክፃምረድየንት ቀን፣ ክፃለት ሽክጭ› ይሽተጘ ወሽርንኵርኑ።', '.ያን ግን ክታፃለታንድ ቀንጥን፤ ክታት እፀቍድዛት ጊቭትጥን፤ ክታት ሽክተቊዝ ቀሰው ፃቭጥን፤ ክታት ሲድሰቊዝ ፃልይጥን የኵን።', '.እኒንት ፃቭርነውዝየ ሲመይ ፅበው ክታይርስ ጝቝር ኣትርንቅ፤ ጘጝ ጭቒዝም ቀሰቊዝም ጝኰረድየንት ፊሰኵ፤ ፃድቃኒዝመ ኽጥያትኝጢዝም እስወድየንት ይወኵ።', '.ክታት ቀነቍድዛት ጭቝ ቀንድርነቅ ኣርነውዝየ ውርት ወየ ችጝትርንቅ? ቀረጥ ቀቨቍድስ እኒንት ፃቭጘኵ ኣየውቀ?', '.ክታፅኒዝ ጭቝ ዲግተ ይውርነቅ ኣርነውዝየ ላጢስ ወረጘዝ የጝ ቺዝርነውድ? ኣኽዛቫንድስ እኒንት ፃቭጘኵ ኣየውቀ?', '.እንዝ ማጥን ሲመይቱ ክታይርድ ፍፅም ኣቐጘ ክትንም ፍፅማን ኣጥን።»', 'ማቲወስት ወንጌል', 'ምፅዋት ይወነውዝቍዝ', '.«እቅ ክታት ቓልጛንስ ይርን ክታቀሰው ሰቭድየንት እቀ በዊል ፃቫይርነጘ ጣጝቅቅጭጥን፤ ኣለዝየ ሲመይ ፅበው ክታይርቲስ ወየ ችጛይርነቅም።', '.እጅርዝ በዊል ኪብርጥጘ በንጝ ጝታምፅዋትድ ምኵራቭዝመ ጒደነዝ ጨቨቅ ቱትለ ዋስጛ\\ue07d ፃቨቍ ተክዘጥ እቂዝጘ ክትንም ክታምፅዋትድ እቅ ቓልጛንስ ይርን ፃቭትርነ፤ እማንዝ የኵን፤ ጛይ ጝታወየድ ምሉዝ ለምርጝኵ\\ue07d።', '.ክት ኣራንድ ማፅውትራንድ ክለወ ናንድ ፃቨውድየንት ክፃግቭ ናንድ ኣርቒነ።', '.ክምፅዋትድ ስውርዝ ኣነ፤ ስውርዝ ፃቭኑድየንት ቓለው ኪርም ክወየድ ግልፅዝ ኪፍልጡ።»', 'ፀለውት ፃልየነውዝቍዝ', '.«ፃልይርናንድ ተክዘጥ እቂዝጘ ኣትርነ፤ ጛይ እቅ ቓልጛንስ ይጝ ምኵራቭዝመ ጒደነዝ ጨቨቅ ችብርጝ ፃልየነው ቀንጘኵ፤ እማንዝ የኵን፤ ጛይ ጝታወየድ ምሉዝ ለምርጝኵ\\ue07d።', '.ክት ኣራንድ ፃልይራንድ ክጝን ክፍሊል ጥውር ክቢለድ ዲቭር ስውርዝ ፅበው ኪርትል ፃልይ፤ ስውርዝ ፃቭኑድየንት ቓለው ኪርም ክወየድ ግልፅዝ ኪፍልጡ።', '.«ፃልይርናንድ ኣኽዛቫኒዝጘ ጊነትቍ ቃላን ደግምግምርና\\ue07d ሊልፍትርነ፤ ጛጭስ ኒቒስን ዲግመነውዝ እደረ ወሽጡ ተከኵ።', '.እንዝ ማጥን ጛት ተክትርነ፤ ምላሰንድም ክታይር ክትን ጨዊጝቀ ክታጭስ በንዘውድየንት ኣርቐኵ።', '.ነስየ ፃልይርናንድ እንት ይጥን፦ ‹ሲመይ ፅብረር ይናኣይርወ! ክሽ\\ue07dድ ኪብርነ።', '.ክምጝግስትየን ተትርነ፤', 'ከፈቃድሸን ሲመይስ ኣረጘ፣', 'እኒዝጘም ዝቨትል ኣርነ።', '.እልቱ ይናሚድየንት ንጭ ነቅ።', '.ይን ይናት ቢድለቍድዛት ይቅር ይናንትጘ፣', 'ክትም ይናበደልድየንት ይቅር ይ።', '.ይናት ጭቓ ዊገይስቅ ቓዝጚ ፊተነል ድውተ፤ ምጝግስት፣ ኻይልም፣ ክቭርም፣ ዘላልም ኩ የጝ፤ ኣሚን።›', '.«ክትን ክታት ቢድለቍድዛት ይቅር ይርንሽ ሲመይ ፅበው ክታይርም ክታት ይቅር ይጡ።', '.ክትን እቀ በደልድየንት ይቅር ዪይርንሽ ግን፣ ሲመይ ፅበው ክታይርም ክታበደልድየንት ይቅር ያውም።»', 'ፃም ፃመነውዝቍዝ', '.«ፃምርናንድ ተክዘጥ እቅ ጝታፃመነውድየንት እቅ ቓልጛንስ ማጥን ጝታጋፅድ ጨቅጛንትጘ ክትንም ክታጋፅድ ፃምልውዝትርነ። እማንዝ የኵን፤ ጛይ ጝታወየድ ምሉዝ ለምርጝኵ\\ue07d።', '.ክት ኣራንድ ፃምራንድ ክጋፅድ እቓጭ፤ ክኣውርድየንትም ቅቫት እቓጭ።', '.እንዝም ክፃምድ ስውርዝ ፅበው ኪርስ ጭቝ ኣርቕሽተው፣ ላየ ኣውማው እጅርዝ ግን ሲውርሸው ኣጡ፤ ስውርዝ ፃቭኑድየንት ቓለው ኪርም ክወየድየንት ግልፅዝ ኪፍልጡ።»', 'እማንተው ኻፍት', '.«ናዘ ዀው፣ ማርትዝ ጨቅሸው፣ ቓፅጝም ኪልጝ ስ\\ue078ው እን ዝቨይል ክታቕምስ ኻፍት ኣኽቭትርነ።', '.ኽሽስ ናዘ ዃው፣ ማርትዝም ጨቅሻው፣ ቓፅጝም ኪልጝ ስ\\ue07bይጘው ሲመይል ኻፍት ኣኽቭጥን።', '.ክኻፍትድ ፅበዊል ክእዘንድም ጝግል ኣጡ።', '.«እል ሰውነትዙ መብራት የጝ፤ ክእልድ ትኽኑ ኣቐውዝየ ክሰውነትድቅ ብሩኽ ኣቐኵ።', '.ክእልድ ፅውዝጅነ ኣቐውዝየ ግን ክሰውነትድቅ ምሉዝ ጥመዝ ስ\\ue07dርሸው የጝ ኣቐውድ። ነስየ ክግል ፅበው ብርኻንድ ጥመ ኣቐውዝየ፣ ጥመድሰ ኣወየው ወሰው ኣጡ?', '.«ላው እጅር ሊጘ ኣደርጥዝ ቅምሽጠ ቸላውም፤ ላውድ ቀን ሊጘትረድ ሽክተኵ፤ ዊንም ላውድ ኪብርዝ ሊጘትረድ ነቀኵ፤ እደረስም ጊንዝቭዝም ሊንስ ቅምሽትርነ ቸላይርነቅም።»', 'ጨጝቅሸነው ጥውሻይየጘ', '.«እንዝ ማጥን፦ ‹ውር ዅንቅ? ውር ዝይንቅ? ውርስ ሲርንቅ?› የነውዝ ጨጝቅሽትርነ የኵን፤ ዅረይስ ርዅየ፣ ኣልቨይስም ሰውነት ዲቋውመ?', '.እስቲ ሲመይቱ ቢረቍ ዚልቅድዛት ቓልጥና፤ ፊዛቍም፤ ኣይራቍም፤ ቅፋነልም ድዋቍም፤ ኣነጚ ሲመይ ፅበው ክታይርድ ጛት ሚግቨኵ፤ እደስለ ዚልቂስመ ክትን ጭቕጘ ዲቍርነቅ ኣይርነቃ?', '.ኣየውጚ! ክታማኽሊስ ጨጝቅሽ ጝሊግዚል ላው ቈሪ ቈሽጠ ቸለውድ ኣው የጝ?', '.«ሲረነው ኣልቨዝ ማጥንስ ውርቃጥ ጨጝቅሽርና? እስቲ በራኸይዝቍ ኣቨቭድዛት ቓልጥና? ሰራሸነውዝ ልቕርዳቍም፣ ምቃቍምም።', '.ኣነጚ ንጕስ ሰለሙን እኳ እድቝጠ ጝክቭሪስቅ ጛጊስ ላይሸንትጘ ሲረየውም የኵን።', '.እፈ እምንት ጒድልድርነቅ ክታትርነ! እደረ ንጭ እትል ኣምር ልየል ሊቨው በራኸይዙ ፃቀድየንት እነሽ ሲሰው ኣቐውዝየ ክታትሰ ኣወሽ ሲሳው?', '.እንዝ ማጥን፦ ‹ውር ዅንቅ? ውር ዝይንቅ? ውርስ ሲርንቅ? የነውዝ ጨጝቅሽትርነ› የኵን።', '.ኣኽዛቫንድም እንዛት ችጝጥጘ በነነውዝ ጨጝቅሽጘኵ፤ ክትን ግን ሲመይ ፅበው ክታይርድ እንቅ ክታጭስ በንዘው ኣቐጘ ኣርቐኵ።', '.ክትን ኣቕርናንድ እጝቂስቅ በዊል እደረት ምጝግስቲዝመ ፅድቂዝ በንጥን፤ ላየ ላየድቅ ክታጭስ ቈሺትጡ።', '.እንዝ ማጥን ኣምርስ ኻስቨነውዝ ጨጝቅሽትርነ፤ ኣምርቱ ጭጝቅትድ ኣምርስ ኣጡ፤ እጝቅ ግርየድ ጝቕምቱ ችግር ፃየው የጝ።»', 'ማቲወስት ወንጌል', 'ላጥ እቂል ፊርደነው ጥውሻው ኣቐጘ', '.«ክታግልም ፊርድሻይየጘ ክትንም ኣውማውትልቅ ፊርድትርነ።', '.ላጢል ፊርድርነው ፍርዲዝጘ ክታግልም ፊርድሽጡ፤ ሚክትርነው ሚክረነይዝም ክታጭስ ቈሽ ሚክርሽጡ።', '.ክእሊል ፅበው ግንድድየንት ቓሊጝቀ ኣወሽተ ክዝኒዝ እሊል ፅበው ንገቨድየንት ቓልዳ?', '.ቈሽስ ክእሊል ግንድ ፅባ\\ue07d ወረጘ የጝ ክዝንት፦ ‹ክእሊል ፅበው ንገቨድ ፊስጨር ለው› ይረውድ?', '.እፈ ተክዘረ ክተ! በዊል ክእሊል ፅበው ግንድድ ፊሽ፤ ጝዝግረ ክዝንት እሊል ፅበው ንገቨድ ፊስተ ማጥን ዊር ሽር ቓልትር።', '.«ዋጥርጝ ክታቕምት ዃይጘጘ ቀድስሽተውድየንት ግፅጚዝ ይውትርነ፤ ጝታልኲዝ ደዳይጘጘም ክታእ\\ue07dቍድየንት ጅቪዝ በዊል ማልትርነ።»', 'ፃልየነው ጥውሸው ኣቐጘ', '.«ጨውጥን! ነይሽትጡ፤ ደምዝጥን! ችጝትርንቅ፤ ቢለድ ኳኳ ሽጥን! ቢትጡ።', '.ጨወውቅ ለምረኵ፤ ደምዘውም ችጘኵ፤ ቢለ ኳኳ ሸውዝም ቢተኵ።', '.ክታማኽሊስ ጝዅርድ ኻበሸ ጨዋን ቕርጘ ይወው ኣይር እኩመ?', '.ዊንስ ኻዘ ጨዋን ሲቭረ ይወው ዊንጡመ?', '.እደስለ ክትን ጭቕ ኣቕርን ፅብርና\\ue07d ክታቝርስ ቀሰው ይውት ይወነው ኣርቕርነውዝየ ሲመይ ፅበው ክታይርድሰ ጝት ጨወቊዝ ኣወሽ ቀሰው ይውትድ ኒቒስ ይዋው?', '.ነስየ እቅ ክታጭስ ፃቭጥጘ በንርነውድየንትቅ ክትንም ጘጝት ፃቭጥን፤ ወሪትቱ ኽጊዝመ ነቭያታኒዝም ይጘውድ እኒንት የጝ።»', 'ኣፀው ሚረዝመ ፈራቐው ሚረዝቍዝ', '.«ኣፅረይ ሚረየንስ ጥውጥን፤ ድዘሪዝጐ ፊሰው ጒደነድ ኽየው፣ ሚረድም ፈራቐው የጝ፤ ጝግል ጥወቍ እቅድም ንቕፀቍ ጛይ።', '.ርዅየይል ድውሰው ሚረድ ኣፀው፣ ጒደነድም ሲው የው የጝ፤ ጝግል ጥወቍ እቅድም ዊትቍ ጭቝ ጛይ።»', 'ኻሽወጥ ነቭያታኒስ ጣጝቅቅሸነው', '.«ጝታጊዝው ኣቒድ ናጥቀቍ ተኵልጥ ኣቕጝ ፅብጛ\\ue07d ቢቅ ተክጝ ክታማኽሊል ጥወቍ ኻሽወጥ ነቭያታኒስ ጣጝቅቅጭጥን።', '.ጛትም ጝታሰቪዝ ኣርቕትርንቅ፤ ኣሚዙ ቍጥቋጠይስ ወይንዙ ፍረ፣ ኣቀቅመይስስ በለስዙ ፍረ ሊቅምሽጡመ?', '.እኒዝጘም ቀሰው ዘፍድቅ ቀሰው ፍረ ፍርዘኵ፤ ጭቓ ዘፍድ ግን ጭቓ ፍረ ፍርዘኵ።', '.ቀሰው ዘፍ ጭቓ ፍረ ፍርዝጠ ቸላውም፤ ጭቓ ዘፍም ቀሰው ፍረ ፍርዝጠ ቸላውም።', '.ቀሰው ፍረ ፍርዛው ዘፍድቅ ቀቭሽት ልየይል ማልሽትጡ።', '.ኣቓንስቅም ኻሽወጥ ነቭያታንድዛት ጝታሰቪዝ ኣርቕትርንቅ።', '.«ሲመይ ፅበው ይርት ፍቃድድየንት ፋፅመውድ የጝ ምጝግስተሰማያት ጥወውድጚ ይት፦ ‹ኣደረወ! ኣደረወ!› የውድቅ ምጝግስተሰማያት ጥዋውም።', '.ኣይንት ግርየይዝ ንቕፀቍ እቅ ይት፦ ‹ኣደረወ! ኣደረወ! ውረ ክሽⶔዝ ትንቪት ዊግቲነቅመ? ክሽⶔዝስ ጋኒናን ፊሲነቅመ? ክሽⶔዝስ ንቕፀቍ ታምራን ፃቪነቅመ?› ይጥቍ።', '.ያንም ኣይንድ፦ ‹እፈ ጭቕ እቅ ክታትርነ! ክታት ስሪስቅ ኣርቒቀርም፤ ይበዊስ እለ ፊጥን!› ይጭር።»', 'ጝን ተሰጥ ኻጝ እጅርዝመ ብልኽ እጅርዝ ተከድ', '.«ነስየ እኒን ይቃልድየንት ወሽ ፋፅመው እጅርድቅ ጝጝንድየንት ፃፀይል ሚስርት ተሰው ብልኽ እጅር ተከኵ።', '.ኻይሉ ስወ ሊቩ፤ ኵረም ኵርዱ፤ ፊግየም ፊጊሩ፤ እድየን ጝንድየንትም ትክቩ፤ ኣነጚ ጝንድየን ፃፀይል ሚስርትሽ ተሲታንስቅ ሊቪየውም።', '.እኒን ይቃልድየንት ወሽ ፋፅማው እጅርድ ቈሽ ጝጝንድየንት ሽነል ሚስርት ተሰው እጅር ተከኵ።', '.ኻይሉ ስወ ሊቩ፤ ኵረም ኵርዱ፤ ፊግየም ፊጊሩ፤ እድየን ጝንድየንትም ትክቩ፤ ጝንድየንም በውዝ ሊቩ፤ ጝሊቭንድም ኣየት ኣቑ።»', '.«እየሱስም እኒንት ክንስ ኻታንድ ኽዝቭድ ጝክንስኒዝ ዲንቅሹ።', '.ምላንሰንድም ጝታወሪትት ኽግ ክንሰጢዝጘ ኣዪጝቀ ስልጣን ጕርየዝጘ ፃቭ ክንሳ\\ue07d ዊናንስቅ የጝ።»', 'ማቲወስት ወንጌል', 'እየሱስ ለምፃም እጅር ቓዘጘ', '.እየሱስም ኣበይስ ጊማንድ ንቕፀው ኽዝቭ ጝት ቲክኑ።', '.ኣይንድ ላው ለምፃም እጅር እየሱስትል ኣልት ጝበዊል ግርቨቭሽ፦ «ኣደረወ! ክት ፊቅድረውዝየ ይት ቓዝተ ቸልደኵ» ዩ።', '.እየሱስም ጝናንድ ዘርጋቕ ዳቕ በር፦ «ፊቅጠኵን ቓጭ!» ዩ። ኣይንድም እጅርድ በውዝ ጝለምፂስ ቓዱ።', '.እየሱስም እጅርድየንት፦ «እኒን ዊገድየንት ኣውማውስቅ ድቍረር ጣጝቅቅጭ፤ ዊገድ ግን ፊትር ክለምፂስ ቓድረጘ ክቕምት ካኽንዝ ቓሊሽ፤ እቂዝቅ ሚዝር ኣቓንስም ሙሴ ኣዘው ሚቨድ ኣልሽ» ዩ።', 'እየሱስ ላዝ ኻልቀይዝ ኣገልጋይድየንት ቓዘጘ', '.እየሱስም ቅፍርናዀም ኻትመይል ጥዋንድ ላው ላዝ ኻልቀ እጅር ጝጐ ኣልት፦', '.«ኣደረወ! ይኣገልጋይድ ድውይ ኣቕ ጭቕጘ ተሰቃይሻ\\ue07d ጝኒል ኽርይኩ» ዩ።', '.እየሱስም፦ «ያን ተጥ ቓዝጭር» ዩ።', '.ላዝ ኻልቀድ ግን፦ «ኣደረወ! ክት ይጝን ኣቒል ጥውራንስ ያን በቃቐርም ኣይቀር፤ ዊገድ ግን ላይ ቃልት ጭቝ ዊግጭ፤ ይኣገልጋይድም ቓድጡ።', '.ያን ይቕምም ላጥዝ ኣዚጠር የጝ፤ ይጭስ ኣዚተቍ ይሳትቍ ዊተድርም እኵ\\ue07d፤ ጛጊስ ላውድ፦ ‹ፊጥ› ያንድ ፊረኵ፤ ‹ለው› ያንድ ቈሽ ተረኵ፤ ይኣገልጋይድም ያን፦ ‹እኒንት ሰራጭ› ያንድ ሰራሸኵ» ዩ።', '.እየሱስም ጝዊሰይዝ ዲንቅሽ ጝት ቲክንጛ\\ue07d ዊነቍ እቂዝ፦ «እማንዝ የኵን፤ እስራየላኒስ እኳ እነየው ኽየው እምንት ችጚቀርም።', '.እማንዝ የኵን፤ ንቕፀቍ እቅ ምስራቂስ ምራቪስም ተርጥቍ፤ ምጝግስተሰማያትስም ኣቭርኻም ጅቅ፣ ይሳቅ ጅቅ፣ ያይቈቭ ጅቅ፣ ላብጠ መድል ጐይጥቍ።', '.እኒን ምጝግስትድ ዊርስጥጘ ጥውሸቍ ዊነቍድ ግን ቢዘይዙ ጥመይል ማልሽትጥቍ፤ ጝግልም ሊዝዝመ እርቍጣን ገጫዘው ሚከረዝ ኣጡ» ዩ።', '.እየሱስም ላዝ ኻልቀድየንት፦ «ፊጥ፤ ክእምንቲዝጘ ኣነ» ዩ። ጝኣገልጋይድየንም ኣይንድ ቓዱ።', 'እየሱስ ንቕፀቍ ፅውዝጅንጥ ቓዘጘ', '.እየሱስም ቢጥሮስት ጝን ፊራንድ ቢጥሮስት ጣስን ብርዘው ፅውዘ ፅዊትር ኽርይር ዊንች።', '.ጘጝም ጝርናንድየንት ዳቑ፤ ጝርፅውዘድም በውዝ ሊቁ፤ ጚይም ጕር ጛት ኣቭንውዝተ ኪርምች።', '.ጘጝ ኵኑዊዝም ጋኒናንዝ ፃይሸቍ ንቕፀቍ እቅ ጝጐ ነስ\\ue07d፤ እየሱስም ጋኒናንድዛት ጝቃሊዝ ዊግተነውዝ ፊሱ፤ ፅውዝጅንጥድዛትም እጝቅትቅ ቓዙ።', '.እንዝም ነቭይ ይሳያስ', '«ጘጝ ይናደውየድየንት ለምሩ፤ ይናፅውዘድየንትም መውሩ» የው ዊግተው ትንቪትድ ፋፅምሹ።', 'እየሱስት ቲክነናንድ ተረው ፊተነድ', '.እየሱስም ንቕፀቍ እቅ ጝጐ ኣኽቭሽጝ ቓላንድ ባኽሪዝ እጂል ከርጛንስ ኣዙ።', '.ኣይንድም ላው ወሪትት ኽግ ክንሰተ እየሱስ ትጐ ኣልት፦ «ክንሰተወ! ክት ፊትረዊዝጐቅ ቲክንጭር» ዩ።', '.እየሱስም፦ «ቘፅልድ ቢ\\ue07d ፃየቍ ጛይ፤ ሲመይዝ ቢረቍ ዚልቅድም ጕጂ ፃየቍ ጛይ፤ እጅር ዅር ግን ጝቕምት ኣልሰነ ስፍረ እጀውም» የው ዊሱ።', '.ጝክንደተ ኣቐው ላየ እጅር ቈሽ፦ «ኣደረወ! በዊል ፊጥ ይርት ዲቭ ተጨር ፊቅጭ» ዩ።', '.እየሱስም፦ «ክረቍድ ጝታክረቍድዛት ዲቭጝነ፤ ክት ኣራንድ ይት ቲክን» ዩ።', 'እየሱስ ማቨልድየንት ችብሰጘ', '.እንዝ ግረ እየሱስ ታጝኰይል ጥዉ፤ ጝክንደጥድም ጝት ቲክንጝ ጥውጝ ፊር\\ue07d።', '.ኣይንድም ኽየው ማቨል ባኽሪል ጕ ታጝኰድየንት ስ\\ue07dርጢስቅ ኻውኩ፤ እየሱስ ግን ኽርይ ዊኑ።', '.ጝክንደጥድም ጝጐ ኣልትጝ ጒስ\\ue07dነ፦ «እፈ ኣደረወ! ድዝኑና፤ እኒስ ቓዝ» ይ\\ue07d።', '.ጘጝም፦ «እፈ እምንት ጒድልድርነቅ ክታትርነ! ውርቃጥ እንቝጠ ጐውትርና?» ዩ። እንዝ ግረ ጕ ፊግየይዝመ ባኽሪዝ ጋስፁ፤ ኽየው ፀጥተም ኣቑ።', '.እቅድም፦ «ፊግየዝመ ባኽርዝ እኳ ጝጭስ ኣዚተቍ ኣወየው እጅርፈ?» ይጛ\\ue07d ጊርምሽ\\ue07d።', 'እየሱስ ጋኒናንዝ ፃይሸቍ ሊጘ እቅ ቓዘጘ', '.እየሱስም ባኽርድየንት ከር ገርገሲኑን የነው ኻግሪል ችጛንድ ጋኒናንዝ ፃይሸቍ ሊጘ እቅ መቃቭሪስ ፍጝ ጝት ዲምቅሽ\\ue07d፤ ጛይም ጭቕጘ ኻይልቍ ጭቕ ኣጛንስቅ ኣውማው እጅርቅ ጘጝ ጒደነይዝ ዲቍጠ ቸላውም ዊኑ።', '.ጛይም፦ «እደረት ዅርወ! ይናጅቅ ውርት ውላ ፃይረር? ግርየድ ችጚጝቀመ ይናት ኣሰቃይዝተ ተትሩ?» ይጛ\\ue07d ቓፅ\\ue07d።', '.ጛጊስ ዊቱ እክልድ የው ችጝሸው ስፍረይልም ንቕፀው ኣሰመዙ መጝገ ውላቕ ዊኑ።', '.ጋኒናንድም እየሱስት፦ «እንዛይ እቂስ ፊስረር ኣረውዝየ ኣለቀይ እድየን ኣሰመ መጝገይል ጥውነር ፊቅጭ» ይጝ ጨው\\ue07d።', '.እየሱስም፦ «ፊጥን!» ዩ፤ ጋኒናንድም እቂስ ፍጝ ጘጝ ኣሰመ መጝገይል ፊርጝ ጥው\\ue07d፤ ኣሰመድም እጝቅቅ ውጥያ\\ue07d በዘይዝ ቍልቍለ ተጣድፍሻ\\ue07d ባኽሪል ጥው ክሩ።', '.ኣሰመ መጝገይዝ ምቕድም ሰይጝ ኻትመይዝጐ ጥውጝ ዊገድየንት፣ ጋኒናንዝ ፃይሸቍ እቂዝ ኣቐውድየንትም እጝቅትቅ ጂጝዝ\\ue07d።', '.እንዝ ግረ ኻትመይዙ ኽዝቭድቅ እየሱስት ቓልጠ ጝጐ ተሩ፤ ጝት ቓልጛንድም ጝታኻግርድየንት ሊቅ ፊራንስ ጨው\\ue07d።', 'ማቲወስት ወንጌል', 'እየሱስ ድውይ እጅር ቓዘጘ', '.እንዝ ግረ እየሱስ ታ\\ue07dኰዝ ፃቭ ባኽርድየንት ከር ጝቕምት ኻትመይል ፊሩ።', '.ጝጊስም እቅ ላው ድውይ እጅር ቃነ ቀሪዘዝ መውርጝ ጝጐ ፃይጝ ተር\\ue07d። እየሱስም ጝታእምንትድ ቓል ድውይድየንት፦ «እፈረ ክተ! ኣይዝዀች ክኽጥያትድ ይቅር ይሽትኩ» ዩ።', '.ኣይንድ ላው ላው ወሪትት ኽግ ክንሰጥ፦ «እን እጅርድ እደረት ዛሸኰይ» ይጛ\\ue07d ጝታእዘኒዝ ኻስቭ\\ue07d።', '.እየሱስም ጝታእዘኒዝ ኻስቭጘውድየንት ኣርቕ፦ «ውር ቃጥ የጝ ክታእዘኒዝ እነየው ጭቓ ዊገ ኻስቭርነውድ?', '.ኣየውጚ! ‹ክኽጥያትድ ይቅር ይሽትኩ› የናንቲስመ ‹ጕር ፃጝ› የናንቲስ ኣውየን ቀልጡ?', '.ዊገድ ግን እጅር ዅር እን ዝቨይስ ኽጥያት ይቅር ይጠ ስልጣን ፃየው ኣቐጘ ኣርቕጥን» የው ድውይ እጅርድየንት፦ «ጕ! ክኣረትድ መውትር ክጝን ፊጥ» ዩ።', '.ጘጝም ጕ ጝጝን ፊሩ።', '.ኽዝቭድም እኒንት ቓላንድ ጊርምሹ፤ እጅርዝ እነየው ስልጣን ይወው እደረትም ሚዝየንዙ።', 'እየሱስ ማቲወስት ጭጘጘ', '.እየሱስም ጝጊስ ጕ ፊራንድ ማቲወስ የነው ቀረጥ ቀቨው እጅር ቀረጥ ቃርጠነ ስፍረይል ጐይ ቓል፦ «ለው ይት ቲክን» ዩ፤ ጘጝም ጕ ጝት ቲክኑ።', '.እየሱስ ማቲወስት ጝን መድል ጐይ ፅባ\\ue07d፣ ንቕፀቍ ቀረጥ ቀቨቍዝመ ኽጥያትኝጥዝ ተርጝ ጝስመ ጝክንደጢዝ ጅቅ ዅጥጘ ላብጠ መድል ጐይ\\ue07d።', '.ፈሪሳንድም እኒንት ቓልጛንድ ጝክንደጥድዛት፦ «ክታክንሰተድ ቀረጥ ቀቨቊዝመ ኽጥያትኝጢዝ ጅቅ ላብጠ ኸኵሳ?» ይ\\ue07d።', '.እየሱስም እኒንት ወሻንድ፦ «ኻይክም በንዘውድ ፅውዝጅንጥዝጚ ትኽንቍዝም ኣየው።', '.ፊትርን፦ ‹ምስዋይት ኣዪጝቀ ስቝርት የጝ ቀነውድ› ይሽት ፃፍሸውድየንት ወረጘ የነት ኣቐጘ ኣርቕጥን። ምላሰንድም ኽጥያትኝጥድዛትጚ ፃድቃንድዛት ጭጝጨም ተጢቀር» ዩ።', 'ፃምዝቍዝ ኣልተው ዋቕረ', '.ኣይንድ ይዃንስት ክንደጥድ እየሱስ ትጐ ተርጝ፦ «ይናስመ ፈሪሳኒዝ ዊትርቅ ፃምነኵን፤ ክክንደጥድ ግን ፃማይጘውድ ወረጘ የጝ?» ይጝ ዋቕር\\ue07d።', '.ጘጝም፦ «ኣስንድ ጛጅቅ ፅባ\\ue07d መጭድ ኻዝንጥጘ ጥውሸኵመ? ዊገድ ግን ኣስንድየንት ጛጊስ ቲዝጝ ፊስጘው ግርየ ተርጡ፤ ኣይንድ ፃምጥቍ።', '.ኻፍለ ኣልቨል ኣይር ምልግቨ ሚልግቨው እጅርም እጀው፤ ሚልግቭሽ ግን ኣይር ምልግቨድ ኻፍለድየንት ወሰገቨ ቀደኵ፤ ቀዳድም ፈራቐኵ።', '.እኒዝጘም ኣርጐው መርዝ ቝጥን ወይንዙ ሚዘ እቝረውም እጀው፤ እቝርሽ ግን መርድ ብጥቕ የኵ፤ ወይኒዙ ሚዘድም ቅብረኵ፤ መርድም ኣርወ እጀው ሊቭ እዳቐኵ። ዊገድ ግን ቝጥን ወይንዙ ሚዘድ ኣይር መርዝ እቝረነው ጥውሸኵ፤ እንዝም ጝታቪል\\ue07dጝቅ ቸለቸልሽጝ ዊንጘኵ» ዩ።', 'እየሱስ ክትረይ እፈረስመ ፅዊትረይ እውነስ ፃቨው ታምርድ', '.እየሱስ እኒንት ዊግታ\\ue07d ሲጝቀ ላው ሽም እጅር ተር ጝበዊል ጝግምባሪዝ ሊቭ፦ «ይቝረ ክትርኵች፤ ተትር ክናኒዝ ዳቕ፤ ጚይም ቓድቲ» ዩ።', '.እየሱስም ጕ እጅሪጅቅ ፊሩ፤ ጝክንደጥድም ጝት ቲክንጝ ፊር\\ue07d።', '.ጝጊስም ፅጭ ሊጘ ምት ምሉ ብር ቅብርጛ\\ue07d ተሰቃይሽራ\\ue07d ፅብረይ ላይ እውነ ጝእግርገይዝ ተትር ጝኣልቨይዙ ጫፍድየንት ዳቕች።', '.ጝርእዘኒዝ፦ «ጝኣልቨይዙ ጫፍድ እኳ ዳቓን ቓድጭር» ይር ኻስቭር ዊንች።', '.እየሱስም ዋጥር የው ጝርት ቓል፦ «ኣይዝዀች ይቝረ! ክእምንትድ ቓዝኩ» ዩ። እውነየንም ኣይኒስ ኪርምር ቓድች።', '.እየሱስም ሽም እጅሪዙ ጝኒል ችጛንድ ኽዝንዙ ቱትለ ጣዘቍዝመ ፍውጛ\\ue07d ሊዘቍ እቅዝ ቓል፦', '.«እግልጥን! እፈረየን ኽርይርኵችጚ ክሪረይም!» ዩ። ጛይም እኒንት ወሽጛንድ ኣሹፍጛ\\ue07d እቘር\\ue07d።', '.እቅድም ፍጘት ግረ ኣቒ ጝኒል ጥው ጝርናንድ ፃዩ፤ እፈረየንም ጕች።', '.እን ዊገይዙ ጂጘድም ጛይ ኻግራኒልቅ ጂጚቱ።', 'እየሱስ ሊጘ ኻርብ ቓዘጘ', '.እየሱስም ጝጊስ ጕ ፊራንድ ሊጘ ኻርብ፦ «ዳዊትት ዅርወ! ኣለቀይ ሳቝጭ!» ይጛ\\ue07d ቓፅጛ\\ue07d ጝት ቲክን\\ue07d።', '.ጘጝም ጝን ኣቒል ጥዋንድ ጛይም ጝት ቲክንጝ ጥው\\ue07d፤ ጘጝም፦ «ያን ክታእልጣንድ ቓዝጨ ቸለር ኣቐጘ ኣምንድርነኵመ?» የው ዋቕሩ። ጛይም፦ «ኣደረወ! የይ ኣምነኵን» ይ\\ue07d።', '.ጘጝም ኣይንድ ጝታእልጣንድዛት ጝናኒዝ ዳቕ በር፦ «ፈርጥን ክታእምንቲዝጘ ኣነ» ዩ።', '.ጝታኣልጣንድም ኣይንድ ቓድ\\ue07d፤ እየሱስም፦ «እን ዊገድየንት ኣውማውቅ ኣርቒነ!» የው ጣጝቅቅሱ።', '.ጛይ ግን ፊርጝ ጘጝ ኻግሪልቅ እየሱስት ዊገድ ጂጝዝ\\ue07d።', 'እየሱስ ላው ድደ እጅር ቓዘጘ', '.ጛይ ፍጛንድም ላጥ እቅ ላው ጋኒንዝ ፃይሸው ድደ እጅር እየሱስ ትጐ ነስ\\ue07d።', '.ጋኒንድም እጅሪስ ፋንድ እጅርድየን ዊግተነው ኪርሙ፤ ኽዝቭድም ጊርምሸነውዝ፦ «እነየው ዊገ እስራየል ኻግሪስ ቓሊሽትም ኣርቓው» ይ\\ue07d።', '.ፈሪሳንድ ግን፦ «ጋኒናንድዛት ፊሰውድ ጋኒናነ ኻልቀይዝ የጝ» ይ\\ue07d።', 'ማፅወይዝ ሰራሸጥድ ዊትቍ ኣጘጘ', '.እየሱስም ጝታምኵራቫኒል ክንሳ\\ue07d፣ እደረት ምጝጝስቲዙ ወንጌልድየንትም ሲቭካ\\ue07d፣ ኽዝቭድም ጝታፅውዘይስ ጝታቕጅወይስም ቓዛ\\ue07d ኻትምጢል ኪቋኒልቅም ጅልዋ\\ue07d ዊኑ።', '.ኽዝቭድም ምቓ እጀቍ ቢቂዝጘ ጨጝቅሽ፣ ከቨተም እጀው ኣቕ ቓል ኻዝኑ።', '.ጝክንደጥድዛትም፦ «ማፅወድ ኽየው የጝ፤ ሰራሸጥድ ኣጛንድ ዊትቍ ጛይ።', '.ነስየ ማፅወይዝ ወነድየንት ጝማፅወይዝ ሰራሸጥ እፃቓንስ ማጥን ጨውጥን» ዩ።', 'ማቲወስት ወንጌል', 'እየሱስ ፅጭ ሊጘ ኻወርየታንድ ማርፅ እፃቐጘ', '.እየሱስም ፅጭ ሊጘ ክንደጥድዛት ጝጐ ጭጝ እርኵሳን መንፈሳንድዛት እቂስ ፊስጛንስ፣ ቕጅወዝመ ፅውዘዝድቅ ቓዝጛንስ፣ ስልጣን ይዉ።', '.ፅጭ ሊጘ ኻወርያታኒዝ ሽ\\ue07dድም፣', 'በውገ ቢጥሮስ ይሽተው ስሙንስመ ጝዝን እንድርያስስ፣', 'ዘቭዲወስት ቝር ያይቈቭስመ ይዃንስስ፣', '.ፊልበውስ፣ በረተለሚወስ፣ ተውማስ፣ ቀረጥ ቀቨው ዊነው ማቲወስ፣ እልፊወስት ዅር ያይቈቭ፣ ታዲወስ ይሽተው ልቭዲወስ፣', '.ቀንየተ ስሙንስመ እየሱስት ዲቍስ ይወው ኣስቈረትቱ ይዅዳስ ጛይ።', '.እየሱስ እንዛይ ፅጭ ሊጘ ኻወርየታንድዛት እፃቑ፤ እንት የውም ኣዙ፦ «ኣኽዛቫኒል ፊርትርነ፤ ሳምራነ ኻትመይልም ጥውትርነ፤', '.ኽሽስ ቢቂዝጘ ድዘቍ እስራየላኒዝጐ ፊጥን።', '.ፊትርንም፦ ‹ምጝግስተሰማያት ኣልትርኵች› ይርና\\ue07d ሲቭክጥን።', '.ፅዊተቍድ ቓዝጥን፤ ክረቍድ ጒስጥን፤ ለምፃማንድ ቓዝጥን፤ ጋኒናንድ ፊስጥን፤ ኻርነይዝ ለምትርነጘ ኻርነይዝ ይውጥን።', '.ክታኪሺዝ ዊርቅ፣ ዊንም ቍርሽ፣ ዊንም ላጥ ሳንቲማን ፃይትርነ።', '.ጒደነዝም ኸረጢት፣ ቂይረነው ኣልቨ፣ ቂይረነው ፃብ፣ ግብም፣ ፃይትርነ፤ ሰራሸው እጅርዝ እልቱ ዀነው ጥውሸው የጝ።', '.«ላው ኻትመል ዊንም ኪውል ጥውርናንድ፣ ክታት ለምርጠ ፊቅደው እጅር ደምዝርን ጝግል ፈውጥን፤ ጘጝ ስፍረድየንት ሊቅርን ፊርትርኒስቅ ጘጝ ጝኒል ጐይጥን።', '.ጝኒል ጥውርናንድም ዲግተ ይውጥን።', '.ጘጝ ጝንድ ዲግተ ጥውሸው ኣቕሽ ክታዲግተድ ጝግል ችጝነ፤ ጥውሻው ኣቕሽ ግን ክታዲግተድ ክታጐ ዋጥርነ።', '.ኣውማው እጅር ክታት ለምጠቅ ይሽ ዊንም ክታቃልድ ወጨቅ ይሽ፣ ጘጝ ጝኒስ ዊንም ጘጝ ኻትመይስ ፍርናንድ ክታልኲዙ ኣወረድየንት ኣርግፍጥን።', '.እማንዝ የኵን፤ ፍርድዝ ኰር ጚ ኻትመየንትል ችጘው ቕፃሪስ ሽ\\ue07d ሰደውምስመ ጐመረስትል ችጘው ቕፃርድ ቀልጡ።', '.«እንወ! ክታት ቢቂዝጘ ተኵልጢዝ ማኽሊል እፃጭር፤ እንዝ ማጥን ሲቭረይዝጘ ብልኻን፣ እርግቭ ትጘ ገርኻን ኣጥን።', '.እቅ ክታት ፍርድ ሸ\\ue07dጐውል ዲቍስጝ ይውጥቍ፤ ጝታምኵራቫን ጨቨቅም ጊርፍጥቍ፤ እንዝ ማጥን ጛጊስ ጣጝቅቅጭጥን።', '.ይቍዝም ቅመቲል ንጕሳኒልም ፊስጥቍ፤ እንዝም ጛጭስመ ኣኽዛቫኒዝ በዊል ይሚዝረጫን ኣትርንቅ።', '.ፃይሽርናንድ፦ ‹ወረጘ ዊግትንቅ? ኣወሽንስ ዊስንቅ› የነወዝ ጨጝቅሽትርነ፤ ክትን ዊግትርነ ጥውሸው ዊገድ ኣይንድ ክታጭስ ነይሽትጡ።', '.ክታግል ኣቕ ዊግተውድ ሲመይ ፅበው ክታይርት መንፈስድ የጝጚ ክትንም ኣይርነቅ።', '.«እጅር በገዘ ጝዝንት ክርጘል ዲቍስ ይውጡ፤ ኣይርም ጝዅርት ዲቍስ ይውጡ፤ ዅልም ጝታኣቅሊል ኣምፅጥቍ፤ ቍውስጥቍም።', '.ይሽⶔዝቍዝ እጝቅ እጅርዝቅ ሽክሽርነቅ ኣትርንቅ፤ ኻትሸነይል ኣሽ ፀናቐው ግን ጘጝ ቓድጡ።', '.ላው ኻትመይስ ሲድስጛንድ ላየ ኻትመል ሰይጥን፤ እማንዝ የኵን፤ እጅር ዅር ዋጥር ተርጢስቅ እስራየላነ ኻትምጥድዛት ችጝዝርን ኻታይርነቅም።', '.«ክንደተ ጝክንሰተይስ ዲቋውም፤ ኣገልጋይም ጝኣደረይስ ዲቋውም።', '.ክንደተ ጝክንሰተይዝጘ ኣቐውዝየ፣ ኣገልጋይም ጝኣደረይዝጘ ኣቐውዝየ ጝጭስ ኣቐኵ፤ ወነድየንት፦ ‹ብየልዘቩል› ይጘውዝየ ጝበተሰቭድሰ ኣወይጝ እኒስ ዲቈው ጭቓ ሽ\\ue07d ፊሳቍ?»ኣውት ጐውተነው ጥውሽጥጘ', '.«ነስየ እቅድ ጐውትርነ፤ ሺፍንሸውድ ጋልፅሽተነው፣ ጭቭረውድም ኣርቕሽተነው እዳቓውም።', '.እንዝ ማጥን ያን ክታጭስ ጥመዝ ድቈውድየንት ብርኻንዝ ዊግትጥን፤ ሽዅሽዅተዝ ወሽርነውድየንትም ኣደቫቫይዝ ኣውጅጥን።', '.ስየት ኣሽጚ ኒፍስት ቁጥጘ ቻላቍ እቅድዛት ጐውትርነ፤ ኽሽስ ኒፍስዝመ ስየዝ ገኻነመሳትዝ ድስጠ ቸለው ኣምላክድየንት ጐውትጥን።', '.ሊጘ መልቍ ዚልቅድ ኣኰ ሳንቲምዝ ቅይሽጘኵ ኣየውቀ? ኣነጚ ጛጊስ ላይሸን እኳ ሲመይ ፅበው ክታይርድ ፊቅዲጝቀ ሊቭር እዳቓይም።', '.ክትንስ ክታውሪዙ ፅቭቀድ እኳ እጊተው የጝ።', '.ነስየ ጐውትርነ! ንቕፀቍ መልቍ ዚልቂስ ክትን ዲቍርነቅ የጝ።', '.«እንዝ ማጥን እቀ በዊል ይጭስ ሚዝርደዊዝቅ ያን ቈሽ ሲመይ ፅበው ይርት በዊል ጝጭስ ሚዝርድጭር።', '.እቀ በዊል ይት ኻድየዊዝቅ ቈሽ ያንም ሲመይ ፅበው ይርት በዊል ጝት ኻዲጭር።', '.«ያን ተጠውድ፣ ዝቨትል ዲግተ ነስጨ ፃቭርን ኻስቭትርነ፤ ያን ተጠውድ ሰይፍ ነስጨጚ ዲግተ ነስጨም ኣየው።', '.ያን ተጠውድ ጊር ዅር ጚርቲስ ቲዝጨ፣', 'ምጂ ዅረትም ጝርኘቲስ ቲዝጨ፣', 'ስሪትም ጝርጣስንቲስ ቲዝጨ፣ የጝ።', '.እጅርዝ ጝፃለትድ፣ በገዘ ጝበተሰቭድ ኣጥቍ።', '.ይሽ\\ue07d ጚርት ዊንም ጝኘት ቀነውድቅ ይው ኣጠ ጥውሻውም፤ ይሽ\\ue07d ጝዅርት ዊንም ጝቝረት ቀነውድቅ ይው ኣጠ ጥውሻውም።', '.ጝሚስቅልድየንት መውር ይግርገይል ቲክናው እጅርድቅ ይው ኣጠ ጥውሻውም።', '.ጝርዅየሸንት ቓዝጠ በነው እጅርድቅ ጝርት ድሰኵ፤ ጝርዅየሸንት ይማጥን ድሰው እጅርድ ግን ጝርት ቓዘኵ።', '.«ክታት ለምረውድ ይት ለምረኵ፤ ይት ለምረውድም ይት እፃቐው ኣይርት ለምረኵ።', '.ነቭይድየንት ነቭይዝ ሽ\\ue07d ለምረውድቅ፣ ነቭዪዙ ወየድ ለምርጡ፤ ፃድቅድየንት ፃድቅዝ ሽ\\ue07d ለምረውድቅ፣ ፃድቂዙ ወየድየንት ለምርጡ።', '.እማንዝ የኵን! ኣውማው እጅር እንዛይ መልቊስ ላውድየንት ይክንደተ ኣቑዝ ላው ሽቅነ ቓዝቕዘቍ ኣቝ ይውሽ ጝወየድ ባውም።»', 'ማቲወስት ወንጌል', 'ጣምቀተ ይዃንስ እየሱስ ትጐ በርሰው ዋቕረ', '.እየሱስም ፅጭ ሊጘ ክንደጢዝ እኒን ቃውትድ ይው ኻተት ግረ ጘጝ ስፍረድ በር ጝጣቂል ችጝሸቍ ኻትምጢል ሲቭክጠ፣ ክንስጠም ፊሩ።', '.ይዃንስም ወኽኒ ጝንል ፅባ\\ue07d ክርስቶስ ሰራሸው ሰቭድ ወሻንስቅ ጝክንደጢስ ሊጘድ ጝጐ እፃቕ', '.«ተርጡ ይሽትር ሊሚድሽረርድ ክትመ? ዊንስ ላየ ሊሚድነ?» የው ዋቕሩ።', '.እየሱስም፦ «ፊትርን ቓልድርነዊዝመ ወሽርነዊዝ እጝቅትቅ ይዃንስስ ድቍጥን።', '.እንወ ኻርብድ ቓልጘኵ፤ ኻካዛንድ ተግርጘኵ፤ ለምፃማንድ ቓድጘኵ፤ ዲጝቋራንድ ወሽጘኵ፤ ክረቍድ ጕጘኵ፤ ድኺዝም ወንጌል ሲቭክሸኵ።', '.ይቍዝ ፅጋራው እጅር ቀቫሸው የጝ» ዩ።', '.ይዃንስቲስ እፃሸቍድ ፊርጘት ግረ እየሱስ ኽዝቪዝ ይዃንስት ማጥን እንት ያ\\ue07d ዊግትጠ ኪርሙ፦ «ወረጘ ቓልትርነ በራኸይል ፍርኑ? ፊግየዝ ዊዝውሽተው ኣቲነ ቓልትርነመ?', '.ዊንስ ወረጘ ቓልትርነ ፍርኑ? ሸግጥ ኣልብ ሲረው እጅር ቓልትርነመ? ሸግጥ ኣልብ ሲረቍ እቅመ ንጕሳነ ጝንጢል እኵ\\ue07d።', '.እደስለ ወረጘ ቓልትርነ ፍርኑ? ነቭይ ቓልትርነመ? የይ! ነቭዪስም ዲቈውድየንት ቓልትርነ የጝ የኵን።', '.‹እንወ ክበው በዊል ፃጛ\\ue07d ክጒደነድየንት ኣስለው ይእፃሸረድ ክበዊል እፃጭር›ይሽት ፃፍሽተውድ ጝማጥን የጝ።', '.እማንዝ የኵን፤ እቍኒስ እዅርሸቊዝ ማኽሊስ ጣምቀተ ይዃንስት ዲቈው ጕየውም፤ ምጝግስተሰማያትስ ግን እጝቂስቅ እጥንድ ጝጊስ ዲቍጡ።', '.ጣምቀተ ይዃንስት ዚምኒስ ኪርም ነኳን ኣሽ ምጝግስተሰማያት ጭቕጘ ፈራቐች፤ በርታቐቍ እቅም ጝርግል ጥውጥቍ።', '.ነቭያታኒዝመ ሙሴት ኽጊዝ እጝቅቅ ይዃንስትል ኣሽ ትንቪት ዊግትጝኵ\\ue07d።', '.ነስየ ለምርትርነ በንርነውዝየ፦ ‹ተርጡ› ይሽተው ይልያስድ እኒን ይዃንስ የጝ።', '.ወሸው ቀርዝ ፃየውድቅ ወሽነ።', '.እን ዅለድ ወረጘዝ ተክዝጭር? ኣሪ ስፍረይል ጐይጝ ጝታፃምጥድዛት ጭጝጛ\\ue07d', '.‹ኣቲነ ዋስኑን፤ክትን ግን ዚቪርነቅም፤ሊዝም ሊስኑን፤ክትን ግን ሊዚርነቅም›የቍ እፈርድዛት ተክጘኵ።', '.ይዃንስ ዂጝቀ ዝዪጝቀ ተራን፦ ‹እን እጅርድ ጋኒንዝ ፃይሸው የጝ› ይጘኵ።', '.እጅር ዅር ቈሽ ዃ\\ue07d ዝያ\\ue07d ተራን፦ ‹እንስ ዀይረ፣ ዝየተ፣ ቀረጥ ቀቨቊዝመ ኽጥያትኝጢዝ ወደጅ የጝ› ይጘኵ። ጥቨቭት ትክክልነይድ ግን ጝርሰቪዝ ኣርቕሽትች።»', 'ንስኻ ጥዊየቍ ኻትምጢል ተረው ፍርድድ', '.ኣይንድ እየሱስ ንቕፀቍ ታምራን ፃቨቍ ኻጥምጥድዛይ ንስኻ ጥዊየቍ ኣጙዝ እንት ያ\\ue07d ዊቅስጠ ኪርሙ፦', '.«ኰራዚስ ወየው! በተሰይደስ ወየው! ክታግል ፃቭሽተቍ ታምራንድ ጢረውስስመ ሲዱነስ ፃቭሽትጝ ዊንጛን፣ ጛይ ኻትምጢዝ እቅድ ግምር ሲርጝ ፃብረልም ጐይጝ ገነ በውገ ንስኻ ጥውጥጘ ዊን\\ue07d።', '.እንዝ ማጥን ፍርድዝ ኰር ክታግል ችጘው ቕፃሪስ ሽ\\ue07d ሰደውምስመ ጐመረስትል ችጘው ቕፃርድ ቀልጡ የኵን።', '.እፈ ቅፍርናዀም! ክትምመ ሲመይ ኣሽ ንየስ ንየስ ይሩ? ሲወል ኣሽ ጊምትር፤ ክግል ፃቭሸውቍ ታምራንድ ሰደውምስ ፃቭሽትጝ ዊንጛን ሰደውም ነኳን ኣሽ ድዚጝቀ ዊንተ ዊንች።', '.እንዝ ማጥን ፍርድዝ ኰር ክግል ችጘው ቕፃሪስ ሽ\\ue07d ሰደውምትል ችጘው ቕፃርድ ቀልጡ የኵን።»', 'ክርስቶስትውዝ ችጝሸው ፈውጘ', '.እየሱስም ኣይንድ፦ «ሲመይሰመ ዝቨዝ ኣደረ ኣረር ኣየወ! እኒንት ጥቨቭኝጢስ፣ ኣርቐቲስም ሲውርድር ኣርቓቊዝ ጋልፅራንስቅ ሚዝየንዘኵን።', '.የይ፤ ኣየወ! እኒንት ፃቭተ ክቀሰው ፍቃድድ ኣቕኩ።', '.ይር እጝቅትቅ ይጭስ ነይኩ፤ ኣይር ኣየውዝየ ዅር ኣው ኣቐጘ ኣርቐው ኣውማውም እጀው። እኒዝጘም ዅር ኣየውዝየ ዅርም ጝጭስ ጋልፅጠ በነውድ ኣየውዝየ ኣይርት ኣርቐው ኣውማውም እጀው።', '.እፈ ዝላቕርነቅ፣ ፅጐወው መውርዝም ፅጐውሽርነቅ እጝቅ ክታትርነ! ይጐ ላቝጥን፤ ያንም ክታት ፈውስጭር።', '.ይሚዝቭድ ክታዲጊል መውጥን፤ ይጊስም ክንድጥን፤ ያን ገርኽ የጝ፤ ይእዘንድም ትዅት የጝ፤ ክታኒፍሲዝም ፈውጘ ችጝትርንቅ።', '.ይሚዝቭድ ፅጐዋው፣ ይመውርድም ቀለው የጝ» ዩ።']\n"
          ]
        }
      ]
    },
    {
      "cell_type": "code",
      "source": [
        "def tokenize(lang, split=None):\n",
        "  if split== None:\n",
        "    lang_tokenizer = tf.keras.preprocessing.text.Tokenizer(\n",
        "      filters='')\n",
        "  else:\n",
        "    lang_tokenizer = tf.keras.preprocessing.text.Tokenizer(\n",
        "     filters='')\n",
        "\n",
        "  lang_tokenizer.fit_on_texts(lang)\n",
        "\n",
        "  tensor = lang_tokenizer.texts_to_sequences(lang)\n",
        "\n",
        "  tensor = tf.keras.preprocessing.sequence.pad_sequences(tensor,\n",
        "                                                         padding='post')\n",
        "\n",
        "  return tensor, lang_tokenizer"
      ],
      "metadata": {
        "id": "JJuur8FA_PA8"
      },
      "execution_count": 43,
      "outputs": []
    },
    {
      "cell_type": "code",
      "source": [
        "def load_dataset(path, num_examples=None):\n",
        "  # creating cleaned input, output pairs\n",
        "  inp_lang, targ_lang = create_dataset(path, num_examples)\n",
        "\n",
        "  input_tensor, inp_lang_tokenizer = tokenize(inp_lang, split=\" \")\n",
        "  target_tensor, targ_lang_tokenizer = tokenize(targ_lang)\n",
        "\n",
        "  return input_tensor, target_tensor, inp_lang_tokenizer, targ_lang_tokenizer"
      ],
      "metadata": {
        "id": "ciN04azT_TOk"
      },
      "execution_count": 44,
      "outputs": []
    },
    {
      "cell_type": "code",
      "source": [
        "# Try experimenting with the size of that dataset\n",
        "num_examples = 2000\n",
        "input_tensor, target_tensor, inp_lang, targ_lang = load_dataset(path_to_file, num_examples)\n",
        "\n",
        "# Calculate max_length of the target tensors\n",
        "max_length_targ, max_length_inp = target_tensor.shape[1], input_tensor.shape[1]"
      ],
      "metadata": {
        "id": "rP-N_sMB_W-7"
      },
      "execution_count": 45,
      "outputs": []
    },
    {
      "cell_type": "code",
      "source": [
        "# Creating training and validation sets using an 80-20 split\n",
        "input_tensor_train, input_tensor_val, target_tensor_train, target_tensor_val = train_test_split(input_tensor, target_tensor, test_size=0.2)\n",
        "\n",
        "# Show length\n",
        "print(len(input_tensor_train), len(target_tensor_train), len(input_tensor_val), len(target_tensor_val))"
      ],
      "metadata": {
        "colab": {
          "base_uri": "https://localhost:8080/"
        },
        "id": "bty6_Fha_gYU",
        "outputId": "fe50e8c6-97b4-487a-ec0f-51683b49aa72"
      },
      "execution_count": 46,
      "outputs": [
        {
          "output_type": "stream",
          "name": "stdout",
          "text": [
            "1600 1600 400 400\n"
          ]
        }
      ]
    },
    {
      "cell_type": "code",
      "source": [
        "def convert(lang, tensor):\n",
        "  for t in tensor:\n",
        "    if t!=0:\n",
        "      print (\"%d ----> %s\" % (t, lang.index_word[t]))"
      ],
      "metadata": {
        "id": "ibMZmH1X_ni8"
      },
      "execution_count": 47,
      "outputs": []
    },
    {
      "cell_type": "code",
      "source": [
        "print (\"Input Language; index to word mapping\")\n",
        "convert(inp_lang, input_tensor_train[0])\n",
        "print ()\n",
        "print (\"Target Language; index to word mapping\")\n",
        "convert(targ_lang, target_tensor_train[0])"
      ],
      "metadata": {
        "colab": {
          "base_uri": "https://localhost:8080/"
        },
        "id": "bL1MF_nA_pOz",
        "outputId": "f7b22206-671f-48f2-c520-233b41cb10b1"
      },
      "execution_count": 48,
      "outputs": [
        {
          "output_type": "stream",
          "name": "stdout",
          "text": [
            "Input Language; index to word mapping\n",
            "7996 ----> «ወጭጥን፤\n",
            "4 ----> ላው\n",
            "623 ----> ኣርሸ\n",
            "655 ----> ዚረ\n",
            "1820 ----> ፊዝጠ\n",
            "127 ----> ፊሩ።\n",
            "\n",
            "Target Language; index to word mapping\n",
            "4292 ----> “listen!\n",
            "7 ----> a\n",
            "356 ----> farmer\n",
            "51 ----> went\n",
            "50 ----> out\n",
            "2 ----> to\n",
            "1013 ----> plant\n",
            "15 ----> his\n",
            "1014 ----> seed.\n"
          ]
        }
      ]
    },
    {
      "cell_type": "code",
      "source": [
        "BUFFER_SIZE = len(input_tensor_train)\n",
        "BATCH_SIZE = 64\n",
        "steps_per_epoch = len(input_tensor_train)//BATCH_SIZE\n",
        "embedding_dim = 256\n",
        "units = 1024\n",
        "vocab_inp_size = len(inp_lang.word_index)+1\n",
        "vocab_tar_size = len(targ_lang.word_index)+1\n",
        "\n",
        "dataset = tf.data.Dataset.from_tensor_slices((input_tensor_train, target_tensor_train)).shuffle(BUFFER_SIZE)\n",
        "dataset = dataset.batch(BATCH_SIZE, drop_remainder=True)"
      ],
      "metadata": {
        "id": "s5f09dwM_ukE"
      },
      "execution_count": 49,
      "outputs": []
    },
    {
      "cell_type": "code",
      "source": [
        "example_input_batch, example_target_batch = next(iter(dataset))\n",
        "example_input_batch.shape, example_target_batch.shape"
      ],
      "metadata": {
        "colab": {
          "base_uri": "https://localhost:8080/"
        },
        "id": "-ZaY38x__zcz",
        "outputId": "ff287586-f4c5-4456-a003-3b52005a10f0"
      },
      "execution_count": 50,
      "outputs": [
        {
          "output_type": "execute_result",
          "data": {
            "text/plain": [
              "(TensorShape([64, 34]), TensorShape([64, 66]))"
            ]
          },
          "metadata": {},
          "execution_count": 50
        }
      ]
    },
    {
      "cell_type": "code",
      "source": [
        "class Encoder(tf.keras.Model):\n",
        "  def __init__(self, vocab_size, embedding_dim, enc_units, batch_sz):\n",
        "    super(Encoder, self).__init__()\n",
        "    self.batch_sz = batch_sz\n",
        "    self.enc_units = enc_units\n",
        "    self.embedding = tf.keras.layers.Embedding(vocab_size, embedding_dim)\n",
        "    self.gru = tf.keras.layers.GRU(self.enc_units,\n",
        "                                   return_sequences= True,\n",
        "                                   return_state= True,\n",
        "                                   recurrent_initializer='glorot_uniform')\n",
        "\n",
        "  def call(self, x, hidden):\n",
        "    x = self.embedding(x)\n",
        "    output, state = self.gru(x, initial_state = hidden)\n",
        "    return output, state\n",
        "\n",
        "  def initialize_hidden_state(self):\n",
        "    return tf.zeros((self.batch_sz, self.enc_units))"
      ],
      "metadata": {
        "id": "6W9_ZyFd_6Id"
      },
      "execution_count": 51,
      "outputs": []
    },
    {
      "cell_type": "code",
      "source": [
        "encoder = Encoder(vocab_inp_size, embedding_dim, units, BATCH_SIZE)\n",
        "\n",
        "# sample input\n",
        "sample_hidden = encoder.initialize_hidden_state()\n",
        "sample_output, sample_hidden = encoder(example_input_batch, sample_hidden)\n",
        "print ('Encoder output shape: (batch size, sequence length, units) {}'.format(sample_output.shape))\n",
        "print ('Encoder Hidden state shape: (batch size, units) {}'.format(sample_hidden.shape))"
      ],
      "metadata": {
        "colab": {
          "base_uri": "https://localhost:8080/"
        },
        "id": "0bdil7WD_8C7",
        "outputId": "3515f98c-0362-4ebd-ce60-763ecef8c2d3"
      },
      "execution_count": 52,
      "outputs": [
        {
          "output_type": "stream",
          "name": "stdout",
          "text": [
            "Encoder output shape: (batch size, sequence length, units) (64, 34, 1024)\n",
            "Encoder Hidden state shape: (batch size, units) (64, 1024)\n"
          ]
        }
      ]
    },
    {
      "cell_type": "code",
      "source": [
        "class BahdanauAttention(tf.keras.layers.Layer):\n",
        "  def __init__(self, units):\n",
        "    super(BahdanauAttention, self).__init__()\n",
        "    self.W1 = tf.keras.layers.Dense(units)\n",
        "    self.W2 = tf.keras.layers.Dense(units)\n",
        "    self.V = tf.keras.layers.Dense(1)\n",
        "\n",
        "  def call(self, query, values):\n",
        "    # query hidden state shape == (batch_size, hidden size)\n",
        "    # query_with_time_axis shape == (batch_size, 1, hidden size)\n",
        "    # values shape == (batch_size, max_len, hidden size)\n",
        "    # we are doing this to broadcast addition along the time axis to calculate the score\n",
        "    query_with_time_axis = tf.expand_dims(query, 1)\n",
        "\n",
        "    # score shape == (batch_size, max_length, 1)\n",
        "    # we get 1 at the last axis because we are applying score to self.V\n",
        "    # the shape of the tensor before applying self.V is (batch_size, max_length, units)\n",
        "    score = self.V(tf.nn.tanh(\n",
        "        self.W1(query_with_time_axis) + self.W2(values)))\n",
        "\n",
        "    # attention_weights shape == (batch_size, max_length, 1)\n",
        "    attention_weights = tf.nn.softmax(score, axis=1)\n",
        "\n",
        "    # context_vector shape after sum == (batch_size, hidden_size)\n",
        "    context_vector = attention_weights * values\n",
        "    context_vector = tf.reduce_sum(context_vector, axis=1)\n",
        "\n",
        "    return context_vector, attention_weights"
      ],
      "metadata": {
        "id": "L_KWdy-YAAbk"
      },
      "execution_count": 53,
      "outputs": []
    },
    {
      "cell_type": "code",
      "source": [
        "attention_layer = BahdanauAttention(10)\n",
        "attention_result, attention_weights = attention_layer(sample_hidden, sample_output)\n",
        "\n",
        "print(\"Attention result shape: (batch size, units) {}\".format(attention_result.shape))\n",
        "print(\"Attention weights shape: (batch_size, sequence_length, 1) {}\".format(attention_weights.shape))"
      ],
      "metadata": {
        "colab": {
          "base_uri": "https://localhost:8080/"
        },
        "id": "mOk6JjM4AHxc",
        "outputId": "56329867-a8f1-4e51-e19a-2ce70b231373"
      },
      "execution_count": 54,
      "outputs": [
        {
          "output_type": "stream",
          "name": "stdout",
          "text": [
            "Attention result shape: (batch size, units) (64, 1024)\n",
            "Attention weights shape: (batch_size, sequence_length, 1) (64, 34, 1)\n"
          ]
        }
      ]
    },
    {
      "cell_type": "code",
      "source": [
        "class Decoder(tf.keras.Model):\n",
        "  def __init__(self, vocab_size, embedding_dim, dec_units, batch_sz):\n",
        "    super(Decoder, self).__init__()\n",
        "    self.batch_sz = batch_sz\n",
        "    self.dec_units = dec_units\n",
        "    self.embedding = tf.keras.layers.Embedding(vocab_size, embedding_dim)\n",
        "    self.gru = tf.keras.layers.GRU(self.dec_units,\n",
        "                                   return_sequences=True,\n",
        "                                   return_state=True,\n",
        "                                   recurrent_initializer='glorot_uniform')\n",
        "    self.fc = tf.keras.layers.Dense(vocab_size)\n",
        "\n",
        "    # used for attention\n",
        "    self.attention = BahdanauAttention(self.dec_units)\n",
        "\n",
        "  def call(self, x, hidden, enc_output):\n",
        "    # enc_output shape == (batch_size, max_length, hidden_size)\n",
        "    context_vector, attention_weights = self.attention(hidden, enc_output)\n",
        "\n",
        "    # x shape after passing through embedding == (batch_size, 1, embedding_dim)\n",
        "    x = self.embedding(x)\n",
        "\n",
        "    # x shape after concatenation == (batch_size, 1, embedding_dim + hidden_size)\n",
        "    x = tf.concat([tf.expand_dims(context_vector, 1), x], axis=-1)\n",
        "\n",
        "    # passing the concatenated vector to the GRU\n",
        "    output, state = self.gru(x)\n",
        "\n",
        "    # output shape == (batch_size * 1, hidden_size)\n",
        "    output = tf.reshape(output, (-1, output.shape[2]))\n",
        "\n",
        "    # output shape == (batch_size, vocab)\n",
        "    x = self.fc(output)\n",
        "\n",
        "    return x, state, attention_weights"
      ],
      "metadata": {
        "id": "DrYwkwtOAJe0"
      },
      "execution_count": 55,
      "outputs": []
    },
    {
      "cell_type": "code",
      "source": [
        "decoder = Decoder(vocab_tar_size, embedding_dim, units, BATCH_SIZE)\n",
        "\n",
        "sample_decoder_output, _, _ = decoder(tf.random.uniform((BATCH_SIZE, 1)),\n",
        "                                      sample_hidden, sample_output)\n",
        "\n",
        "print ('Decoder output shape: (batch_size, vocab size) {}'.format(sample_decoder_output.shape))"
      ],
      "metadata": {
        "colab": {
          "base_uri": "https://localhost:8080/"
        },
        "id": "kuX4ZhV6AOyy",
        "outputId": "de3191c8-5f20-4620-ab40-090980caf50d"
      },
      "execution_count": 56,
      "outputs": [
        {
          "output_type": "stream",
          "name": "stdout",
          "text": [
            "Decoder output shape: (batch_size, vocab size) (64, 4556)\n"
          ]
        }
      ]
    },
    {
      "cell_type": "code",
      "source": [
        "optimizer = tf.keras.optimizers.Adam()\n",
        "loss_object = tf.keras.losses.SparseCategoricalCrossentropy(\n",
        "    from_logits=True, reduction='none')\n",
        "\n",
        "def loss_function(real, pred):\n",
        "  mask = tf.math.logical_not(tf.math.equal(real, 0))\n",
        "  loss_ = loss_object(real, pred)\n",
        "\n",
        "  mask = tf.cast(mask, dtype=loss_.dtype)\n",
        "  loss_ *= mask\n",
        "\n",
        "  return tf.reduce_mean(loss_)"
      ],
      "metadata": {
        "id": "vrIaAS9yATUi"
      },
      "execution_count": 57,
      "outputs": []
    },
    {
      "cell_type": "code",
      "source": [
        "checkpoint_dir = './training_checkpoints'\n",
        "checkpoint_prefix = os.path.join(checkpoint_dir, \"ckpt\")\n",
        "checkpoint = tf.train.Checkpoint(optimizer=optimizer,\n",
        "                                 encoder=encoder,\n",
        "                                 decoder=decoder)"
      ],
      "metadata": {
        "id": "FYU7riZEAXvT"
      },
      "execution_count": 58,
      "outputs": []
    },
    {
      "cell_type": "code",
      "source": [
        "@tf.function\n",
        "def train_step(inp, targ, enc_hidden):\n",
        "  loss = 0\n",
        "\n",
        "  with tf.GradientTape() as tape:\n",
        "    enc_output, enc_hidden = encoder(inp, enc_hidden)\n",
        "\n",
        "    dec_hidden = enc_hidden\n",
        "\n",
        "    dec_input = tf.expand_dims([targ_lang.word_index['<start>']] * BATCH_SIZE, 1)\n",
        "\n",
        "    # Teacher forcing - feeding the target as the next input\n",
        "    for t in range(1, targ.shape[1]):\n",
        "      # passing enc_output to the decoder\n",
        "      predictions, dec_hidden, _ = decoder(dec_input, dec_hidden, enc_output)\n",
        "\n",
        "      loss += loss_function(targ[:, t], predictions)\n",
        "\n",
        "      # using teacher forcing\n",
        "      dec_input = tf.expand_dims(targ[:, t], 1)\n",
        "\n",
        "  batch_loss = (loss / int(targ.shape[1]))\n",
        "\n",
        "  variables = encoder.trainable_variables + decoder.trainable_variables\n",
        "\n",
        "  gradients = tape.gradient(loss, variables)\n",
        "\n",
        "  optimizer.apply_gradients(zip(gradients, variables))\n",
        "\n",
        "  return batch_loss"
      ],
      "metadata": {
        "id": "wNBKoNQdAbpz"
      },
      "execution_count": 59,
      "outputs": []
    },
    {
      "cell_type": "code",
      "source": [
        "start_token = '<start>'\n",
        "targ_lang.word_index[start_token] = len(targ_lang.word_index) + 1\n",
        "targ_lang.index_word[len(targ_lang.word_index)] = start_token"
      ],
      "metadata": {
        "id": "T9Fjz4MnnQYw"
      },
      "execution_count": 61,
      "outputs": []
    },
    {
      "cell_type": "code",
      "source": [],
      "metadata": {
        "id": "4ZIUQglCrLFe"
      },
      "execution_count": 65,
      "outputs": []
    },
    {
      "cell_type": "code",
      "source": [
        "EPOCHS = 10\n",
        "\n",
        "for epoch in range(EPOCHS):\n",
        "    start = time.time()\n",
        "\n",
        "    enc_hidden = encoder.initialize_hidden_state()\n",
        "    total_loss = 0\n",
        "    num_batches = 0  # Track the number of valid batches\n",
        "\n",
        "    for (batch, (inp, targ)) in enumerate(dataset.take(steps_per_epoch)):\n",
        "        batch_loss = train_step(inp, targ, enc_hidden)\n",
        "        if batch_loss is not None:  # Check if batch_loss is not None\n",
        "            total_loss += batch_loss\n",
        "            num_batches += 1\n",
        "\n",
        "            if batch % 10 == 0:\n",
        "                print('Epoch {} Batch {} Loss {:.4f}'.format(epoch + 1,\n",
        "                                                             batch,\n",
        "                                                             batch_loss.numpy()))\n",
        "\n",
        "    if num_batches > 0:\n",
        "        average_loss = total_loss / num_batches\n",
        "        print('Epoch {} Loss {:.4f}'.format(epoch + 1, average_loss))\n",
        "    else:\n",
        "        print('Epoch {} No valid batches'.format(epoch + 1))\n",
        "\n",
        "    # Saving (checkpoint) the model every 2 epochs\n",
        "    if (epoch + 1) % 2 == 0:\n",
        "        checkpoint.save(file_prefix=checkpoint_prefix)\n",
        "\n",
        "    print('Time taken for 1 epoch {} sec\\n'.format(time.time() - start))"
      ],
      "metadata": {
        "colab": {
          "base_uri": "https://localhost:8080/"
        },
        "id": "5suxpqHPAhhc",
        "outputId": "3d72a0e8-15f0-4de1-b3fa-9a45636193db"
      },
      "execution_count": 64,
      "outputs": [
        {
          "output_type": "stream",
          "name": "stdout",
          "text": [
            "Epoch 1 No valid batches\n",
            "Time taken for 1 epoch 0.14790558815002441 sec\n",
            "\n",
            "Epoch 2 No valid batches\n",
            "Time taken for 1 epoch 0.7006700038909912 sec\n",
            "\n",
            "Epoch 3 No valid batches\n",
            "Time taken for 1 epoch 0.15540337562561035 sec\n",
            "\n",
            "Epoch 4 No valid batches\n",
            "Time taken for 1 epoch 5.405786991119385 sec\n",
            "\n",
            "Epoch 5 No valid batches\n",
            "Time taken for 1 epoch 0.41802334785461426 sec\n",
            "\n",
            "Epoch 6 No valid batches\n",
            "Time taken for 1 epoch 3.7361268997192383 sec\n",
            "\n",
            "Epoch 7 No valid batches\n",
            "Time taken for 1 epoch 0.3176743984222412 sec\n",
            "\n",
            "Epoch 8 No valid batches\n",
            "Time taken for 1 epoch 2.0840044021606445 sec\n",
            "\n",
            "Epoch 9 No valid batches\n",
            "Time taken for 1 epoch 0.15096688270568848 sec\n",
            "\n",
            "Epoch 10 No valid batches\n",
            "Time taken for 1 epoch 2.8693389892578125 sec\n",
            "\n"
          ]
        }
      ]
    },
    {
      "cell_type": "code",
      "source": [
        "def evaluate(sentence):\n",
        "  attention_plot = np.zeros((max_length_targ, max_length_inp))\n",
        "\n",
        "  sentence = preprocess_sentence(sentence)\n",
        "\n",
        "  inputs = [inp_lang.word_index[i] for i in sentence.split(' ')]\n",
        "  inputs = tf.keras.preprocessing.sequence.pad_sequences([inputs],\n",
        "                                                         maxlen=max_length_inp,\n",
        "                                                         padding='post')\n",
        "  inputs = tf.convert_to_tensor(inputs)\n",
        "\n",
        "  result = ''\n",
        "\n",
        "  hidden = [tf.zeros((1, units))]\n",
        "  enc_out, enc_hidden = encoder(inputs, hidden)\n",
        "\n",
        "  dec_hidden = enc_hidden\n",
        "  dec_input = tf.expand_dims([targ_lang.word_index['<start>']], 0)\n",
        "\n",
        "  for t in range(max_length_targ):\n",
        "    predictions, dec_hidden, attention_weights = decoder(dec_input,\n",
        "                                                         dec_hidden,\n",
        "                                                         enc_out)\n",
        "\n",
        "    # storing the attention weights to plot later on\n",
        "    attention_weights = tf.reshape(attention_weights, (-1, ))\n",
        "    attention_plot[t] = attention_weights.numpy()\n",
        "\n",
        "    predicted_id = tf.argmax(predictions[0]).numpy()\n",
        "\n",
        "    result += targ_lang.index_word[predicted_id] + ' '\n",
        "\n",
        "    if targ_lang.index_word[predicted_id] == '<end>':\n",
        "      return result, sentence, attention_plot\n",
        "\n",
        "    # the predicted ID is fed back into the model\n",
        "    dec_input = tf.expand_dims([predicted_id], 0)\n",
        "\n",
        "  return result, sentence, attention_plot"
      ],
      "metadata": {
        "id": "sgLuIYmGAtZr"
      },
      "execution_count": 66,
      "outputs": []
    },
    {
      "cell_type": "code",
      "source": [
        "# function for plotting the attention weights\n",
        "def plot_attention(attention, sentence, predicted_sentence):\n",
        "  fig = plt.figure(figsize=(7,7))\n",
        "  ax = fig.add_subplot(1, 1, 1)\n",
        "  ax.matshow(attention, cmap='viridis')\n",
        "\n",
        "  fontdict = {'fontsize': 10}\n",
        "\n",
        "  ax.set_xticklabels([''] + sentence, fontdict=fontdict, rotation=90)\n",
        "  ax.set_yticklabels([''] + predicted_sentence, fontdict=fontdict)\n",
        "\n",
        "  ax.xaxis.set_major_locator(ticker.MultipleLocator(1))\n",
        "  ax.yaxis.set_major_locator(ticker.MultipleLocator(1))\n",
        "\n",
        "  plt.show()"
      ],
      "metadata": {
        "id": "OqSKXg7XAvyb"
      },
      "execution_count": 67,
      "outputs": []
    },
    {
      "cell_type": "code",
      "source": [
        "def translate(sentence):\n",
        "  result, sentence, attention_plot = evaluate(sentence)\n",
        "\n",
        "  print('Input: %s' % (sentence))\n",
        "  print('Predicted translation: {}'.format(result))\n",
        "\n",
        "  attention_plot = attention_plot[:len(result.split(' ')), :len(sentence.split(' '))]\n",
        "  plot_attention(attention_plot, sentence.split(' '), result.split(' '))"
      ],
      "metadata": {
        "id": "dXHrI7QoA10C"
      },
      "execution_count": 68,
      "outputs": []
    },
    {
      "cell_type": "code",
      "source": [
        "# restoring the latest checkpoint in checkpoint_dir\n",
        "checkpoint.restore(tf.train.latest_checkpoint(checkpoint_dir))"
      ],
      "metadata": {
        "id": "c5HPXS25A3vn",
        "colab": {
          "base_uri": "https://localhost:8080/"
        },
        "outputId": "3b629b13-b12d-4a9f-a5d3-8a85037781c4"
      },
      "execution_count": 69,
      "outputs": [
        {
          "output_type": "execute_result",
          "data": {
            "text/plain": [
              "<tensorflow.python.checkpoint.checkpoint.CheckpointLoadStatus at 0x783ad548e500>"
            ]
          },
          "metadata": {},
          "execution_count": 69
        }
      ]
    },
    {
      "cell_type": "code",
      "source": [
        "translate(u'the war is going in our favor.')"
      ],
      "metadata": {
        "id": "ulHYY335A-d6",
        "colab": {
          "base_uri": "https://localhost:8080/",
          "height": 373
        },
        "outputId": "50371f52-c974-4fb2-84bf-a55f59655cf8"
      },
      "execution_count": 74,
      "outputs": [
        {
          "output_type": "error",
          "ename": "InvalidArgumentError",
          "evalue": "Exception encountered when calling layer 'embedding_1' (type Embedding).\n\n{{function_node __wrapped__ResourceGather_device_/job:localhost/replica:0/task:0/device:CPU:0}} indices[0,0] = 4556 is not in [0, 4556) [Op:ResourceGather] name: \n\nCall arguments received by layer 'embedding_1' (type Embedding):\n  • inputs=tf.Tensor(shape=(1, 1), dtype=int32)",
          "traceback": [
            "\u001b[0;31m---------------------------------------------------------------------------\u001b[0m",
            "\u001b[0;31mInvalidArgumentError\u001b[0m                      Traceback (most recent call last)",
            "\u001b[0;32m<ipython-input-74-333f21b1a794>\u001b[0m in \u001b[0;36m<cell line: 1>\u001b[0;34m()\u001b[0m\n\u001b[0;32m----> 1\u001b[0;31m \u001b[0mtranslate\u001b[0m\u001b[0;34m(\u001b[0m\u001b[0;34mu'the war is going in our favor.'\u001b[0m\u001b[0;34m)\u001b[0m\u001b[0;34m\u001b[0m\u001b[0;34m\u001b[0m\u001b[0m\n\u001b[0m",
            "\u001b[0;32m<ipython-input-73-7f2fdf0d9b91>\u001b[0m in \u001b[0;36mtranslate\u001b[0;34m(sentence)\u001b[0m\n\u001b[1;32m     27\u001b[0m     \u001b[0;31m# Loop to predict the next word until the end token is reached\u001b[0m\u001b[0;34m\u001b[0m\u001b[0;34m\u001b[0m\u001b[0m\n\u001b[1;32m     28\u001b[0m     \u001b[0;32mfor\u001b[0m \u001b[0mt\u001b[0m \u001b[0;32min\u001b[0m \u001b[0mrange\u001b[0m\u001b[0;34m(\u001b[0m\u001b[0mmax_length_targ\u001b[0m\u001b[0;34m)\u001b[0m\u001b[0;34m:\u001b[0m\u001b[0;34m\u001b[0m\u001b[0;34m\u001b[0m\u001b[0m\n\u001b[0;32m---> 29\u001b[0;31m         \u001b[0mpredictions\u001b[0m\u001b[0;34m,\u001b[0m \u001b[0mdec_hidden\u001b[0m\u001b[0;34m,\u001b[0m \u001b[0mattention_weights\u001b[0m \u001b[0;34m=\u001b[0m \u001b[0mdecoder\u001b[0m\u001b[0;34m(\u001b[0m\u001b[0mdec_input\u001b[0m\u001b[0;34m,\u001b[0m \u001b[0mdec_hidden\u001b[0m\u001b[0;34m,\u001b[0m \u001b[0menc_out\u001b[0m\u001b[0;34m)\u001b[0m\u001b[0;34m\u001b[0m\u001b[0;34m\u001b[0m\u001b[0m\n\u001b[0m\u001b[1;32m     30\u001b[0m \u001b[0;34m\u001b[0m\u001b[0m\n\u001b[1;32m     31\u001b[0m         \u001b[0;31m# Get the predicted word index with the highest probability\u001b[0m\u001b[0;34m\u001b[0m\u001b[0;34m\u001b[0m\u001b[0m\n",
            "\u001b[0;32m/usr/local/lib/python3.10/dist-packages/keras/src/utils/traceback_utils.py\u001b[0m in \u001b[0;36merror_handler\u001b[0;34m(*args, **kwargs)\u001b[0m\n\u001b[1;32m     68\u001b[0m             \u001b[0;31m# To get the full stack trace, call:\u001b[0m\u001b[0;34m\u001b[0m\u001b[0;34m\u001b[0m\u001b[0m\n\u001b[1;32m     69\u001b[0m             \u001b[0;31m# `tf.debugging.disable_traceback_filtering()`\u001b[0m\u001b[0;34m\u001b[0m\u001b[0;34m\u001b[0m\u001b[0m\n\u001b[0;32m---> 70\u001b[0;31m             \u001b[0;32mraise\u001b[0m \u001b[0me\u001b[0m\u001b[0;34m.\u001b[0m\u001b[0mwith_traceback\u001b[0m\u001b[0;34m(\u001b[0m\u001b[0mfiltered_tb\u001b[0m\u001b[0;34m)\u001b[0m \u001b[0;32mfrom\u001b[0m \u001b[0;32mNone\u001b[0m\u001b[0;34m\u001b[0m\u001b[0;34m\u001b[0m\u001b[0m\n\u001b[0m\u001b[1;32m     71\u001b[0m         \u001b[0;32mfinally\u001b[0m\u001b[0;34m:\u001b[0m\u001b[0;34m\u001b[0m\u001b[0;34m\u001b[0m\u001b[0m\n\u001b[1;32m     72\u001b[0m             \u001b[0;32mdel\u001b[0m \u001b[0mfiltered_tb\u001b[0m\u001b[0;34m\u001b[0m\u001b[0;34m\u001b[0m\u001b[0m\n",
            "\u001b[0;32m<ipython-input-55-94d61fef8257>\u001b[0m in \u001b[0;36mcall\u001b[0;34m(self, x, hidden, enc_output)\u001b[0m\n\u001b[1;32m     19\u001b[0m \u001b[0;34m\u001b[0m\u001b[0m\n\u001b[1;32m     20\u001b[0m     \u001b[0;31m# x shape after passing through embedding == (batch_size, 1, embedding_dim)\u001b[0m\u001b[0;34m\u001b[0m\u001b[0;34m\u001b[0m\u001b[0m\n\u001b[0;32m---> 21\u001b[0;31m     \u001b[0mx\u001b[0m \u001b[0;34m=\u001b[0m \u001b[0mself\u001b[0m\u001b[0;34m.\u001b[0m\u001b[0membedding\u001b[0m\u001b[0;34m(\u001b[0m\u001b[0mx\u001b[0m\u001b[0;34m)\u001b[0m\u001b[0;34m\u001b[0m\u001b[0;34m\u001b[0m\u001b[0m\n\u001b[0m\u001b[1;32m     22\u001b[0m \u001b[0;34m\u001b[0m\u001b[0m\n\u001b[1;32m     23\u001b[0m     \u001b[0;31m# x shape after concatenation == (batch_size, 1, embedding_dim + hidden_size)\u001b[0m\u001b[0;34m\u001b[0m\u001b[0;34m\u001b[0m\u001b[0m\n",
            "\u001b[0;31mInvalidArgumentError\u001b[0m: Exception encountered when calling layer 'embedding_1' (type Embedding).\n\n{{function_node __wrapped__ResourceGather_device_/job:localhost/replica:0/task:0/device:CPU:0}} indices[0,0] = 4556 is not in [0, 4556) [Op:ResourceGather] name: \n\nCall arguments received by layer 'embedding_1' (type Embedding):\n  • inputs=tf.Tensor(shape=(1, 1), dtype=int32)"
          ]
        }
      ]
    },
    {
      "cell_type": "code",
      "source": [
        "UNK_TOKEN_INDEX = 0\n",
        "def translate(sentence):\n",
        "    sentence = preprocess_sentence(sentence)\n",
        "\n",
        "    # Create a list of indices for each word in the sentence,\n",
        "    # replacing unknown words with a special token\n",
        "    inputs = [inp_lang.word_index.get(i, UNK_TOKEN_INDEX) for i in sentence.split(' ')]\n",
        "\n",
        "    # Pad the sequence to the maximum length\n",
        "    inputs = tf.keras.preprocessing.sequence.pad_sequences([inputs], maxlen=max_length_inp, padding='post')\n",
        "\n",
        "    # Convert the input sequence to a tensor\n",
        "    inputs = tf.convert_to_tensor(inputs)\n",
        "\n",
        "    # Initialize the hidden state of the encoder\n",
        "    hidden = [tf.zeros((1, units))]\n",
        "    enc_out, enc_hidden = encoder(inputs, hidden)\n",
        "\n",
        "    # Initialize the input to the decoder as the start token\n",
        "    dec_input = tf.expand_dims([targ_lang.word_index['<start>']], 0)\n",
        "\n",
        "    # Initialize the hidden state of the decoder\n",
        "    dec_hidden = enc_hidden\n",
        "\n",
        "    result = ''\n",
        "\n",
        "    # Loop to predict the next word until the end token is reached\n",
        "    for t in range(max_length_targ):\n",
        "        predictions, dec_hidden, attention_weights = decoder(dec_input, dec_hidden, enc_out)\n",
        "\n",
        "        # Get the predicted word index with the highest probability\n",
        "        predicted_id = tf.argmax(predictions[0]).numpy()\n",
        "\n",
        "        # If the predicted word is the end token, stop translating\n",
        "        if targ_lang.index_word[predicted_id] == '<end>':\n",
        "            break\n",
        "\n",
        "        # Concatenate the predicted word to the result sentence\n",
        "        result += targ_lang.index_word[predicted_id] + ' '\n",
        "\n",
        "        # The predicted word becomes the next input to the decoder\n",
        "        dec_input = tf.expand_dims([predicted_id], 0)\n",
        "\n",
        "    return result.strip()\n"
      ],
      "metadata": {
        "id": "abWKO0JHriyM"
      },
      "execution_count": 73,
      "outputs": []
    }
  ]
}