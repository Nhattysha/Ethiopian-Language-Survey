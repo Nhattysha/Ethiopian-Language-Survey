{
  "nbformat": 4,
  "nbformat_minor": 0,
  "metadata": {
    "colab": {
      "provenance": [],
      "include_colab_link": true
    },
    "kernelspec": {
      "name": "python3",
      "display_name": "Python 3"
    },
    "language_info": {
      "name": "python"
    }
  },
  "cells": [
    {
      "cell_type": "markdown",
      "metadata": {
        "id": "view-in-github",
        "colab_type": "text"
      },
      "source": [
        "<a href=\"https://colab.research.google.com/github/Nhattysha/Ethiopian-Language-Survey/blob/main/LH_3_IPYnother_copy_of_https_github_com_shawnhan108_Attention_LSTMs_blob_master_English_20to_20Italian_20Machine_20Translation_20with_20BiLSTM_20and_20Attention_ipynb_checkpoints_English_20to_20Mandarin_20Machine_20Translation_20with_20BiLSTM_20and_20A.ipynb\" target=\"_parent\"><img src=\"https://colab.research.google.com/assets/colab-badge.svg\" alt=\"Open In Colab\"/></a>"
      ]
    },
    {
      "cell_type": "code",
      "execution_count": 3,
      "metadata": {
        "id": "IK9Q-qL93TPf"
      },
      "outputs": [],
      "source": [
        "import os, sys\n",
        "\n",
        "import numpy as np\n",
        "import pandas as pd\n",
        "from matplotlib import pyplot as plt\n",
        "%matplotlib inline"
      ]
    },
    {
      "cell_type": "code",
      "source": [
        "BATCHSIZE = 128\n",
        "EPOCH = 35\n",
        "LATENT_DIM = 500\n",
        "LATENT_DIM_DECODER = LATENT_DIM\n",
        "SAMPLES = 2000\n",
        "MAX_WORD_NUM = SAMPLES\n",
        "MAX_SEQ_LEN = 100\n",
        "EMBEDDING = MAX_SEQ_LEN"
      ],
      "metadata": {
        "id": "uyfRRTFr3bWO"
      },
      "execution_count": 4,
      "outputs": []
    },
    {
      "cell_type": "code",
      "source": [
        "from google.colab import drive\n",
        "drive.mount('/content/drive')"
      ],
      "metadata": {
        "colab": {
          "base_uri": "https://localhost:8080/"
        },
        "id": "sYu72A8r4cw_",
        "outputId": "efd6c803-5d34-4d37-a48b-4d059aab9c6f"
      },
      "execution_count": 5,
      "outputs": [
        {
          "output_type": "stream",
          "name": "stdout",
          "text": [
            "Drive already mounted at /content/drive; to attempt to forcibly remount, call drive.mount(\"/content/drive\", force_remount=True).\n"
          ]
        }
      ]
    },
    {
      "cell_type": "code",
      "source": [
        "\n",
        "\n",
        "\n",
        "# Initialize lists to store processed data\n",
        "eng = []\n",
        "man = []\n",
        "man_inputs = []\n",
        "\n",
        "count = 0\n",
        "SAMPLES = 20000  # Define the number of samples you want to process\n",
        "\n",
        "# Open and preprocess the translation file\n",
        "with open('/content/drive/My Drive/mergeds.txt', 'r') as file:\n",
        "    for line in file:\n",
        "        # Split the line into parts by tab\n",
        "        parts = line.rstrip().split('\\t')\n",
        "        if len(parts) < 2:\n",
        "            continue  # Skip lines that don't contain at least two tab-separated values\n",
        "\n",
        "        count += 1\n",
        "        if count > SAMPLES:\n",
        "            break\n",
        "\n",
        "        # Extract English and translated sentences\n",
        "        e = parts[0]\n",
        "        m = parts[1]\n",
        "\n",
        "        # Append to lists\n",
        "        eng.append(e)\n",
        "        man.append(m + ' <eos>')\n",
        "        man_inputs.append('<sos> ' + m)\n",
        "\n",
        "        if count % 2000 == 0:\n",
        "            print('Sample Count: {}.'.format(count))\n",
        "\n",
        "# Verify the contents of the lists\n",
        "print(\"English sentences:\", eng[:5])\n",
        "print(\"Translated sentences with <eos>:\", man[:5])\n",
        "print(\"Translated sentences with <sos>:\", man_inputs[:5])\n"
      ],
      "metadata": {
        "colab": {
          "base_uri": "https://localhost:8080/"
        },
        "id": "iIqyQgpD3i7e",
        "outputId": "2d564d67-6b0e-4984-d3c3-80955c2e6756"
      },
      "execution_count": 7,
      "outputs": [
        {
          "output_type": "stream",
          "name": "stdout",
          "text": [
            "Sample Count: 2000.\n",
            "English sentences: ['Run.', 'Wait!', 'Listen.', 'I try.', 'I won!']\n",
            "Translated sentences with <eos>: ['ውጥየነው <eos>', 'ሊምደነው <eos>', 'ሰዝ ወሹ <eos>', 'ሚኩሩን <eos>', 'ጣቑን <eos>']\n",
            "Translated sentences with <sos>: ['<sos> ውጥየነው', '<sos> ሊምደነው', '<sos> ሰዝ ወሹ', '<sos> ሚኩሩን', '<sos> ጣቑን']\n"
          ]
        }
      ]
    },
    {
      "cell_type": "code",
      "source": [
        "from keras.preprocessing.text import Tokenizer\n",
        "from keras.preprocessing.sequence import pad_sequences\n",
        "# Initialize Tokenizer with defined maximum number of words\n",
        "MAX_WORD_NUM = 1000\n",
        "tok_in = Tokenizer(num_words=MAX_WORD_NUM)\n",
        "tok_in.fit_on_texts(eng)\n",
        "eng_seq = tok_in.texts_to_sequences(eng)\n",
        "word2idx_in = tok_in.word_index\n",
        "max_in_len = max(len(s) for s in eng_seq)\n",
        "print(\"Number of input tokens: {}\".format(len(word2idx_in)))\n",
        "print(\"Maximum input sequence length: {}\".format(max_in_len))\n",
        "\n",
        "# tokenize output and generate idx map\n",
        "tok_out = Tokenizer(num_words=MAX_WORD_NUM, filters='')\n",
        "tok_out.fit_on_texts(man + man_inputs)\n",
        "man_seq = tok_out.texts_to_sequences(man)\n",
        "man_seq_inputs = tok_out.texts_to_sequences(man_inputs)\n",
        "word2idx_out = tok_out.word_index\n",
        "max_out_len = max(len(s) for s in man_seq)\n",
        "out_word_num = len(word2idx_out) + 1\n",
        "\n",
        "print(\"Number of output tokens: {}\".format(len(word2idx_out)))\n",
        "print(\"Maximum output sequence length: {}\".format(max_out_len))"
      ],
      "metadata": {
        "colab": {
          "base_uri": "https://localhost:8080/"
        },
        "id": "8dzQc0tp62cH",
        "outputId": "99c12d90-b4be-4136-86c1-55af0e2f789c"
      },
      "execution_count": 8,
      "outputs": [
        {
          "output_type": "stream",
          "name": "stdout",
          "text": [
            "Number of input tokens: 3220\n",
            "Maximum input sequence length: 62\n",
            "Number of output tokens: 11321\n",
            "Maximum output sequence length: 25\n"
          ]
        }
      ]
    },
    {
      "cell_type": "code",
      "source": [
        "from keras.preprocessing.sequence import pad_sequences\n",
        "\n",
        "eng_seq_padded = pad_sequences(eng_seq, maxlen=max_in_len)\n",
        "man_seq_padded = pad_sequences(man_seq, maxlen=max_out_len, padding='post')\n",
        "man_seq_inputs_padded = pad_sequences(man_seq_inputs, maxlen=max_out_len, padding='post')"
      ],
      "metadata": {
        "id": "JR4LBu5Z7isG"
      },
      "execution_count": 9,
      "outputs": []
    },
    {
      "cell_type": "code",
      "source": [
        "import numpy as np"
      ],
      "metadata": {
        "id": "oTlj1NoP_zy-"
      },
      "execution_count": 10,
      "outputs": []
    },
    {
      "cell_type": "code",
      "source": [
        "wordVec = {}\n",
        "\n",
        "print('Loading wordVec')\n",
        "\n",
        "# load in word vectors in a dict\n",
        "with open('/content/drive/My Drive/glove.6B.100d.txt') as f:\n",
        "    for line in f:\n",
        "        data = line.split()\n",
        "        word = data[0]\n",
        "        vec = np.asarray(data[1:], dtype='float32')\n",
        "        wordVec[word] = vec\n",
        "\n",
        "print('Finished loading wordVec.')"
      ],
      "metadata": {
        "colab": {
          "base_uri": "https://localhost:8080/"
        },
        "id": "wVOIeg8Z7mve",
        "outputId": "71e5b795-fb89-457d-b26d-76a9ced71d86"
      },
      "execution_count": 11,
      "outputs": [
        {
          "output_type": "stream",
          "name": "stdout",
          "text": [
            "Loading wordVec\n",
            "Finished loading wordVec.\n"
          ]
        }
      ]
    },
    {
      "cell_type": "code",
      "source": [
        "EMBEDDING = 100\n",
        "wordNum = min(MAX_WORD_NUM, len(word2idx_in) + 1)\n",
        "word_embedding = np.zeros((wordNum, EMBEDDING))\n",
        "\n",
        "# create word embedding by fetching each word vector\n",
        "for tok, idx in word2idx_in.items():\n",
        "    if idx < MAX_WORD_NUM:\n",
        "        word_vector = wordVec.get(tok)\n",
        "        if word_vector is not None:\n",
        "            word_embedding[idx] = word_vector"
      ],
      "metadata": {
        "id": "jFc5HQ0h-U_u"
      },
      "execution_count": 12,
      "outputs": []
    },
    {
      "cell_type": "code",
      "source": [
        "man_target_one_hot = np.zeros((len(eng), max_out_len, out_word_num), dtype='float32')\n",
        "\n",
        "for idx, tokVec in enumerate(man_seq_padded):\n",
        "    for tok_idx, tok in enumerate(tokVec):\n",
        "        if (tok > 0):\n",
        "            man_target_one_hot[idx, tok_idx, tok] = 1"
      ],
      "metadata": {
        "id": "QDXXGdF9-Xx2"
      },
      "execution_count": 13,
      "outputs": []
    },
    {
      "cell_type": "code",
      "source": [
        "from keras.layers import Embedding, Input, LSTM, GRU, Dense, Bidirectional, RepeatVector, Concatenate, Activation, Dot, Lambda\n",
        "import keras.backend as K\n",
        "from keras.models import Model\n",
        "\n",
        "# Embedding\n",
        "embedding = Embedding(wordNum, EMBEDDING, weights=[word_embedding], input_length=max_in_len)\n",
        "\n",
        "# Encoder\n",
        "LATENT_DIM = 256\n",
        "input_layer_encoder = Input(shape=(max_in_len,))\n",
        "embed_encoder = embedding(input_layer_encoder)\n",
        "encoder = Bidirectional(LSTM(LATENT_DIM, return_sequences=True, dropout=0.2))\n",
        "encoder_out = encoder(embed_encoder)\n",
        "\n",
        "# Decoder input\n",
        "input_layer_decoder = Input(shape=(max_out_len,))\n",
        "embed_decoder = Embedding(out_word_num, EMBEDDING)\n",
        "decoder_input = embed_decoder(input_layer_decoder)\n",
        "\n",
        "# Decoder output, after attention\n",
        "LATENT_DIM_DECODER = 256\n",
        "decoder = LSTM(LATENT_DIM_DECODER, return_state=True)\n",
        "dense_decode = Dense(out_word_num, activation='softmax')\n",
        "s0 = Input(shape=(LATENT_DIM_DECODER,))\n",
        "c0 = Input(shape=(LATENT_DIM_DECODER,))"
      ],
      "metadata": {
        "id": "2b8hroh3-k_2"
      },
      "execution_count": 14,
      "outputs": []
    },
    {
      "cell_type": "code",
      "source": [
        "# Dimension of x is N x T x D.\n",
        "def softmax(x):\n",
        "    assert(K.ndim(x) > 2)\n",
        "    e = K.exp(x - K.max(x, axis=1, keepdims=True))\n",
        "    s = K.sum(e, axis=1, keepdims=True)\n",
        "    return e / s\n",
        "\n",
        "# Some of the common layers for attention\n",
        "repeat_attn = RepeatVector(max_in_len)\n",
        "concat_attn = Concatenate(axis=-1)\n",
        "dense1_attn = Dense(10, activation='tanh')  # over time dimension T\n",
        "dense2_attn = Dense(1, activation=softmax)\n",
        "dot_attn = Dot(axes=1)                      # over time dimension T\n",
        "\n",
        "def iterAttn(h, prevOut):\n",
        "    \"\"\"\n",
        "    h: encoder encoded hidden states at all time.\n",
        "    prevOut: output at the previous time (word).\n",
        "    An iteration of attention.\n",
        "    \"\"\"\n",
        "    prevOutRepeat = repeat_attn(prevOut) # Tx, LATENT_DIM_DECODE\n",
        "    total = concat_attn([h, prevOutRepeat]) # Tx, LATENT_DIM_DECODE + LATENT_DIM * 2\n",
        "    d = dense1_attn(total)\n",
        "    alphaLayer = dense2_attn(d)\n",
        "    context = dot_attn([alphaLayer, h])\n",
        "\n",
        "    return context"
      ],
      "metadata": {
        "id": "IH54BVSGAkd2"
      },
      "execution_count": 15,
      "outputs": []
    },
    {
      "cell_type": "code",
      "source": [
        "s = s0\n",
        "c = c0\n",
        "\n",
        "# Iterate attention Ty times\n",
        "all_out = []\n",
        "for t in range(max_out_len):\n",
        "    # Get context vector with encoder and attention\n",
        "    context = iterAttn(encoder_out, s)\n",
        "\n",
        "    # For teacher forcing, get the previous word\n",
        "    select_layer = Lambda(lambda x: x[:, t:t+1])\n",
        "    prevWord = select_layer(decoder_input)\n",
        "\n",
        "    # Concat context and previous word as decoder input\n",
        "    concat2 = Concatenate(axis=2)\n",
        "    decoder_in_concat = concat2([context, prevWord])\n",
        "\n",
        "    # pass into decoder, inference output\n",
        "    pred, s, c = decoder(decoder_in_concat, initial_state=[s, c])\n",
        "    pred = dense_decode(pred)\n",
        "    all_out.append(pred)"
      ],
      "metadata": {
        "id": "InehOhYqAtW-"
      },
      "execution_count": 16,
      "outputs": []
    },
    {
      "cell_type": "code",
      "source": [
        "def stack(outputs):\n",
        "    outputs = K.stack(outputs)\n",
        "    return K.permute_dimensions(outputs, pattern=(1, 0, 2))\n",
        "\n",
        "stack_layer = Lambda(stack)\n",
        "all_out = stack_layer(all_out)"
      ],
      "metadata": {
        "id": "RnBVljN5Au7-"
      },
      "execution_count": 17,
      "outputs": []
    },
    {
      "cell_type": "code",
      "source": [
        "attnModel = Model(inputs=[input_layer_encoder, input_layer_decoder, s0, c0,],\n",
        "                 outputs=all_out)"
      ],
      "metadata": {
        "id": "uTUyPoEjA1zj"
      },
      "execution_count": 18,
      "outputs": []
    },
    {
      "cell_type": "code",
      "source": [
        "def myLoss(y_train, pred):\n",
        "    mask = K.cast(y_train > 0, dtype='float32')\n",
        "    val = mask * y_train * K.log(pred)\n",
        "    return -K.sum(val) / K.sum(mask)\n",
        "\n",
        "def acc(y_train, pred):\n",
        "    targ = K.argmax(y_train, axis=-1)\n",
        "    pred = K.argmax(pred, axis=-1)\n",
        "    correct = K.cast(K.equal(targ, pred), dtype='float32')\n",
        "\n",
        "    mask = K.cast(K.greater(targ, 0), dtype='float32') # filter out padding value 0.\n",
        "    correctCount = K.sum(mask * correct)\n",
        "    totalCount = K.sum(mask)\n",
        "    return correctCount / totalCount"
      ],
      "metadata": {
        "id": "xeZjMh3tA6F7"
      },
      "execution_count": 19,
      "outputs": []
    },
    {
      "cell_type": "code",
      "source": [
        "attnModel.compile(optimizer='adam', loss=myLoss, metrics=[acc])\n",
        "\n",
        "# Define empty s0 and c0\n",
        "init_s = np.zeros((len(eng_seq_padded), LATENT_DIM_DECODER))\n",
        "init_c = np.zeros((len(eng_seq_padded), LATENT_DIM_DECODER))\n",
        "\n",
        "# Assuming BATCHSIZE is 32\n",
        "BATCHSIZE = 32\n",
        "EPOCH = 10\n",
        "\n",
        "# Training the model\n",
        "history = attnModel.fit(\n",
        "    x=[eng_seq_padded, man_seq_padded, init_s, init_c],\n",
        "    y=man_target_one_hot,\n",
        "    batch_size=BATCHSIZE,\n",
        "    epochs=EPOCH,\n",
        "    validation_split=0.22\n",
        ")\n",
        "\n"
      ],
      "metadata": {
        "colab": {
          "base_uri": "https://localhost:8080/"
        },
        "id": "cVH3oejIA75D",
        "outputId": "819d30a9-813a-43b1-a947-04d658ee0780"
      },
      "execution_count": 20,
      "outputs": [
        {
          "output_type": "stream",
          "name": "stdout",
          "text": [
            "Epoch 1/10\n",
            "69/69 [==============================] - 207s 2s/step - loss: 6.5997 - acc: 0.1510 - val_loss: 6.3338 - val_acc: 0.1585\n",
            "Epoch 2/10\n",
            "69/69 [==============================] - 128s 2s/step - loss: 5.8914 - acc: 0.1537 - val_loss: 6.3042 - val_acc: 0.1585\n",
            "Epoch 3/10\n",
            "69/69 [==============================] - 129s 2s/step - loss: 5.8815 - acc: 0.1534 - val_loss: 6.3093 - val_acc: 0.1585\n",
            "Epoch 4/10\n",
            "69/69 [==============================] - 127s 2s/step - loss: 5.8767 - acc: 0.1535 - val_loss: 6.3109 - val_acc: 0.1585\n",
            "Epoch 5/10\n",
            "69/69 [==============================] - 134s 2s/step - loss: 5.8736 - acc: 0.1537 - val_loss: 6.3112 - val_acc: 0.1585\n",
            "Epoch 6/10\n",
            "69/69 [==============================] - 137s 2s/step - loss: 5.8701 - acc: 0.1540 - val_loss: 6.3440 - val_acc: 0.1585\n",
            "Epoch 7/10\n",
            "69/69 [==============================] - 131s 2s/step - loss: 5.8672 - acc: 0.1532 - val_loss: 6.3336 - val_acc: 0.1585\n",
            "Epoch 8/10\n",
            "69/69 [==============================] - 128s 2s/step - loss: 5.8652 - acc: 0.1536 - val_loss: 6.3510 - val_acc: 0.1585\n",
            "Epoch 9/10\n",
            "69/69 [==============================] - 127s 2s/step - loss: 5.8618 - acc: 0.1530 - val_loss: 6.3172 - val_acc: 0.1585\n",
            "Epoch 10/10\n",
            "69/69 [==============================] - 127s 2s/step - loss: 5.8474 - acc: 0.1533 - val_loss: 6.3390 - val_acc: 0.1585\n"
          ]
        }
      ]
    },
    {
      "cell_type": "code",
      "source": [
        "plt.plot(history.history['loss'], label='loss')\n",
        "plt.plot(history.history['val_loss'], label='val_loss')\n",
        "plt.legend()\n",
        "plt.show()\n",
        "\n",
        "plt.plot(history.history['acc'], label='acc')\n",
        "plt.plot(history.history['val_acc'], label='val_acc')\n",
        "plt.legend()\n",
        "plt.show()"
      ],
      "metadata": {
        "colab": {
          "base_uri": "https://localhost:8080/",
          "height": 843
        },
        "id": "YPRQWj6m_-iX",
        "outputId": "ef5377bd-367e-433b-f6a8-375d1fa46cd8"
      },
      "execution_count": 21,
      "outputs": [
        {
          "output_type": "display_data",
          "data": {
            "text/plain": [
              "<Figure size 640x480 with 1 Axes>"
            ],
            "image/png": "[encoded data removed]"
          },
          "metadata": {}
        },
        {
          "output_type": "display_data",
          "data": {
            "text/plain": [
              "<Figure size 640x480 with 1 Axes>"
            ],
            "image/png": "[encoded data removed]"
          },
          "metadata": {}
        }
      ]
    },
    {
      "cell_type": "code",
      "source": [
        "attnModel.save('attention_model_35_man.h5')"
      ],
      "metadata": {
        "colab": {
          "base_uri": "https://localhost:8080/"
        },
        "id": "HQlq8vbNBVCM",
        "outputId": "676df4dd-04cc-4a13-c5e8-90fdd87b395e"
      },
      "execution_count": 22,
      "outputs": [
        {
          "output_type": "stream",
          "name": "stderr",
          "text": [
            "/usr/local/lib/python3.10/dist-packages/keras/src/engine/training.py:3103: UserWarning: You are saving your model as an HDF5 file via `model.save()`. This file format is considered legacy. We recommend using instead the native Keras format, e.g. `model.save('my_model.keras')`.\n",
            "  saving_api.save_model(\n"
          ]
        }
      ]
    },
    {
      "cell_type": "code",
      "source": [
        "# Encoder\n",
        "encoder_inf = Model(input_layer_encoder, encoder_out)\n",
        "encoder_out_inf = Input(shape=(max_in_len, LATENT_DIM * 2,))\n",
        "\n",
        "# Decoder\n",
        "decoder_in_inf = Input(shape=(1,))\n",
        "decoder_in_embed_inf = embed_decoder(decoder_in_inf)\n",
        "\n",
        "# Context, concat without teacher forcing.\n",
        "context_inf = iterAttn(encoder_out_inf, s0)\n",
        "decoder_in_concat_inf = concat2([context_inf, decoder_in_embed_inf])\n",
        "\n",
        "# Decoder inference\n",
        "pred, s, c = decoder(decoder_in_concat_inf, initial_state=[s0, c0])\n",
        "pred_out = dense_decode(pred)\n",
        "\n",
        "# Define model\n",
        "decoder_inf = Model(\n",
        "    inputs=[decoder_in_inf, encoder_out_inf, s0, c0],\n",
        "    outputs=[pred_out, s, c]\n",
        ")"
      ],
      "metadata": {
        "id": "VLaK8_TIBfTM"
      },
      "execution_count": 23,
      "outputs": []
    },
    {
      "cell_type": "code",
      "source": [
        "idx2word_in = {b:a for a, b in word2idx_in.items()}\n",
        "idx2word_out = {b:a for a, b in word2idx_out.items()}\n",
        "\n",
        "def inference(eng_seq):\n",
        "    # Encode\n",
        "    encoder_output = encoder_inf.predict(eng_seq)\n",
        "\n",
        "    # Create output seq matrix\n",
        "    target_output = np.zeros((1, 1))\n",
        "    target_output[0, 0] = word2idx_out['<sos>']\n",
        "\n",
        "    # init\n",
        "    eos = word2idx_out['<eos>']\n",
        "    s0 = np.zeros((1, LATENT_DIM_DECODER))\n",
        "    c0 = np.zeros((1, LATENT_DIM_DECODER))\n",
        "\n",
        "    output_seq = []\n",
        "    s = s0\n",
        "    c = c0\n",
        "    for _ in range(max_out_len):\n",
        "        # Decoder inference\n",
        "        pred, s, c = decoder_inf.predict([target_output, encoder_output, s, c])\n",
        "\n",
        "        # update output seq\n",
        "        tok = np.argmax(pred.flatten())\n",
        "        if tok == eos:\n",
        "            break\n",
        "        if tok > 0:\n",
        "            word = idx2word_out[tok]\n",
        "            output_seq.append(word)\n",
        "\n",
        "        # Update decoder input\n",
        "        target_output[0, 0] = tok\n",
        "\n",
        "    sentence = ' '.join(output_seq)\n",
        "    return sentence"
      ],
      "metadata": {
        "id": "NaHHT4YcB1ME"
      },
      "execution_count": 24,
      "outputs": []
    },
    {
      "cell_type": "code",
      "source": [
        "for _ in range(20):\n",
        "    i = np.random.choice(len(eng))\n",
        "    eng_sen = eng_seq_padded[i:i+1]\n",
        "    man_pred = inference(eng_sen)\n",
        "\n",
        "    print('--------------------------------------')\n",
        "    print('English: {}'.format(eng[i]))\n",
        "    print('Prediction: {}'.format(man_pred))\n",
        "    print('Ground truth: {}'.format(man[i]))"
      ],
      "metadata": {
        "colab": {
          "base_uri": "https://localhost:8080/"
        },
        "id": "pYgyQ3HkB878",
        "outputId": "4f4c6b60-a8d6-4664-ae9d-dcd6203dc8cb"
      },
      "execution_count": 25,
      "outputs": [
        {
          "output_type": "stream",
          "name": "stdout",
          "text": [
            "1/1 [==============================] - 1s 1s/step\n",
            "1/1 [==============================] - 1s 707ms/step\n",
            "--------------------------------------\n",
            "English: The Pharisees came and began to ask Jesus questions. They wanted to test him. So they asked him for a sign from heaven.\n",
            "Prediction: \n",
            "Ground truth: ፈሪሳንድም እየሱስ ትጐ ተርጝ ተከራክርሽጥጘ ኪርምⶖ፤ ፊትንጠጘም በንጝ፦ «ሲመይስ ምልክት ቓሊሽ» ይጝ ዋቕር። <eos>\n",
            "1/1 [==============================] - 0s 70ms/step\n",
            "1/1 [==============================] - 0s 50ms/step\n",
            "--------------------------------------\n",
            "English: Jesus came from Galilee to the Jordan River. He wanted to be baptized by John.\n",
            "Prediction: \n",
            "Ground truth: .ኣይንድ እየሱስ ይዃንስት ናኒዝ ጣምቅሽጠ ገሊለስ ዮርዳኖስ ትጐ ተሩ። <eos>\n",
            "1/1 [==============================] - 0s 71ms/step\n",
            "1/1 [==============================] - 0s 39ms/step\n",
            "--------------------------------------\n",
            "English: And the child grew and became strong. He was very wise. He was blessed by God’s grace.\n",
            "Prediction: \n",
            "Ground truth: ኽፃንድም ሊግዛ ጣጝክራም ፊሩ፤ ጥቨቭኘም ኣቑ፤ እደረት ፃገድም ጝግል ዊኑ። <eos>\n",
            "1/1 [==============================] - 0s 81ms/step\n",
            "1/1 [==============================] - 0s 38ms/step\n",
            "--------------------------------------\n",
            "English: They were amazed at his teaching, because his words had authority.\n",
            "Prediction: \n",
            "Ground truth: ክንሳ ዊነውድም ስልጣን ጕርየይዝጘ ኣቓንስቅ ጝቃሊዝቍዝ ጊርምሻ ዊኑ። <eos>\n",
            "1/1 [==============================] - 0s 68ms/step\n",
            "1/1 [==============================] - 0s 24ms/step\n",
            "--------------------------------------\n",
            "English: He set free the man they asked for. The man had been thrown in prison for murder and for fighting against the authorities. Pilate handed Jesus over to them so they could carry out their plans.\n",
            "Prediction: \n",
            "Ground truth: ጛይ ግን ጝታድመድ ኣጕስ ሽጝ፦ «ሲቅል» ይጛ ቓፅ፤ ጝታድመድም ቢላጠውስት ኻለይድ ላውጥሱ። <eos>\n",
            "1/1 [==============================] - 0s 45ms/step\n",
            "1/1 [==============================] - 0s 27ms/step\n",
            "--------------------------------------\n",
            "English: All this came about because of the lack of peace።\n",
            "Prediction: \n",
            "Ground truth: እኔንቅ ተረውድ ዲግ ግተነዊዝ ምላሰን የጝ፡፡ <eos>\n",
            "1/1 [==============================] - 0s 39ms/step\n",
            "1/1 [==============================] - 0s 26ms/step\n",
            "--------------------------------------\n",
            "English: At harvest time he sent a servant to the renters. He told the servant to collect from them some of the fruit of the vineyard.\n",
            "Prediction: \n",
            "Ground truth: ማፅወድ ችጛንድም ወይኒይዙ ፍረይስ ነስጛንስ የው ጝኣገልጋያኒስ ላውድየንት ኣርጪዝጐ እፃቑ። <eos>\n",
            "1/1 [==============================] - 0s 37ms/step\n",
            "1/1 [==============================] - 0s 27ms/step\n",
            "--------------------------------------\n",
            "English: Jesus Prays on the Mount of Olives\n",
            "Prediction: \n",
            "Ground truth: እየሱስ ደቭረ ዘይት ኣበይል ፃልየጘ <eos>\n",
            "1/1 [==============================] - 0s 37ms/step\n",
            "1/1 [==============================] - 0s 24ms/step\n",
            "--------------------------------------\n",
            "English: Then the devil led Jesus up to a high place. In an instant, he showed Jesus all the kingdoms of the world.\n",
            "Prediction: \n",
            "Ground truth: እንዝ ግረ ዳቪለውስ እየሱስት ኽየው ኣበል ፊስ ኣልሚዝ ምጝግስታንድቅ ሊንስ ቓሊስ በር፦ <eos>\n",
            "1/1 [==============================] - 0s 40ms/step\n",
            "1/1 [==============================] - 0s 27ms/step\n",
            "--------------------------------------\n",
            "English: But someone here is going to hand me over to my enemies. His hand is with mine on the table.\n",
            "Prediction: \n",
            "Ground truth: «ዊገድ ግን ይት ዲቍስ ይወው እጅሪዝ ናንሸን ይጅቅ መዲል ጚ። <eos>\n",
            "1/1 [==============================] - 0s 38ms/step\n",
            "1/1 [==============================] - 0s 26ms/step\n",
            "--------------------------------------\n",
            "English: “The eye is like a lamp for the body. Suppose your eyes are healthy. Then your whole body will be full of light.\n",
            "Prediction: \n",
            "Ground truth: .«እል ሰውነትዙ መብራት የጝ፤ ክእልድ ትኽኑ ኣቐውዝየ ክሰውነትድቅ ብሩኽ ኣቐኵ። <eos>\n",
            "1/1 [==============================] - 0s 38ms/step\n",
            "1/1 [==============================] - 0s 27ms/step\n",
            "--------------------------------------\n",
            "English: That evening after sunset, the people brought to Jesus all who were sick. They also brought all who were controlled by demons.\n",
            "Prediction: \n",
            "Ground truth: ኰረየን ጥውረት ግረም፣ ድልሚዝ ጘጝ ጅልወይዙ ኽዝቭድ ፅውዝጅኒዝመ ጋኒናኒዝ ፃይሸቊዝዛት እጝቅትቅ እየሱስትጐ ነሱ። <eos>\n",
            "1/1 [==============================] - 0s 37ms/step\n",
            "1/1 [==============================] - 0s 25ms/step\n",
            "--------------------------------------\n",
            "English: Now then, when the dead rise, whose wife will she be? All seven brothers were married to her.”\n",
            "Prediction: \n",
            "Ground truth: ነስየ ላጝጠድቅ ድውጛንስቅ እኝቸን እውነየን ክርጘይስ ጐነይዝ ኰር ኣዊዝ እውነ የጝ ኣረውድ?» ይ። <eos>\n",
            "1/1 [==============================] - 0s 36ms/step\n",
            "1/1 [==============================] - 0s 26ms/step\n",
            "--------------------------------------\n",
            "English: They all found him guilty and said he must die.\n",
            "Prediction: \n",
            "Ground truth: ጛይም፦ «ክርጠ ጥውሸኵ» ይጝ ላው ቃልዝ ፊርድⶖ። <eos>\n",
            "1/1 [==============================] - 0s 38ms/step\n",
            "1/1 [==============================] - 0s 26ms/step\n",
            "--------------------------------------\n",
            "English: I am no longer fit to be called your son. Make me like one of your hired servants.” ’\n",
            "Prediction: \n",
            "Ground truth: ነስየ ክዅር ይሽጨ ጥውጨቅም፤ ዊገድ ግን ክኣርጪስ ላዊዝጘ ፃቭር ቓል ይጨ› ዩ። <eos>\n",
            "1/1 [==============================] - 0s 39ms/step\n",
            "1/1 [==============================] - 0s 34ms/step\n",
            "--------------------------------------\n",
            "English: Jesus saw their faith. So he said to the man, “Son, your sins are forgiven.”\n",
            "Prediction: \n",
            "Ground truth: እየሱስም ጝታእምንትድ ኣርቕ ድውይድየንት፦ «እፈረ ክተ! ክኽጥያትድ ይቅር ይሽትኩ» ዩ። <eos>\n",
            "1/1 [==============================] - 0s 36ms/step\n",
            "1/1 [==============================] - 0s 28ms/step\n",
            "--------------------------------------\n",
            "English: Jesus replied, “Foxes have dens. Birds have nests. But the Son of Man has no place to lay his head.”\n",
            "Prediction: \n",
            "Ground truth: እየሱስም፦ «ቘፅልድ ጝታቢ ፃየቍ ጛይ፤ ዚልቅድም ጝታጕጂ ፃየቍ ጛይ፤ እጅር ዅር ግን ጝቕልመድ ድወነ እኳ እጀውም» ዩ። <eos>\n",
            "1/1 [==============================] - 0s 37ms/step\n",
            "1/1 [==============================] - 0s 27ms/step\n",
            "--------------------------------------\n",
            "English: Hands off\n",
            "Prediction: \n",
            "Ground truth: ናን ፉ <eos>\n",
            "1/1 [==============================] - 0s 39ms/step\n",
            "1/1 [==============================] - 0s 25ms/step\n",
            "--------------------------------------\n",
            "English: The Story of the Farmer\n",
            "Prediction: \n",
            "Ground truth: ዚረ ፊዘተዙ ተከድ <eos>\n",
            "1/1 [==============================] - 0s 37ms/step\n",
            "1/1 [==============================] - 0s 29ms/step\n",
            "--------------------------------------\n",
            "English: Jesus healed many of them. They had all kinds of sicknesses. He also drove out many demons. But he would not let the demons speak, because they knew who he was.\n",
            "Prediction: \n",
            "Ground truth: ጘጝም ቲተቲተው ፅውዘዝ ፅዊተቍ ንቕፀቍ እቅ ቓዙ፤ ንቕፀቍ ጋኒናንም ፊሱ፤ ዊገድ ግን ጋኒናንድ እየሱስት ኣው ኣቐጘ ኣርቕጝ ዊንጛንስቅ ውረውረቅ ዊግትጥጘ ፊቅድየውም። <eos>\n"
          ]
        }
      ]
    },
    {
      "cell_type": "markdown",
      "source": [
        "Conclusion\n",
        "This project implements an encoder-decoder-based seq2seq model using BiLSTM and attention mechanism. It is observed that the model achieves an accuracy of 0.85 on validation data, although the translated sentences differ from the groundtruth to a considerable extent."
      ],
      "metadata": {
        "id": "oLHUYp59COu0"
      }
    },
    {
      "cell_type": "code",
      "source": [],
      "metadata": {
        "id": "_ds7apz_CCUU"
      },
      "execution_count": null,
      "outputs": []
    }
  ]
}